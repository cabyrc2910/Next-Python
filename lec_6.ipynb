{
 "cells": [
  {
   "cell_type": "markdown",
   "id": "4832b9bd",
   "metadata": {},
   "source": [
    "## Лекция 6. Модули"
   ]
  },
  {
   "cell_type": "markdown",
   "id": "9c86dcb4",
   "metadata": {},
   "source": [
    "    ● Модуль — это файл, содержащий определения и операторы Python. Во время\n",
    "    исполнения же модуль представлен соответствующим объектом, атрибутами\n",
    "    которого являются объявления, присутствующие в файле и объекты,\n",
    "    импортированные в этот модуль откуда-либо.\n",
    "    \n",
    "    ● Пакет — это набор взаимосвязанных модулей (при этом стоит уточнить, что\n",
    "    сам пакет тоже является модулем), предназначенных для решения задач\n",
    "    определенного класса некоторой предметной области. Пакеты — это способ\n",
    "    структурирования пространства имен модулей Python с помощью «точечных\n",
    "    имен модулей». Пакет представляет собой папку, в которой содержатся\n",
    "    модули и другие пакеты и обязательный файл __ init__.py, отвечающий за\n",
    "    инициализацию пакета."
   ]
  },
  {
   "cell_type": "markdown",
   "id": "8da51b7a",
   "metadata": {},
   "source": [
    "### 1. Модуль import"
   ]
  },
  {
   "cell_type": "code",
   "execution_count": 5,
   "id": "18739f4a",
   "metadata": {},
   "outputs": [
    {
     "name": "stdout",
     "output_type": "stream",
     "text": [
      "<module 'sys' (built-in)>\n",
      "('_abc', '_ast', '_bisect', '_blake2', '_codecs', '_codecs_cn', '_codecs_hk', '_codecs_iso2022', '_codecs_jp', '_codecs_kr', '_codecs_tw', '_collections', '_contextvars', '_csv', '_datetime', '_functools', '_heapq', '_imp', '_io', '_json', '_locale', '_lsprof', '_md5', '_multibytecodec', '_opcode', '_operator', '_peg_parser', '_pickle', '_random', '_sha1', '_sha256', '_sha3', '_sha512', '_signal', '_sre', '_stat', '_statistics', '_string', '_struct', '_symtable', '_thread', '_tracemalloc', '_warnings', '_weakref', '_winapi', '_xxsubinterpreters', 'array', 'atexit', 'audioop', 'binascii', 'builtins', 'cmath', 'errno', 'faulthandler', 'gc', 'itertools', 'marshal', 'math', 'mmap', 'msvcrt', 'nt', 'parser', 'sys', 'time', 'winreg', 'xxsubtype', 'zlib')\n",
      "C:\\Users\\Иван\\Desktop\\GeekBrains\\16. Next-Python\n",
      "C:\\ProgramData\\Anaconda3\\python39.zip\n",
      "C:\\ProgramData\\Anaconda3\\DLLs\n",
      "C:\\ProgramData\\Anaconda3\\lib\n",
      "C:\\ProgramData\\Anaconda3\n",
      "\n",
      "C:\\Users\\Иван\\AppData\\Roaming\\Python\\Python39\\site-packages\n",
      "C:\\ProgramData\\Anaconda3\\lib\\site-packages\n",
      "C:\\ProgramData\\Anaconda3\\lib\\site-packages\\win32\n",
      "C:\\ProgramData\\Anaconda3\\lib\\site-packages\\win32\\lib\n",
      "C:\\ProgramData\\Anaconda3\\lib\\site-packages\\Pythonwin\n",
      "C:\\ProgramData\\Anaconda3\\lib\\site-packages\\IPython\\extensions\n",
      "C:\\Users\\Иван\\.ipython\n"
     ]
    }
   ],
   "source": [
    "import sys\n",
    "print(sys)\n",
    "print(sys.builtin_module_names)\n",
    "print(*sys.path, sep='\\n')"
   ]
  },
  {
   "cell_type": "markdown",
   "id": "a92f0d62",
   "metadata": {},
   "source": [
    "🔥 Важно! Обычно (но не всегда) имя модуля заканчивается расширением\n",
    ".py. При импорте расширение не указывается."
   ]
  },
  {
   "cell_type": "markdown",
   "id": "3a65f5b2",
   "metadata": {},
   "source": [
    "    ● Переменная sys.path"
   ]
  },
  {
   "cell_type": "markdown",
   "id": "5e2251f3",
   "metadata": {},
   "source": [
    "🔥 Важно! Если создать собственный файл с именем аналогичным имени\n",
    "модуля, Python импортирует ваш файл, а не модуль. Строго не рекомендуется\n",
    "использовать для своих файлов имена встроенных модулей. В редких\n",
    "исключительных ситуациях стоит добавлять символ подчёркивания в конце\n",
    "имени, чтобы избежать двойного именования."
   ]
  },
  {
   "cell_type": "markdown",
   "id": "17cd59d1",
   "metadata": {},
   "source": [
    "    ● Антипримеры импорта\n",
    "    Взгляните на антипример. Мы создали файл random.py со следующим кодом."
   ]
  },
  {
   "cell_type": "code",
   "execution_count": 6,
   "id": "145b495c",
   "metadata": {},
   "outputs": [
    {
     "ename": "IndentationError",
     "evalue": "expected an indented block (2535363303.py, line 2)",
     "output_type": "error",
     "traceback": [
      "\u001b[1;36m  File \u001b[1;32m\"C:\\Users\\Иван\\AppData\\Local\\Temp\\ipykernel_3808\\2535363303.py\"\u001b[1;36m, line \u001b[1;32m2\u001b[0m\n\u001b[1;33m    return 'Не то, что вы искали!'\u001b[0m\n\u001b[1;37m    ^\u001b[0m\n\u001b[1;31mIndentationError\u001b[0m\u001b[1;31m:\u001b[0m expected an indented block\n"
     ]
    }
   ],
   "source": [
    "def randint(*args):\n",
    "return 'Не то, что вы искали!'"
   ]
  },
  {
   "cell_type": "code",
   "execution_count": 7,
   "id": "5efcea62",
   "metadata": {},
   "outputs": [
    {
     "name": "stdout",
     "output_type": "stream",
     "text": [
      "2\n"
     ]
    }
   ],
   "source": [
    "import random\n",
    "print(random.randint(1, 6))"
   ]
  },
  {
   "cell_type": "markdown",
   "id": "aa74e32d",
   "metadata": {},
   "source": [
    "#### Использование from и as"
   ]
  },
  {
   "cell_type": "code",
   "execution_count": 8,
   "id": "0f8d7b5b",
   "metadata": {},
   "outputs": [
    {
     "name": "stdout",
     "output_type": "stream",
     "text": [
      "('_abc', '_ast', '_bisect', '_blake2', '_codecs', '_codecs_cn', '_codecs_hk', '_codecs_iso2022', '_codecs_jp', '_codecs_kr', '_codecs_tw', '_collections', '_contextvars', '_csv', '_datetime', '_functools', '_heapq', '_imp', '_io', '_json', '_locale', '_lsprof', '_md5', '_multibytecodec', '_opcode', '_operator', '_peg_parser', '_pickle', '_random', '_sha1', '_sha256', '_sha3', '_sha512', '_signal', '_sre', '_stat', '_statistics', '_string', '_struct', '_symtable', '_thread', '_tracemalloc', '_warnings', '_weakref', '_winapi', '_xxsubinterpreters', 'array', 'atexit', 'audioop', 'binascii', 'builtins', 'cmath', 'errno', 'faulthandler', 'gc', 'itertools', 'marshal', 'math', 'mmap', 'msvcrt', 'nt', 'parser', 'sys', 'time', 'winreg', 'xxsubtype', 'zlib')\n",
      "C:\\Users\\Иван\\Desktop\\GeekBrains\\16. Next-Python\n",
      "C:\\ProgramData\\Anaconda3\\python39.zip\n",
      "C:\\ProgramData\\Anaconda3\\DLLs\n",
      "C:\\ProgramData\\Anaconda3\\lib\n",
      "C:\\ProgramData\\Anaconda3\n",
      "\n",
      "C:\\Users\\Иван\\AppData\\Roaming\\Python\\Python39\\site-packages\n",
      "C:\\ProgramData\\Anaconda3\\lib\\site-packages\n",
      "C:\\ProgramData\\Anaconda3\\lib\\site-packages\\win32\n",
      "C:\\ProgramData\\Anaconda3\\lib\\site-packages\\win32\\lib\n",
      "C:\\ProgramData\\Anaconda3\\lib\\site-packages\\Pythonwin\n",
      "C:\\ProgramData\\Anaconda3\\lib\\site-packages\\IPython\\extensions\n",
      "C:\\Users\\Иван\\.ipython\n"
     ]
    }
   ],
   "source": [
    "from sys import builtin_module_names, path\n",
    "print(builtin_module_names)\n",
    "print(*path, sep='\\n')"
   ]
  },
  {
   "cell_type": "markdown",
   "id": "f64b121c",
   "metadata": {},
   "source": [
    "💡 PEP-8! Конструкция from import допускает перечисление импортируемых\n",
    "имён объектов через запятую в одной строке. После from всегда указывается\n",
    "один модуль."
   ]
  },
  {
   "cell_type": "code",
   "execution_count": 9,
   "id": "1041b805",
   "metadata": {},
   "outputs": [
    {
     "name": "stdout",
     "output_type": "stream",
     "text": [
      "('_abc', '_ast', '_bisect', '_blake2', '_codecs', '_codecs_cn', '_codecs_hk', '_codecs_iso2022', '_codecs_jp', '_codecs_kr', '_codecs_tw', '_collections', '_contextvars', '_csv', '_datetime', '_functools', '_heapq', '_imp', '_io', '_json', '_locale', '_lsprof', '_md5', '_multibytecodec', '_opcode', '_operator', '_peg_parser', '_pickle', '_random', '_sha1', '_sha256', '_sha3', '_sha512', '_signal', '_sre', '_stat', '_statistics', '_string', '_struct', '_symtable', '_thread', '_tracemalloc', '_warnings', '_weakref', '_winapi', '_xxsubinterpreters', 'array', 'atexit', 'audioop', 'binascii', 'builtins', 'cmath', 'errno', 'faulthandler', 'gc', 'itertools', 'marshal', 'math', 'mmap', 'msvcrt', 'nt', 'parser', 'sys', 'time', 'winreg', 'xxsubtype', 'zlib')\n",
      "C:\\Users\\Иван\\Desktop\\GeekBrains\\16. Next-Python\n",
      "C:\\ProgramData\\Anaconda3\\python39.zip\n",
      "C:\\ProgramData\\Anaconda3\\DLLs\n",
      "C:\\ProgramData\\Anaconda3\\lib\n",
      "C:\\ProgramData\\Anaconda3\n",
      "\n",
      "C:\\Users\\Иван\\AppData\\Roaming\\Python\\Python39\\site-packages\n",
      "C:\\ProgramData\\Anaconda3\\lib\\site-packages\n",
      "C:\\ProgramData\\Anaconda3\\lib\\site-packages\\win32\n",
      "C:\\ProgramData\\Anaconda3\\lib\\site-packages\\win32\\lib\n",
      "C:\\ProgramData\\Anaconda3\\lib\\site-packages\\Pythonwin\n",
      "C:\\ProgramData\\Anaconda3\\lib\\site-packages\\IPython\\extensions\n",
      "C:\\Users\\Иван\\.ipython\n",
      "6\n"
     ]
    }
   ],
   "source": [
    "import random as rnd\n",
    "from sys import builtin_module_names as bmn, path as p\n",
    "print(bmn)\n",
    "print(*p, sep='\\n')\n",
    "print(rnd.randint(1, 6))\n",
    "# print(path) # NameError: name 'path' is not defined\n",
    "# print(sys.path) # NameError: name 'sys' is not defined"
   ]
  },
  {
   "cell_type": "markdown",
   "id": "a3f54a50",
   "metadata": {},
   "source": [
    "🔥 Важно! Не стоит давать переменным короткие понятные лишь вам\n",
    "имена. Код должен легко читаться другими разработчиками. Исключения —\n",
    "общепризнанные сокращения, например import numpy as np."
   ]
  },
  {
   "cell_type": "markdown",
   "id": "4e297981",
   "metadata": {},
   "source": [
    "### Плохой import * (импорт звёздочка)"
   ]
  },
  {
   "cell_type": "markdown",
   "id": "9e846d86",
   "metadata": {},
   "source": [
    "● Файл super_module.py"
   ]
  },
  {
   "cell_type": "code",
   "execution_count": 32,
   "id": "ac7ba80d",
   "metadata": {},
   "outputs": [],
   "source": [
    "from random import randint\n",
    "\n",
    "SIZE = 100\n",
    "_secret = 'qwerty'\n",
    "__top_secret = '1q2w3e4r5t6y'\n",
    "def func(a: int, b: int) -> str:\n",
    "    z = f'В диапазоне от {a} до {b} получили {randint(a, b)}'\n",
    "    return z\n",
    "\n",
    "result = func(1, 6)"
   ]
  },
  {
   "cell_type": "markdown",
   "id": "2f2cdb2a",
   "metadata": {},
   "source": [
    "    ● глобальная функция randint\n",
    "    ● глобальная константа SIZE\n",
    "    ● глобальная защищенная переменная _secret\n",
    "    ● глобальная приватная переменная __top_secret\n",
    "    ● глобальная функция func\n",
    "    ● локальные параметры функции a и b\n",
    "    ● локальная переменная функции\n",
    "    ● глобальная переменная result"
   ]
  },
  {
   "cell_type": "markdown",
   "id": "58dfd68c",
   "metadata": {},
   "source": [
    "🔥 Внимание! Если название объекта (переменной, функции и т.п.)\n",
    "начинается с символа подчёркивания, объект становится защищённым. Если\n",
    "имя начинается с двух подчёркиваний, объект становится приватным. Объекты\n",
    "без подчёркивания в начале имени — публичные. Подробнее разберём на\n",
    "лекциях по ООП."
   ]
  },
  {
   "cell_type": "markdown",
   "id": "bc25d06b",
   "metadata": {},
   "source": [
    "● Файл main.py"
   ]
  },
  {
   "cell_type": "code",
   "execution_count": 11,
   "id": "ecf17cab",
   "metadata": {
    "collapsed": true
   },
   "outputs": [
    {
     "name": "stdout",
     "output_type": "stream",
     "text": [
      "Defaulting to user installation because normal site-packages is not writeable\n",
      "Requirement already satisfied: super3 in c:\\users\\иван\\appdata\\roaming\\python\\python39\\site-packages (0.1.5)\n",
      "Requirement already satisfied: click<8.0.0,>=7.1.2 in c:\\users\\иван\\appdata\\roaming\\python\\python39\\site-packages (from super3) (7.1.2)\n",
      "Requirement already satisfied: attrs<20.0.0,>=19.3.0 in c:\\users\\иван\\appdata\\roaming\\python\\python39\\site-packages (from super3) (19.3.0)\n",
      "Requirement already satisfied: astor<0.9.0,>=0.8.1 in c:\\users\\иван\\appdata\\roaming\\python\\python39\\site-packages (from super3) (0.8.1)\n",
      "Note: you may need to restart the kernel to use updated packages.\n"
     ]
    }
   ],
   "source": [
    "pip install super3"
   ]
  },
  {
   "cell_type": "code",
   "execution_count": 12,
   "id": "9362ea98",
   "metadata": {},
   "outputs": [
    {
     "name": "stdout",
     "output_type": "stream",
     "text": [
      "SIZE = 49.5\n",
      "result = 'В диапазоне от 1 до 6 получили 4'\n",
      "func(100, 200) = 'В диапазоне от 100 до 200 получили 126'\n",
      "randint(10, 20) = 14\n",
      "func(100, 200) = 300\n"
     ]
    }
   ],
   "source": [
    "from super3 import *\n",
    "\n",
    "SIZE = 49.5\n",
    "\n",
    "print(f'{SIZE = }\\n{result = }')\n",
    "# print(f'{z = }')                # NameError: name 'z' is not defined\n",
    "# print(f'{_secret = }')            # NameError: name '_secret' is notdefined\n",
    "\n",
    "print(f'{func(100, 200) = }\\n{randint(10, 20) = }')\n",
    "def func(a: int, b: int) -> int:\n",
    "    return a + b\n",
    "\n",
    "print(f'{func(100, 200) = }')"
   ]
  },
  {
   "cell_type": "markdown",
   "id": "dd1c8bd4",
   "metadata": {},
   "source": [
    "#### Переменная __all__"
   ]
  },
  {
   "cell_type": "code",
   "execution_count": 13,
   "id": "23a72d4a",
   "metadata": {},
   "outputs": [],
   "source": [
    "from random import randint\n",
    "__all__ = ['func', '_secret']\n",
    "\n",
    "SIZE = 100\n",
    "\n",
    "_secret = 'qwerty'\n",
    "__top_secret = '1q2w3e4r5t6y'\n",
    "\n",
    "def func(a: int, b: int) -> str:\n",
    "    z = f'В диапазоне от {a} до {b} получили {randint(a, b)}'\n",
    "    return z\n",
    "\n",
    "result = func(1, 6)"
   ]
  },
  {
   "cell_type": "markdown",
   "id": "ba974d56",
   "metadata": {},
   "source": [
    "### Задание\n",
    "Перед вами пример кода. Какие переменные будут доступны после импорта для\n",
    "работы в основном файле? У вас три минуты."
   ]
  },
  {
   "cell_type": "code",
   "execution_count": 17,
   "id": "6461e654",
   "metadata": {},
   "outputs": [],
   "source": [
    "import sys\n",
    "from random import *\n",
    "# from super3 import func as f"
   ]
  },
  {
   "cell_type": "markdown",
   "id": "f8b823af",
   "metadata": {},
   "source": [
    "### 2. Виды модулей"
   ]
  },
  {
   "cell_type": "markdown",
   "id": "b02712c6",
   "metadata": {},
   "source": [
    "    Попробуем добавить некоторую системность в модули. В Python есть:\n",
    "    ● встроенные модули,\n",
    "    ● установленные внешние модули,\n",
    "    ● модули, созданные разработчиком, свои.\n",
    "    Кроме того каждый вид модулей может быть"
   ]
  },
  {
   "cell_type": "markdown",
   "id": "a73da3a2",
   "metadata": {},
   "source": [
    "### Встроенные модули"
   ]
  },
  {
   "cell_type": "markdown",
   "id": "9bf13782",
   "metadata": {},
   "source": [
    "1. Стандартная библиотека устанавливается вместе с интерпретатором.\n",
    "Дополнительные манипуляции по установке не требуются. Всё работает “из\n",
    "коробки”.1\n",
    "2. Для использования модуля стандартной библиотеки достаточно его\n",
    "импортировать в ваш код.\n",
    "3. Большинство частых задач легко решаются средствами стандартной\n",
    "библиотеки. Достаточно обратиться к справке и найти нужный модуль.\n",
    "4. Некоторые модули стандартной библиотеки разрабатывались настолько\n",
    "давно, что не отвечают современным требованиям решения задач. В таком\n",
    "случае на помощь приходят внешние решения. И наоборот. Каждое\n",
    "обновление Python вносит улучшения в библиотеку, зачастую более\n",
    "эффективные, чем внешние решения."
   ]
  },
  {
   "cell_type": "markdown",
   "id": "df4b8071",
   "metadata": {},
   "source": [
    "💡 PEP-8! Импорт модулей стандартной библиотеки пишется в начале\n",
    "файла, до импорта внешних и своих модулей. После импорта оставляют пустую\n",
    "строку, даже если далее идёт импорт модулей не из библиотеки."
   ]
  },
  {
   "cell_type": "markdown",
   "id": "c9ad0e39",
   "metadata": {},
   "source": [
    "#### Свои модули"
   ]
  },
  {
   "cell_type": "markdown",
   "id": "34c0ad17",
   "metadata": {},
   "source": [
    "    ● документация по модулю в виде многострочного комментария (три пары двойных кавычек),\n",
    "    ● импорт необходимых пакетов, модулей, классов, функций и т.п. объектов,\n",
    "    ● определение констант уровня модуля,\n",
    "    ● создание классов модуля при ООП подходе,\n",
    "    ● создание функций модуля,\n",
    "    ● определение переменных модуля,\n",
    "    ● покрытие тестами, если оно не вынесено в отдельный пакет,\n",
    "    ● main код."
   ]
  },
  {
   "cell_type": "code",
   "execution_count": 34,
   "id": "1b1cd3a2",
   "metadata": {},
   "outputs": [
    {
     "name": "stdout",
     "output_type": "stream",
     "text": [
      "add(2, 4) = 6\n",
      "add(2, 4, 6, 8) = 20\n",
      "sub(10, 2) = 8\n",
      "mul(2, 2, 2, 2, 2) = 32\n",
      "div(-100, 5, -2) = 10.0\n"
     ]
    }
   ],
   "source": [
    "\"\"\"Four basic mathematical operations.\n",
    "\n",
    "Addition, subtraction, multiplication and division as functions.\n",
    "\"\"\"\n",
    "\n",
    "_START_SUM = 0\n",
    "_START_MULT = 1\n",
    "_BEGINNING = 0\n",
    "_CONTINUATION = 1\n",
    "\n",
    "def add(*args):\n",
    "        res = _START_SUM\n",
    "        for item in args:\n",
    "            res += item\n",
    "        return res\n",
    "\n",
    "def sub(*args):\n",
    "    res = args[_BEGINNING]\n",
    "    for item in args[_CONTINUATION:]:\n",
    "        res -= item\n",
    "    return res\n",
    "\n",
    "def mul(*args):\n",
    "    res = _START_MULT\n",
    "    for item in args:\n",
    "        res *= item\n",
    "    return res\n",
    "def div(*args):\n",
    "    res = args[_BEGINNING]\n",
    "    for item in args[_CONTINUATION:]:\n",
    "        res /= item\n",
    "    return res\n",
    "\n",
    "print(f'{add(2, 4) = }')\n",
    "print(f'{add(2, 4, 6, 8) = }')\n",
    "print(f'{sub(10, 2) = }')\n",
    "print(f'{mul(2, 2, 2, 2, 2) = }')\n",
    "print(f'{div(-100, 5, -2) = }')"
   ]
  },
  {
   "cell_type": "markdown",
   "id": "1ba0e7f1",
   "metadata": {},
   "source": [
    "#### Пишем свой модуль: __name__ == '__main__'"
   ]
  },
  {
   "cell_type": "code",
   "execution_count": 35,
   "id": "536a186d",
   "metadata": {},
   "outputs": [
    {
     "ename": "ModuleNotFoundError",
     "evalue": "No module named 'base_math'",
     "output_type": "error",
     "traceback": [
      "\u001b[1;31m---------------------------------------------------------------------------\u001b[0m",
      "\u001b[1;31mModuleNotFoundError\u001b[0m                       Traceback (most recent call last)",
      "\u001b[1;32m~\\AppData\\Local\\Temp\\ipykernel_16156\\3161432073.py\u001b[0m in \u001b[0;36m<module>\u001b[1;34m\u001b[0m\n\u001b[1;32m----> 1\u001b[1;33m \u001b[1;32mimport\u001b[0m \u001b[0mbase_math\u001b[0m\u001b[1;33m\u001b[0m\u001b[1;33m\u001b[0m\u001b[0m\n\u001b[0m\u001b[0;32m      2\u001b[0m \u001b[1;33m\u001b[0m\u001b[0m\n\u001b[0;32m      3\u001b[0m \u001b[0mx\u001b[0m \u001b[1;33m=\u001b[0m \u001b[0mbase_math\u001b[0m\u001b[1;33m.\u001b[0m\u001b[0mmul\u001b[0m \u001b[1;31m# Плохой приём\u001b[0m\u001b[1;33m\u001b[0m\u001b[1;33m\u001b[0m\u001b[0m\n\u001b[0;32m      4\u001b[0m \u001b[0my\u001b[0m \u001b[1;33m=\u001b[0m \u001b[0mbase_math\u001b[0m\u001b[1;33m.\u001b[0m\u001b[0m_START_MULT\u001b[0m \u001b[1;31m# Очень плохой приём\u001b[0m\u001b[1;33m\u001b[0m\u001b[1;33m\u001b[0m\u001b[0m\n\u001b[0;32m      5\u001b[0m \u001b[0mz\u001b[0m \u001b[1;33m=\u001b[0m \u001b[0mbase_math\u001b[0m\u001b[1;33m.\u001b[0m\u001b[0msub\u001b[0m\u001b[1;33m(\u001b[0m\u001b[1;36m73\u001b[0m\u001b[1;33m,\u001b[0m \u001b[1;36m42\u001b[0m\u001b[1;33m)\u001b[0m\u001b[1;33m\u001b[0m\u001b[1;33m\u001b[0m\u001b[0m\n",
      "\u001b[1;31mModuleNotFoundError\u001b[0m: No module named 'base_math'"
     ]
    }
   ],
   "source": [
    "import base_math\n",
    "\n",
    "x = base_math.mul # Плохой приём\n",
    "y = base_math._START_MULT # Очень плохой приём\n",
    "z = base_math.sub(73, 42)\n",
    "print(x(2, 3))\n",
    "print(y)\n",
    "print(z)"
   ]
  },
  {
   "cell_type": "code",
   "execution_count": 36,
   "id": "8eb3c2d3",
   "metadata": {},
   "outputs": [
    {
     "ename": "IndentationError",
     "evalue": "expected an indented block (953013154.py, line 2)",
     "output_type": "error",
     "traceback": [
      "\u001b[1;36m  File \u001b[1;32m\"C:\\Users\\Иван\\AppData\\Local\\Temp\\ipykernel_16156\\953013154.py\"\u001b[1;36m, line \u001b[1;32m2\u001b[0m\n\u001b[1;33m    print(f'{add(2, 4) = }')\u001b[0m\n\u001b[1;37m    ^\u001b[0m\n\u001b[1;31mIndentationError\u001b[0m\u001b[1;31m:\u001b[0m expected an indented block\n"
     ]
    }
   ],
   "source": [
    "if __name__ == '__main__':\n",
    "print(f'{add(2, 4) = }')"
   ]
  },
  {
   "cell_type": "markdown",
   "id": "b4b5a037",
   "metadata": {},
   "source": [
    "### Разбор плохого импорта"
   ]
  },
  {
   "cell_type": "code",
   "execution_count": 16,
   "id": "42c45418",
   "metadata": {},
   "outputs": [
    {
     "ename": "NameError",
     "evalue": "name 'base_math' is not defined",
     "output_type": "error",
     "traceback": [
      "\u001b[1;31m---------------------------------------------------------------------------\u001b[0m",
      "\u001b[1;31mNameError\u001b[0m                                 Traceback (most recent call last)",
      "\u001b[1;32m~\\AppData\\Local\\Temp\\ipykernel_10260\\1513681874.py\u001b[0m in \u001b[0;36m<module>\u001b[1;34m\u001b[0m\n\u001b[0;32m      1\u001b[0m \u001b[1;31m# 1.\u001b[0m\u001b[1;33m\u001b[0m\u001b[1;33m\u001b[0m\u001b[0m\n\u001b[1;32m----> 2\u001b[1;33m \u001b[0mx\u001b[0m \u001b[1;33m=\u001b[0m \u001b[0mbase_math\u001b[0m\u001b[1;33m.\u001b[0m\u001b[0mmul\u001b[0m\u001b[1;33m\u001b[0m\u001b[1;33m\u001b[0m\u001b[0m\n\u001b[0m",
      "\u001b[1;31mNameError\u001b[0m: name 'base_math' is not defined"
     ]
    }
   ],
   "source": [
    "# 1. \n",
    "x = base_math.mul\n",
    "# Передача имени в другую переменную"
   ]
  },
  {
   "cell_type": "code",
   "execution_count": 17,
   "id": "3beb6c02",
   "metadata": {},
   "outputs": [
    {
     "ename": "NameError",
     "evalue": "name 'base_math' is not defined",
     "output_type": "error",
     "traceback": [
      "\u001b[1;31m---------------------------------------------------------------------------\u001b[0m",
      "\u001b[1;31mNameError\u001b[0m                                 Traceback (most recent call last)",
      "\u001b[1;32m~\\AppData\\Local\\Temp\\ipykernel_10260\\1872051642.py\u001b[0m in \u001b[0;36m<module>\u001b[1;34m\u001b[0m\n\u001b[1;32m----> 1\u001b[1;33m \u001b[0mmultiplication\u001b[0m \u001b[1;33m=\u001b[0m \u001b[0mbase_math\u001b[0m\u001b[1;33m.\u001b[0m\u001b[0mmul\u001b[0m\u001b[1;33m\u001b[0m\u001b[1;33m\u001b[0m\u001b[0m\n\u001b[0m",
      "\u001b[1;31mNameError\u001b[0m: name 'base_math' is not defined"
     ]
    }
   ],
   "source": [
    "multiplication = base_math.mul"
   ]
  },
  {
   "cell_type": "code",
   "execution_count": 8,
   "id": "e211afc7",
   "metadata": {},
   "outputs": [
    {
     "ename": "NameError",
     "evalue": "name 'base_math' is not defined",
     "output_type": "error",
     "traceback": [
      "\u001b[1;31m---------------------------------------------------------------------------\u001b[0m",
      "\u001b[1;31mNameError\u001b[0m                                 Traceback (most recent call last)",
      "\u001b[1;32m~\\AppData\\Local\\Temp\\ipykernel_18880\\4153534579.py\u001b[0m in \u001b[0;36m<module>\u001b[1;34m\u001b[0m\n\u001b[1;32m----> 1\u001b[1;33m \u001b[0mmul\u001b[0m \u001b[1;33m=\u001b[0m \u001b[0mbase_math\u001b[0m\u001b[1;33m.\u001b[0m\u001b[0mmul\u001b[0m\u001b[1;33m\u001b[0m\u001b[1;33m\u001b[0m\u001b[0m\n\u001b[0m",
      "\u001b[1;31mNameError\u001b[0m: name 'base_math' is not defined"
     ]
    }
   ],
   "source": [
    "mul = base_math.mul"
   ]
  },
  {
   "cell_type": "code",
   "execution_count": 9,
   "id": "e4f5b6a3",
   "metadata": {},
   "outputs": [
    {
     "ename": "NameError",
     "evalue": "name 'base_math' is not defined",
     "output_type": "error",
     "traceback": [
      "\u001b[1;31m---------------------------------------------------------------------------\u001b[0m",
      "\u001b[1;31mNameError\u001b[0m                                 Traceback (most recent call last)",
      "\u001b[1;32m~\\AppData\\Local\\Temp\\ipykernel_18880\\3047705610.py\u001b[0m in \u001b[0;36m<module>\u001b[1;34m\u001b[0m\n\u001b[0;32m      1\u001b[0m \u001b[1;31m# 2.\u001b[0m\u001b[1;33m\u001b[0m\u001b[1;33m\u001b[0m\u001b[0m\n\u001b[1;32m----> 2\u001b[1;33m \u001b[0my\u001b[0m \u001b[1;33m=\u001b[0m \u001b[0mbase_math\u001b[0m\u001b[1;33m.\u001b[0m\u001b[0m_START_MULT\u001b[0m\u001b[1;33m\u001b[0m\u001b[1;33m\u001b[0m\u001b[0m\n\u001b[0m",
      "\u001b[1;31mNameError\u001b[0m: name 'base_math' is not defined"
     ]
    }
   ],
   "source": [
    "# 2. \n",
    "y = base_math._START_MULT\n",
    "# Обращение к защищённой или приватной переменной"
   ]
  },
  {
   "cell_type": "markdown",
   "id": "b73d2c78",
   "metadata": {},
   "source": [
    "### Создание пакетов и их импорт"
   ]
  },
  {
   "cell_type": "markdown",
   "id": "7bc14231",
   "metadata": {},
   "source": [
    "    Файл __init__.py\n",
    "    Директоия с __init__.py превращается в пакет"
   ]
  },
  {
   "cell_type": "markdown",
   "id": "fe68e11b",
   "metadata": {},
   "source": [
    "    ✔ Пакет — директория с __init__.py файлом\n",
    "    ✔ Пакет можно импортировать как модуль\n",
    "    ✔ Внутри файл __init__.py можно прописать код, который будет выполняться при импорте пакета."
   ]
  },
  {
   "cell_type": "code",
   "execution_count": 18,
   "id": "22c2b2f0",
   "metadata": {},
   "outputs": [
    {
     "name": "stdout",
     "output_type": "stream",
     "text": [
      "div(42, 4) = 10\n",
      "exp(2, 4, 6, 8) = 6277101735386680763835789423207666416102355444464034512896\n"
     ]
    }
   ],
   "source": [
    "\"\"\"Two advanced mathematical operations.\n",
    "Integer division and exponentiation.\"\"\"\n",
    "\n",
    "__all__ = ['div', 'exp']\n",
    "_BEGINNING = 0\n",
    "_CONTINUATION = 1\n",
    "\n",
    "def div(*args):\n",
    "    res = args[_BEGINNING]\n",
    "    for item in args[_CONTINUATION:]:\n",
    "        res //= item\n",
    "    return res\n",
    "\n",
    "def exp(*args):\n",
    "    res = args[_BEGINNING]\n",
    "    for item in args[_CONTINUATION:]:\n",
    "        res **= item\n",
    "    return res\n",
    "\n",
    "if __name__ == '__main__':\n",
    "    print(f'{div(42, 4) = }')\n",
    "    print(f'{exp(2, 4, 6, 8) = }')"
   ]
  },
  {
   "cell_type": "markdown",
   "id": "b4ed0f81",
   "metadata": {},
   "source": [
    "#### Объединение модулей в пакет"
   ]
  },
  {
   "cell_type": "markdown",
   "id": "d2ae63b4",
   "metadata": {},
   "source": [
    "В Python любая директория с файлом init.py автоматически становится пакетом:\n",
    "\n",
    "    Создаём директорию mathematical\n",
    "    Переносим в неё директорию файлы учебных модулей: base_math,py и advanced_math.py\n",
    "    Создаём в каталоге пустой файл init.py."
   ]
  },
  {
   "cell_type": "markdown",
   "id": "24dc302f",
   "metadata": {},
   "source": [
    "#### Разница между модулем и пакетом\n",
    "Пакет — директория с __init__.py файлом и другими py файлами — модулями."
   ]
  },
  {
   "cell_type": "code",
   "execution_count": 20,
   "id": "f5c67ca8",
   "metadata": {
    "collapsed": true
   },
   "outputs": [
    {
     "name": "stdout",
     "output_type": "stream",
     "text": [
      "Defaulting to user installation because normal site-packages is not writeable\n",
      "Collecting mathematical\n",
      "  Downloading mathematical-0.5.1-py3-none-any.whl (78 kB)\n",
      "     ---------------------------------------- 78.5/78.5 kB 1.1 MB/s eta 0:00:00\n",
      "Requirement already satisfied: pandas>=1.0.1 in c:\\programdata\\anaconda3\\lib\\site-packages (from mathematical) (1.4.4)\n",
      "Collecting domdf-python-tools>=2.7.0\n",
      "  Downloading domdf_python_tools-3.6.1-py3-none-any.whl (127 kB)\n",
      "     -------------------------------------- 127.0/127.0 kB 1.5 MB/s eta 0:00:00\n",
      "Requirement already satisfied: numpy!=1.19.4,>=1.19.3 in c:\\programdata\\anaconda3\\lib\\site-packages (from mathematical) (1.21.5)\n",
      "Requirement already satisfied: typing-extensions>=3.7.4.3 in c:\\programdata\\anaconda3\\lib\\site-packages (from mathematical) (4.3.0)\n",
      "Collecting natsort>=7.0.1\n",
      "  Downloading natsort-8.4.0-py3-none-any.whl (38 kB)\n",
      "Requirement already satisfied: pytz>=2020.1 in c:\\programdata\\anaconda3\\lib\\site-packages (from pandas>=1.0.1->mathematical) (2022.1)\n",
      "Requirement already satisfied: python-dateutil>=2.8.1 in c:\\programdata\\anaconda3\\lib\\site-packages (from pandas>=1.0.1->mathematical) (2.8.2)\n",
      "Requirement already satisfied: six>=1.5 in c:\\programdata\\anaconda3\\lib\\site-packages (from python-dateutil>=2.8.1->pandas>=1.0.1->mathematical) (1.16.0)\n",
      "Installing collected packages: natsort, domdf-python-tools, mathematical\n",
      "Successfully installed domdf-python-tools-3.6.1 mathematical-0.5.1 natsort-8.4.0\n",
      "Note: you may need to restart the kernel to use updated packages.\n"
     ]
    },
    {
     "name": "stderr",
     "output_type": "stream",
     "text": [
      "  WARNING: The script natsort.exe is installed in 'C:\\Users\\Иван\\AppData\\Roaming\\Python\\Python39\\Scripts' which is not on PATH.\n",
      "  Consider adding this directory to PATH or, if you prefer to suppress this warning, use --no-warn-script-location.\n"
     ]
    }
   ],
   "source": [
    "pip install mathematical"
   ]
  },
  {
   "cell_type": "code",
   "execution_count": 37,
   "id": "d28389ec",
   "metadata": {
    "collapsed": true
   },
   "outputs": [
    {
     "ename": "AttributeError",
     "evalue": "module 'mathematical' has no attribute 'base_math'",
     "output_type": "error",
     "traceback": [
      "\u001b[1;31m---------------------------------------------------------------------------\u001b[0m",
      "\u001b[1;31mAttributeError\u001b[0m                            Traceback (most recent call last)",
      "\u001b[1;32m~\\AppData\\Local\\Temp\\ipykernel_16156\\4274605859.py\u001b[0m in \u001b[0;36m<module>\u001b[1;34m\u001b[0m\n\u001b[0;32m      2\u001b[0m \u001b[1;32mimport\u001b[0m \u001b[0mmathematical\u001b[0m\u001b[1;33m\u001b[0m\u001b[1;33m\u001b[0m\u001b[0m\n\u001b[0;32m      3\u001b[0m \u001b[1;33m\u001b[0m\u001b[0m\n\u001b[1;32m----> 4\u001b[1;33m \u001b[0mx\u001b[0m \u001b[1;33m=\u001b[0m \u001b[0mmathematical\u001b[0m\u001b[1;33m.\u001b[0m\u001b[0mbase_math\u001b[0m\u001b[1;33m.\u001b[0m\u001b[0mdiv\u001b[0m\u001b[1;33m(\u001b[0m\u001b[1;36m12\u001b[0m\u001b[1;33m,\u001b[0m \u001b[1;36m5\u001b[0m\u001b[1;33m)\u001b[0m\u001b[1;33m\u001b[0m\u001b[1;33m\u001b[0m\u001b[0m\n\u001b[0m",
      "\u001b[1;31mAttributeError\u001b[0m: module 'mathematical' has no attribute 'base_math'"
     ]
    }
   ],
   "source": [
    "# Простой импорт\n",
    "import mathematical\n",
    "\n",
    "x = mathematical.base_math.div(12, 5)"
   ]
  },
  {
   "cell_type": "code",
   "execution_count": 38,
   "id": "0f3d29e7",
   "metadata": {
    "collapsed": true
   },
   "outputs": [
    {
     "ename": "ImportError",
     "evalue": "cannot import name 'base_math' from 'mathematical' (C:\\Users\\Иван\\AppData\\Roaming\\Python\\Python39\\site-packages\\mathematical\\__init__.py)",
     "output_type": "error",
     "traceback": [
      "\u001b[1;31m---------------------------------------------------------------------------\u001b[0m",
      "\u001b[1;31mImportError\u001b[0m                               Traceback (most recent call last)",
      "\u001b[1;32m~\\AppData\\Local\\Temp\\ipykernel_16156\\607809250.py\u001b[0m in \u001b[0;36m<module>\u001b[1;34m\u001b[0m\n\u001b[0;32m      1\u001b[0m \u001b[1;31m# Абсолютный импорт\u001b[0m\u001b[1;33m\u001b[0m\u001b[1;33m\u001b[0m\u001b[0m\n\u001b[1;32m----> 2\u001b[1;33m \u001b[1;32mfrom\u001b[0m \u001b[0mmathematical\u001b[0m \u001b[1;32mimport\u001b[0m \u001b[0mbase_math\u001b[0m \u001b[1;32mas\u001b[0m \u001b[0mbm\u001b[0m\u001b[1;33m\u001b[0m\u001b[1;33m\u001b[0m\u001b[0m\n\u001b[0m\u001b[0;32m      3\u001b[0m \u001b[1;32mfrom\u001b[0m \u001b[0mmathematical\u001b[0m\u001b[1;33m.\u001b[0m\u001b[0madvanced_math\u001b[0m \u001b[1;32mimport\u001b[0m \u001b[0mexp\u001b[0m\u001b[1;33m\u001b[0m\u001b[1;33m\u001b[0m\u001b[0m\n\u001b[0;32m      4\u001b[0m \u001b[1;33m\u001b[0m\u001b[0m\n\u001b[0;32m      5\u001b[0m \u001b[0mx\u001b[0m \u001b[1;33m=\u001b[0m \u001b[0mbm\u001b[0m\u001b[1;33m.\u001b[0m\u001b[0mdiv\u001b[0m\u001b[1;33m(\u001b[0m\u001b[1;36m12\u001b[0m\u001b[1;33m,\u001b[0m \u001b[1;36m5\u001b[0m\u001b[1;33m)\u001b[0m\u001b[1;33m\u001b[0m\u001b[1;33m\u001b[0m\u001b[0m\n",
      "\u001b[1;31mImportError\u001b[0m: cannot import name 'base_math' from 'mathematical' (C:\\Users\\Иван\\AppData\\Roaming\\Python\\Python39\\site-packages\\mathematical\\__init__.py)"
     ]
    }
   ],
   "source": [
    "# Абсолютный импорт\n",
    "from mathematical import base_math as bm\n",
    "from mathematical.advanced_math import exp\n",
    "\n",
    "x = bm.div(12, 5)\n",
    "z = exp(2, 3)"
   ]
  },
  {
   "cell_type": "code",
   "execution_count": 24,
   "id": "08914aa3",
   "metadata": {
    "collapsed": true
   },
   "outputs": [
    {
     "ename": "ImportError",
     "evalue": "attempted relative import with no known parent package",
     "output_type": "error",
     "traceback": [
      "\u001b[1;31m---------------------------------------------------------------------------\u001b[0m",
      "\u001b[1;31mImportError\u001b[0m                               Traceback (most recent call last)",
      "\u001b[1;32m~\\AppData\\Local\\Temp\\ipykernel_10260\\2844001141.py\u001b[0m in \u001b[0;36m<module>\u001b[1;34m\u001b[0m\n\u001b[0;32m      1\u001b[0m \u001b[1;31m# Относительный импорт\u001b[0m\u001b[1;33m\u001b[0m\u001b[1;33m\u001b[0m\u001b[0m\n\u001b[1;32m----> 2\u001b[1;33m \u001b[1;32mfrom\u001b[0m \u001b[1;33m.\u001b[0m \u001b[1;32mimport\u001b[0m \u001b[0mother_module\u001b[0m\u001b[1;33m\u001b[0m\u001b[1;33m\u001b[0m\u001b[0m\n\u001b[0m\u001b[0;32m      3\u001b[0m \u001b[1;32mfrom\u001b[0m \u001b[1;33m.\u001b[0m\u001b[1;33m.\u001b[0m \u001b[1;32mimport\u001b[0m \u001b[0mother_module\u001b[0m\u001b[1;33m\u001b[0m\u001b[1;33m\u001b[0m\u001b[0m\n\u001b[0;32m      4\u001b[0m \u001b[1;32mfrom\u001b[0m \u001b[1;33m.\u001b[0m\u001b[1;33m.\u001b[0m\u001b[0mother_package\u001b[0m \u001b[1;32mimport\u001b[0m \u001b[0mother_module\u001b[0m\u001b[1;33m\u001b[0m\u001b[1;33m\u001b[0m\u001b[0m\n",
      "\u001b[1;31mImportError\u001b[0m: attempted relative import with no known parent package"
     ]
    }
   ],
   "source": [
    "# Относительный импорт\n",
    "from . import other_module\n",
    "from .. import other_module\n",
    "from ..other_package import other_module"
   ]
  },
  {
   "cell_type": "code",
   "execution_count": 30,
   "id": "fbff0096",
   "metadata": {
    "collapsed": true
   },
   "outputs": [
    {
     "ename": "ImportError",
     "evalue": "cannot import name 'base_math' from 'mathematical' (C:\\Users\\Иван\\AppData\\Roaming\\Python\\Python39\\site-packages\\mathematical\\__init__.py)",
     "output_type": "error",
     "traceback": [
      "\u001b[1;31m---------------------------------------------------------------------------\u001b[0m",
      "\u001b[1;31mImportError\u001b[0m                               Traceback (most recent call last)",
      "\u001b[1;32m~\\AppData\\Local\\Temp\\ipykernel_10260\\1068322129.py\u001b[0m in \u001b[0;36m<module>\u001b[1;34m\u001b[0m\n\u001b[1;32m----> 1\u001b[1;33m \u001b[1;32mfrom\u001b[0m \u001b[0mmathematical\u001b[0m \u001b[1;32mimport\u001b[0m \u001b[0mbase_math\u001b[0m\u001b[1;33m\u001b[0m\u001b[1;33m\u001b[0m\u001b[0m\n\u001b[0m\u001b[0;32m      2\u001b[0m \u001b[0mx\u001b[0m \u001b[1;33m=\u001b[0m \u001b[0mbase_math\u001b[0m\u001b[1;33m.\u001b[0m\u001b[0mdiv\u001b[0m\u001b[1;33m(\u001b[0m\u001b[1;36m12\u001b[0m\u001b[1;33m,\u001b[0m \u001b[1;36m5\u001b[0m\u001b[1;33m)\u001b[0m\u001b[1;33m\u001b[0m\u001b[1;33m\u001b[0m\u001b[0m\n\u001b[0;32m      3\u001b[0m \u001b[0mprint\u001b[0m\u001b[1;33m(\u001b[0m\u001b[0mx\u001b[0m\u001b[1;33m)\u001b[0m\u001b[1;33m\u001b[0m\u001b[1;33m\u001b[0m\u001b[0m\n",
      "\u001b[1;31mImportError\u001b[0m: cannot import name 'base_math' from 'mathematical' (C:\\Users\\Иван\\AppData\\Roaming\\Python\\Python39\\site-packages\\mathematical\\__init__.py)"
     ]
    }
   ],
   "source": [
    "from mathematical import base_math\n",
    "\n",
    "x = base_math.div(12, 5)\n",
    "print(x)"
   ]
  },
  {
   "cell_type": "code",
   "execution_count": 31,
   "id": "9ee00d42",
   "metadata": {
    "collapsed": true
   },
   "outputs": [
    {
     "ename": "ImportError",
     "evalue": "cannot import name 'base_math' from 'mathematical' (C:\\Users\\Иван\\AppData\\Roaming\\Python\\Python39\\site-packages\\mathematical\\__init__.py)",
     "output_type": "error",
     "traceback": [
      "\u001b[1;31m---------------------------------------------------------------------------\u001b[0m",
      "\u001b[1;31mImportError\u001b[0m                               Traceback (most recent call last)",
      "\u001b[1;32m~\\AppData\\Local\\Temp\\ipykernel_10260\\729589896.py\u001b[0m in \u001b[0;36m<module>\u001b[1;34m\u001b[0m\n\u001b[1;32m----> 1\u001b[1;33m \u001b[1;32mfrom\u001b[0m \u001b[0mmathematical\u001b[0m \u001b[1;32mimport\u001b[0m \u001b[0mbase_math\u001b[0m \u001b[1;32mas\u001b[0m \u001b[0mbm\u001b[0m\u001b[1;33m\u001b[0m\u001b[1;33m\u001b[0m\u001b[0m\n\u001b[0m\u001b[0;32m      2\u001b[0m \u001b[1;32mfrom\u001b[0m \u001b[0mmathematical\u001b[0m\u001b[1;33m.\u001b[0m\u001b[0madvanced_math\u001b[0m \u001b[1;32mimport\u001b[0m \u001b[0mexp\u001b[0m\u001b[1;33m\u001b[0m\u001b[1;33m\u001b[0m\u001b[0m\n\u001b[0;32m      3\u001b[0m \u001b[0mx\u001b[0m \u001b[1;33m=\u001b[0m \u001b[0mbm\u001b[0m\u001b[1;33m.\u001b[0m\u001b[0mdiv\u001b[0m\u001b[1;33m(\u001b[0m\u001b[1;36m12\u001b[0m\u001b[1;33m,\u001b[0m \u001b[1;36m5\u001b[0m\u001b[1;33m)\u001b[0m\u001b[1;33m\u001b[0m\u001b[1;33m\u001b[0m\u001b[0m\n\u001b[0;32m      4\u001b[0m \u001b[0mz\u001b[0m \u001b[1;33m=\u001b[0m \u001b[0mexp\u001b[0m\u001b[1;33m(\u001b[0m\u001b[1;36m2\u001b[0m\u001b[1;33m,\u001b[0m \u001b[1;36m3\u001b[0m\u001b[1;33m)\u001b[0m\u001b[1;33m\u001b[0m\u001b[1;33m\u001b[0m\u001b[0m\n\u001b[0;32m      5\u001b[0m \u001b[0mprint\u001b[0m\u001b[1;33m(\u001b[0m\u001b[0mx\u001b[0m\u001b[1;33m,\u001b[0m \u001b[0mz\u001b[0m\u001b[1;33m)\u001b[0m\u001b[1;33m\u001b[0m\u001b[1;33m\u001b[0m\u001b[0m\n",
      "\u001b[1;31mImportError\u001b[0m: cannot import name 'base_math' from 'mathematical' (C:\\Users\\Иван\\AppData\\Roaming\\Python\\Python39\\site-packages\\mathematical\\__init__.py)"
     ]
    }
   ],
   "source": [
    "from mathematical import base_math as bm\n",
    "from mathematical.advanced_math import exp\n",
    "\n",
    "x = bm.div(12, 5)\n",
    "z = exp(2, 3)\n",
    "print(x, z)"
   ]
  },
  {
   "cell_type": "code",
   "execution_count": 32,
   "id": "22fb9600",
   "metadata": {
    "collapsed": true
   },
   "outputs": [
    {
     "ename": "ImportError",
     "evalue": "attempted relative import with no known parent package",
     "output_type": "error",
     "traceback": [
      "\u001b[1;31m---------------------------------------------------------------------------\u001b[0m",
      "\u001b[1;31mImportError\u001b[0m                               Traceback (most recent call last)",
      "\u001b[1;32m~\\AppData\\Local\\Temp\\ipykernel_10260\\2427937101.py\u001b[0m in \u001b[0;36m<module>\u001b[1;34m\u001b[0m\n\u001b[0;32m      1\u001b[0m \u001b[1;31m# импорт модуля other_module в другой модуль того же пакета\u001b[0m\u001b[1;33m\u001b[0m\u001b[1;33m\u001b[0m\u001b[0m\n\u001b[1;32m----> 2\u001b[1;33m \u001b[1;32mfrom\u001b[0m \u001b[1;33m.\u001b[0m \u001b[1;32mimport\u001b[0m \u001b[0mother_module\u001b[0m\u001b[1;33m\u001b[0m\u001b[1;33m\u001b[0m\u001b[0m\n\u001b[0m",
      "\u001b[1;31mImportError\u001b[0m: attempted relative import with no known parent package"
     ]
    }
   ],
   "source": [
    "# импорт модуля other_module в другой модуль того же пакета\n",
    "from . import other_module"
   ]
  },
  {
   "cell_type": "code",
   "execution_count": 33,
   "id": "05160ac7",
   "metadata": {
    "collapsed": true
   },
   "outputs": [
    {
     "ename": "ImportError",
     "evalue": "attempted relative import with no known parent package",
     "output_type": "error",
     "traceback": [
      "\u001b[1;31m---------------------------------------------------------------------------\u001b[0m",
      "\u001b[1;31mImportError\u001b[0m                               Traceback (most recent call last)",
      "\u001b[1;32m~\\AppData\\Local\\Temp\\ipykernel_10260\\2616458781.py\u001b[0m in \u001b[0;36m<module>\u001b[1;34m\u001b[0m\n\u001b[0;32m      1\u001b[0m \u001b[1;31m# если модулю надо выйти из своего пакета в пакет верхнего уровня, используют вторую точку\u001b[0m\u001b[1;33m\u001b[0m\u001b[1;33m\u001b[0m\u001b[0m\n\u001b[1;32m----> 2\u001b[1;33m \u001b[1;32mfrom\u001b[0m \u001b[1;33m.\u001b[0m\u001b[1;33m.\u001b[0m \u001b[1;32mimport\u001b[0m \u001b[0mother_module\u001b[0m\u001b[1;33m\u001b[0m\u001b[1;33m\u001b[0m\u001b[0m\n\u001b[0m\u001b[0;32m      3\u001b[0m \u001b[1;31m# или\u001b[0m\u001b[1;33m\u001b[0m\u001b[1;33m\u001b[0m\u001b[0m\n\u001b[0;32m      4\u001b[0m \u001b[1;32mfrom\u001b[0m \u001b[1;33m.\u001b[0m\u001b[1;33m.\u001b[0m\u001b[0mother_package\u001b[0m \u001b[1;32mimport\u001b[0m \u001b[0mother_module\u001b[0m\u001b[1;33m\u001b[0m\u001b[1;33m\u001b[0m\u001b[0m\n",
      "\u001b[1;31mImportError\u001b[0m: attempted relative import with no known parent package"
     ]
    }
   ],
   "source": [
    "# если модулю надо выйти из своего пакета в пакет верхнего уровня, используют вторую точку\n",
    "from .. import other_module\n",
    "# или\n",
    "from ..other_package import other_module"
   ]
  },
  {
   "cell_type": "markdown",
   "id": "91edbc94",
   "metadata": {},
   "source": [
    "#### Запуск скрипта с параметрами"
   ]
  },
  {
   "cell_type": "code",
   "execution_count": 34,
   "id": "ef63bf93",
   "metadata": {},
   "outputs": [
    {
     "name": "stdout",
     "output_type": "stream",
     "text": [
      "start\n",
      "stop\n"
     ]
    }
   ],
   "source": [
    "print('start')\n",
    "print('stop')"
   ]
  },
  {
   "cell_type": "code",
   "execution_count": 39,
   "id": "5800a76b",
   "metadata": {
    "collapsed": true
   },
   "outputs": [
    {
     "ename": "SyntaxError",
     "evalue": "invalid syntax (853240662.py, line 1)",
     "output_type": "error",
     "traceback": [
      "\u001b[1;36m  File \u001b[1;32m\"C:\\Users\\Иван\\AppData\\Local\\Temp\\ipykernel_16156\\853240662.py\"\u001b[1;36m, line \u001b[1;32m1\u001b[0m\n\u001b[1;33m    python script.py\u001b[0m\n\u001b[1;37m           ^\u001b[0m\n\u001b[1;31mSyntaxError\u001b[0m\u001b[1;31m:\u001b[0m invalid syntax\n"
     ]
    }
   ],
   "source": [
    "python script.py"
   ]
  },
  {
   "cell_type": "markdown",
   "id": "e3a508d3",
   "metadata": {},
   "source": [
    "#### Модуль random"
   ]
  },
  {
   "cell_type": "markdown",
   "id": "89aa11bb",
   "metadata": {},
   "source": [
    "    ✔ random() — генерирует псевдослучайные числа в диапазоне [0, 1)\n",
    "    ✔ seed(a=None, version=2) — инициализирует генератор. Если значение a не указано, для инициализации используется текущее время ПК\n",
    "    ✔ getstate() — возвращает объект с текущим состоянием генератора\n",
    "    ✔ setstate(state) — устанавливает новое состоянии генератора, принимая на вход объект, возвращаемый функцией getstate"
   ]
  },
  {
   "cell_type": "markdown",
   "id": "455a2a6b",
   "metadata": {},
   "source": [
    "    💡 randint(a, b) целое число от a до b\n",
    "    💡 uniform(a, b) вещественное число от a до b\n",
    "    💡 choice(seq) случайный элемент последовательности\n",
    "    💡 randrange(start, stop[, step]) число из диапазона\n",
    "    💡 shuffle(x) перемешиваем коллекцию x in place\n",
    "    💡 sample(population, k, *, counts=None) Выборка в k элементов из population"
   ]
  },
  {
   "cell_type": "code",
   "execution_count": 6,
   "id": "ff8f9c5a",
   "metadata": {
    "scrolled": true
   },
   "outputs": [
    {
     "name": "stdout",
     "output_type": "stream",
     "text": [
      "rnd.random() = 0.6394267984578837\n",
      "state = (3, (2147483648, 3564348608, 1266698288, 4212342371, 3595291661, 3180588708, 3037210256, 946923017, 2565409715, 2900535780, 924383152, 4180157270, 4230508198, 2039675917, 3755350407, 2362848650, 2818100609, 2097423432, 524478045, 540883378, 281170210, 1485176884, 1493190386, 1773214509, 380915208, 3667698522, 2648371337, 2961234806, 3857480267, 1582950522, 246289694, 3322185604, 1944574775, 302623699, 169865066, 1143540808, 3733177770, 513116636, 1411153081, 3205493053, 768926902, 549624109, 1470655403, 59539609, 3678480009, 3087139671, 1176835859, 2078491503, 2299934332, 1592059249, 1062716176, 2654193596, 3531838733, 2661260596, 3881209635, 2106865768, 4154287292, 2082185616, 2301197011, 2177349827, 3082181756, 1787663536, 3714670796, 3018262113, 1670056238, 1856738750, 99824592, 2279837081, 1414647942, 3416675731, 3458782472, 3997022236, 468762002, 2666158583, 953353270, 1788980658, 3802061067, 407586584, 1844776834, 1906917274, 3154715663, 3028370222, 4156024188, 3996363428, 80495456, 2659800972, 2005649973, 3818358673, 3952623596, 2506862371, 3282302532, 263923435, 3384662671, 3292439172, 3119957588, 1224426111, 899864150, 215262826, 1619647231, 3347694949, 3497868538, 2029552053, 2992804824, 4080010250, 2023513186, 1885979437, 3564622190, 3775424270, 2297810139, 3549449169, 2664856277, 3274801974, 2794883969, 980412666, 2980215653, 2794389321, 2816521934, 1266970739, 542306338, 3646225311, 3598997630, 2111980720, 2949252482, 2489027658, 352815024, 11610683, 1386663624, 2004196796, 1161461546, 1921293780, 2463949525, 1647009713, 3550093655, 2563894064, 3486310554, 1506105865, 243092931, 2659437476, 4200687059, 2284345122, 1974438610, 3591096528, 967119212, 3362401375, 140678365, 311602112, 2361740275, 2139598582, 3632873481, 2762232439, 4156482318, 381637792, 3253346525, 2492118775, 1502434558, 3164497290, 3550998357, 2412448305, 2223955385, 4122879535, 350121793, 1835149778, 2175117867, 989674750, 3178241202, 3553093569, 3470650311, 2829698151, 3209427769, 1779174943, 275388428, 4044574515, 715447260, 3180940440, 4020772289, 1322708567, 3189868792, 4250485633, 716970023, 2307550151, 1074996711, 1217573599, 197006094, 2178394212, 1255233746, 4164251484, 1405608772, 2808160475, 1304736088, 1796071066, 2761748078, 3570739698, 1616118556, 2232868135, 3567541936, 3470600401, 3031621994, 3351764214, 1359785149, 2617497797, 3340028190, 356162828, 2083806068, 2503635608, 4024838996, 2577080371, 2897993505, 3120733934, 905794891, 2506078507, 4211618666, 3777871979, 809751414, 4080874167, 1562977008, 3917373055, 2132779194, 4014249473, 4067327082, 2582869847, 1780081876, 1842619106, 3381761227, 921004274, 1393256920, 1883566732, 2702071861, 865327389, 1622085203, 3021825820, 2687061406, 1748902923, 689023977, 308399650, 2377287978, 1646969411, 1051806316, 4277884230, 2041056290, 101134519, 2032472116, 4112521069, 151202901, 2773743461, 551348559, 3476836808, 510935951, 625057077, 3757450756, 2977698135, 3027776859, 2616998041, 2773430005, 544190486, 2241368212, 1141105829, 1452816309, 4199229235, 3218013033, 4229475816, 1659576351, 3020348754, 1193400518, 3208584597, 1151197733, 2597187966, 503065140, 2421841572, 1437291709, 1909275895, 2872630545, 793588217, 3792934707, 1784451785, 2921385648, 1669902526, 4189978976, 1196986251, 434805516, 1907541826, 2624415034, 1687778718, 650746582, 1949153382, 4148493093, 841300520, 1164202054, 4203468658, 4106300911, 850346789, 1715730760, 3114661489, 2866524548, 1360448945, 3601318775, 1743078223, 2413855408, 1211895622, 325117146, 2721152875, 1284334485, 2446538832, 739014618, 2237045115, 842553465, 2538598293, 746460793, 4010387366, 2002655192, 4193733112, 1194380773, 3918217378, 1447487475, 5659228, 3408847694, 4190318700, 1862549564, 781683719, 1194618118, 755053413, 3436011942, 2885435303, 3081151348, 2017642831, 1053816502, 1086627485, 2157296554, 110650022, 965352898, 1003174194, 1288956241, 4057404871, 2965068465, 2897064481, 2457377317, 1879872545, 358455290, 375086701, 3015902095, 1676249984, 924455526, 2084169389, 1989014644, 1993749926, 2009424973, 2113340508, 3980883273, 2915977458, 203328382, 3020815229, 2415050113, 4103009585, 3700885489, 2916647550, 1523006503, 174302338, 2476909338, 1969322490, 4285741984, 1528449097, 3355315515, 4217241278, 599579127, 2572243673, 3035856735, 1539140489, 1782314913, 4238644287, 1746424142, 1978148312, 2380746849, 184941882, 1106717981, 1720750349, 981701307, 3953154731, 3257809181, 2892339376, 3339778166, 3676936849, 87425948, 3029257381, 2037942523, 3807628706, 2861474706, 1058852346, 1322765211, 2686046342, 2689342655, 2303436168, 2571627181, 1986057734, 1183564308, 2829677523, 1295563975, 503126586, 2025890348, 4179277821, 1735262467, 981331774, 1613447066, 1011606109, 2000062246, 3581448390, 3477731384, 3641307373, 3508544379, 2327233491, 3931944343, 4189052882, 2990416380, 422406169, 202291313, 2531006461, 4277024116, 3815144003, 821314585, 1344175168, 3562834071, 1339615445, 1831545190, 3115548822, 743512780, 4006999448, 3720181735, 1012033521, 919931041, 2628967879, 1151876565, 1268107129, 3674829936, 834977846, 743987006, 3947536548, 3706529695, 4121073678, 2507605742, 1595636918, 2708047833, 2427507331, 3868216331, 3254240010, 2097683411, 3279710596, 3686819053, 1843541720, 1683793619, 3245287285, 3571828776, 3733296431, 3806747478, 1390930605, 3860422228, 114397037, 1931519825, 2770684378, 1556101783, 1436111731, 4031950081, 562876656, 1775895782, 612364620, 1313509772, 4283410242, 3252958463, 2176555836, 3933073367, 3013277102, 1444071961, 3120949516, 2824578890, 325676929, 943677134, 1800649256, 1721927060, 347498719, 1435221321, 2623572981, 1408548470, 4145586315, 2901889237, 1849377952, 1239144551, 3382598266, 2992893897, 3738297588, 611280106, 3897415338, 2370299241, 1772308583, 3697465753, 354508058, 2702360134, 591308331, 3524072501, 976616000, 2563717192, 3078266097, 1376594703, 4209795919, 2454412767, 2712206031, 2963860163, 3734324882, 2248653800, 324872786, 3789837448, 3779000146, 527733939, 2844165793, 576499681, 1618787435, 2638888650, 57511068, 2804627518, 2993670030, 481402236, 2810124845, 1416045214, 1723694191, 1214944572, 3188123783, 1139185907, 3851015362, 1719652470, 1661343029, 3644307578, 3564178709, 1256656955, 46631590, 4231317929, 3098958589, 1834956625, 2206185428, 3695688374, 3647957317, 1064098871, 1739100906, 2579568980, 27974051, 2617466775, 964075233, 907049942, 4164146575, 3377168066, 2524828266, 1083546008, 2992960953, 2260789066, 1543742095, 2843842831, 1375722284, 3574521313, 110842534, 2310998251, 3076511734, 783145600, 1287776608, 3087144146, 305559823, 2356293719, 3228441476, 1678938122, 3775814061, 1620283952, 2512027726, 1031432407, 962295099, 3877418501, 968669928, 304126693, 3711291137, 3847527101, 494066767, 4050229756, 4169448589, 671763915, 1095747781, 4006132710, 394725957, 200521654, 2715998750, 1477567673, 895171901, 3370105999, 2684157455, 4153990023, 3966076501, 2043374409, 144443759, 6764556, 1611650045, 1480956755, 1388276468, 4136518438, 1538041336, 266773992, 1623357516, 2267298390, 3183919402, 1084292424, 2796136160, 2413448816, 2850375199, 3510894040, 2644778623, 3317288284, 3697317540, 1465776787, 1843489446, 1416711171, 744701117, 1286781349, 3748640476, 861982119, 2377742909, 1171768136, 2701877439, 3839724288, 2869791015, 2386067954, 2629214347, 955801623, 3831079317, 624), None)\n",
      "rnd.random()= 0.6394267984578837\n",
      "rnd.random()= 0.025010755222666936\n",
      "rnd.random()= 0.6394267984578837\n",
      "rnd.random()= 0.025010755222666936\n"
     ]
    }
   ],
   "source": [
    "import random as rnd\n",
    "\n",
    "print(f'{rnd.random() = }')\n",
    "rnd.seed(42)\n",
    "state = rnd.getstate()\n",
    "\n",
    "print(f'{state = }')\n",
    "print(f'{rnd.random()= }')\n",
    "print(f'{rnd.random()= }')\n",
    "rnd.setstate(state)\n",
    "print(f'{rnd.random()= }')\n",
    "print(f'{rnd.random()= }')"
   ]
  },
  {
   "cell_type": "code",
   "execution_count": 29,
   "id": "f780c619",
   "metadata": {},
   "outputs": [
    {
     "name": "stdout",
     "output_type": "stream",
     "text": [
      "rnd.randint(START, STOP)= 35\n",
      "rnd.uniform(START, STOP)= 132.08112794495912\n",
      "rnd.choice(data)= 42\n",
      "rnd.randrange(START, STOP, STEP)= 810\n"
     ]
    }
   ],
   "source": [
    "import random as rnd\n",
    "\n",
    "START = -100\n",
    "STOP = 1_000\n",
    "STEP = 10\n",
    "data = [2, 4, 6, 8, 42, 73]\n",
    "\n",
    "print(f'{rnd.randint(START, STOP)= }')\n",
    "print(f'{rnd.uniform(START, STOP)= }')\n",
    "print(f'{rnd.choice(data)= }')\n",
    "print(f'{rnd.randrange(START, STOP, STEP)= }')"
   ]
  },
  {
   "cell_type": "code",
   "execution_count": 30,
   "id": "92eee992",
   "metadata": {},
   "outputs": [
    {
     "name": "stdout",
     "output_type": "stream",
     "text": [
      "data = [2, 4, 6, 8, 42, 73]\n",
      "data = [2, 73, 42, 8, 4, 6]\n",
      "rnd.sample(data, 2)= [73, 42]\n",
      "rnd.sample(data, 2, counts=[1, 1, 1, 1, 1, 100])= [6, 6]\n"
     ]
    }
   ],
   "source": [
    "import random as rnd\n",
    "\n",
    "START = -100\n",
    "STOP = 1_000\n",
    "STEP = 10\n",
    "data = [2, 4, 6, 8, 42, 73]\n",
    "\n",
    "print(f'{data = }')\n",
    "rnd.shuffle(data)\n",
    "print(f'{data = }')\n",
    "\n",
    "print(f'{rnd.sample(data, 2)= }')\n",
    "print(f'{rnd.sample(data, 2, counts=[1, 1, 1, 1, 1, 100])= }')"
   ]
  },
  {
   "cell_type": "code",
   "execution_count": 2,
   "id": "8bd5ce19",
   "metadata": {},
   "outputs": [
    {
     "name": "stdout",
     "output_type": "stream",
     "text": [
      "0.48863944764267553\n",
      "0.6394267984578837\n",
      "0.6394267984578837\n",
      "-49\n",
      "715.7055497358161\n",
      "4\n",
      "180\n",
      "[2, 4, 6, 8, 42, 73]\n",
      "[8, 73, 6, 42, 2, 4]\n",
      "[8, 4]\n",
      "[4, 4]\n"
     ]
    }
   ],
   "source": [
    "import random as rnd\n",
    "\n",
    "START = -100\n",
    "STOP = 1_000\n",
    "STEP = 10\n",
    "data = [2, 4, 6, 8, 42, 73]\n",
    "\n",
    "print(rnd.random())\n",
    "rnd.seed(42)\n",
    "state = rnd.getstate()\n",
    "print(rnd.random())\n",
    "rnd.setstate(state)\n",
    "print(rnd.random())\n",
    "\n",
    "print(rnd.randint(START, STOP))\n",
    "print(rnd.uniform(START, STOP))\n",
    "print(rnd.choice(data))\n",
    "print(rnd.randrange(START, STOP, STEP))\n",
    "\n",
    "print(data)\n",
    "rnd.shuffle(data)\n",
    "print(data)\n",
    "\n",
    "print(rnd.sample(data, 2))\n",
    "print(rnd.sample(data, 2, counts=[1, 1, 1, 1, 1, 100]))"
   ]
  },
  {
   "cell_type": "code",
   "execution_count": null,
   "id": "f36810a5",
   "metadata": {},
   "outputs": [],
   "source": [
    "Задание"
   ]
  },
  {
   "cell_type": "code",
   "execution_count": 1,
   "id": "5d897abd",
   "metadata": {
    "collapsed": true
   },
   "outputs": [
    {
     "ename": "ValueError",
     "evalue": "invalid literal for int() with base 10: '--ip=127.0.0.1'",
     "output_type": "error",
     "traceback": [
      "\u001b[1;31m---------------------------------------------------------------------------\u001b[0m",
      "\u001b[1;31mValueError\u001b[0m                                Traceback (most recent call last)",
      "\u001b[1;32mc:\\Users\\Иван\\Desktop\\GeekBrains\\16. Next-Python\\lec_6.ipynb Ячейка 69\u001b[0m line \u001b[0;36m4\n\u001b[0;32m      <a href='vscode-notebook-cell:/c%3A/Users/%D0%98%D0%B2%D0%B0%D0%BD/Desktop/GeekBrains/16.%20Next-Python/lec_6.ipynb#Y342sZmlsZQ%3D%3D?line=0'>1</a>\u001b[0m \u001b[39mimport\u001b[39;00m \u001b[39mrandom\u001b[39;00m\n\u001b[0;32m      <a href='vscode-notebook-cell:/c%3A/Users/%D0%98%D0%B2%D0%B0%D0%BD/Desktop/GeekBrains/16.%20Next-Python/lec_6.ipynb#Y342sZmlsZQ%3D%3D?line=1'>2</a>\u001b[0m \u001b[39mfrom\u001b[39;00m \u001b[39msys\u001b[39;00m \u001b[39mimport\u001b[39;00m argv\n\u001b[1;32m----> <a href='vscode-notebook-cell:/c%3A/Users/%D0%98%D0%B2%D0%B0%D0%BD/Desktop/GeekBrains/16.%20Next-Python/lec_6.ipynb#Y342sZmlsZQ%3D%3D?line=3'>4</a>\u001b[0m \u001b[39mprint\u001b[39m(random\u001b[39m.\u001b[39muniform(\u001b[39mint\u001b[39;49m(argv[\u001b[39m1\u001b[39;49m]), \u001b[39mint\u001b[39m(argv[\u001b[39m2\u001b[39m])))\n\u001b[0;32m      <a href='vscode-notebook-cell:/c%3A/Users/%D0%98%D0%B2%D0%B0%D0%BD/Desktop/GeekBrains/16.%20Next-Python/lec_6.ipynb#Y342sZmlsZQ%3D%3D?line=4'>5</a>\u001b[0m \u001b[39mprint\u001b[39m(random\u001b[39m.\u001b[39mrandrange(\u001b[39mint\u001b[39m(argv[\u001b[39m1\u001b[39m]), \u001b[39mint\u001b[39m(argv[\u001b[39m2\u001b[39m]), \u001b[39mint\u001b[39m(argv[\u001b[39m1\u001b[39m])))\n\u001b[0;32m      <a href='vscode-notebook-cell:/c%3A/Users/%D0%98%D0%B2%D0%B0%D0%BD/Desktop/GeekBrains/16.%20Next-Python/lec_6.ipynb#Y342sZmlsZQ%3D%3D?line=5'>6</a>\u001b[0m \u001b[39mprint\u001b[39m(random\u001b[39m.\u001b[39msample(\u001b[39mrange\u001b[39m(\u001b[39mint\u001b[39m(argv[\u001b[39m1\u001b[39m]), \u001b[39mint\u001b[39m(argv[\u001b[39m2\u001b[39m]), \u001b[39mint\u001b[39m(argv[\u001b[39m1\u001b[39m])), \u001b[39m10\u001b[39m))\n",
      "\u001b[1;31mValueError\u001b[0m: invalid literal for int() with base 10: '--ip=127.0.0.1'"
     ]
    }
   ],
   "source": [
    "import random\n",
    "from sys import argv\n",
    "\n",
    "print(random.uniform(int(argv[1]), int(argv[2])))\n",
    "print(random.randrange(int(argv[1]), int(argv[2]), int(argv[1])))\n",
    "print(random.sample(range(int(argv[1]), int(argv[2]), int(argv[1])), 10))"
   ]
  }
 ],
 "metadata": {
  "kernelspec": {
   "display_name": "Python 3 (ipykernel)",
   "language": "python",
   "name": "python3"
  },
  "language_info": {
   "codemirror_mode": {
    "name": "ipython",
    "version": 3
   },
   "file_extension": ".py",
   "mimetype": "text/x-python",
   "name": "python",
   "nbconvert_exporter": "python",
   "pygments_lexer": "ipython3",
   "version": "3.11.5"
  }
 },
 "nbformat": 4,
 "nbformat_minor": 5
}
