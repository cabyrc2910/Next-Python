{
 "cells": [
  {
   "cell_type": "markdown",
   "id": "c767774a",
   "metadata": {},
   "source": [
    "    ● Итератор — это объект, представляющий поток данных; объект возвращает данные по одному элементу за раз. Итератор Python должен поддерживать метод с именем __next__ (), который не принимает аргументов и всегда возвращает следующий элемент потока.\n",
    "    ● Генератор — это объект, который сразу при создании не вычисляет значения всех своих элементов. Он хранит в памяти только последний вычисленный элемент, правило перехода к следующему и условие, при котором выполнение прерывается. Вычисление следующего значения происходит лишь при выполнении метода next(). Предыдущее значение при этом теряется.\n",
    "    ● Факториал — функция, определённая на множестве неотрицательных целых чисел. Название происходит от лат. factorialis — действующий, производящий, умножающий; обозначается n!, произносится эн факториал. Факториал натурального числа n определяется как произведение всех натуральных чисел от 1 до n включительно."
   ]
  },
  {
   "cell_type": "markdown",
   "id": "ac234a0b",
   "metadata": {},
   "source": [
    "### 1. Однострочники"
   ]
  },
  {
   "cell_type": "markdown",
   "id": "bc4f016b",
   "metadata": {},
   "source": [
    "#### Полезные однострочники"
   ]
  },
  {
   "cell_type": "markdown",
   "id": "e0dae508",
   "metadata": {},
   "source": [
    "#### ● Обмен значения переменных\n",
    "Начнём с классического обмена значений переменных."
   ]
  },
  {
   "cell_type": "markdown",
   "id": "c9f8a34f",
   "metadata": {},
   "source": [
    "Мы поменяли местами содержимое переменных без создания дополнительных, в\n",
    "одну строку."
   ]
  },
  {
   "cell_type": "code",
   "execution_count": 9,
   "id": "c38667b1",
   "metadata": {},
   "outputs": [
    {
     "name": "stdout",
     "output_type": "stream",
     "text": [
      "a = 73\tb = 42\n"
     ]
    }
   ],
   "source": [
    "a = 42\n",
    "b = 73\n",
    "a, b = b, a\n",
    "print(f'{a = }\\t{b = }')"
   ]
  },
  {
   "cell_type": "markdown",
   "id": "86ffcd27",
   "metadata": {},
   "source": [
    "#### ● Распаковка коллекции\n",
    "Рассмотрим другие варианты упаковки и распаковки значений."
   ]
  },
  {
   "cell_type": "code",
   "execution_count": 11,
   "id": "cadf08f8",
   "metadata": {},
   "outputs": [
    {
     "name": "stdout",
     "output_type": "stream",
     "text": [
      "Три символа: 123\n",
      "a='1' b='2' c='3'\n"
     ]
    }
   ],
   "source": [
    "a, b, c = input(\"Три символа: \")\n",
    "print(f'{a=} {b=} {c=}')"
   ]
  },
  {
   "cell_type": "code",
   "execution_count": 12,
   "id": "e51be519",
   "metadata": {},
   "outputs": [
    {
     "name": "stdout",
     "output_type": "stream",
     "text": [
      "Три символа: 1234\n"
     ]
    },
    {
     "ename": "ValueError",
     "evalue": "too many values to unpack (expected 3)",
     "output_type": "error",
     "traceback": [
      "\u001b[1;31m---------------------------------------------------------------------------\u001b[0m",
      "\u001b[1;31mValueError\u001b[0m                                Traceback (most recent call last)",
      "\u001b[1;32m~\\AppData\\Local\\Temp\\ipykernel_22000\\901942501.py\u001b[0m in \u001b[0;36m<module>\u001b[1;34m\u001b[0m\n\u001b[1;32m----> 1\u001b[1;33m \u001b[0ma\u001b[0m\u001b[1;33m,\u001b[0m \u001b[0mb\u001b[0m\u001b[1;33m,\u001b[0m \u001b[0mc\u001b[0m \u001b[1;33m=\u001b[0m \u001b[0minput\u001b[0m\u001b[1;33m(\u001b[0m\u001b[1;34m\"Три символа: \"\u001b[0m\u001b[1;33m)\u001b[0m\u001b[1;33m\u001b[0m\u001b[1;33m\u001b[0m\u001b[0m\n\u001b[0m\u001b[0;32m      2\u001b[0m \u001b[0mprint\u001b[0m\u001b[1;33m(\u001b[0m\u001b[1;34mf'{a=} {b=} {c=}'\u001b[0m\u001b[1;33m)\u001b[0m\u001b[1;33m\u001b[0m\u001b[1;33m\u001b[0m\u001b[0m\n",
      "\u001b[1;31mValueError\u001b[0m: too many values to unpack (expected 3)"
     ]
    }
   ],
   "source": [
    "a, b, c = input(\"Три символа: \")\n",
    "print(f'{a=} {b=} {c=}')"
   ]
  },
  {
   "cell_type": "code",
   "execution_count": 13,
   "id": "60b7f568",
   "metadata": {},
   "outputs": [
    {
     "name": "stdout",
     "output_type": "stream",
     "text": [
      "a='один' b='два' c='три'\n"
     ]
    }
   ],
   "source": [
    "a, b, c = (\"один\", \"два\", \"три\",)\n",
    "print(f'{a=} {b=} {c=}')"
   ]
  },
  {
   "cell_type": "code",
   "execution_count": 14,
   "id": "a4a7cc15",
   "metadata": {},
   "outputs": [
    {
     "ename": "SyntaxError",
     "evalue": "invalid syntax (1809241535.py, line 3)",
     "output_type": "error",
     "traceback": [
      "\u001b[1;36m  File \u001b[1;32m\"C:\\Users\\Иван\\AppData\\Local\\Temp\\ipykernel_22000\\1809241535.py\"\u001b[1;36m, line \u001b[1;32m3\u001b[0m\n\u001b[1;33m    (expected 3)\u001b[0m\n\u001b[1;37m              ^\u001b[0m\n\u001b[1;31mSyntaxError\u001b[0m\u001b[1;31m:\u001b[0m invalid syntax\n"
     ]
    }
   ],
   "source": [
    "a, b, c = {\"один\", \"два\", \"три\", \"четыре\", \"пять\"}\n",
    "print(f'{a=} {b=} {c=}') # ValueError: too many values to unpack\n",
    "(expected 3)"
   ]
  },
  {
   "cell_type": "markdown",
   "id": "a0642449",
   "metadata": {},
   "source": [
    "#### ● Распаковка коллекции с упаковкой “лишнего”, упаковка со звёздочкой\n",
    "Для упаковки может применяться символ “звёздочка” перед именем переменной.\n",
    "Такая переменная превратиться в список и соберёт в себя все значения, не\n",
    "поместившиеся в остальные переменные."
   ]
  },
  {
   "cell_type": "code",
   "execution_count": 42,
   "id": "2f5eb58e",
   "metadata": {},
   "outputs": [
    {
     "name": "stdout",
     "output_type": "stream",
     "text": [
      "a='один' b='два' c='три' d=['четыре', 'пять', 'шесть', 'семь']\n"
     ]
    }
   ],
   "source": [
    "data = [\"один\", \"два\", \"три\", \"четыре\", \"пять\", \"шесть\", \"семь\",]\n",
    "a, b, c, *d = data\n",
    "print(f'{a=} {b=} {c=} {d=}')"
   ]
  },
  {
   "cell_type": "code",
   "execution_count": 43,
   "id": "94211eac",
   "metadata": {},
   "outputs": [
    {
     "name": "stdout",
     "output_type": "stream",
     "text": [
      "a='один' b='два' c=['три', 'четыре', 'пять', 'шесть'] d='семь'\n"
     ]
    }
   ],
   "source": [
    "a, b, *c, d = data\n",
    "print(f'{a=} {b=} {c=} {d=}')"
   ]
  },
  {
   "cell_type": "code",
   "execution_count": 44,
   "id": "4e38dff9",
   "metadata": {},
   "outputs": [
    {
     "name": "stdout",
     "output_type": "stream",
     "text": [
      "a='один' b=['два', 'три', 'четыре', 'пять'] c='шесть' d='семь'\n"
     ]
    }
   ],
   "source": [
    "a, *b, c, d = data\n",
    "print(f'{a=} {b=} {c=} {d=}')"
   ]
  },
  {
   "cell_type": "code",
   "execution_count": 45,
   "id": "4b017102",
   "metadata": {},
   "outputs": [
    {
     "name": "stdout",
     "output_type": "stream",
     "text": [
      "a=['один', 'два', 'три', 'четыре'] b='пять' c='шесть' d='семь'\n"
     ]
    }
   ],
   "source": [
    "\n",
    "*a, b, c, d = data\n",
    "print(f'{a=} {b=} {c=} {d=}')"
   ]
  },
  {
   "cell_type": "markdown",
   "id": "eaea2814",
   "metadata": {},
   "source": [
    "🔥 Важно! Звёздочкой можно отметить только одну переменную из\n",
    "перечня."
   ]
  },
  {
   "cell_type": "markdown",
   "id": "249c9a17",
   "metadata": {},
   "source": [
    "Если нам нужна часть данных в переменных, а упакованный список в дальнейших\n",
    "расчётах не участвует, в качестве переменной используют подчеркивание."
   ]
  },
  {
   "cell_type": "code",
   "execution_count": 18,
   "id": "7866c575",
   "metadata": {},
   "outputs": [],
   "source": [
    "link = 'https://docs.python.org/3/faq/programming.html#how-can-i-pass-op tional-or-keyword-parameters-from-one-function-to-another'\n",
    "prefix, *_, suffix = link.split('/')"
   ]
  },
  {
   "cell_type": "markdown",
   "id": "2a115f80",
   "metadata": {},
   "source": [
    "#### ● Распаковка со звёздочкой\n",
    "Ещё один способ применения звёздочки — распаковка элементов коллекции.\n",
    "Длинный вариант вывода"
   ]
  },
  {
   "cell_type": "code",
   "execution_count": 22,
   "id": "1d7f6028",
   "metadata": {},
   "outputs": [
    {
     "name": "stdout",
     "output_type": "stream",
     "text": [
      "2\t4\t6\t8\t10\t\n"
     ]
    }
   ],
   "source": [
    "data = [2, 4, 6, 8, 10, ]\n",
    "for item in data:\n",
    "    print(item, end='\\t')\n",
    "print()"
   ]
  },
  {
   "cell_type": "code",
   "execution_count": 20,
   "id": "722a6a1e",
   "metadata": {},
   "outputs": [
    {
     "name": "stdout",
     "output_type": "stream",
     "text": [
      "2\t4\t6\t8\t10\n"
     ]
    }
   ],
   "source": [
    "data = [2, 4, 6, 8, 10, ]\n",
    "print(*data, sep='\\t')"
   ]
  },
  {
   "cell_type": "markdown",
   "id": "4e5eda52",
   "metadata": {},
   "source": [
    "#### ● Множественное присваивание\n",
    "Если несколько переменных должны получить одинаковые значение, можно\n",
    "объединить несколько строк в одну."
   ]
  },
  {
   "cell_type": "code",
   "execution_count": 24,
   "id": "e7994288",
   "metadata": {},
   "outputs": [
    {
     "name": "stdout",
     "output_type": "stream",
     "text": [
      "a=42 b=0 c=0\n"
     ]
    }
   ],
   "source": [
    "a = b = c = 0        # хорошо\n",
    "a += 42\n",
    "print(f'{a=} {b=} {c=}')"
   ]
  },
  {
   "cell_type": "code",
   "execution_count": 26,
   "id": "f2122237",
   "metadata": {},
   "outputs": [
    {
     "name": "stdout",
     "output_type": "stream",
     "text": [
      "a={1, 2, 3, 42} b={1, 2, 3, 42} c={1, 2, 3, 42}\n"
     ]
    }
   ],
   "source": [
    "a = b = c = {1, 2, 3}  # плохо\n",
    "a.add(42)\n",
    "print(f'{a=} {b=} {c=}')"
   ]
  },
  {
   "cell_type": "code",
   "execution_count": 27,
   "id": "8f4443c8",
   "metadata": {},
   "outputs": [
    {
     "name": "stdout",
     "output_type": "stream",
     "text": [
      "a=1 b=2 c=3\n"
     ]
    }
   ],
   "source": [
    "a, b, c = 1, 2, 3\n",
    "print(f'{a=} {b=} {c=}')"
   ]
  },
  {
   "cell_type": "code",
   "execution_count": 28,
   "id": "a41aea48",
   "metadata": {},
   "outputs": [
    {
     "name": "stdout",
     "output_type": "stream",
     "text": [
      "t=(1, 2, 3), <class 'tuple'>\n"
     ]
    }
   ],
   "source": [
    "t = 1, 2, 3\n",
    "print(f'{t=}, {type(t)}')"
   ]
  },
  {
   "cell_type": "markdown",
   "id": "d84b4a57",
   "metadata": {},
   "source": [
    "🔥 Важно! Тип объектов может отличаться. Не только целые числа, как в\n",
    "примерах. Строки, любые коллекции. Ошибки это не вызовет. Но для\n",
    "повышения читаемости рекомендуется не смешивать разные типы данных при\n",
    "присваивании одной строкой."
   ]
  },
  {
   "cell_type": "markdown",
   "id": "9b0c32f1",
   "metadata": {},
   "source": [
    "#### ● Множественное сравнение\n",
    "Аналогично присваиванию можно сравнить несколько переменных внутри\n",
    "конструкции if."
   ]
  },
  {
   "cell_type": "code",
   "execution_count": 30,
   "id": "41fdad6b",
   "metadata": {},
   "outputs": [
    {
     "name": "stdout",
     "output_type": "stream",
     "text": [
      "Полное совпадение\n"
     ]
    }
   ],
   "source": [
    "a = b = c = 42\n",
    "# if a == b and b == c:\n",
    "if a == b == c:\n",
    "    print('Полное совпадение')"
   ]
  },
  {
   "cell_type": "code",
   "execution_count": 32,
   "id": "a67ee1ce",
   "metadata": {},
   "outputs": [],
   "source": [
    "if a < b < c:\n",
    "    print('b больше a и меньше c')"
   ]
  },
  {
   "cell_type": "code",
   "execution_count": 33,
   "id": "3b1c8e9d",
   "metadata": {},
   "outputs": [],
   "source": [
    "### Плохие однострочники"
   ]
  },
  {
   "cell_type": "code",
   "execution_count": 34,
   "id": "eb432bd7",
   "metadata": {},
   "outputs": [
    {
     "name": "stdout",
     "output_type": "stream",
     "text": [
      "Ужасный код\n"
     ]
    }
   ],
   "source": [
    "a = 12; b = 42; c = 73\n",
    "if a < b < c: b = None; print('Ужасный код')"
   ]
  },
  {
   "cell_type": "code",
   "execution_count": null,
   "id": "360116ad",
   "metadata": {},
   "outputs": [],
   "source": [
    "🔥 Очень важно! Отсутствие перехода на новую строку после двоеточия и\n",
    "запись нескольких строк кода в одну через точку с запятой — плохой стиль\n",
    "программирования. Будьте готовы получить “неудовлетворительно” за\n",
    "подобные антипаттерны во время учёбы и отказ в трудоустройстве во время\n",
    "собеседования!"
   ]
  },
  {
   "cell_type": "markdown",
   "id": "02fec4af",
   "metadata": {},
   "source": [
    "#### Задание\n",
    "Перед вами несколько строк кода. Напишите что по вашему мнению выведет print,\n",
    "не запуская код. У вас 3 минуты."
   ]
  },
  {
   "cell_type": "code",
   "execution_count": 36,
   "id": "a27ea438",
   "metadata": {},
   "outputs": [
    {
     "name": "stdout",
     "output_type": "stream",
     "text": [
      "1 3 6 [8, 9] 10\n"
     ]
    }
   ],
   "source": [
    "data = {10, 9, 8, 1, 6, 3}\n",
    "a, b, c, *d, e = data\n",
    "print(a, b, c, d, e)"
   ]
  },
  {
   "cell_type": "markdown",
   "id": "5f82d64f",
   "metadata": {},
   "source": [
    "### 2. Итераторы"
   ]
  },
  {
   "cell_type": "markdown",
   "id": "518c35fb",
   "metadata": {},
   "source": [
    "#### Функции iter() и next()"
   ]
  },
  {
   "cell_type": "markdown",
   "id": "4df1312a",
   "metadata": {},
   "source": [
    "#### ● Функция iter\n",
    "Функция iter имеет формат iter(object[, sentinel]). object является обязательным\n",
    "аргументом. Если объект не реализует интерфейс итерации через методы __iter__\n",
    "или __getitem__, получим ошибку TypeError."
   ]
  },
  {
   "cell_type": "code",
   "execution_count": 39,
   "id": "90a61813",
   "metadata": {},
   "outputs": [],
   "source": [
    "a = 42\n",
    "# iter(a) # TypeError: 'int' object is not iterable"
   ]
  },
  {
   "cell_type": "code",
   "execution_count": 40,
   "id": "219cb317",
   "metadata": {},
   "outputs": [
    {
     "name": "stdout",
     "output_type": "stream",
     "text": [
      "<list_iterator object at 0x00000154FA4B9100>\n"
     ]
    }
   ],
   "source": [
    "data = [2, 4, 6, 8]\n",
    "list_iter = iter(data)\n",
    "print(list_iter)"
   ]
  },
  {
   "cell_type": "code",
   "execution_count": 41,
   "id": "6958df09",
   "metadata": {},
   "outputs": [
    {
     "name": "stdout",
     "output_type": "stream",
     "text": [
      "2 4 6 8\n",
      "\n"
     ]
    }
   ],
   "source": [
    "data = [2, 4, 6, 8]\n",
    "list_iter = iter(data)\n",
    "print(*list_iter)\n",
    "print(*list_iter)"
   ]
  },
  {
   "cell_type": "code",
   "execution_count": null,
   "id": "38472220",
   "metadata": {},
   "outputs": [],
   "source": [
    "🔥 Внимание! Обратите внимание, что итератор является одноразовым\n",
    "объектом. Получив все элементы коллекции один раз он перестаёт работать.\n",
    "Для повторного извлечения элементов необходимо создать новый итератор."
   ]
  },
  {
   "cell_type": "code",
   "execution_count": 49,
   "id": "9d3999a8",
   "metadata": {},
   "outputs": [],
   "source": [
    "data = [2, 4, 6, 8]\n",
    "# list_iter = iter(data, 6) # TypeError: iter(v, w): v must be callable"
   ]
  },
  {
   "cell_type": "code",
   "execution_count": 51,
   "id": "b0add468",
   "metadata": {},
   "outputs": [
    {
     "name": "stdout",
     "output_type": "stream",
     "text": [
      "b'Hello world!\\nHow'\n",
      "b' are you?\\nCall m'\n",
      "b'e later, please.'\n",
      "b'\\n'\n"
     ]
    }
   ],
   "source": [
    "import functools\n",
    "\n",
    "f = open('mydata.bin', 'rb')\n",
    "for block in iter(functools.partial(f.read, 16), b''):\n",
    "    print(block)\n",
    "f.close()"
   ]
  },
  {
   "cell_type": "markdown",
   "id": "0439f420",
   "metadata": {},
   "source": [
    "#### ● Функция next\n",
    "Функция next имеет формат next(iterator[, default]). На вход функция принимает\n",
    "итератор, который вернула функция iter. Каждый вызов функции возвращает\n",
    "очередной элемент итератора."
   ]
  },
  {
   "cell_type": "code",
   "execution_count": 52,
   "id": "a48bf3a1",
   "metadata": {},
   "outputs": [
    {
     "name": "stdout",
     "output_type": "stream",
     "text": [
      "2\n",
      "4\n",
      "6\n",
      "8\n"
     ]
    },
    {
     "ename": "StopIteration",
     "evalue": "",
     "output_type": "error",
     "traceback": [
      "\u001b[1;31m---------------------------------------------------------------------------\u001b[0m",
      "\u001b[1;31mStopIteration\u001b[0m                             Traceback (most recent call last)",
      "\u001b[1;32m~\\AppData\\Local\\Temp\\ipykernel_22000\\2974657378.py\u001b[0m in \u001b[0;36m<module>\u001b[1;34m\u001b[0m\n\u001b[0;32m      5\u001b[0m \u001b[0mprint\u001b[0m\u001b[1;33m(\u001b[0m\u001b[0mnext\u001b[0m\u001b[1;33m(\u001b[0m\u001b[0mlist_iter\u001b[0m\u001b[1;33m)\u001b[0m\u001b[1;33m)\u001b[0m\u001b[1;33m\u001b[0m\u001b[1;33m\u001b[0m\u001b[0m\n\u001b[0;32m      6\u001b[0m \u001b[0mprint\u001b[0m\u001b[1;33m(\u001b[0m\u001b[0mnext\u001b[0m\u001b[1;33m(\u001b[0m\u001b[0mlist_iter\u001b[0m\u001b[1;33m)\u001b[0m\u001b[1;33m)\u001b[0m\u001b[1;33m\u001b[0m\u001b[1;33m\u001b[0m\u001b[0m\n\u001b[1;32m----> 7\u001b[1;33m \u001b[0mprint\u001b[0m\u001b[1;33m(\u001b[0m\u001b[0mnext\u001b[0m\u001b[1;33m(\u001b[0m\u001b[0mlist_iter\u001b[0m\u001b[1;33m)\u001b[0m\u001b[1;33m)\u001b[0m \u001b[1;31m# StopIteration\u001b[0m\u001b[1;33m\u001b[0m\u001b[1;33m\u001b[0m\u001b[0m\n\u001b[0m",
      "\u001b[1;31mStopIteration\u001b[0m: "
     ]
    }
   ],
   "source": [
    "data = [2, 4, 6, 8]\n",
    "list_iter = iter(data)\n",
    "print(next(list_iter))\n",
    "print(next(list_iter))\n",
    "print(next(list_iter))\n",
    "print(next(list_iter))\n",
    "print(next(list_iter)) # StopIteration"
   ]
  },
  {
   "cell_type": "code",
   "execution_count": 53,
   "id": "b51cb2ee",
   "metadata": {},
   "outputs": [
    {
     "name": "stdout",
     "output_type": "stream",
     "text": [
      "2\n",
      "4\n",
      "6\n",
      "8\n",
      "42\n",
      "42\n"
     ]
    }
   ],
   "source": [
    "data = [2, 4, 6, 8]\n",
    "list_iter = iter(data)\n",
    "print(next(list_iter, 42))\n",
    "print(next(list_iter, 42))\n",
    "print(next(list_iter, 42))\n",
    "print(next(list_iter, 42))\n",
    "print(next(list_iter, 42))\n",
    "print(next(list_iter, 42))"
   ]
  },
  {
   "cell_type": "markdown",
   "id": "2a79e4ba",
   "metadata": {},
   "source": [
    "#### Задание\n",
    "Перед вами несколько строк кода Напишите что выведет каждая из строк, не\n",
    "запуская код. У вас 3 минуты."
   ]
  },
  {
   "cell_type": "code",
   "execution_count": 54,
   "id": "ce2d920c",
   "metadata": {},
   "outputs": [
    {
     "name": "stdout",
     "output_type": "stream",
     "text": [
      "<dict_itemiterator object at 0x00000154FA4BF0E0>\n",
      "('один', 1)\n",
      "один\n"
     ]
    }
   ],
   "source": [
    "data = {\"один\": 1, \"два\": 2, \"три\": 3}\n",
    "x = iter(data.items())\n",
    "print(x)\n",
    "y = next(x)\n",
    "print(y)\n",
    "z = next(iter(y))\n",
    "print(z)"
   ]
  },
  {
   "cell_type": "code",
   "execution_count": null,
   "id": "0450b67f",
   "metadata": {},
   "outputs": [],
   "source": [
    "### 3. Генераторы"
   ]
  },
  {
   "cell_type": "code",
   "execution_count": null,
   "id": "5bff1a33",
   "metadata": {},
   "outputs": [],
   "source": [
    "🔥 Важно! Генератор не обяз быть однострочником."
   ]
  },
  {
   "cell_type": "code",
   "execution_count": 55,
   "id": "703ec625",
   "metadata": {},
   "outputs": [
    {
     "name": "stdout",
     "output_type": "stream",
     "text": [
      "a=range(0, 10, 2), type(a)=<class 'range'>, a.__sizeof__()=48, 5\n",
      "b=range(-1000000, 1000000, 2), type(b)=<class 'range'>, b.__sizeof__()=48, 1000000\n"
     ]
    }
   ],
   "source": [
    "a = range(0, 10, 2)\n",
    "print(f'{a=}, {type(a)=}, {a.__sizeof__()=}, {len(a)}')\n",
    "b = range(-1_000_000, 1_000_000, 2)\n",
    "print(f'{b=}, {type(b)=}, {b.__sizeof__()=}, {len(b)}')"
   ]
  },
  {
   "cell_type": "markdown",
   "id": "efe205a4",
   "metadata": {},
   "source": [
    "### Генераторные выражения"
   ]
  },
  {
   "cell_type": "code",
   "execution_count": 56,
   "id": "fedf24b7",
   "metadata": {
    "scrolled": true
   },
   "outputs": [
    {
     "name": "stdout",
     "output_type": "stream",
     "text": [
      "<generator object <genexpr> at 0x00000154FA4B87B0>\n",
      "a\n",
      "b\n",
      "c\n",
      "d\n",
      "e\n",
      "f\n",
      "g\n",
      "h\n",
      "i\n",
      "j\n",
      "k\n",
      "l\n",
      "m\n",
      "n\n",
      "o\n",
      "p\n",
      "q\n",
      "r\n",
      "s\n",
      "t\n",
      "u\n",
      "v\n",
      "w\n",
      "x\n",
      "y\n",
      "z\n"
     ]
    }
   ],
   "source": [
    "my_gen = (chr(i) for i in range(97, 123))\n",
    "print(my_gen) # <generator object <genexpr> at 0x000001ED58DD7D60>\n",
    "for char in my_gen:\n",
    "    print(char)"
   ]
  },
  {
   "cell_type": "markdown",
   "id": "c5847385",
   "metadata": {},
   "source": [
    "#### Комбинации for и if в генераторах\n",
    "и выражениях"
   ]
  },
  {
   "cell_type": "code",
   "execution_count": 58,
   "id": "fd16bd0a",
   "metadata": {},
   "outputs": [],
   "source": [
    "# gen = (expression for expr in sequense1 if condition1\n",
    "#     for expr in sequense2 if condition2\n",
    "#     for expr in sequense3 if condition3\n",
    "#     ...\n",
    "#     for expr in sequenseN if conditionN)"
   ]
  },
  {
   "cell_type": "code",
   "execution_count": null,
   "id": "81a8438d",
   "metadata": {},
   "outputs": [],
   "source": [
    "Если расписать выражение в обычном коде, получим следующий код:"
   ]
  },
  {
   "cell_type": "code",
   "execution_count": 59,
   "id": "56630377",
   "metadata": {},
   "outputs": [],
   "source": [
    "# for expr in sequense1:\n",
    "#     if not condition1:\n",
    "#         continue\n",
    "#     for expr in sequense2:\n",
    "#         if not condition2:\n",
    "#             continue\n",
    "#     ...\n",
    "#         for expr in sequenseN:\n",
    "#             if not conditionN:\n",
    "#                 continue"
   ]
  },
  {
   "cell_type": "code",
   "execution_count": 60,
   "id": "01ea288b",
   "metadata": {},
   "outputs": [
    {
     "name": "stdout",
     "output_type": "stream",
     "text": [
      "len(x)=7\tlen(y)=6\n",
      "len(res)=25\n",
      "[3, 7, 25, 121, 721, 3, 7, 25, 121, 721, 5, 9, 27, 123, 723, 7, 11, 29, 125, 725, 15, 19, 37, 133, 733]\n"
     ]
    }
   ],
   "source": [
    "x = [1, 1, 2, 3, 5, 8, 13]\n",
    "y = [1, 2, 6, 24, 120, 720]\n",
    "print(f'{len(x)=}\\t{len(y)=}')\n",
    "mult = (i + j for i in x if i % 2 != 0 for j in y if j != 1)\n",
    "res = list(mult)\n",
    "print(f'{len(res)=}\\n{res}')"
   ]
  },
  {
   "cell_type": "code",
   "execution_count": null,
   "id": "34dfce43",
   "metadata": {},
   "outputs": [],
   "source": [
    "🔥 Важно! На асимптотическую сложность генератора влияют только\n",
    "количество циклов. Наличие if проверок конечно же замедляет генерацию\n",
    "значений. Но if воспринимается как константа в вычислении асимптотики. 4\n",
    "вложенных цикла без проверок будут иметь асимптотику 4 степени, а 3 цикла с\n",
    "3 проверками — асимптотику 3-й степени. Не стоит злоупотреблять\n",
    "количеством вложенных циклов."
   ]
  },
  {
   "cell_type": "markdown",
   "id": "897e5810",
   "metadata": {},
   "source": [
    "#### Допустимые размеры односточника"
   ]
  },
  {
   "cell_type": "markdown",
   "id": "800af41a",
   "metadata": {},
   "source": [
    "#### List comprehensions"
   ]
  },
  {
   "cell_type": "code",
   "execution_count": 61,
   "id": "09009d8e",
   "metadata": {
    "scrolled": true
   },
   "outputs": [
    {
     "name": "stdout",
     "output_type": "stream",
     "text": [
      "['a', 'b', 'c', 'd', 'e', 'f', 'g', 'h', 'i', 'j', 'k', 'l', 'm', 'n', 'o', 'p', 'q', 'r', 's', 't', 'u', 'v', 'w', 'x', 'y', 'z']\n",
      "a\n",
      "b\n",
      "c\n",
      "d\n",
      "e\n",
      "f\n",
      "g\n",
      "h\n",
      "i\n",
      "j\n",
      "k\n",
      "l\n",
      "m\n",
      "n\n",
      "o\n",
      "p\n",
      "q\n",
      "r\n",
      "s\n",
      "t\n",
      "u\n",
      "v\n",
      "w\n",
      "x\n",
      "y\n",
      "z\n"
     ]
    }
   ],
   "source": [
    "my_listcomp = [chr(i) for i in range(97, 123)]\n",
    "print(my_listcomp) # ['a', 'b', 'c', 'd', ..., z]\n",
    "for char in my_listcomp:\n",
    "    print(char)"
   ]
  },
  {
   "cell_type": "code",
   "execution_count": null,
   "id": "8819b22a",
   "metadata": {},
   "outputs": [],
   "source": [
    "Длинный код:"
   ]
  },
  {
   "cell_type": "code",
   "execution_count": 62,
   "id": "3b4c5154",
   "metadata": {},
   "outputs": [
    {
     "name": "stdout",
     "output_type": "stream",
     "text": [
      "res = [2, 42, 76, 24]\n"
     ]
    }
   ],
   "source": [
    "data = [2, 5, 1, 42, 65, 76, 24, 77]\n",
    "res = []\n",
    "for item in data:\n",
    "    if item % 2 == 0:\n",
    "        res.append(item)\n",
    "print(f'{res = }')"
   ]
  },
  {
   "cell_type": "markdown",
   "id": "fe0a58c8",
   "metadata": {},
   "source": [
    "Аналогичное решение, но с использованием синтаксического сахара listcomp:"
   ]
  },
  {
   "cell_type": "code",
   "execution_count": 63,
   "id": "3df85428",
   "metadata": {
    "scrolled": true
   },
   "outputs": [
    {
     "name": "stdout",
     "output_type": "stream",
     "text": [
      "res = [2, 42, 76, 24]\n"
     ]
    }
   ],
   "source": [
    "data = [2, 5, 1, 42, 65, 76, 24, 77]\n",
    "res = [item for item in data if item % 2 == 0]\n",
    "print(f'{res = }')"
   ]
  },
  {
   "cell_type": "markdown",
   "id": "1d59d69a",
   "metadata": {},
   "source": [
    "    1. Не создаём пустой список в начале.\n",
    "    2. Не пишем двоеточия после цикла и логической проверки.\n",
    "    3. Исключаем метод append.\n",
    "    Итого вместо 4 строк кода получаем одну."
   ]
  },
  {
   "cell_type": "markdown",
   "id": "ede07e13",
   "metadata": {},
   "source": [
    "#### Генераторные выражения или генерация списка ? "
   ]
  },
  {
   "cell_type": "markdown",
   "id": "a1c18487",
   "metadata": {},
   "source": [
    "    На выходе нужен готовый список?    Элементы нужны последовательно?\n",
    "    ✔ list comprehensions              ✔ генераторное выражение\n",
    "    ✔ [квадратные скобки]              ✔ (круглые скобки)\n",
    "\n",
    "\n"
   ]
  },
  {
   "cell_type": "code",
   "execution_count": 64,
   "id": "9284d70e",
   "metadata": {},
   "outputs": [
    {
     "name": "stdout",
     "output_type": "stream",
     "text": [
      "len(x)=7\tlen(y)=6\n",
      "len(res)=25\n",
      "[3, 7, 25, 121, 721, 3, 7, 25, 121, 721, 5, 9, 27, 123, 723, 7, 11, 29, 125, 725, 15, 19, 37, 133, 733]\n"
     ]
    }
   ],
   "source": [
    "x = [1, 1, 2, 3, 5, 8, 13]\n",
    "y = [1, 2, 6, 24, 120, 720]\n",
    "print(f'{len(x)=}\\t{len(y)=}')\n",
    "res = [i + j for i in x if i % 2 != 0 for j in y if j != 1]\n",
    "print(f'{len(res)=}\\n{res}')"
   ]
  },
  {
   "cell_type": "code",
   "execution_count": 65,
   "id": "dbbca2e2",
   "metadata": {
    "scrolled": true
   },
   "outputs": [
    {
     "name": "stdout",
     "output_type": "stream",
     "text": [
      "len(x)=7\tlen(y)=6\n",
      "item = 3\n",
      "item = 7\n",
      "item = 25\n",
      "item = 121\n",
      "item = 721\n",
      "item = 3\n",
      "item = 7\n",
      "item = 25\n",
      "item = 121\n",
      "item = 721\n",
      "item = 5\n",
      "item = 9\n",
      "item = 27\n",
      "item = 123\n",
      "item = 723\n",
      "item = 7\n",
      "item = 11\n",
      "item = 29\n",
      "item = 125\n",
      "item = 725\n",
      "item = 15\n",
      "item = 19\n",
      "item = 37\n",
      "item = 133\n",
      "item = 733\n"
     ]
    }
   ],
   "source": [
    "x = [1, 1, 2, 3, 5, 8, 13]\n",
    "y = [1, 2, 6, 24, 120, 720]\n",
    "print(f'{len(x)=}\\t{len(y)=}')\n",
    "mult = (i + j for i in x if i % 2 != 0 for j in y if j != 1)\n",
    "for item in mult:\n",
    "    print(f'{item = }')"
   ]
  },
  {
   "cell_type": "code",
   "execution_count": null,
   "id": "329ede0b",
   "metadata": {},
   "outputs": [],
   "source": [
    "🔥 Важно! При написании кода заранее решите нужна вам сгенерированная\n",
    "коллекция целиком или нет. Не стоит тратить память на хранение всех\n",
    "элементов, если вы ими не пользуетесь одновременно."
   ]
  },
  {
   "cell_type": "markdown",
   "id": "43e1517a",
   "metadata": {},
   "source": [
    "#### Set comprehensions\n",
    "set_comp = {expression for expr in sequense1 if condition1 …}"
   ]
  },
  {
   "cell_type": "markdown",
   "id": "d2aeb5be",
   "metadata": {},
   "source": [
    "my_setcomp = {chr(i) for i in range(97, 123)}\n",
    "print(my_setcomp) # {'f', 'g', 'b', 'j', 'e',... }\n",
    "for char in my_setcomp:\n",
    "    print(char)"
   ]
  },
  {
   "cell_type": "code",
   "execution_count": null,
   "id": "03af6fa3",
   "metadata": {},
   "outputs": [],
   "source": [
    "Стоит обратить внимание на следующие особенности:\n",
    "● порядок элементов внутри множества может не совпадать с порядком\n",
    "добавления элементов.\n",
    "● множество хранит только уникальные значения"
   ]
  },
  {
   "cell_type": "code",
   "execution_count": null,
   "id": "cc33694f",
   "metadata": {},
   "outputs": [],
   "source": [
    "x = [1, 1, 2, 3, 5, 8, 13]\n",
    "y = [1, 2, 6, 24, 120, 720]\n",
    "print(f'{len(x)=}\\t{len(y)=}')\n",
    "res = {i + j for i in x if i % 2 != 0 for j in y if j != 1}\n",
    "print(f'{len(res)=}\\n{res}')"
   ]
  },
  {
   "cell_type": "markdown",
   "id": "8f5c8347",
   "metadata": {},
   "source": [
    "#### Dict comprehensions\n",
    "    dict_comp = {key: value for expr in sequense1 if condition1 …}\n",
    "    Ещё один вариант синтаксического сахара — генерация словаря."
   ]
  },
  {
   "cell_type": "code",
   "execution_count": null,
   "id": "29d6c43f",
   "metadata": {},
   "outputs": [],
   "source": [
    "my_dictcomp = {i: chr(i) for i in range(97, 123)}\n",
    "print(my_dictcomp) # {97: 'a', 98: 'b', 99: 'c',... }\n",
    "for number, char in my_dictcomp.items():\n",
    "print(f'dict[{number}] = {char}')"
   ]
  },
  {
   "cell_type": "markdown",
   "id": "6962aa1a",
   "metadata": {},
   "source": [
    "##### Сходства и различия\n",
    "    {используются фигурные скобки для выражения}\n",
    "    словарь подставляет ключ и значение через двоеточие"
   ]
  },
  {
   "cell_type": "code",
   "execution_count": null,
   "id": "be2e4c26",
   "metadata": {},
   "outputs": [],
   "source": [
    "🔥 Важно! Стоит помнить, что ключи словаря должны быть объектами\n",
    "неизменяемого типа."
   ]
  },
  {
   "cell_type": "markdown",
   "id": "f2a623ad",
   "metadata": {},
   "source": [
    "#### Задание\n",
    "Перед вами несколько строк кода. Напишите что по вашему мнению выведет print,\n",
    "не запуская код. У вас 3 минуты."
   ]
  },
  {
   "cell_type": "code",
   "execution_count": 70,
   "id": "16fe1fe3",
   "metadata": {},
   "outputs": [
    {
     "name": "stdout",
     "output_type": "stream",
     "text": [
      "{None: 12} <generator object <genexpr> at 0x00000154FA4C5510> [[6], [8], [10], [12]]\n"
     ]
    }
   ],
   "source": [
    "data = {2, 4, 4, 6, 8, 10, 12}\n",
    "res1 = {None: item for item in data if item > 4}\n",
    "res2 = (item for item in data if item > 4)\n",
    "res3 = [[item] for item in data if item > 4]\n",
    "print(res1, res2, res3)"
   ]
  },
  {
   "cell_type": "code",
   "execution_count": 71,
   "id": "ab604208",
   "metadata": {},
   "outputs": [
    {
     "name": "stdout",
     "output_type": "stream",
     "text": [
      "<dict_itemiterator object at 0x00000154FA4C8630>\n",
      "('один', 1)\n",
      "один\n"
     ]
    }
   ],
   "source": [
    "data = {\"один\": 1, \"два\": 2, \"три\": 3}\n",
    "x = iter(data.items())\n",
    "print(x)\n",
    "y = next(x)\n",
    "print(y)\n",
    "z = next(iter(y))\n",
    "print(z)"
   ]
  },
  {
   "cell_type": "markdown",
   "id": "227da04e",
   "metadata": {},
   "source": [
    "### 4. Создание функции генератора"
   ]
  },
  {
   "cell_type": "code",
   "execution_count": 66,
   "id": "7858d344",
   "metadata": {},
   "outputs": [
    {
     "name": "stdout",
     "output_type": "stream",
     "text": [
      "1! = 1\n",
      "2! = 2\n",
      "3! = 6\n",
      "4! = 24\n",
      "5! = 120\n",
      "6! = 720\n",
      "7! = 5040\n",
      "8! = 40320\n",
      "9! = 362880\n",
      "10! = 3628800\n"
     ]
    }
   ],
   "source": [
    "def factorial(n):\n",
    "    number = 1\n",
    "    result = []\n",
    "    for i in range(1, n + 1):\n",
    "        number *= i\n",
    "        result.append(number)\n",
    "    return result\n",
    "\n",
    "for i, num in enumerate(factorial(10), start=1):\n",
    "    print(f'{i}! = {num}')"
   ]
  },
  {
   "cell_type": "markdown",
   "id": "209d5179",
   "metadata": {},
   "source": [
    "#### Команда yield\n",
    "    Команда yield работает аналогично return.\n",
    "    Но вместо завершения функции запоминает её состояние.\n",
    "    Повторный вызов продолжает код после yield."
   ]
  },
  {
   "cell_type": "code",
   "execution_count": 67,
   "id": "e3744726",
   "metadata": {},
   "outputs": [
    {
     "name": "stdout",
     "output_type": "stream",
     "text": [
      "1! = 1\n",
      "2! = 2\n",
      "3! = 6\n",
      "4! = 24\n",
      "5! = 120\n",
      "6! = 720\n",
      "7! = 5040\n",
      "8! = 40320\n",
      "9! = 362880\n",
      "10! = 3628800\n"
     ]
    }
   ],
   "source": [
    "def factorial(n):\n",
    "    number = 1\n",
    "    for i in range(1, n + 1):\n",
    "        number *= i\n",
    "        yield number\n",
    "        \n",
    "for i, num in enumerate(factorial(10), start=1):\n",
    "    print(f'{i}! = {num}')"
   ]
  },
  {
   "cell_type": "markdown",
   "id": "c62a7376",
   "metadata": {},
   "source": [
    "#### Функции iter и next для генераторов"
   ]
  },
  {
   "cell_type": "code",
   "execution_count": 68,
   "id": "7d98025a",
   "metadata": {},
   "outputs": [
    {
     "name": "stdout",
     "output_type": "stream",
     "text": [
      "<generator object factorial at 0x00000154FA4C5040>\n",
      "1\n",
      "2\n",
      "6\n",
      "24\n"
     ]
    },
    {
     "ename": "StopIteration",
     "evalue": "",
     "output_type": "error",
     "traceback": [
      "\u001b[1;31m---------------------------------------------------------------------------\u001b[0m",
      "\u001b[1;31mStopIteration\u001b[0m                             Traceback (most recent call last)",
      "\u001b[1;32m~\\AppData\\Local\\Temp\\ipykernel_22000\\745280814.py\u001b[0m in \u001b[0;36m<module>\u001b[1;34m\u001b[0m\n\u001b[0;32m      5\u001b[0m \u001b[0mprint\u001b[0m\u001b[1;33m(\u001b[0m\u001b[0mnext\u001b[0m\u001b[1;33m(\u001b[0m\u001b[0mmy_iter\u001b[0m\u001b[1;33m)\u001b[0m\u001b[1;33m)\u001b[0m\u001b[1;33m\u001b[0m\u001b[1;33m\u001b[0m\u001b[0m\n\u001b[0;32m      6\u001b[0m \u001b[0mprint\u001b[0m\u001b[1;33m(\u001b[0m\u001b[0mnext\u001b[0m\u001b[1;33m(\u001b[0m\u001b[0mmy_iter\u001b[0m\u001b[1;33m)\u001b[0m\u001b[1;33m)\u001b[0m\u001b[1;33m\u001b[0m\u001b[1;33m\u001b[0m\u001b[0m\n\u001b[1;32m----> 7\u001b[1;33m \u001b[0mprint\u001b[0m\u001b[1;33m(\u001b[0m\u001b[0mnext\u001b[0m\u001b[1;33m(\u001b[0m\u001b[0mmy_iter\u001b[0m\u001b[1;33m)\u001b[0m\u001b[1;33m)\u001b[0m \u001b[1;31m# StopIteration\u001b[0m\u001b[1;33m\u001b[0m\u001b[1;33m\u001b[0m\u001b[0m\n\u001b[0m",
      "\u001b[1;31mStopIteration\u001b[0m: "
     ]
    }
   ],
   "source": [
    "my_iter = iter(factorial(4))\n",
    "print(my_iter)\n",
    "print(next(my_iter))\n",
    "print(next(my_iter))\n",
    "print(next(my_iter))\n",
    "print(next(my_iter))\n",
    "print(next(my_iter)) # StopIteration"
   ]
  },
  {
   "cell_type": "markdown",
   "id": "530e3908",
   "metadata": {},
   "source": [
    "#### Задание\n",
    "Перед вами несколько строк кода. Напишите что по вашему мнению выведет print,\n",
    "не запуская код. У вас 3 минуты."
   ]
  },
  {
   "cell_type": "code",
   "execution_count": 72,
   "id": "4f7dd96b",
   "metadata": {},
   "outputs": [
    {
     "name": "stdout",
     "output_type": "stream",
     "text": [
      "item = '1'\n",
      "item = '2'\n",
      "item = '3'\n",
      "item = '4'\n",
      "item = '5'\n",
      "item = '6'\n",
      "item = '7'\n",
      "item = '8'\n",
      "item = '9'\n",
      "item = '10'\n"
     ]
    }
   ],
   "source": [
    "def gen(a: int, b: int) -> str:\n",
    "    if a > b:\n",
    "        a, b = b, a\n",
    "    for i in range(a, b + 1):\n",
    "        yield str(i)\n",
    "        \n",
    "for item in gen(10, 1):\n",
    "    print(f'{item = }')"
   ]
  }
 ],
 "metadata": {
  "kernelspec": {
   "display_name": "Python 3 (ipykernel)",
   "language": "python",
   "name": "python3"
  },
  "language_info": {
   "codemirror_mode": {
    "name": "ipython",
    "version": 3
   },
   "file_extension": ".py",
   "mimetype": "text/x-python",
   "name": "python",
   "nbconvert_exporter": "python",
   "pygments_lexer": "ipython3",
   "version": "3.9.13"
  }
 },
 "nbformat": 4,
 "nbformat_minor": 5
}
