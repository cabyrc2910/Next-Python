{
 "cells": [
  {
   "cell_type": "markdown",
   "id": "6c11b0d0",
   "metadata": {},
   "source": [
    "    ✔ Решить задачи, которые не успели решить на семинаре."
   ]
  },
  {
   "cell_type": "markdown",
   "id": "5c819111",
   "metadata": {},
   "source": [
    "### Задание №7\n",
    "    ✔ Функция получает на вход словарь с названием компании в качестве ключа и списком с доходами и расходами (3-10 чисел) в качестве значения.\n",
    "    ✔ Вычислите итоговую прибыль или убыток каждой компании. Если все компании прибыльные, верните истину, а если хотя бы одна убыточная — ложь."
   ]
  },
  {
   "cell_type": "code",
   "execution_count": 4,
   "id": "18d5db5e",
   "metadata": {},
   "outputs": [
    {
     "name": "stdout",
     "output_type": "stream",
     "text": [
      "True\n"
     ]
    }
   ],
   "source": [
    "def profitable(my_dict):\n",
    "    for key, value in my_dict.items():\n",
    "        if sum(value) < 0:\n",
    "            return False\n",
    "    return True\n",
    "\n",
    "companies_dict = {\n",
    "    \"Samsung\": [10, 40, 80, 100, 30, 70, 90, -200],\n",
    "    \"Nokia\": [20, 50, -70, 30, 60, 110, -50, -30],\n",
    "    \"Huawei\": [40, 80, 120, 150, -300, 180, -100, 10]\n",
    "}\n",
    "\n",
    "print(profitable(companies_dict))"
   ]
  },
  {
   "cell_type": "markdown",
   "id": "77b667b8",
   "metadata": {},
   "source": [
    "### Задание №8\n",
    "    ✔ Создайте несколько переменных заканчивающихся и не оканчивающихся на «s».\n",
    "    ✔ Напишите функцию, которая при запуске заменяет содержимое переменных оканчивающихся на s (кроме переменной из одной буквы s) на None.\n",
    "    ✔ Значения не удаляются, а помещаются в одноимённые переменные без s на конце."
   ]
  },
  {
   "cell_type": "code",
   "execution_count": 3,
   "id": "eb838390",
   "metadata": {},
   "outputs": [
    {
     "name": "stdout",
     "output_type": "stream",
     "text": [
      "До функции change(): \n",
      "     var1 = 0, var1s = 1\n",
      "     var2 = 0, var2s = 2\n",
      "     var3 = 0, var3s = 3\n",
      "     s = 55\n",
      "После функции change(): \n",
      "     var1 = 1, var1s = None\n",
      "     var2 = 2, var2s = None\n",
      "     var3 = 3, var3s = None\n",
      "     s = 55\n"
     ]
    }
   ],
   "source": [
    "def change(var):\n",
    "    for k, v in var.items():\n",
    "        if not k.startswith(\"__\") and not callable(k) and not callable(v):\n",
    "            if k+\"s\" in var.keys():\n",
    "                globals()[k] = globals()[k+\"s\"]\n",
    "                globals()[k+\"s\"] = None\n",
    "                \n",
    "\n",
    "var1 = 0\n",
    "var2 = 0 \n",
    "var3 = 0\n",
    "var1s = 1\n",
    "var2s = 2\n",
    "var3s= 3\n",
    "s = 55\n",
    "\n",
    "print(f\"До функции change(): \\n \\\n",
    "    var1 = {var1}, var1s = {var1s}\\n \\\n",
    "    var2 = {var2}, var2s = {var2s}\\n \\\n",
    "    var3 = {var3}, var3s = {var3s}\\n \\\n",
    "    s = {s}\")\n",
    "\n",
    "change(globals())\n",
    "\n",
    "print(f\"После функции change(): \\n \\\n",
    "    var1 = {var1}, var1s = {var1s}\\n \\\n",
    "    var2 = {var2}, var2s = {var2s}\\n \\\n",
    "    var3 = {var3}, var3s = {var3s}\\n \\\n",
    "    s = {s}\")"
   ]
  },
  {
   "cell_type": "markdown",
   "id": "d89b5a84",
   "metadata": {},
   "source": [
    "### Задание"
   ]
  },
  {
   "cell_type": "markdown",
   "id": "ee43f643",
   "metadata": {},
   "source": [
    "    ✔ Напишите функцию для транспонирования матрицы"
   ]
  },
  {
   "cell_type": "code",
   "execution_count": 16,
   "id": "4ce35b96",
   "metadata": {},
   "outputs": [
    {
     "name": "stdout",
     "output_type": "stream",
     "text": [
      "[1, 4, 7]\n",
      "[2, 5, 8]\n",
      "[3, 6, 9]\n"
     ]
    }
   ],
   "source": [
    "def matrix_transposition(matrix):\n",
    "    return list(list(i) for i in zip(*matrix))\n",
    "\n",
    "matrix = [\n",
    "    [1, 2, 3],\n",
    "    [4, 5, 6],\n",
    "    [7, 8, 9]\n",
    "]\n",
    "print(*matrix_transposition(MATRIX), sep='\\n')"
   ]
  },
  {
   "cell_type": "markdown",
   "id": "7cd89bae",
   "metadata": {},
   "source": [
    "    ✔ Напишите функцию принимающую на вход только ключевые параметры и возвращающую словарь, где ключ — значение переданного аргумента, а значение — имя аргумента. Если ключ не хешируем, используйте его строковое представление."
   ]
  },
  {
   "cell_type": "code",
   "execution_count": 38,
   "id": "4cf53ab2",
   "metadata": {},
   "outputs": [
    {
     "name": "stdout",
     "output_type": "stream",
     "text": [
      "{123: 'key_1', 'Hello': 'strings', 'Fred': 'name'}\n"
     ]
    }
   ],
   "source": [
    "def dict_revers(**kwargs):\n",
    "   \n",
    "    new_dict = {}\n",
    "    for key, value in kwargs.items():\n",
    "\n",
    "        new_dict[hash(value) if hash(value) == value else str(value)] = key\n",
    "\n",
    "    return new_dict\n",
    "\n",
    "\n",
    "print(key_parameters_to_dictionary(key_1=123, strings=\"Hello\", name = 'Fred'))"
   ]
  },
  {
   "cell_type": "code",
   "execution_count": 1,
   "id": "f0ad805b",
   "metadata": {},
   "outputs": [
    {
     "name": "stdout",
     "output_type": "stream",
     "text": [
      "{'Света': 'name', '40': 'age', 'Москва': 'city'}\n"
     ]
    }
   ],
   "source": [
    "def crate_arg_dict(**kwargs):\n",
    "    arg_dict = {}\n",
    "    for key, value in kwargs.items():\n",
    "        if not isinstance(key, (int, float, str, tuple, frozenset)):\n",
    "            key = str(key)\n",
    "        arg_dict[value] = key\n",
    "    return arg_dict\n",
    "\n",
    "\n",
    "arguments = crate_arg_dict(name = 'Света', age = '40', city = 'Москва')\n",
    "print(arguments)"
   ]
  },
  {
   "cell_type": "markdown",
   "id": "22bd155a",
   "metadata": {},
   "source": [
    "    ✔ Возьмите задачу о банкомате из семинара 2. Разбейте её на отдельные операции — функции. Дополнительно сохраняйте все операции поступления и снятия средств в список."
   ]
  },
  {
   "cell_type": "code",
   "execution_count": 9,
   "id": "13133e57",
   "metadata": {},
   "outputs": [
    {
     "name": "stdout",
     "output_type": "stream",
     "text": [
      "\n",
      "Ваш текущий баланс: $0.00\n",
      "Выберите действие:\n",
      "1. Пополнить счет\n",
      "2. Снять деньги\n",
      "3. Выйти\n",
      "Введите номер действия: 1\n",
      "Введите сумму для пополнения: 22\n",
      "\n",
      "Ваш текущий баланс: $22.00\n",
      "Выберите действие:\n",
      "1. Пополнить счет\n",
      "2. Снять деньги\n",
      "3. Выйти\n",
      "Введите номер действия: 1\n",
      "Введите сумму для пополнения: 45\n",
      "\n",
      "Ваш текущий баланс: $67.00\n",
      "Выберите действие:\n",
      "1. Пополнить счет\n",
      "2. Снять деньги\n",
      "3. Выйти\n",
      "Введите номер действия: 2\n",
      "Введите сумму для снятия: 33\n",
      "\n",
      "Ваш текущий баланс: $29.00\n",
      "Выберите действие:\n",
      "1. Пополнить счет\n",
      "2. Снять деньги\n",
      "3. Выйти\n",
      "Введите номер действия: 3\n",
      "\n",
      "Список операций:\n",
      "Пополнение: +$22.00\n",
      "Пополнение: +$45.00\n",
      "Снятие: -$33.00, комиссия: -$5.00\n",
      "\n",
      "Спасибо за использование банкомата!\n"
     ]
    }
   ],
   "source": [
    "balance = 0\n",
    "transactions = []  # Список операций3\n",
    "\n",
    "def deposit(amount):\n",
    "    global balance\n",
    "    balance += amount\n",
    "    transactions.append(f\"Пополнение: +${amount:.2f}\")\n",
    "\n",
    "def withdraw(amount):\n",
    "    global balance\n",
    "    if amount > balance:\n",
    "        print(\"Ошибка: Недостаточно средств на счете.\")\n",
    "        return\n",
    "    withdrawal_fee = max(5, min(amount * 0.015, 600))\n",
    "    balance -= amount + withdrawal_fee\n",
    "    transactions.append(f\"Снятие: -${amount:.2f}, комиссия: -${withdrawal_fee:.2f}\")\n",
    "\n",
    "def main():\n",
    "    global balance\n",
    "    global transactions\n",
    "\n",
    "    while True:\n",
    "        print(\"\\nВаш текущий баланс: ${:.2f}\".format(balance))\n",
    "        print(\"Выберите действие:\")\n",
    "        print(\"1. Пополнить счет\")\n",
    "        print(\"2. Снять деньги\")\n",
    "        print(\"3. Выйти\")\n",
    "\n",
    "        choice = input(\"Введите номер действия: \")\n",
    "\n",
    "        if choice == '1':\n",
    "            amount = int(input(\"Введите сумму для пополнения: \"))\n",
    "            if amount % 1 == 0:\n",
    "                deposit(amount)\n",
    "            else:\n",
    "                print(\"Сумма должна быть кратна 1.\")\n",
    "\n",
    "        elif choice == '2':\n",
    "            amount = int(input(\"Введите сумму для снятия: \"))\n",
    "            if amount % 1 == 0:\n",
    "                withdraw(amount)\n",
    "            else:\n",
    "                print(\"Сумма должна быть кратна 1.\")\n",
    "\n",
    "        elif choice == '3':\n",
    "            print(\"\\nСписок операций:\")\n",
    "            for operation in transactions:\n",
    "                print(operation)\n",
    "            print(\"\\nСпасибо за использование банкомата!\")\n",
    "            break\n",
    "\n",
    "        else:\n",
    "            print(\"Некорректный выбор. Пожалуйста, выберите 1, 2 или 3.\")\n",
    "\n",
    "if __name__ == \"__main__\":\n",
    "    main()"
   ]
  },
  {
   "cell_type": "code",
   "execution_count": null,
   "id": "9595baf2",
   "metadata": {},
   "outputs": [],
   "source": []
  }
 ],
 "metadata": {
  "kernelspec": {
   "display_name": "Python 3 (ipykernel)",
   "language": "python",
   "name": "python3"
  },
  "language_info": {
   "codemirror_mode": {
    "name": "ipython",
    "version": 3
   },
   "file_extension": ".py",
   "mimetype": "text/x-python",
   "name": "python",
   "nbconvert_exporter": "python",
   "pygments_lexer": "ipython3",
   "version": "3.9.13"
  }
 },
 "nbformat": 4,
 "nbformat_minor": 5
}
