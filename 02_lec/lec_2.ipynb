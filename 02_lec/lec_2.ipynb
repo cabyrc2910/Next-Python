{
 "cells": [
  {
   "cell_type": "code",
   "execution_count": 37,
   "id": "8692d07b",
   "metadata": {},
   "outputs": [],
   "source": [
    "a = 5\n",
    "a = \"hello world\"\n",
    "a = 42.0 * 3.141592 / 2.71828"
   ]
  },
  {
   "cell_type": "code",
   "execution_count": 38,
   "id": "363596d8",
   "metadata": {},
   "outputs": [
    {
     "name": "stdout",
     "output_type": "stream",
     "text": [
      "<class 'int'>\n",
      "<class 'str'>\n",
      "<class 'float'>\n"
     ]
    }
   ],
   "source": [
    "a = 5\n",
    "print(type(a))  ## функцией type() возвращает класс объекта, его тип.\n",
    "a = \"hello world\"\n",
    "print(type(a))\n",
    "a = 42.0 * 3.141592 / 2.71828\n",
    "print(type(a))"
   ]
  },
  {
   "cell_type": "markdown",
   "id": "2b1c5a87",
   "metadata": {},
   "source": [
    "####  Строгая динамическая типизация Python"
   ]
  },
  {
   "cell_type": "markdown",
   "id": "a2f4a681",
   "metadata": {},
   "source": [
    "- Функция type(object) Возвращает класс объекта, его тип\n",
    "- Функция id(object) Возвращает адрес объекта в оперативной памяти\n",
    "- Функция isinstance(object, classinfo) Принимает на вход объект и класс и возвращает истину, если объект является экземпляром прямого или косвенного подкласса\n",
    "- Оператор is Сравнивает пару объектов на идентичность"
   ]
  },
  {
   "cell_type": "code",
   "execution_count": 39,
   "id": "1a64da42",
   "metadata": {},
   "outputs": [
    {
     "name": "stdout",
     "output_type": "stream",
     "text": [
      "<class 'int'> 2761345296816\n",
      "<class 'str'> 2761408124016\n",
      "<class 'float'> 2761408020016\n"
     ]
    }
   ],
   "source": [
    "a = 5\n",
    "print(type(a), id(a))\n",
    "a = \"hello world\"\n",
    "print(type(a), id(a))\n",
    "a = 42.0 * 3.141592 / 2.71828\n",
    "print(type(a), id(a))"
   ]
  },
  {
   "cell_type": "markdown",
   "id": "aee98198",
   "metadata": {},
   "source": [
    "#### Функция isinstance()\n",
    "функция  используется  для проверки типа объекта "
   ]
  },
  {
   "cell_type": "code",
   "execution_count": 40,
   "id": "a01e329d",
   "metadata": {},
   "outputs": [
    {
     "name": "stdout",
     "output_type": "stream",
     "text": [
      "True\n",
      "True\n",
      "True\n"
     ]
    }
   ],
   "source": [
    "# isinstance(object, classinfo)\n",
    "data = 42\n",
    "print(isinstance(data, int))\n",
    "data = True\n",
    "print(isinstance(data, int))\n",
    "data = 3.14\n",
    "print(isinstance(data, (int, float, complex)))"
   ]
  },
  {
   "cell_type": "markdown",
   "id": "74ba3a26",
   "metadata": {},
   "source": [
    "#### Оператор is"
   ]
  },
  {
   "cell_type": "code",
   "execution_count": 41,
   "id": "2414e9ca",
   "metadata": {},
   "outputs": [
    {
     "name": "stdout",
     "output_type": "stream",
     "text": [
      "6 6.0\n",
      "True\n",
      "False\n"
     ]
    }
   ],
   "source": [
    "num = 2 + 2 * 2\n",
    "digit = 36 / 6\n",
    "print(num, digit)  # целое 6 и вещественное 6.0 \n",
    "print(num == digit)\n",
    "print(num is digit)"
   ]
  },
  {
   "cell_type": "markdown",
   "id": "554616ab",
   "metadata": {},
   "source": [
    "#### Изменяемые и неизменяемые типы и их особенности"
   ]
  },
  {
   "cell_type": "raw",
   "id": "fee85dff",
   "metadata": {},
   "source": [
    "Неизменяемы                                Изменяемые\n",
    "None  True  False\n",
    "Числа: int, bool, float, complex\n",
    "Последовательности: str, tuple, bytes      Последовательности: list, bytearray\n",
    "Множества: set                             Множества: frozenset\n",
    "                                           Отображения: dic                               \n",
    "int - целые числа       \n",
    "float - вещественные числа                 list - список,   bytearray - набор байтов \n",
    "bool - логический тип True или False.      frozenset - неизменяемое множество\n",
    "complex - комплексные, числа с мнимой 1    dict - словарь              \n",
    "str - строка,  tuple - кортеж,  bytes -              \n",
    "set - изменяемое множество                               "
   ]
  },
  {
   "cell_type": "code",
   "execution_count": 51,
   "id": "a7c1461f",
   "metadata": {},
   "outputs": [
    {
     "name": "stdout",
     "output_type": "stream",
     "text": [
      "5 2761345296816\n",
      "6 2761345296848\n"
     ]
    }
   ],
   "source": [
    "# ● Замена на новый объект того же типа\n",
    "a = 5\n",
    "print(a, id(a))\n",
    "a += 1\n",
    "print(a, id(a))"
   ]
  },
  {
   "cell_type": "code",
   "execution_count": 58,
   "id": "8d5e747b",
   "metadata": {},
   "outputs": [
    {
     "ename": "SyntaxError",
     "evalue": "EOL while scanning string literal (2717088666.py, line 3)",
     "output_type": "error",
     "traceback": [
      "\u001b[1;36m  File \u001b[1;32m\"C:\\Users\\Иван\\AppData\\Local\\Temp\\ipykernel_19320\\2717088666.py\"\u001b[1;36m, line \u001b[1;32m3\u001b[0m\n\u001b[1;33m    txt = 'Hello world\u001b[0m\n\u001b[1;37m                      ^\u001b[0m\n\u001b[1;31mSyntaxError\u001b[0m\u001b[1;31m:\u001b[0m EOL while scanning string literal\n"
     ]
    }
   ],
   "source": [
    "# ● Второй вариант развития событий при изменении неизменяемого — вызов ошибки. \n",
    "# Строка неизменяема. Попытаемся заменить пробел подчеркиванием.\n",
    "txt = 'Hello world\n",
    "txt[5] = '_'"
   ]
  },
  {
   "cell_type": "code",
   "execution_count": 59,
   "id": "95f5b6a3",
   "metadata": {},
   "outputs": [
    {
     "name": "stdout",
     "output_type": "stream",
     "text": [
      "Hello world! 2761446231088\n",
      "Hello_world! 2761446044336\n"
     ]
    }
   ],
   "source": [
    "# Мы создали новый объект строкового типа, который занимает новое место в памяти.\n",
    "txt = 'Hello world!'\n",
    "print(txt, id(txt))\n",
    "txt = txt.replace(' ', '_')\n",
    "print(txt, id(txt))"
   ]
  },
  {
   "cell_type": "code",
   "execution_count": 60,
   "id": "b02c1e18",
   "metadata": {},
   "outputs": [
    {
     "name": "stdout",
     "output_type": "stream",
     "text": [
      "2 2761345296720 3 2761345296752 2 2761345296720\n",
      "5 2761345296816 3 2761345296752 2 2761345296720\n"
     ]
    }
   ],
   "source": [
    "# все числа в Python относятся к неизменяемым типам данных.\n",
    "# А значит любые математические операции создают новый объект в памяти.\n",
    "a = c = 2\n",
    "b = 3\n",
    "print(a, id(a), b, id(b), c, id(c))\n",
    "a = b + c\n",
    "print(a, id(a), b, id(b), c, id(c))"
   ]
  },
  {
   "cell_type": "markdown",
   "id": "2c186692",
   "metadata": {},
   "source": [
    "#### Хэш hash() как проверка на неизменяемость"
   ]
  },
  {
   "cell_type": "code",
   "execution_count": 61,
   "id": "11c68e98",
   "metadata": {},
   "outputs": [
    {
     "name": "stdout",
     "output_type": "stream",
     "text": [
      "42 -7391797238412663713 326276785803738115\n"
     ]
    },
    {
     "ename": "TypeError",
     "evalue": "unhashable type: 'list'",
     "output_type": "error",
     "traceback": [
      "\u001b[1;31m---------------------------------------------------------------------------\u001b[0m",
      "\u001b[1;31mTypeError\u001b[0m                                 Traceback (most recent call last)",
      "\u001b[1;32m~\\AppData\\Local\\Temp\\ipykernel_19320\\852266381.py\u001b[0m in \u001b[0;36m<module>\u001b[1;34m\u001b[0m\n\u001b[0;32m      4\u001b[0m \u001b[0mprint\u001b[0m\u001b[1;33m(\u001b[0m\u001b[0mhash\u001b[0m\u001b[1;33m(\u001b[0m\u001b[0mx\u001b[0m\u001b[1;33m)\u001b[0m\u001b[1;33m,\u001b[0m \u001b[0mhash\u001b[0m\u001b[1;33m(\u001b[0m\u001b[0my\u001b[0m\u001b[1;33m)\u001b[0m\u001b[1;33m,\u001b[0m \u001b[0mhash\u001b[0m\u001b[1;33m(\u001b[0m\u001b[0mz\u001b[0m\u001b[1;33m)\u001b[0m\u001b[1;33m)\u001b[0m\u001b[1;33m\u001b[0m\u001b[1;33m\u001b[0m\u001b[0m\n\u001b[0;32m      5\u001b[0m \u001b[0mmy_list\u001b[0m \u001b[1;33m=\u001b[0m \u001b[1;33m[\u001b[0m\u001b[0mx\u001b[0m\u001b[1;33m,\u001b[0m \u001b[0my\u001b[0m\u001b[1;33m,\u001b[0m \u001b[0mz\u001b[0m\u001b[1;33m]\u001b[0m\u001b[1;33m\u001b[0m\u001b[1;33m\u001b[0m\u001b[0m\n\u001b[1;32m----> 6\u001b[1;33m \u001b[0mprint\u001b[0m\u001b[1;33m(\u001b[0m\u001b[0mhash\u001b[0m\u001b[1;33m(\u001b[0m\u001b[0mmy_list\u001b[0m\u001b[1;33m)\u001b[0m\u001b[1;33m)\u001b[0m \u001b[1;31m# получим ошибку, т.к. list изменяемый\u001b[0m\u001b[1;33m\u001b[0m\u001b[1;33m\u001b[0m\u001b[0m\n\u001b[0m",
      "\u001b[1;31mTypeError\u001b[0m: unhashable type: 'list'"
     ]
    }
   ],
   "source": [
    "x = 42\n",
    "y = 'text'\n",
    "z = 3.1415\n",
    "print(hash(x), hash(y), hash(z))\n",
    "my_list = [x, y, z]\n",
    "print(hash(my_list)) # получим ошибку, т.к. list изменяемый"
   ]
  },
  {
   "cell_type": "markdown",
   "id": "e81ee473",
   "metadata": {},
   "source": [
    "#### 2. Аннотация типов"
   ]
  },
  {
   "cell_type": "code",
   "execution_count": 5,
   "id": "4ec75a08",
   "metadata": {},
   "outputs": [
    {
     "name": "stdout",
     "output_type": "stream",
     "text": [
      "21.0\n"
     ]
    }
   ],
   "source": [
    "a: float = 42.0\n",
    "b: float = float(input('Введи число: '))\n",
    "a = a / b\n",
    "print(a)"
   ]
  },
  {
   "cell_type": "code",
   "execution_count": 4,
   "id": "15f31ee7",
   "metadata": {},
   "outputs": [
    {
     "name": "stdout",
     "output_type": "stream",
     "text": [
      "8.848\n"
     ]
    }
   ],
   "source": [
    "def my_func(data):\n",
    "    res = sum(data) / len(data)\n",
    "    return res\n",
    "\n",
    "print(my_func([2, 5.5, 15, 8.0, 13.74]))"
   ]
  },
  {
   "cell_type": "code",
   "execution_count": 1,
   "id": "5ea9f386",
   "metadata": {},
   "outputs": [
    {
     "name": "stdout",
     "output_type": "stream",
     "text": [
      "8.848\n"
     ]
    }
   ],
   "source": [
    "def my_func(data: list[int, float]) -> float:\n",
    "    res = sum(data) / len(data)\n",
    "    return res\n",
    "print(my_func([2, 5.5, 15, 8.0, 13.74]))"
   ]
  },
  {
   "cell_type": "code",
   "execution_count": 76,
   "id": "9266ff55",
   "metadata": {},
   "outputs": [
    {
     "ename": "TypeError",
     "evalue": "unsupported operand type(s) for |: 'type' and 'type'",
     "output_type": "error",
     "traceback": [
      "\u001b[1;31m---------------------------------------------------------------------------\u001b[0m",
      "\u001b[1;31mTypeError\u001b[0m                                 Traceback (most recent call last)",
      "\u001b[1;32m~\\AppData\\Local\\Temp\\ipykernel_19320\\670417090.py\u001b[0m in \u001b[0;36m<module>\u001b[1;34m\u001b[0m\n\u001b[1;32m----> 1\u001b[1;33m \u001b[0ma\u001b[0m\u001b[1;33m:\u001b[0m \u001b[0mint\u001b[0m \u001b[1;33m|\u001b[0m \u001b[0mfloat\u001b[0m \u001b[1;33m=\u001b[0m \u001b[1;36m42\u001b[0m\u001b[1;33m\u001b[0m\u001b[1;33m\u001b[0m\u001b[0m\n\u001b[0m\u001b[0;32m      2\u001b[0m \u001b[0mb\u001b[0m\u001b[1;33m:\u001b[0m \u001b[0mfloat\u001b[0m \u001b[1;33m=\u001b[0m \u001b[0mfloat\u001b[0m\u001b[1;33m(\u001b[0m\u001b[0minput\u001b[0m\u001b[1;33m(\u001b[0m\u001b[1;34m'Введи число: '\u001b[0m\u001b[1;33m)\u001b[0m\u001b[1;33m)\u001b[0m\u001b[1;33m\u001b[0m\u001b[1;33m\u001b[0m\u001b[0m\n\u001b[0;32m      3\u001b[0m \u001b[0ma\u001b[0m \u001b[1;33m=\u001b[0m \u001b[0ma\u001b[0m \u001b[1;33m/\u001b[0m \u001b[0mb\u001b[0m\u001b[1;33m\u001b[0m\u001b[1;33m\u001b[0m\u001b[0m\n\u001b[0;32m      4\u001b[0m \u001b[0mprint\u001b[0m\u001b[1;33m(\u001b[0m\u001b[0ma\u001b[0m\u001b[1;33m)\u001b[0m\u001b[1;33m\u001b[0m\u001b[1;33m\u001b[0m\u001b[0m\n",
      "\u001b[1;31mTypeError\u001b[0m: unsupported operand type(s) for |: 'type' and 'type'"
     ]
    }
   ],
   "source": [
    "a: int | float = 42\n",
    "b: float = float(input('Введи число: '))\n",
    "a = a / b\n",
    "print(a)"
   ]
  },
  {
   "cell_type": "markdown",
   "id": "ee31ff37",
   "metadata": {},
   "source": [
    "#### Модуль typing"
   ]
  },
  {
   "cell_type": "markdown",
   "id": "84b6d9c9",
   "metadata": {},
   "source": [
    "-  Примитивы супер специального типа: Annotated, Any, Callable, ClassVar, Final, ForwardRef, Generic, Literal, Optional, Protocol, Tuple, Type, TypeVar, Union\n",
    "-  Абсолютные типы из collections.abc: AbstractSet, ByteString, Container, ContextManager, Hashable, ItemsView, Iterable, Iterator, KeysView, Mapping, MappingView, MutableMapping, MutableSequence, MutableSet, Sequence, Sized, ValuesView, Awaitable, AsyncIterator, AsyncIterable, Coroutine, Collection, AsyncGenerator, AsyncContextManager\n",
    "-  Структурные проверки, протоколы: Reversible, SupportsAbs, SupportsBytes, SupportsComplex, SupportsFloat, SupportsIndex, SupportsInt, SupportsRound\n",
    "-  Коллекция конкретных типов: ChainMap, Counter, Deque, Dict, DefaultDict, List, OrderedDict, Set, FrozenSet, NamedTuple, TypedDict, Generator\n",
    "-  Другие конкретные типы: BinaryIO, IO, Match, Pattern, TextIO\n",
    "-  Одноразовые вещи: AnyStr, cast, final, get_args, get_origin, get_type_hints, NewType, no_type_check, no_type_check_decorator, NoReturn, overload, runtime_checkable, Text, TYPE_CHECKING\n"
   ]
  },
  {
   "cell_type": "code",
   "execution_count": null,
   "id": "c6040580",
   "metadata": {},
   "outputs": [],
   "source": [
    "Атрибуты и методы"
   ]
  },
  {
   "cell_type": "markdown",
   "id": "c51ca88d",
   "metadata": {},
   "source": [
    "- Атрибуты — это переменные, конкретные характеристики объекта, такие как цвет поля или имя пользователя.\n",
    "- Методы — это функции, которые описаны внутри объекта или класса. Они относятся к определенному объекту и позволяют взаимодействовать с ними или другими частями кода."
   ]
  },
  {
   "cell_type": "code",
   "execution_count": 1,
   "id": "7e9546df",
   "metadata": {},
   "outputs": [
    {
     "name": "stdout",
     "output_type": "stream",
     "text": [
      "str(object='') -> str\n",
      "str(bytes_or_buffer[, encoding[, errors]]) -> str\n",
      "\n",
      "Create a new string object from the given object. If encoding or\n",
      "errors is specified, then the object must expose a data buffer\n",
      "that will be decoded using the given encoding and error handler.\n",
      "Otherwise, returns the result of object.__str__() (if defined)\n",
      "or repr(object).\n",
      "encoding defaults to sys.getdefaultencoding().\n",
      "errors defaults to 'strict'.\n",
      "str(object='') -> str\n",
      "str(bytes_or_buffer[, encoding[, errors]]) -> str\n",
      "\n",
      "Create a new string object from the given object. If encoding or\n",
      "errors is specified, then the object must expose a data buffer\n",
      "that will be decoded using the given encoding and error handler.\n",
      "Otherwise, returns the result of object.__str__() (if defined)\n",
      "or repr(object).\n",
      "encoding defaults to sys.getdefaultencoding().\n",
      "errors defaults to 'strict'.\n"
     ]
    }
   ],
   "source": [
    "print(\"Hello world!\".__doc__)\n",
    "print(str.__doc__)"
   ]
  },
  {
   "cell_type": "markdown",
   "id": "980cd02b",
   "metadata": {},
   "source": [
    "##### Методы объекта"
   ]
  },
  {
   "cell_type": "code",
   "execution_count": 2,
   "id": "cc85880f",
   "metadata": {},
   "outputs": [
    {
     "name": "stdout",
     "output_type": "stream",
     "text": [
      "HELLO WORLD!\n",
      "3\n"
     ]
    }
   ],
   "source": [
    "print(\"Hello world!\".upper())\n",
    "print(\"Hello world!\".count('l'))"
   ]
  },
  {
   "cell_type": "markdown",
   "id": "1868edfb",
   "metadata": {},
   "source": [
    "##### Функция dir()\n",
    "Попытается вернуть список допустимых атрибутов для объекта.\n",
    "Если объект не передавать — список имен в текущей локальной области"
   ]
  },
  {
   "cell_type": "code",
   "execution_count": 7,
   "id": "a1f98a55",
   "metadata": {},
   "outputs": [
    {
     "name": "stdout",
     "output_type": "stream",
     "text": [
      "['__add__', '__class__', '__contains__', '__delattr__', '__dir__', '__doc__', '__eq__', '__format__', '__ge__', '__getattribute__', '__getitem__', '__getnewargs__', '__gt__', '__hash__', '__init__', '__init_subclass__', '__iter__', '__le__', '__len__', '__lt__', '__mod__', '__mul__', '__ne__', '__new__', '__reduce__', '__reduce_ex__', '__repr__', '__rmod__', '__rmul__', '__setattr__', '__sizeof__', '__str__', '__subclasshook__', 'capitalize', 'casefold', 'center', 'count', 'encode', 'endswith', 'expandtabs', 'find', 'format', 'format_map', 'index', 'isalnum', 'isalpha', 'isascii', 'isdecimal', 'isdigit', 'isidentifier', 'islower', 'isnumeric', 'isprintable', 'isspace', 'istitle', 'isupper', 'join', 'ljust', 'lower', 'lstrip', 'maketrans', 'partition', 'removeprefix', 'removesuffix', 'replace', 'rfind', 'rindex', 'rjust', 'rpartition', 'rsplit', 'rstrip', 'split', 'splitlines', 'startswith', 'strip', 'swapcase', 'title', 'translate', 'upper', 'zfill']\n"
     ]
    }
   ],
   "source": [
    "print(dir(\"Hello world!\"))"
   ]
  },
  {
   "cell_type": "markdown",
   "id": "d86f876e",
   "metadata": {},
   "source": [
    "##### Функция help()"
   ]
  },
  {
   "cell_type": "code",
   "execution_count": 8,
   "id": "4de79970",
   "metadata": {},
   "outputs": [
    {
     "name": "stdout",
     "output_type": "stream",
     "text": [
      "No Python documentation found for 'Hello world!'.\n",
      "Use help() to get the interactive help utility.\n",
      "Use help(str) for help on the str class.\n",
      "\n"
     ]
    }
   ],
   "source": [
    "help(\"Hello world!\")"
   ]
  },
  {
   "cell_type": "markdown",
   "id": "1b9b8056",
   "metadata": {},
   "source": [
    "1. Функция help() без аргументов запускает интерактивный режим. В нём\n",
    "можно указывать имена зарезервированных слов, встроенных функций,\n",
    "модулей и получать справочную информацию."
   ]
  },
  {
   "cell_type": "code",
   "execution_count": null,
   "id": "d4a9cdd3",
   "metadata": {
    "collapsed": true
   },
   "outputs": [
    {
     "name": "stdout",
     "output_type": "stream",
     "text": [
      "\n",
      "Welcome to Python 3.9's help utility!\n",
      "\n",
      "If this is your first time using Python, you should definitely check out\n",
      "the tutorial on the Internet at https://docs.python.org/3.9/tutorial/.\n",
      "\n",
      "Enter the name of any module, keyword, or topic to get help on writing\n",
      "Python programs and using Python modules.  To quit this help utility and\n",
      "return to the interpreter, just type \"quit\".\n",
      "\n",
      "To get a list of available modules, keywords, symbols, or topics, type\n",
      "\"modules\", \"keywords\", \"symbols\", or \"topics\".  Each module also comes\n",
      "with a one-line summary of what it does; to list the modules whose name\n",
      "or summary contain a given string such as \"spam\", type \"modules spam\".\n",
      "\n",
      "help> str\n",
      "Help on class str in module builtins:\n",
      "\n",
      "class str(object)\n",
      " |  str(object='') -> str\n",
      " |  str(bytes_or_buffer[, encoding[, errors]]) -> str\n",
      " |  \n",
      " |  Create a new string object from the given object. If encoding or\n",
      " |  errors is specified, then the object must expose a data buffer\n",
      " |  that will be decoded using the given encoding and error handler.\n",
      " |  Otherwise, returns the result of object.__str__() (if defined)\n",
      " |  or repr(object).\n",
      " |  encoding defaults to sys.getdefaultencoding().\n",
      " |  errors defaults to 'strict'.\n",
      " |  \n",
      " |  Methods defined here:\n",
      " |  \n",
      " |  __add__(self, value, /)\n",
      " |      Return self+value.\n",
      " |  \n",
      " |  __contains__(self, key, /)\n",
      " |      Return key in self.\n",
      " |  \n",
      " |  __eq__(self, value, /)\n",
      " |      Return self==value.\n",
      " |  \n",
      " |  __format__(self, format_spec, /)\n",
      " |      Return a formatted version of the string as described by format_spec.\n",
      " |  \n",
      " |  __ge__(self, value, /)\n",
      " |      Return self>=value.\n",
      " |  \n",
      " |  __getattribute__(self, name, /)\n",
      " |      Return getattr(self, name).\n",
      " |  \n",
      " |  __getitem__(self, key, /)\n",
      " |      Return self[key].\n",
      " |  \n",
      " |  __getnewargs__(...)\n",
      " |  \n",
      " |  __gt__(self, value, /)\n",
      " |      Return self>value.\n",
      " |  \n",
      " |  __hash__(self, /)\n",
      " |      Return hash(self).\n",
      " |  \n",
      " |  __iter__(self, /)\n",
      " |      Implement iter(self).\n",
      " |  \n",
      " |  __le__(self, value, /)\n",
      " |      Return self<=value.\n",
      " |  \n",
      " |  __len__(self, /)\n",
      " |      Return len(self).\n",
      " |  \n",
      " |  __lt__(self, value, /)\n",
      " |      Return self<value.\n",
      " |  \n",
      " |  __mod__(self, value, /)\n",
      " |      Return self%value.\n",
      " |  \n",
      " |  __mul__(self, value, /)\n",
      " |      Return self*value.\n",
      " |  \n",
      " |  __ne__(self, value, /)\n",
      " |      Return self!=value.\n",
      " |  \n",
      " |  __repr__(self, /)\n",
      " |      Return repr(self).\n",
      " |  \n",
      " |  __rmod__(self, value, /)\n",
      " |      Return value%self.\n",
      " |  \n",
      " |  __rmul__(self, value, /)\n",
      " |      Return value*self.\n",
      " |  \n",
      " |  __sizeof__(self, /)\n",
      " |      Return the size of the string in memory, in bytes.\n",
      " |  \n",
      " |  __str__(self, /)\n",
      " |      Return str(self).\n",
      " |  \n",
      " |  capitalize(self, /)\n",
      " |      Return a capitalized version of the string.\n",
      " |      \n",
      " |      More specifically, make the first character have upper case and the rest lower\n",
      " |      case.\n",
      " |  \n",
      " |  casefold(self, /)\n",
      " |      Return a version of the string suitable for caseless comparisons.\n",
      " |  \n",
      " |  center(self, width, fillchar=' ', /)\n",
      " |      Return a centered string of length width.\n",
      " |      \n",
      " |      Padding is done using the specified fill character (default is a space).\n",
      " |  \n",
      " |  count(...)\n",
      " |      S.count(sub[, start[, end]]) -> int\n",
      " |      \n",
      " |      Return the number of non-overlapping occurrences of substring sub in\n",
      " |      string S[start:end].  Optional arguments start and end are\n",
      " |      interpreted as in slice notation.\n",
      " |  \n",
      " |  encode(self, /, encoding='utf-8', errors='strict')\n",
      " |      Encode the string using the codec registered for encoding.\n",
      " |      \n",
      " |      encoding\n",
      " |        The encoding in which to encode the string.\n",
      " |      errors\n",
      " |        The error handling scheme to use for encoding errors.\n",
      " |        The default is 'strict' meaning that encoding errors raise a\n",
      " |        UnicodeEncodeError.  Other possible values are 'ignore', 'replace' and\n",
      " |        'xmlcharrefreplace' as well as any other name registered with\n",
      " |        codecs.register_error that can handle UnicodeEncodeErrors.\n",
      " |  \n",
      " |  endswith(...)\n",
      " |      S.endswith(suffix[, start[, end]]) -> bool\n",
      " |      \n",
      " |      Return True if S ends with the specified suffix, False otherwise.\n",
      " |      With optional start, test S beginning at that position.\n",
      " |      With optional end, stop comparing S at that position.\n",
      " |      suffix can also be a tuple of strings to try.\n",
      " |  \n",
      " |  expandtabs(self, /, tabsize=8)\n",
      " |      Return a copy where all tab characters are expanded using spaces.\n",
      " |      \n",
      " |      If tabsize is not given, a tab size of 8 characters is assumed.\n",
      " |  \n",
      " |  find(...)\n",
      " |      S.find(sub[, start[, end]]) -> int\n",
      " |      \n",
      " |      Return the lowest index in S where substring sub is found,\n",
      " |      such that sub is contained within S[start:end].  Optional\n",
      " |      arguments start and end are interpreted as in slice notation.\n",
      " |      \n",
      " |      Return -1 on failure.\n",
      " |  \n",
      " |  format(...)\n",
      " |      S.format(*args, **kwargs) -> str\n",
      " |      \n",
      " |      Return a formatted version of S, using substitutions from args and kwargs.\n",
      " |      The substitutions are identified by braces ('{' and '}').\n",
      " |  \n",
      " |  format_map(...)\n",
      " |      S.format_map(mapping) -> str\n",
      " |      \n",
      " |      Return a formatted version of S, using substitutions from mapping.\n",
      " |      The substitutions are identified by braces ('{' and '}').\n",
      " |  \n",
      " |  index(...)\n",
      " |      S.index(sub[, start[, end]]) -> int\n",
      " |      \n",
      " |      Return the lowest index in S where substring sub is found,\n",
      " |      such that sub is contained within S[start:end].  Optional\n",
      " |      arguments start and end are interpreted as in slice notation.\n",
      " |      \n",
      " |      Raises ValueError when the substring is not found.\n",
      " |  \n",
      " |  isalnum(self, /)\n",
      " |      Return True if the string is an alpha-numeric string, False otherwise.\n",
      " |      \n",
      " |      A string is alpha-numeric if all characters in the string are alpha-numeric and\n",
      " |      there is at least one character in the string.\n",
      " |  \n",
      " |  isalpha(self, /)\n",
      " |      Return True if the string is an alphabetic string, False otherwise.\n",
      " |      \n",
      " |      A string is alphabetic if all characters in the string are alphabetic and there\n",
      " |      is at least one character in the string.\n",
      " |  \n",
      " |  isascii(self, /)\n",
      " |      Return True if all characters in the string are ASCII, False otherwise.\n",
      " |      \n",
      " |      ASCII characters have code points in the range U+0000-U+007F.\n",
      " |      Empty string is ASCII too.\n",
      " |  \n",
      " |  isdecimal(self, /)\n",
      " |      Return True if the string is a decimal string, False otherwise.\n",
      " |      \n",
      " |      A string is a decimal string if all characters in the string are decimal and\n",
      " |      there is at least one character in the string.\n",
      " |  \n",
      " |  isdigit(self, /)\n",
      " |      Return True if the string is a digit string, False otherwise.\n",
      " |      \n",
      " |      A string is a digit string if all characters in the string are digits and there\n",
      " |      is at least one character in the string.\n",
      " |  \n",
      " |  isidentifier(self, /)\n",
      " |      Return True if the string is a valid Python identifier, False otherwise.\n",
      " |      \n",
      " |      Call keyword.iskeyword(s) to test whether string s is a reserved identifier,\n",
      " |      such as \"def\" or \"class\".\n",
      " |  \n",
      " |  islower(self, /)\n",
      " |      Return True if the string is a lowercase string, False otherwise.\n",
      " |      \n",
      " |      A string is lowercase if all cased characters in the string are lowercase and\n",
      " |      there is at least one cased character in the string.\n",
      " |  \n",
      " |  isnumeric(self, /)\n",
      " |      Return True if the string is a numeric string, False otherwise.\n",
      " |      \n",
      " |      A string is numeric if all characters in the string are numeric and there is at\n",
      " |      least one character in the string.\n",
      " |  \n",
      " |  isprintable(self, /)\n",
      " |      Return True if the string is printable, False otherwise.\n",
      " |      \n",
      " |      A string is printable if all of its characters are considered printable in\n",
      " |      repr() or if it is empty.\n",
      " |  \n",
      " |  isspace(self, /)\n",
      " |      Return True if the string is a whitespace string, False otherwise.\n",
      " |      \n",
      " |      A string is whitespace if all characters in the string are whitespace and there\n",
      " |      is at least one character in the string.\n",
      " |  \n",
      " |  istitle(self, /)\n",
      " |      Return True if the string is a title-cased string, False otherwise.\n",
      " |      \n",
      " |      In a title-cased string, upper- and title-case characters may only\n",
      " |      follow uncased characters and lowercase characters only cased ones.\n",
      " |  \n",
      " |  isupper(self, /)\n",
      " |      Return True if the string is an uppercase string, False otherwise.\n",
      " |      \n",
      " |      A string is uppercase if all cased characters in the string are uppercase and\n",
      " |      there is at least one cased character in the string.\n",
      " |  \n",
      " |  join(self, iterable, /)\n",
      " |      Concatenate any number of strings.\n",
      " |      \n",
      " |      The string whose method is called is inserted in between each given string.\n",
      " |      The result is returned as a new string.\n",
      " |      \n",
      " |      Example: '.'.join(['ab', 'pq', 'rs']) -> 'ab.pq.rs'\n",
      " |  \n",
      " |  ljust(self, width, fillchar=' ', /)\n",
      " |      Return a left-justified string of length width.\n",
      " |      \n",
      " |      Padding is done using the specified fill character (default is a space).\n",
      " |  \n",
      " |  lower(self, /)\n",
      " |      Return a copy of the string converted to lowercase.\n",
      " |  \n",
      " |  lstrip(self, chars=None, /)\n",
      " |      Return a copy of the string with leading whitespace removed.\n",
      " |      \n",
      " |      If chars is given and not None, remove characters in chars instead.\n",
      " |  \n",
      " |  partition(self, sep, /)\n",
      " |      Partition the string into three parts using the given separator.\n",
      " |      \n",
      " |      This will search for the separator in the string.  If the separator is found,\n",
      " |      returns a 3-tuple containing the part before the separator, the separator\n",
      " |      itself, and the part after it.\n",
      " |      \n",
      " |      If the separator is not found, returns a 3-tuple containing the original string\n",
      " |      and two empty strings.\n",
      " |  \n",
      " |  removeprefix(self, prefix, /)\n",
      " |      Return a str with the given prefix string removed if present.\n",
      " |      \n",
      " |      If the string starts with the prefix string, return string[len(prefix):].\n",
      " |      Otherwise, return a copy of the original string.\n",
      " |  \n",
      " |  removesuffix(self, suffix, /)\n",
      " |      Return a str with the given suffix string removed if present.\n",
      " |      \n",
      " |      If the string ends with the suffix string and that suffix is not empty,\n",
      " |      return string[:-len(suffix)]. Otherwise, return a copy of the original\n",
      " |      string.\n",
      " |  \n",
      " |  replace(self, old, new, count=-1, /)\n",
      " |      Return a copy with all occurrences of substring old replaced by new.\n",
      " |      \n",
      " |        count\n",
      " |          Maximum number of occurrences to replace.\n",
      " |          -1 (the default value) means replace all occurrences.\n",
      " |      \n",
      " |      If the optional argument count is given, only the first count occurrences are\n",
      " |      replaced.\n",
      " |  \n",
      " |  rfind(...)\n",
      " |      S.rfind(sub[, start[, end]]) -> int\n",
      " |      \n",
      " |      Return the highest index in S where substring sub is found,\n",
      " |      such that sub is contained within S[start:end].  Optional\n",
      " |      arguments start and end are interpreted as in slice notation.\n",
      " |      \n",
      " |      Return -1 on failure.\n",
      " |  \n",
      " |  rindex(...)\n",
      " |      S.rindex(sub[, start[, end]]) -> int\n",
      " |      \n",
      " |      Return the highest index in S where substring sub is found,\n",
      " |      such that sub is contained within S[start:end].  Optional\n",
      " |      arguments start and end are interpreted as in slice notation.\n",
      " |      \n",
      " |      Raises ValueError when the substring is not found.\n",
      " |  \n",
      " |  rjust(self, width, fillchar=' ', /)\n",
      " |      Return a right-justified string of length width.\n",
      " |      \n",
      " |      Padding is done using the specified fill character (default is a space).\n",
      " |  \n",
      " |  rpartition(self, sep, /)\n",
      " |      Partition the string into three parts using the given separator.\n",
      " |      \n",
      " |      This will search for the separator in the string, starting at the end. If\n",
      " |      the separator is found, returns a 3-tuple containing the part before the\n",
      " |      separator, the separator itself, and the part after it.\n",
      " |      \n",
      " |      If the separator is not found, returns a 3-tuple containing two empty strings\n",
      " |      and the original string.\n",
      " |  \n",
      " |  rsplit(self, /, sep=None, maxsplit=-1)\n",
      " |      Return a list of the words in the string, using sep as the delimiter string.\n",
      " |      \n",
      " |        sep\n",
      " |          The delimiter according which to split the string.\n",
      " |          None (the default value) means split according to any whitespace,\n",
      " |          and discard empty strings from the result.\n",
      " |        maxsplit\n",
      " |          Maximum number of splits to do.\n",
      " |          -1 (the default value) means no limit.\n",
      " |      \n",
      " |      Splits are done starting at the end of the string and working to the front.\n",
      " |  \n",
      " |  rstrip(self, chars=None, /)\n",
      " |      Return a copy of the string with trailing whitespace removed.\n",
      " |      \n",
      " |      If chars is given and not None, remove characters in chars instead.\n",
      " |  \n",
      " |  split(self, /, sep=None, maxsplit=-1)\n",
      " |      Return a list of the words in the string, using sep as the delimiter string.\n",
      " |      \n",
      " |      sep\n",
      " |        The delimiter according which to split the string.\n",
      " |        None (the default value) means split according to any whitespace,\n",
      " |        and discard empty strings from the result.\n",
      " |      maxsplit\n",
      " |        Maximum number of splits to do.\n",
      " |        -1 (the default value) means no limit.\n",
      " |  \n",
      " |  splitlines(self, /, keepends=False)\n",
      " |      Return a list of the lines in the string, breaking at line boundaries.\n",
      " |      \n",
      " |      Line breaks are not included in the resulting list unless keepends is given and\n",
      " |      true.\n",
      " |  \n",
      " |  startswith(...)\n",
      " |      S.startswith(prefix[, start[, end]]) -> bool\n",
      " |      \n",
      " |      Return True if S starts with the specified prefix, False otherwise.\n",
      " |      With optional start, test S beginning at that position.\n",
      " |      With optional end, stop comparing S at that position.\n",
      " |      prefix can also be a tuple of strings to try.\n",
      " |  \n",
      " |  strip(self, chars=None, /)\n",
      " |      Return a copy of the string with leading and trailing whitespace removed.\n",
      " |      \n",
      " |      If chars is given and not None, remove characters in chars instead.\n",
      " |  \n",
      " |  swapcase(self, /)\n",
      " |      Convert uppercase characters to lowercase and lowercase characters to uppercase.\n",
      " |  \n",
      " |  title(self, /)\n",
      " |      Return a version of the string where each word is titlecased.\n",
      " |      \n",
      " |      More specifically, words start with uppercased characters and all remaining\n",
      " |      cased characters have lower case.\n",
      " |  \n",
      " |  translate(self, table, /)\n",
      " |      Replace each character in the string using the given translation table.\n",
      " |      \n",
      " |        table\n",
      " |          Translation table, which must be a mapping of Unicode ordinals to\n",
      " |          Unicode ordinals, strings, or None.\n",
      " |      \n",
      " |      The table must implement lookup/indexing via __getitem__, for instance a\n",
      " |      dictionary or list.  If this operation raises LookupError, the character is\n",
      " |      left untouched.  Characters mapped to None are deleted.\n",
      " |  \n",
      " |  upper(self, /)\n",
      " |      Return a copy of the string converted to uppercase.\n",
      " |  \n",
      " |  zfill(self, width, /)\n",
      " |      Pad a numeric string with zeros on the left, to fill a field of the given width.\n",
      " |      \n",
      " |      The string is never truncated.\n",
      " |  \n",
      " |  ----------------------------------------------------------------------\n",
      " |  Static methods defined here:\n",
      " |  \n",
      " |  __new__(*args, **kwargs) from builtins.type\n",
      " |      Create and return a new object.  See help(type) for accurate signature.\n",
      " |  \n",
      " |  maketrans(...)\n",
      " |      Return a translation table usable for str.translate().\n",
      " |      \n",
      " |      If there is only one argument, it must be a dictionary mapping Unicode\n",
      " |      ordinals (integers) or characters to Unicode ordinals, strings or None.\n",
      " |      Character keys will be then converted to ordinals.\n",
      " |      If there are two arguments, they must be strings of equal length, and\n",
      " |      in the resulting dictionary, each character in x will be mapped to the\n",
      " |      character at the same position in y. If there is a third argument, it\n",
      " |      must be a string, whose characters will be mapped to None in the result.\n",
      "\n"
     ]
    },
    {
     "name": "stdout",
     "output_type": "stream",
     "text": [
      "help> keywords\n",
      "\n",
      "Here is a list of the Python keywords.  Enter any keyword to get more help.\n",
      "\n",
      "False               break               for                 not\n",
      "None                class               from                or\n",
      "True                continue            global              pass\n",
      "__peg_parser__      def                 if                  raise\n",
      "and                 del                 import              return\n",
      "as                  elif                in                  try\n",
      "assert              else                is                  while\n",
      "async               except              lambda              with\n",
      "await               finally             nonlocal            yield\n",
      "\n"
     ]
    }
   ],
   "source": [
    "help()"
   ]
  },
  {
   "cell_type": "markdown",
   "id": "ba93c4b2",
   "metadata": {},
   "source": [
    "2. Если передать в функцию имя класса, получим подробное описание его\n",
    "работы."
   ]
  },
  {
   "cell_type": "code",
   "execution_count": null,
   "id": "0e66f5e0",
   "metadata": {},
   "outputs": [],
   "source": [
    "help(str)"
   ]
  },
  {
   "cell_type": "markdown",
   "id": "d1bc7918",
   "metadata": {},
   "source": [
    "#### 4. Простые объекты"
   ]
  },
  {
   "cell_type": "markdown",
   "id": "cc50d892",
   "metadata": {},
   "source": [
    "##### Целые числа, функция int()"
   ]
  },
  {
   "cell_type": "markdown",
   "id": "09bc74a4",
   "metadata": {},
   "source": [
    "- int(x, base=10) — возвращает целочисленный объект, созданный из числа или строки x , или возвращает значение 0, если аргументы не заданы. base — основание системы счисления, от 2 до 36."
   ]
  },
  {
   "cell_type": "code",
   "execution_count": 8,
   "id": "ee9902e9",
   "metadata": {},
   "outputs": [
    {
     "name": "stdout",
     "output_type": "stream",
     "text": [
      "42\n",
      "3\n",
      "14167554\n"
     ]
    }
   ],
   "source": [
    "x = int(\"42\")\n",
    "y = int(3.1415)\n",
    "z = int(\"hello\", base=30)\n",
    "print(x, y, z, sep='\\n')"
   ]
  },
  {
   "cell_type": "code",
   "execution_count": 10,
   "id": "71fdbba7",
   "metadata": {},
   "outputs": [
    {
     "name": "stdout",
     "output_type": "stream",
     "text": [
      "28 1\n",
      "28 65536\n",
      "32 4294967296\n",
      "32 281474976710656\n",
      "36 18446744073709551616\n",
      "36 1208925819614629174706176\n",
      "40 79228162514264337593543950336\n",
      "40 5192296858534827628530496329220096\n",
      "44 340282366920938463463374607431768211456\n",
      "44 22300745198530623141535718272648361505980416\n",
      "48 1461501637330902918203684832716283019655932542976\n",
      "48 95780971304118053647396689196894323976171195136475136\n",
      "52 6277101735386680763835789423207666416102355444464034512896\n",
      "52 411376139330301510538742295639337626245683966408394965837152256\n",
      "56 26959946667150639794667015087019630673637144422540572481103610249216\n",
      "60 1766847064778384329583297500742918515827483896875618958121606201292619776\n",
      "60 115792089237316195423570985008687907853269984665640564039457584007913129639936\n",
      "64 7588550360256754183279148073529370729071901715047420004889892225542594864082845696\n",
      "64 497323236409786642155382248146820840100456150797347717440463976893159497012533375533056\n",
      "68 32592575621351777380295131014550050576823494298654980010178247189670100796213387298934358016\n",
      "68 2135987035920910082395021706169552114602704522356652769947041607822219725780640550022962086936576\n",
      "72 139984046386112763159840142535527767382602843577165595931249318810236991948760059086304843329475444736\n",
      "72 9173994463960286046443283581208347763186259956673124494950355357547691504353939232280074212440502746218496\n",
      "76 601226901190101306339707032778070279008174732520529886901066488712245510429339761526706943586500787976175353856\n",
      "76 39402006196394479212279040100143613805079739270465446667948293404245721771497210611414266254884915640806627990306816\n",
      "80 2582249878086908589655919172003011874329705792829223512830659356540647622016841194629645353280137831435903171972747493376\n",
      "80 169230328010303641331690318856389386196071598838855992136870091590247882556495704531248437872567112920983350278405979725889536\n",
      "84 11090678776483259438313656736572334813745748301503266300681918322458485231222502492159897624416558312389564843845614287315896631296\n",
      "84 726838724295606890549323807888004534353641360687318060281490199180639288113397923326191050713763565560762521606266177933534601628614656\n",
      "88 47634102635436893179040485073748265163400240214004076398607741693502376385799646303105256699577209032590132615988260237052123652332890095616\n"
     ]
    }
   ],
   "source": [
    "import sys\n",
    "\n",
    "STEP = 2 ** 16\n",
    "num = 1\n",
    "for _ in range(30):\n",
    "    print(sys.getsizeof(num), num)         # функция getsizeof возвращает размер обьекта в байтах\n",
    "    num *= STEP"
   ]
  },
  {
   "cell_type": "code",
   "execution_count": 11,
   "id": "aaca9fc3",
   "metadata": {},
   "outputs": [
    {
     "name": "stdout",
     "output_type": "stream",
     "text": [
      "72\n"
     ]
    }
   ],
   "source": [
    "print(sys.getsizeof(10 ** 100))"
   ]
  },
  {
   "cell_type": "markdown",
   "id": "4698cdfb",
   "metadata": {},
   "source": [
    "##### Формат представления числа. Снова о \"_\"."
   ]
  },
  {
   "cell_type": "code",
   "execution_count": 14,
   "id": "573d51aa",
   "metadata": {},
   "outputs": [
    {
     "name": "stdout",
     "output_type": "stream",
     "text": [
      "7901123456789\n"
     ]
    }
   ],
   "source": [
    "num = 7_901_123_456_789\n",
    "print(num)"
   ]
  },
  {
   "cell_type": "markdown",
   "id": "127faa42",
   "metadata": {},
   "source": [
    "##### Функции bin(), oct(), hex()"
   ]
  },
  {
   "cell_type": "markdown",
   "id": "c7436847",
   "metadata": {},
   "source": [
    "- bin(x) — преобразует целое число в двоичную строку с префиксом «0b».\n",
    "- oct(x) — преобразует целое число в восьмеричную строку с префиксом «0o».\n",
    "- hex(x)— преобразует целое число в строчную шестнадцатеричную строку с префиксом «0x»."
   ]
  },
  {
   "cell_type": "code",
   "execution_count": 15,
   "id": "9edacbf3",
   "metadata": {},
   "outputs": [
    {
     "name": "stdout",
     "output_type": "stream",
     "text": [
      "0b1111111111111111 0o177777 0xffff\n"
     ]
    }
   ],
   "source": [
    "num = 2 ** 16 - 1\n",
    "b = bin(num)\n",
    "o = oct(num)\n",
    "h = hex(num)\n",
    "print(b, o, h)"
   ]
  },
  {
   "cell_type": "markdown",
   "id": "7408836a",
   "metadata": {},
   "source": [
    "##### Вещественные числа, функция float()"
   ]
  },
  {
   "cell_type": "markdown",
   "id": "cbc7c277",
   "metadata": {},
   "source": [
    "float(x) — возвращает число с плавающей запятой, составленное из числа или строки x."
   ]
  },
  {
   "cell_type": "code",
   "execution_count": 16,
   "id": "ac11701c",
   "metadata": {},
   "outputs": [
    {
     "name": "stdout",
     "output_type": "stream",
     "text": [
      "0.30000000000000004\n"
     ]
    }
   ],
   "source": [
    "print(0.1 + 0.2)"
   ]
  },
  {
   "cell_type": "code",
   "execution_count": 17,
   "id": "768ef45a",
   "metadata": {},
   "outputs": [
    {
     "name": "stdout",
     "output_type": "stream",
     "text": [
      "3.141592653589793\n"
     ]
    }
   ],
   "source": [
    "pi = 3.141_592_653_589_793_238_462_643_383_279_502_884_197_169_399_375\n",
    "print(pi)"
   ]
  },
  {
   "cell_type": "markdown",
   "id": "32c9bd39",
   "metadata": {},
   "source": [
    "##### Логические типы, функция bool()"
   ]
  },
  {
   "cell_type": "code",
   "execution_count": 21,
   "id": "d5e8db88",
   "metadata": {},
   "outputs": [],
   "source": [
    "DEFAULT = 42\n",
    "num = int(input('Введите уровень или ноль для значения поумолчанию: '))\n",
    "level = num or DEFAULT\n",
    "print(level)"
   ]
  },
  {
   "cell_type": "code",
   "execution_count": 4,
   "id": "1eb8fbe7",
   "metadata": {},
   "outputs": [
    {
     "name": "stdout",
     "output_type": "stream",
     "text": [
      "Как вас зовут? Alex\n",
      "Привет, Alex\n"
     ]
    }
   ],
   "source": [
    "name = input('Как вас зовут? ')\n",
    "if name:\n",
    "    print('Привет, ' + name)\n",
    "else:\n",
    "    print('Анонимус, приветствую')"
   ]
  },
  {
   "cell_type": "code",
   "execution_count": 6,
   "id": "bb88829e",
   "metadata": {},
   "outputs": [
    {
     "name": "stdout",
     "output_type": "stream",
     "text": [
      "21\n",
      "13\n",
      "8\n",
      "5\n",
      "3\n",
      "2\n",
      "1\n",
      "1\n",
      "0\n"
     ]
    }
   ],
   "source": [
    "data = [0, 1, 1, 2, 3, 5, 8, 13, 21]\n",
    "while data:\n",
    "    print(data.pop())        #  метод pop который возвращает последний элемент однавременно удаляя его из коллекции"
   ]
  },
  {
   "cell_type": "markdown",
   "id": "ce4bc357",
   "metadata": {},
   "source": [
    "##### Строки, функция str()"
   ]
  },
  {
   "cell_type": "markdown",
   "id": "04ffadce",
   "metadata": {},
   "source": [
    "##### Способы записи строк"
   ]
  },
  {
   "cell_type": "markdown",
   "id": "c4888746",
   "metadata": {},
   "source": [
    "object.__sizeof__() — метод возвращает размер объекта в байтах"
   ]
  },
  {
   "cell_type": "markdown",
   "id": "b25168b0",
   "metadata": {},
   "source": [
    "##### Три вида кавычек"
   ]
  },
  {
   "cell_type": "code",
   "execution_count": 27,
   "id": "d9cb7776",
   "metadata": {},
   "outputs": [
    {
     "name": "stdout",
     "output_type": "stream",
     "text": [
      "Книга называется \"Война и мир\".\n"
     ]
    }
   ],
   "source": [
    "txt = 'Книга называется \"Война и мир\".'\n",
    "print(txt)"
   ]
  },
  {
   "cell_type": "raw",
   "id": "dbf5e46a",
   "metadata": {},
   "source": [
    "class str(object):\n",
    "t = \"\"\"\n",
    "    str(object='') -> str\n",
    "    str(bytes_or_buffer[, encoding[, errors]]) -> str\n",
    "    ...\n",
    "    \"\"\""
   ]
  },
  {
   "cell_type": "markdown",
   "id": "4bde6ea8",
   "metadata": {},
   "source": [
    "##### Склеивание и обратный слеш"
   ]
  },
  {
   "cell_type": "code",
   "execution_count": 34,
   "id": "693c52ee",
   "metadata": {},
   "outputs": [
    {
     "name": "stdout",
     "output_type": "stream",
     "text": [
      "Привет.Как ты, друг?Рад тебя видеть.\n"
     ]
    }
   ],
   "source": [
    "text = 'Привет.' 'Как ты, друг?' 'Рад тебя видеть.'\n",
    "print(text)"
   ]
  },
  {
   "cell_type": "code",
   "execution_count": 33,
   "id": "c99bc8bf",
   "metadata": {},
   "outputs": [
    {
     "name": "stdout",
     "output_type": "stream",
     "text": [
      "Привет. Как ты, друг? Рад тебя видеть.\n"
     ]
    }
   ],
   "source": [
    "text = 'Привет. Как ты, друг? Рад тебя видеть.'\n",
    "print(text)"
   ]
  },
  {
   "cell_type": "markdown",
   "id": "360a3b4d",
   "metadata": {},
   "source": [
    "##### Деление сторок через \\"
   ]
  },
  {
   "cell_type": "code",
   "execution_count": 36,
   "id": "dab40fb9",
   "metadata": {
    "scrolled": true
   },
   "outputs": [
    {
     "name": "stdout",
     "output_type": "stream",
     "text": [
      "Lorem ipsum dolor sit amet, consectetur adipisicing elit. A ab alias animi assumenda at aut commodi, consequatur cumque ea harum, hic id illum ipsam itaque laboriosam magnam minus nam nulla numquam obcaecati officia officiis porro possimus praesentium quaerat temporibus ullam veniam? \n"
     ]
    }
   ],
   "source": [
    "very_long_text = 'Lorem ipsum dolor sit amet, consectetur adipisicing elit. A ab alias animi assumenda at aut ' \\\n",
    "                 'commodi, consequatur cumque ea harum, hic id illum ipsam itaque laboriosam magnam minus nam nulla ' \\\n",
    "                 'numquam obcaecati officia officiis porro possimus praesentium quaerat temporibus ullam veniam? '\n",
    "print(very_long_text)"
   ]
  },
  {
   "cell_type": "markdown",
   "id": "2103f07a",
   "metadata": {},
   "source": [
    "##### Конкатенация строк\n",
    "Сложение строк через плюс"
   ]
  },
  {
   "cell_type": "code",
   "execution_count": 22,
   "id": "614e9e7c",
   "metadata": {},
   "outputs": [
    {
     "name": "stdout",
     "output_type": "stream",
     "text": [
      "Твоё имя? GUG\n",
      "Твой возраст? 55\n",
      "Внимание! Хоть тебе и осталось 45 до ста лет, но длинна строки не должна превышать 120 символов.\n"
     ]
    }
   ],
   "source": [
    "LIMIT = 120\n",
    "ATTENTION = 'Внимание!'\n",
    "name = input('Твоё имя? ')\n",
    "age = int(input('Твой возраст? '))\n",
    "text = ATTENTION + ' Хоть тебе и осталось ' +\\\n",
    "    str(100 - age) + \" до ста лет, но длинна\" \\\n",
    "                    \" строки не должна превышать \" +\\\n",
    "    str(LIMIT) + ' символов.'\n",
    "print(text)"
   ]
  },
  {
   "cell_type": "markdown",
   "id": "02ad9140",
   "metadata": {},
   "source": [
    "##### Размер строки в памяти"
   ]
  },
  {
   "cell_type": "markdown",
   "id": "8160c2ad",
   "metadata": {},
   "source": [
    "object.__sizeof__() — метод возвращает размер объекта в байтах"
   ]
  },
  {
   "cell_type": "markdown",
   "id": "57dc2825",
   "metadata": {},
   "source": [
    "Размер строки в памяти. 48 байт служебной информации для х64 Python. \n",
    "Далее 1, 2 или 4 байта на каждый символ в зависимости от кодировки."
   ]
  },
  {
   "cell_type": "code",
   "execution_count": 39,
   "id": "11aa8b5b",
   "metadata": {},
   "outputs": [
    {
     "name": "stdout",
     "output_type": "stream",
     "text": [
      "51\n",
      "53\n",
      "84\n",
      "92\n"
     ]
    }
   ],
   "source": [
    "empty_str = ''\n",
    "en_str = 'Text'\n",
    "ru_str = 'Текст'\n",
    "unicode_str = '😀😍😉🙃'\n",
    "print(empty_str.__sizeof__())\n",
    "print(en_str.__sizeof__())\n",
    "print(ru_str.__sizeof__())\n",
    "print(unicode_str.__sizeof__())"
   ]
  },
  {
   "cell_type": "markdown",
   "id": "111bd5ae",
   "metadata": {},
   "source": [
    "##### Методы проверки строк"
   ]
  },
  {
   "cell_type": "markdown",
   "id": "4c37eb9f",
   "metadata": {},
   "source": [
    "- str.isalnum() — возвращает True, если все символы в строке буквенно-цифровые. Символ является буквенно-цифровым, если одно из следующих значений возвращает True: c.isalpha(), c.isdecimal(), c.isdigit()или c.isnumeric().\n",
    "- str.isalpha() — возвращает True, если все символы в строке являются буквенными. Алфавитные символы — это символы, определенные в базе данных символов Юникода как «буква».\n",
    "- str.isdecimal() — возвращает True, если все символы в строке являются десятичными символами\n",
    "- str.isdigit() — возвращает True, если все символы в строке являются цифрами. Цифры включают десятичные символы и цифры, требующие специальной обработки, например цифры надстрочного индекса совместимости.\n",
    "- str.isnumeric() — возвращает True, если все символы в строке являются числовыми символами. Числовые символы включают цифровые символы и все символы, которые имеют свойство числового значения Unicode.\n",
    "- str.isascii() — возвращает True, если строка пуста или все символы в строке ASCII.\n",
    "- str.islower() — возвращает True, если все символы в строке в нижнем регистре.\n",
    "- str.istitle() — возвращает True, если строка является строкой с заглавным регистром и содержит хотя бы один символ.\n",
    "- str.isupper() — возвращает True, если все символы в строке в верхнем регистре.\n",
    "- str.isprintable() — возвращает True, если все символы в строке доступны для печати или строка пуста. Непечатаемые символы — это символы, определенные в базе данных символов Unicode как «Другие» или «Разделители», за исключением пробела ASCII (0x20), который считается печатаемым.\n",
    "- str.isspace() — возвращает True, если в строке есть только пробельные символы."
   ]
  },
  {
   "cell_type": "code",
   "execution_count": 44,
   "id": "7d9fcde1",
   "metadata": {},
   "outputs": [
    {
     "ename": "SyntaxError",
     "evalue": "invalid syntax (2486243553.py, line 2)",
     "output_type": "error",
     "traceback": [
      "\u001b[1;36m  File \u001b[1;32m\"C:\\Users\\Иван\\AppData\\Local\\Temp\\ipykernel_10908\\2486243553.py\"\u001b[1;36m, line \u001b[1;32m2\u001b[0m\n\u001b[1;33m    if txt == int(str.isdigit(txt))\u001b[0m\n\u001b[1;37m                                   ^\u001b[0m\n\u001b[1;31mSyntaxError\u001b[0m\u001b[1;31m:\u001b[0m invalid syntax\n"
     ]
    }
   ],
   "source": [
    "txt = input('Введите текст ')\n",
    "if txt == int(str.isdigit(txt))\n",
    "    print(txt)\n",
    "    print(empty_str.__sizeof__(txt))\n",
    "    print(en_str.__sizeof__(txt))\n",
    "    print(unicode_str.__sizeof__(txt))\n",
    "else:\n",
    "    txt != int\n",
    "    print(str.isascii(txt))"
   ]
  },
  {
   "cell_type": "markdown",
   "id": "cb38d359",
   "metadata": {},
   "source": [
    "### 5. Математика в Python"
   ]
  },
  {
   "cell_type": "code",
   "execution_count": 15,
   "id": "303a0e5b",
   "metadata": {},
   "outputs": [],
   "source": [
    "import math\n",
    "import decimal\n",
    "import fractions"
   ]
  },
  {
   "cell_type": "markdown",
   "id": "9dab6b30",
   "metadata": {},
   "source": [
    "##### Модуль math"
   ]
  },
  {
   "cell_type": "markdown",
   "id": "78d22062",
   "metadata": {},
   "source": [
    "Константы: e, inf, nan, pi, tau"
   ]
  },
  {
   "cell_type": "markdown",
   "id": "caf0f24e",
   "metadata": {},
   "source": [
    "Математические функции: acos, acosh, asin, asinh,\n",
    "atan, atan2, atanh, ceil, comb, copysign, cos, cosh,\n",
    "degrees, dist, erf, erfc, exp, expm1, fabs, factorial, floor,\n",
    "fmod, frexp, fsum, gamma, gcd, hypot, isclose, isfinite,\n",
    "isinf, isnan, isqrt, lcm, ldexp, lgamma, log, log10, log1p,\n",
    "log2, modf, nextafter, perm, pow, prod, radians,\n",
    "remainder, sin, sinh, sqrt, tan, tanh, trunc, ulp"
   ]
  },
  {
   "cell_type": "code",
   "execution_count": 16,
   "id": "2fc7b9f3",
   "metadata": {},
   "outputs": [
    {
     "name": "stdout",
     "output_type": "stream",
     "text": [
      "3.141592653589793\n",
      "2.718281828459045\n",
      "inf\n",
      "nan\n",
      "6.283185307179586\n"
     ]
    }
   ],
   "source": [
    "print(math.pi, math.e, math.inf, math.nan, math.tau, sep='\\n')"
   ]
  },
  {
   "cell_type": "code",
   "execution_count": 48,
   "id": "daaf355b",
   "metadata": {},
   "outputs": [
    {
     "name": "stdout",
     "output_type": "stream",
     "text": [
      "['__doc__', '__loader__', '__name__', '__package__', '__spec__', 'acos', 'acosh', 'asin', 'asinh', 'atan', 'atan2', 'atanh', 'ceil', 'comb', 'copysign', 'cos', 'cosh', 'degrees', 'dist', 'e', 'erf', 'erfc', 'exp', 'expm1', 'fabs', 'factorial', 'floor', 'fmod', 'frexp', 'fsum', 'gamma', 'gcd', 'hypot', 'inf', 'isclose', 'isfinite', 'isinf', 'isnan', 'isqrt', 'lcm', 'ldexp', 'lgamma', 'log', 'log10', 'log1p', 'log2', 'modf', 'nan', 'nextafter', 'perm', 'pi', 'pow', 'prod', 'radians', 'remainder', 'sin', 'sinh', 'sqrt', 'tan', 'tanh', 'tau', 'trunc', 'ulp']\n"
     ]
    }
   ],
   "source": [
    "print(dir(math))"
   ]
  },
  {
   "cell_type": "code",
   "execution_count": 49,
   "id": "3a055334",
   "metadata": {},
   "outputs": [
    {
     "name": "stdout",
     "output_type": "stream",
     "text": [
      "Help on built-in function gcd in module math:\n",
      "\n",
      "gcd(*integers)\n",
      "    Greatest Common Divisor.\n",
      "\n",
      "None\n"
     ]
    }
   ],
   "source": [
    "print(help(math.gcd))"
   ]
  },
  {
   "cell_type": "markdown",
   "id": "690b96bb",
   "metadata": {},
   "source": [
    "##### Модуль decimal"
   ]
  },
  {
   "cell_type": "raw",
   "id": "67f35774",
   "metadata": {},
   "source": [
    "num = decimal.Decimal(object)\n",
    "Получаем вещественное число с точностью 28 знаков (до и после запятой).\n",
    "decimal.getcontext().prec = dec\n",
    "Задаём точность в dec знаков для будущих операций."
   ]
  },
  {
   "cell_type": "code",
   "execution_count": 53,
   "id": "1fa5dbb2",
   "metadata": {},
   "outputs": [
    {
     "name": "stdout",
     "output_type": "stream",
     "text": [
      "0.30000000000000004\n",
      "3.141592653589793238462643383279502884197169399375\n",
      "0.333333333333333333333333333333333333333333333333333333333333333333333333333333333333333333333333333333333333333333333333\n",
      "3455.83066550525681221255767989730747561877356795282333577813456316135465722551243973438941915628321878677792211576047521\n"
     ]
    }
   ],
   "source": [
    "print(0.1 + 0.2)\n",
    "\n",
    "pi = decimal.Decimal('3.141_592_653_589_793_238_462_643_383_279_502_884_197_169_399_375')\n",
    "print(pi)\n",
    "num = decimal.Decimal(1) / decimal.Decimal(3)\n",
    "print(num)\n",
    "\n",
    "decimal.getcontext().prec = 120\n",
    "science = 2 * pi * decimal.Decimal(23.452346) ** 2\n",
    "print(science)"
   ]
  },
  {
   "cell_type": "markdown",
   "id": "720cbf5a",
   "metadata": {},
   "source": [
    "##### Модуль fraction\n",
    "Запись дробей вида ⅓, ⅗ и т.п."
   ]
  },
  {
   "cell_type": "code",
   "execution_count": 19,
   "id": "15ab7ec7",
   "metadata": {},
   "outputs": [
    {
     "name": "stdout",
     "output_type": "stream",
     "text": [
      "1/3\n",
      "3/5\n",
      "1/5\n"
     ]
    }
   ],
   "source": [
    "f1 = fractions.Fraction(1, 3)\n",
    "print(f1)\n",
    "f2 = fractions.Fraction(3, 5)\n",
    "print(f2)\n",
    "print(f1 * f2)"
   ]
  },
  {
   "cell_type": "markdown",
   "id": "13e8b046",
   "metadata": {},
   "source": [
    "##### Класс complex()\n",
    "complex([real[, imag]]) — комплексное число из действительной real и мнимой imag частей."
   ]
  },
  {
   "cell_type": "code",
   "execution_count": 20,
   "id": "48d0b5a4",
   "metadata": {
    "scrolled": true
   },
   "outputs": [
    {
     "name": "stdout",
     "output_type": "stream",
     "text": [
      "(2+3j)\n",
      "(2+3j)\n",
      "True\n"
     ]
    }
   ],
   "source": [
    "a = complex(2, 3)\n",
    "b = complex('2+3j')\n",
    "print(a, b, a == b, sep='\\n')"
   ]
  },
  {
   "cell_type": "code",
   "execution_count": 54,
   "id": "03d37512",
   "metadata": {},
   "outputs": [
    {
     "name": "stdout",
     "output_type": "stream",
     "text": [
      "42\n"
     ]
    }
   ],
   "source": [
    "x = -42\n",
    "print(abs(x))"
   ]
  },
  {
   "cell_type": "code",
   "execution_count": 61,
   "id": "229286b6",
   "metadata": {},
   "outputs": [
    {
     "name": "stdout",
     "output_type": "stream",
     "text": [
      "(8, 2)\n"
     ]
    }
   ],
   "source": [
    "a=42\n",
    "b=5\n",
    "print(divmod(a,b))  #  42/5= 8(целое), 2(остаток от деления)"
   ]
  },
  {
   "cell_type": "code",
   "execution_count": 63,
   "id": "09195c1c",
   "metadata": {},
   "outputs": [
    {
     "name": "stdout",
     "output_type": "stream",
     "text": [
      "130691232\n",
      "2\n"
     ]
    }
   ],
   "source": [
    "print(pow(a,b)) # возведение в степень\n",
    "print(pow(a,b,10)) # это число делим на 10(остаток от деления)"
   ]
  },
  {
   "cell_type": "code",
   "execution_count": 68,
   "id": "5f85d946",
   "metadata": {},
   "outputs": [
    {
     "name": "stdout",
     "output_type": "stream",
     "text": [
      "3.142\n"
     ]
    }
   ],
   "source": [
    "print(round(3.141_592_653_589_793, 3)) #  округление до 3 знаков"
   ]
  },
  {
   "cell_type": "markdown",
   "id": "26d4a7b1",
   "metadata": {},
   "source": [
    "##### Математические функции \"из коробки\""
   ]
  },
  {
   "cell_type": "markdown",
   "id": "df1fd9f0",
   "metadata": {},
   "source": [
    "- abs(x) — возвращает абсолютное значение числа x, число по модулю только положительное (+).\n",
    "- divmod(a, b) — функция принимает два числа в качестве аргументов и\n",
    "возвращает пару чисел — частное и остаток от целочисленного деления.\n",
    "Аналогично вычислению a // b и a % b.\n",
    "- pow(base, exp[, mod]) — при передаче 2-х аргументов возводит base в\n",
    "степень exp. При передаче 3-х аргументов, результат возведения в степень\n",
    "делится по модулю на значение mod.\n",
    "- round(number[, ndigits]) — округляет число number до ndigits цифр\n",
    "после запятой. Если второй аргумент не передать, округляет до ближайшего\n",
    "целого"
   ]
  }
 ],
 "metadata": {
  "kernelspec": {
   "display_name": "Python 3 (ipykernel)",
   "language": "python",
   "name": "python3"
  },
  "language_info": {
   "codemirror_mode": {
    "name": "ipython",
    "version": 3
   },
   "file_extension": ".py",
   "mimetype": "text/x-python",
   "name": "python",
   "nbconvert_exporter": "python",
   "pygments_lexer": "ipython3",
   "version": "3.9.13"
  },
  "widgets": {
   "application/vnd.jupyter.widget-state+json": {
    "state": {},
    "version_major": 2,
    "version_minor": 0
   }
  }
 },
 "nbformat": 4,
 "nbformat_minor": 5
}
