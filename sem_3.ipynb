{
 "cells": [
  {
   "cell_type": "markdown",
   "id": "756dcd58",
   "metadata": {},
   "source": [
    "### Задание №1"
   ]
  },
  {
   "cell_type": "markdown",
   "id": "73e75c14",
   "metadata": {},
   "source": [
    "    ✔ Вручную создайте список с целыми числами, которые повторяются. Получите новый список, который содержит уникальные (без повтора) элементы исходного списка.\n",
    "    ✔ *Подготовьте два решения, короткое и длинное, которое не использует другие коллекции помимо списков."
   ]
  },
  {
   "cell_type": "code",
   "execution_count": 6,
   "id": "1b32f64a",
   "metadata": {},
   "outputs": [
    {
     "name": "stdout",
     "output_type": "stream",
     "text": [
      "[1, 1, 2, 3, 4, 5, 6, 6, 7, 7, 7, 8]\n",
      "[1, 2, 3, 4, 5, 6, 7, 8]\n"
     ]
    }
   ],
   "source": [
    "my_list = [1, 1, 2, 3, 4, 5, 6, 6, 7, 7, 7, 8]   #  короткое решение\n",
    "print(my_list)\n",
    "\n",
    "new_list = list(set(my_list))\n",
    "print(new_list)"
   ]
  },
  {
   "cell_type": "code",
   "execution_count": 17,
   "id": "ddc5994d",
   "metadata": {},
   "outputs": [
    {
     "name": "stdout",
     "output_type": "stream",
     "text": [
      "[1, 1, 2, 3, 4, 5, 6, 6, 7, 7, 7, 8]\n",
      "[1, 2, 3, 4, 5, 6, 7, 8]\n"
     ]
    }
   ],
   "source": [
    "my_list = [1, 1, 2, 3, 4, 5, 6, 6, 7, 7, 7, 8]   #  длинное решение\n",
    "print(my_list)\n",
    "\n",
    "n_list = []\n",
    "\n",
    "for i in my_list:\n",
    "    if i not in n_list:\n",
    "        n_list.append(i)   \n",
    "print(n_list)"
   ]
  },
  {
   "cell_type": "code",
   "execution_count": 48,
   "id": "bfa0c893",
   "metadata": {},
   "outputs": [
    {
     "name": "stdout",
     "output_type": "stream",
     "text": [
      "Введите данные: 234534534\n",
      "Преобразованное значение: 234534534 (Целое положительное число)\n"
     ]
    }
   ],
   "source": [
    "user_input = input(\"Введите данные: \")\n",
    "\n",
    "# Проверка на целое положительное число\n",
    "if user_input.isdigit():\n",
    "    converted_data = int(user_input)\n",
    "    print(\"Преобразованное значение:\", converted_data, \"(Целое положительное число)\")\n",
    "\n",
    "# Проверка на вещественное положительное или отрицательное число\n",
    "elif user_input.replace(\".\", \"\", 1).replace(\"-\", \"\", 1).isdigit():\n",
    "    converted_data = float(user_input)\n",
    "    print(\"Преобразованное значение:\", converted_data, \"(Вещественное число)\")\n",
    "\n",
    "# Проверка на строку с заглавными буквами\n",
    "elif any(char.isupper() for char in user_input):\n",
    "    converted_data = user_input.lower()\n",
    "    print(\"Преобразованное значение:\", converted_data, \"(Строка в нижнем регистре с заглавными буквами)\")\n",
    "\n",
    "# Строка в нижнем регистре в остальных случаях\n",
    "else:\n",
    "    converted_data = user_input.lower()\n",
    "    print(\"Преобразованное значение:\", converted_data, \"(Строка в нижнем регистре)\")"
   ]
  },
  {
   "cell_type": "markdown",
   "id": "de0cc9e6",
   "metadata": {},
   "source": [
    "### Задание № 2"
   ]
  },
  {
   "cell_type": "markdown",
   "id": "2b1c322b",
   "metadata": {},
   "source": [
    "    Пользователь вводит данные. Сделайте проверку данных и преобразуйте если возможно в один из вариантов ниже:\n",
    "    ✔ Целое положительное число\n",
    "    ✔ Вещественное положительное или отрицательное число\n",
    "    ✔ Строку в нижнем регистре, если в строке есть хотя бы одна заглавная буква\n",
    "    ✔ Строку в нижнем регистре в остальных случаях"
   ]
  },
  {
   "cell_type": "code",
   "execution_count": 22,
   "id": "b754e026",
   "metadata": {},
   "outputs": [
    {
     "name": "stdout",
     "output_type": "stream",
     "text": [
      "Enter data: 25 апреля\n",
      "25 апреля <class 'str'>\n"
     ]
    }
   ],
   "source": [
    "data = str(input(\"Enter data: \"))\n",
    "\n",
    "if data.isdigit():\n",
    "    conv = int(data)\n",
    "elif data.replace(\"-\",\"\").replace(\".\",\"\").replace(\",\",\"\").isdigit():\n",
    "    conv = float(dat)\n",
    "elif data.__contains__(r'\\p{Lu}'):\n",
    "    conv = data.lower()\n",
    "else:\n",
    "    conv = data.lower()\n",
    "print(conv, type(conv))"
   ]
  },
  {
   "cell_type": "code",
   "execution_count": 19,
   "id": "3cd01629",
   "metadata": {},
   "outputs": [
    {
     "name": "stdout",
     "output_type": "stream",
     "text": [
      "Введите что нибудь8789bghjghk\n",
      "8789BGHJGHK\n"
     ]
    }
   ],
   "source": [
    "a = input('Введите что нибудь')\n",
    "if a.isdigit():\n",
    "    print(int(a))\n",
    "elif a.replace(\".\", \"\", 1).replace(\"-\",\"\", 1).isdigit():\n",
    "    print (float(a))\n",
    "else:\n",
    "    if a !=a.lower():\n",
    "        a = a.lower()\n",
    "    else:\n",
    "        a = a.upper()\n",
    "    print(a)    "
   ]
  },
  {
   "cell_type": "code",
   "execution_count": 49,
   "id": "a9d04fcf",
   "metadata": {
    "scrolled": true
   },
   "outputs": [
    {
     "name": "stdout",
     "output_type": "stream",
     "text": [
      "Введите данные: 23523уеццееОЛЛШол\n",
      "Преобразованное значение: 23523уеццееоллшол (Строка в нижнем регистре с заглавными буквами)\n"
     ]
    }
   ],
   "source": [
    "user_input = input(\"Введите данные: \")\n",
    "\n",
    "if user_input.isdigit():\n",
    "    converted_data = int(user_input)\n",
    "    print(f\"Преобразованное значение: {converted_data} (Целое положительное число)\")\n",
    "elif user_input.replace(\".\", \"\", 1).replace(\"-\", \"\", 1).isdigit():\n",
    "    converted_data = float(user_input)\n",
    "    print(f\"Преобразованное значение: {converted_data} (Вещественное число)\")\n",
    "elif any(char.isupper() for char in user_input):\n",
    "    converted_data = user_input.lower()\n",
    "    print(f\"Преобразованное значение: {converted_data} (Строка в нижнем регистре с заглавными буквами)\")\n",
    "else:\n",
    "    converted_data = user_input.lower()\n",
    "    print(f\"Преобразованное значение: {converted_data} (Строка в нижнем регистре)\")"
   ]
  },
  {
   "cell_type": "markdown",
   "id": "a70f342b",
   "metadata": {},
   "source": [
    "### Задание №3"
   ]
  },
  {
   "cell_type": "markdown",
   "id": "d46f761f",
   "metadata": {},
   "source": [
    "    ✔ Создайте вручную кортеж содержащий элементы разных типов.\n",
    "    ✔ Получите из него словарь списков, где:\n",
    "    ключ — тип элемента,\n",
    "    значение — список элементов данного типа."
   ]
  },
  {
   "cell_type": "code",
   "execution_count": 25,
   "id": "f2e805d0",
   "metadata": {},
   "outputs": [
    {
     "name": "stdout",
     "output_type": "stream",
     "text": [
      "{<class 'str'>: ['asd', 'fgfd'], <class 'int'>: [123, 45646], <class 'bool'>: [True, False]}\n"
     ]
    }
   ],
   "source": [
    "a_tuple = ('asd', 'fgfd', 123, 45646, True, False)\n",
    "my_dict = {}\n",
    "for i in a_tuple:\n",
    "    if type(i) in my_dict.keys():\n",
    "        my_dict[type(i)].append(i)\n",
    "    else:\n",
    "        my_dict[type(i)] = [i]\n",
    "print(my_dict)"
   ]
  },
  {
   "cell_type": "code",
   "execution_count": 27,
   "id": "1641a9a6",
   "metadata": {},
   "outputs": [
    {
     "name": "stdout",
     "output_type": "stream",
     "text": [
      "{<class 'str'>: ['Hello', 'World'], <class 'int'>: [2, 0, 2, 3], <class 'float'>: [11.3], <class 'bool'>: [True, False], <class 'list'>: [[1, 2, 3]], <class 'tuple'>: [(1, 2, 3)], <class 'set'>: [{1, 2, 3}], <class 'dict'>: [{1: 1, 2: 2}]}\n"
     ]
    }
   ],
   "source": [
    "my_tuple = (\"Hello\", \"World\", 2, 0, 2, 3, 11.30, True, False, [1,2,3], (1,2,3), {1,2,3}, {1:1, 2:2})\n",
    "\n",
    "my_dict = {}\n",
    "\n",
    "for i in my_tuple:\n",
    "    if type(i) not in my_dict.keys():\n",
    "        my_dict[type(i)] = []\n",
    "        my_dict[type(i)].append(i) \n",
    "        \n",
    "    else:\n",
    "        my_dict[type(i)].append(i)\n",
    "\n",
    "print(my_dict)"
   ]
  },
  {
   "cell_type": "code",
   "execution_count": 26,
   "id": "cb11af86",
   "metadata": {},
   "outputs": [
    {
     "name": "stdout",
     "output_type": "stream",
     "text": [
      "{'int': [1, 42, True], 'str': ['apple', 'banan', 'mama'], 'float': [2.71], 'bool': [True]}\n"
     ]
    }
   ],
   "source": [
    "a = (1, 'apple', 'banan', 42, 2.71, 'mama', True)\n",
    "\n",
    "b = {type(item).__name__: [i for i in a if isinstance(i, type(item))] for item in a}\n",
    "\n",
    "print(b)"
   ]
  },
  {
   "cell_type": "markdown",
   "id": "0c3bb3a3",
   "metadata": {},
   "source": [
    "### Задание №4"
   ]
  },
  {
   "cell_type": "markdown",
   "id": "1cefde73",
   "metadata": {},
   "source": [
    "    ✔ Создайте вручную список с повторяющимися элементами.\n",
    "    ✔ Удалите из него все элементы, которые встречаются дважды."
   ]
  },
  {
   "cell_type": "code",
   "execution_count": 39,
   "id": "24816831",
   "metadata": {},
   "outputs": [
    {
     "name": "stdout",
     "output_type": "stream",
     "text": [
      "[1, 1, 1, 1, 2, 2, 2, 5, 7]\n"
     ]
    }
   ],
   "source": [
    "my_list = [1,1,1,1,2,2,2,4,4,5,7,45,45]\n",
    "\n",
    "for item in set(my_list):\n",
    "    if my_list.count(item) == 2:\n",
    "        my_list.remove(item)\n",
    "        my_list.remove(item)\n",
    "print(my_list)"
   ]
  },
  {
   "cell_type": "code",
   "execution_count": 43,
   "id": "734fa6db",
   "metadata": {},
   "outputs": [
    {
     "name": "stdout",
     "output_type": "stream",
     "text": [
      "[2, 4, 5, 7, 3]\n"
     ]
    }
   ],
   "source": [
    "my_list = [1, 1, 1, 1, 2, 4, 5, 7, 3, 3, 5, 2, 4, 6, 7]\n",
    "\n",
    "d = []\n",
    "for item in my_list:\n",
    "    if my_list.count(item) == 2 and item not in d:\n",
    "        d.append(item)\n",
    "\n",
    "print(d)"
   ]
  },
  {
   "cell_type": "markdown",
   "id": "38bb50de",
   "metadata": {},
   "source": [
    "### Задание №5"
   ]
  },
  {
   "cell_type": "markdown",
   "id": "ec5ca32e",
   "metadata": {},
   "source": [
    "    ✔ Создайте вручную список с повторяющимися целыми числами.\n",
    "    ✔ Сформируйте список с порядковыми номерами нечётных элементов исходного списка.\n",
    "    ✔ Нумерация начинается с единицы."
   ]
  },
  {
   "cell_type": "code",
   "execution_count": null,
   "id": "334360c2",
   "metadata": {},
   "outputs": [],
   "source": [
    "my_list = [1,1,1,2,3,4,5,5,5,6,6,7]\n",
    "\n",
    "odd_indexes = []\n",
    "\n",
    "for k,i in enumerate(my_list, 1):\n",
    "    if i % 2:\n",
    "        odd_indexes.append(k)\n",
    "\n",
    "print(odd_indexes)"
   ]
  },
  {
   "cell_type": "code",
   "execution_count": 34,
   "id": "72535679",
   "metadata": {},
   "outputs": [
    {
     "name": "stdout",
     "output_type": "stream",
     "text": [
      "[1, 2, 3, 4, 10, 11, 12, 13]\n"
     ]
    }
   ],
   "source": [
    "my_list = [1,1,1,1,2,2,2,4,4,5,7,45,45]\n",
    "\n",
    "new_list = []\n",
    "\n",
    "for index, value in enumerate(my_list, start = 1):\n",
    "    if value % 2:\n",
    "        new_list.append(index)\n",
    "print(new_list)"
   ]
  }
 ],
 "metadata": {
  "kernelspec": {
   "display_name": "Python 3 (ipykernel)",
   "language": "python",
   "name": "python3"
  },
  "language_info": {
   "codemirror_mode": {
    "name": "ipython",
    "version": 3
   },
   "file_extension": ".py",
   "mimetype": "text/x-python",
   "name": "python",
   "nbconvert_exporter": "python",
   "pygments_lexer": "ipython3",
   "version": "3.9.13"
  }
 },
 "nbformat": 4,
 "nbformat_minor": 5
}
