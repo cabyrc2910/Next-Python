{
 "cells": [
  {
   "cell_type": "raw",
   "id": "75bee776",
   "metadata": {},
   "source": [
    "Задание №6\n",
    "Напишите программу банкомат.\n",
    "✔ Начальная сумма равна нулю\n",
    "✔ Допустимые действия: пополнить, снять, выйти\n",
    "✔ Сумма пополнения и снятия кратны 50 у.е.\n",
    "✔ Процент за снятие — 1.5% от суммы снятия, но не менее 30 и не более 600 у.е.\n",
    "✔ После каждой третей операции пополнения или снятия начисляются проценты - 3%\n",
    "✔ Нельзя снять больше, чем на счёте\n",
    "✔ При превышении суммы в 5 млн, вычитать налог на богатство 10% перед каждой\n",
    "операцией, даже ошибочной\n",
    "✔ Любое действие выводит сумму денег"
   ]
  },
  {
   "cell_type": "code",
   "execution_count": 4,
   "id": "78e0e1b1",
   "metadata": {},
   "outputs": [
    {
     "name": "stdout",
     "output_type": "stream",
     "text": [
      "\n",
      "Ваш текущий баланс: $0.00\n",
      "Выберите действие:\n",
      "1. Пополнить счет\n",
      "2. Снять деньги\n",
      "3. Выйти\n",
      "Введите номер действия: 2\n",
      "Введите сумму для снятия (кратно 50): 50\n",
      "Ошибка: Недостаточно средств на счете.\n",
      "\n",
      "Ваш текущий баланс: $0.00\n",
      "Выберите действие:\n",
      "1. Пополнить счет\n",
      "2. Снять деньги\n",
      "3. Выйти\n",
      "Введите номер действия: 1\n",
      "Введите сумму для пополнения (кратно 50): 200\n",
      "\n",
      "Ваш текущий баланс: $200.00\n",
      "Выберите действие:\n",
      "1. Пополнить счет\n",
      "2. Снять деньги\n",
      "3. Выйти\n",
      "Введите номер действия: 3\n",
      "Спасибо за использование банкомата!\n"
     ]
    }
   ],
   "source": [
    "balance = 0  # Начальный баланс\n",
    "tax_rate = 0.10  # Налог на богатство (10%)\n",
    "transactions = 0  # Счетчик транзакций\n",
    "\n",
    "while True:\n",
    "    print(\"\\nВаш текущий баланс: ${:.2f}\".format(balance))\n",
    "    print(\"Выберите действие:\")\n",
    "    print(\"1. Пополнить счет\")\n",
    "    print(\"2. Снять деньги\")\n",
    "    print(\"3. Выйти\")\n",
    "    \n",
    "    choice = input(\"Введите номер действия: \")\n",
    "    \n",
    "    if choice == '1':\n",
    "        amount = int(input(\"Введите сумму для пополнения (кратно 50): \"))\n",
    "        \n",
    "        if amount % 50 == 0:\n",
    "            balance += amount\n",
    "            transactions += 1\n",
    "            if transactions % 3 == 0:\n",
    "                balance -= balance * 0.03\n",
    "        else:\n",
    "            print(\"Сумма должна быть кратна 50.\")\n",
    "    \n",
    "    elif choice == '2':\n",
    "        amount = int(input(\"Введите сумму для снятия (кратно 50): \"))\n",
    "        \n",
    "        if amount % 50 == 0:\n",
    "            if amount > balance:\n",
    "                print(\"Ошибка: Недостаточно средств на счете.\")\n",
    "            else:\n",
    "                if balance > 5000000:\n",
    "                    balance -= balance * tax_rate\n",
    "                withdrawal_fee = max(30, min(amount * 0.015, 600))\n",
    "                balance -= amount + withdrawal_fee\n",
    "                transactions += 1\n",
    "                if transactions % 3 == 0:\n",
    "                    balance -= balance * 0.03\n",
    "        else:\n",
    "            print(\"Сумма должна быть кратна 50.\")\n",
    "    \n",
    "    elif choice == '3':\n",
    "        print(\"Спасибо за использование банкомата!\")\n",
    "        break\n",
    "    \n",
    "    else:\n",
    "        print(\"Некорректный выбор. Пожалуйста, выберите 1, 2 или 3.\")"
   ]
  },
  {
   "cell_type": "raw",
   "id": "27bb54d7",
   "metadata": {},
   "source": [
    "Задание 1\n",
    "✔ Напишите программу, которая получает целое\n",
    "число и возвращает его шестнадцатеричное\n",
    "строковое представление. Функцию hex\n",
    "используйте для проверки своего результата."
   ]
  },
  {
   "cell_type": "code",
   "execution_count": 2,
   "id": "320677c0",
   "metadata": {},
   "outputs": [
    {
     "name": "stdout",
     "output_type": "stream",
     "text": [
      "Введите целое число: 45\n",
      "Шестнадцатеричное представление: 0x2d\n"
     ]
    }
   ],
   "source": [
    "def main():\n",
    "    try:\n",
    "        num = int(input(\"Введите целое число: \"))\n",
    "        hex_representation = decimal_to_hex(num)\n",
    "        print(\"Шестнадцатеричное представление:\", hex_representation)\n",
    "    except ValueError:\n",
    "        print(\"Ошибка: Введено некорректное значение.\")\n",
    "\n",
    "def decimal_to_hex(decimal_num):\n",
    "    hex_representation = hex(decimal_num)\n",
    "    return hex_representation\n",
    "\n",
    "if __name__ == \"__main__\":\n",
    "    main()"
   ]
  },
  {
   "cell_type": "raw",
   "id": "cd9d746f",
   "metadata": {},
   "source": [
    "Задание 1\n",
    "✔ Напишите программу, которая принимает две строки\n",
    "вида “a/b” — дробь с числителем и знаменателем.\n",
    "Программа должна возвращать сумму\n",
    "и *произведение дробей. Для проверки своего\n",
    "кода используйте модуль fractions."
   ]
  },
  {
   "cell_type": "code",
   "execution_count": 5,
   "id": "27346723",
   "metadata": {},
   "outputs": [
    {
     "name": "stdout",
     "output_type": "stream",
     "text": [
      "Введите первую дробь (вида a/b): 3/7\n",
      "Введите вторую дробь (вида a/b): 3/7\n",
      "Сумма дробей: 6/7\n",
      "Произведение дробей: 9/49\n"
     ]
    }
   ],
   "source": [
    "from fractions import Fraction\n",
    "\n",
    "def main():\n",
    "    try:\n",
    "        fraction_str1 = input(\"Введите первую дробь (вида a/b): \")\n",
    "        fraction_str2 = input(\"Введите вторую дробь (вида a/b): \")\n",
    "\n",
    "        fraction1 = parse_fraction(fraction_str1)\n",
    "        fraction2 = parse_fraction(fraction_str2)\n",
    "\n",
    "        sum_result = fraction1 + fraction2\n",
    "        product_result = fraction1 * fraction2\n",
    "\n",
    "        print(\"Сумма дробей:\", sum_result)\n",
    "        print(\"Произведение дробей:\", product_result)\n",
    "    except ValueError:\n",
    "        print(\"Ошибка: Введены некорректные значения.\")\n",
    "\n",
    "def parse_fraction(fraction_str):\n",
    "    numerator, denominator = map(int, fraction_str.split(\"/\"))\n",
    "    fraction = Fraction(numerator, denominator)\n",
    "    return fraction\n",
    "\n",
    "if __name__ == \"__main__\":\n",
    "    main()"
   ]
  }
 ],
 "metadata": {
  "kernelspec": {
   "display_name": "Python 3 (ipykernel)",
   "language": "python",
   "name": "python3"
  },
  "language_info": {
   "codemirror_mode": {
    "name": "ipython",
    "version": 3
   },
   "file_extension": ".py",
   "mimetype": "text/x-python",
   "name": "python",
   "nbconvert_exporter": "python",
   "pygments_lexer": "ipython3",
   "version": "3.9.13"
  }
 },
 "nbformat": 4,
 "nbformat_minor": 5
}
