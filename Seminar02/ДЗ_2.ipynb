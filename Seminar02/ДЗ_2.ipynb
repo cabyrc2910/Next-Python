{
 "cells": [
  {
   "cell_type": "raw",
   "id": "0df55e50",
   "metadata": {},
   "source": [
    "Задание №6\n",
    "Напишите программу банкомат.\n",
    "✔ Начальная сумма равна нулю\n",
    "✔ Допустимые действия: пополнить, снять, выйти\n",
    "✔ Сумма пополнения и снятия кратны 50 у.е.\n",
    "✔ Процент за снятие — 1.5% от суммы снятия, но не менее 30 и не более 600 у.е.\n",
    "✔ После каждой третей операции пополнения или снятия начисляются проценты - 3%\n",
    "✔ Нельзя снять больше, чем на счёте\n",
    "✔ При превышении суммы в 5 млн, вычитать налог на богатство 10% перед каждой\n",
    "операцией, даже ошибочной\n",
    "✔ Любое действие выводит сумму денег"
   ]
  },
  {
   "cell_type": "code",
   "execution_count": null,
   "id": "29811014",
   "metadata": {},
   "outputs": [],
   "source": []
  },
  {
   "cell_type": "raw",
   "id": "ffb1900c",
   "metadata": {},
   "source": [
    "Задание\n",
    "✔ Напишите программу, которая получает целое\n",
    "число и возвращает его шестнадцатеричное\n",
    "строковое представление. Функцию hex\n",
    "используйте для проверки своего результата."
   ]
  },
  {
   "cell_type": "code",
   "execution_count": null,
   "id": "f85c5c38",
   "metadata": {},
   "outputs": [],
   "source": []
  },
  {
   "cell_type": "raw",
   "id": "c9b27643",
   "metadata": {},
   "source": [
    "Задание\n",
    "✔ Напишите программу, которая принимает две строки\n",
    "вида “a/b” — дробь с числителем и знаменателем.\n",
    "Программа должна возвращать сумму\n",
    "и *произведение дробей. Для проверки своего\n",
    "кода используйте модуль fractions."
   ]
  },
  {
   "cell_type": "code",
   "execution_count": null,
   "id": "ae203b68",
   "metadata": {},
   "outputs": [],
   "source": []
  },
  {
   "cell_type": "code",
   "execution_count": null,
   "id": "d19a6f3c",
   "metadata": {},
   "outputs": [],
   "source": []
  },
  {
   "cell_type": "code",
   "execution_count": null,
   "id": "b693a174",
   "metadata": {},
   "outputs": [],
   "source": []
  },
  {
   "cell_type": "code",
   "execution_count": null,
   "id": "7a43f867",
   "metadata": {},
   "outputs": [],
   "source": []
  },
  {
   "cell_type": "code",
   "execution_count": null,
   "id": "ed26911f",
   "metadata": {},
   "outputs": [],
   "source": []
  },
  {
   "cell_type": "code",
   "execution_count": null,
   "id": "879b1c80",
   "metadata": {},
   "outputs": [],
   "source": []
  },
  {
   "cell_type": "code",
   "execution_count": null,
   "id": "6ff51599",
   "metadata": {},
   "outputs": [],
   "source": []
  }
 ],
 "metadata": {
  "kernelspec": {
   "display_name": "Python 3 (ipykernel)",
   "language": "python",
   "name": "python3"
  },
  "language_info": {
   "codemirror_mode": {
    "name": "ipython",
    "version": 3
   },
   "file_extension": ".py",
   "mimetype": "text/x-python",
   "name": "python",
   "nbconvert_exporter": "python",
   "pygments_lexer": "ipython3",
   "version": "3.9.13"
  }
 },
 "nbformat": 4,
 "nbformat_minor": 5
}
