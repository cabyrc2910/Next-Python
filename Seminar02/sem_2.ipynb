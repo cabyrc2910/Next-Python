{
 "cells": [
  {
   "cell_type": "raw",
   "id": "cff00cc1",
   "metadata": {},
   "source": [
    "Задание №1\n",
    "Создайте несколько переменных разных типов.\n",
    "Проверьте к какому типу относятся созданные переменные."
   ]
  },
  {
   "cell_type": "code",
   "execution_count": 3,
   "id": "f296569f",
   "metadata": {},
   "outputs": [
    {
     "name": "stdout",
     "output_type": "stream",
     "text": [
      "2 2.02 Hi\n",
      "<class 'int'>\n",
      "<class 'float'>\n",
      "<class 'str'>\n"
     ]
    }
   ],
   "source": [
    "a = 2\n",
    "b = 2.02\n",
    "c = 'Hi'\n",
    "print(a,b,c)\n",
    "print(type(a))\n",
    "print(type(b))\n",
    "print(type(c))"
   ]
  },
  {
   "cell_type": "raw",
   "id": "9f2f18ef",
   "metadata": {},
   "source": [
    "Задание №2\n",
    "Создайте в переменной data список значений разных типов перечислив их через\n",
    "запятую внутри квадратных скобок. Для каждого элемента в цикле выведите:\n",
    "✔ порядковый номер начиная с единицы\n",
    "✔ значение\n",
    "✔ адрес в памяти\n",
    "✔ размер в памяти\n",
    "✔ хэш объекта\n",
    "✔ результат проверки на целое число только если он положительный\n",
    "✔ результат проверки на строку только если он положительный\n",
    "Добавьте в список повторяющиеся элементы и сравните на результаты."
   ]
  },
  {
   "cell_type": "code",
   "execution_count": 40,
   "id": "60d3f223",
   "metadata": {},
   "outputs": [
    {
     "name": "stdout",
     "output_type": "stream",
     "text": [
      "1 1 1419485145392 28 1 целое \n",
      "2 2.02 1419485145424 24 46116860184273922  \n",
      "3 Hi 1419485145456 51 -4887698740964400496  строка\n",
      "4 Hi 1419485145488 51 -4887698740964400496  строка\n",
      "5 154 1419485145520 28 154 целое \n"
     ]
    }
   ],
   "source": [
    "data = [1, 2.02, 'Hi', 'Hi', 154]                             \n",
    "for e, item in enumerate(data, start = 1):\n",
    "    print(e, item, id(e), item.__sizeof__(), hash(item),\n",
    "          'целое' if isinstance(item, int) else '', 'строка' if  isinstance(item, str)else '')\n",
    "#  for e - нумерует     enumerate - итерация по коллекции данных, id - адрес, item.__sizeof__() - размер, hash(item) - хэш  "
   ]
  },
  {
   "cell_type": "raw",
   "id": "fe5bdab1",
   "metadata": {},
   "source": [
    "Задание №3\n",
    "✔ Напишите программу, которая получает целое число и возвращает\n",
    "его двоичное, восьмеричное строковое представление.\n",
    "✔ Функции bin и oct используйте для проверки своего\n",
    "результата, а не для решения.\n",
    "Дополнительно:\n",
    "✔ Попробуйте избежать дублирования кода\n",
    "в преобразованиях к разным системам счисления\n",
    "✔ Избегайте магических чисел\n",
    "✔ Добавьте аннотацию типов где это возможно"
   ]
  },
  {
   "cell_type": "code",
   "execution_count": 25,
   "id": "6052590e",
   "metadata": {},
   "outputs": [
    {
     "name": "stdout",
     "output_type": "stream",
     "text": [
      "Введите значение: 10\n",
      "1010\n",
      "0b1010\n"
     ]
    }
   ],
   "source": [
    "def binary(a):\n",
    "    res = ''\n",
    "    while a > 0:\n",
    "        a = a // 2\n",
    "        if a % 2:\n",
    "            res += '0'\n",
    "        else: res += '1'\n",
    "    return res[::-1]\n",
    "\n",
    "a = int(input('Введите значение: '))\n",
    "print(binary(a))\n",
    "print(bin(a))"
   ]
  },
  {
   "cell_type": "markdown",
   "id": "e1363b79",
   "metadata": {},
   "source": [
    "#### преобразование к разным системам исчисления"
   ]
  },
  {
   "cell_type": "code",
   "execution_count": 33,
   "id": "f2743c73",
   "metadata": {},
   "outputs": [
    {
     "name": "stdout",
     "output_type": "stream",
     "text": [
      "Введите значение: 10\n",
      "Введите систему исчисления: 2\n",
      "1010\n",
      "0b1010\n",
      "0o12\n"
     ]
    }
   ],
   "source": [
    "def binary(a, b):    \n",
    "    res = ''\n",
    "    while a > 0:\n",
    "        res = str(a % b) + res     # преобразование к разным системам счисления\n",
    "        a = a // b\n",
    "    return res\n",
    "\n",
    "a = int(input('Введите значение: '))\n",
    "b = int(input('Введите систему исчисления: '))\n",
    "print(binary(a, b))\n",
    "print(bin(a))\n",
    "print(oct(a))"
   ]
  },
  {
   "cell_type": "markdown",
   "id": "8396a6d2",
   "metadata": {},
   "source": [
    "#### аннотация типов"
   ]
  },
  {
   "cell_type": "code",
   "execution_count": 31,
   "id": "18da7f99",
   "metadata": {},
   "outputs": [
    {
     "name": "stdout",
     "output_type": "stream",
     "text": [
      "Введите значение: 10\n",
      "Введите систему исчисления: 2\n",
      "1010\n",
      "0b1010\n",
      "0o12\n"
     ]
    }
   ],
   "source": [
    "def binary(a: int, b: int)->str:   # аннотацию типов\n",
    "    res = ''\n",
    "    while a > 0:\n",
    "        res = str(a % b) + res\n",
    "        a = a // b\n",
    "    return res\n",
    "\n",
    "a: int = int(input('Введите значение: '))                   # аннотацию типов\n",
    "b: int = int(input('Введите систему исчисления: '))         # аннотацию типов\n",
    "print(binary(a, b))\n",
    "print(bin(a))\n",
    "print(oct(a))"
   ]
  },
  {
   "cell_type": "raw",
   "id": "9384eb0c",
   "metadata": {},
   "source": [
    "Задание №4\n",
    "✔ Напишите программу, которая вычисляет площадь\n",
    "круга и длину окружности по введённому диаметру.\n",
    "✔ Диаметр не превышает 1000 у.е.\n",
    "✔ Точность вычислений должна составлять\n",
    "не менее 42 знаков после запятой."
   ]
  },
  {
   "cell_type": "code",
   "execution_count": 43,
   "id": "d70b01d1",
   "metadata": {},
   "outputs": [
    {
     "name": "stdout",
     "output_type": "stream",
     "text": [
      "Введите диаметр окружности: 10\n",
      "78.539816339744827899949086713604629039764404296875\n",
      "31.415926535897931159979634685441851615905761718750\n"
     ]
    }
   ],
   "source": [
    "import decimal\n",
    "import math\n",
    "\n",
    "STOP_DIAMETR = 1000\n",
    "decimal.getcontext().prec = 50\n",
    "diametr = decimal.Decimal(input('Введите диаметр окружности: '))\n",
    "                                                          \n",
    "if diametr <= STOP_DIAMETR:\n",
    "    square = decimal.Decimal(math.pi) * (diametr / 2) ** 2      # decimal - повышенная точность\n",
    "    print(square)\n",
    "    line = decimal.Decimal(math.pi) * diametr\n",
    "    print(line)\n",
    "else:\n",
    "    print('Вы ввели число вне диапазона')"
   ]
  },
  {
   "cell_type": "raw",
   "id": "7110f0cb",
   "metadata": {},
   "source": [
    "Задание №5\n",
    "✔ Напишите программу, которая решает\n",
    "квадратные уравнения даже если\n",
    "дискриминант отрицательный.\n",
    "✔ Используйте комплексные числа\n",
    "для извлечения квадратного корня."
   ]
  },
  {
   "cell_type": "code",
   "execution_count": 47,
   "id": "8419b9cb",
   "metadata": {},
   "outputs": [
    {
     "name": "stdout",
     "output_type": "stream",
     "text": [
      "-3900\n",
      "(-1.0000000000000004-6.244997998398398j) (-0.9999999999999997+6.244997998398398j)\n"
     ]
    }
   ],
   "source": [
    "a = 5\n",
    "b = 10\n",
    "c = 200\n",
    "\n",
    "D = b ** 2 -4 * a * c\n",
    "print(D)\n",
    "if D >= 0:\n",
    "    x1 = (-b - D ** 0.5)/(2 * a)\n",
    "    x2 = (-b + D ** 0.5)/(2 * a)\n",
    "else:\n",
    "    D = complex(D)\n",
    "    x1 = (-b - D ** 0.5)/(2 * a)\n",
    "    x2 = (-b + D ** 0.5)/(2 * a)\n",
    "\n",
    "print(x1, x2)"
   ]
  },
  {
   "cell_type": "raw",
   "id": "68b28979",
   "metadata": {},
   "source": [
    "Задание №6\n",
    "Напишите программу банкомат.\n",
    "✔ Начальная сумма равна нулю\n",
    "✔ Допустимые действия: пополнить, снять, выйти\n",
    "✔ Сумма пополнения и снятия кратны 50 у.е.\n",
    "✔ Процент за снятие — 1.5% от суммы снятия, но не менее 30 и не более 600 у.е.\n",
    "✔ После каждой третей операции пополнения или снятия начисляются проценты - 3%\n",
    "✔ Нельзя снять больше, чем на счёте\n",
    "✔ При превышении суммы в 5 млн, вычитать налог на богатство 10% перед каждой\n",
    "операцией, даже ошибочной\n",
    "✔ Любое действие выводит сумму денег"
   ]
  }
 ],
 "metadata": {
  "kernelspec": {
   "display_name": "Python 3 (ipykernel)",
   "language": "python",
   "name": "python3"
  },
  "language_info": {
   "codemirror_mode": {
    "name": "ipython",
    "version": 3
   },
   "file_extension": ".py",
   "mimetype": "text/x-python",
   "name": "python",
   "nbconvert_exporter": "python",
   "pygments_lexer": "ipython3",
   "version": "3.9.13"
  }
 },
 "nbformat": 4,
 "nbformat_minor": 5
}
