{
 "cells": [
  {
   "cell_type": "markdown",
   "id": "756dcd58",
   "metadata": {},
   "source": [
    "### Задание №1"
   ]
  },
  {
   "cell_type": "markdown",
   "id": "73e75c14",
   "metadata": {},
   "source": [
    "    ✔ Вручную создайте список с целыми числами, которые повторяются. Получите новый список, который содержит уникальные (без повтора) элементы исходного списка.\n",
    "    ✔ *Подготовьте два решения, короткое и длинное, которое не использует другие коллекции помимо списков."
   ]
  },
  {
   "cell_type": "code",
   "execution_count": 6,
   "id": "1b32f64a",
   "metadata": {},
   "outputs": [
    {
     "name": "stdout",
     "output_type": "stream",
     "text": [
      "[1, 1, 2, 3, 4, 5, 6, 6, 7, 7, 7, 8]\n",
      "[1, 2, 3, 4, 5, 6, 7, 8]\n"
     ]
    }
   ],
   "source": [
    "my_list = [1, 1, 2, 3, 4, 5, 6, 6, 7, 7, 7, 8]   #  короткое решение\n",
    "print(my_list)\n",
    "\n",
    "new_list = list(set(my_list))\n",
    "print(new_list)"
   ]
  },
  {
   "cell_type": "code",
   "execution_count": 17,
   "id": "ddc5994d",
   "metadata": {},
   "outputs": [
    {
     "name": "stdout",
     "output_type": "stream",
     "text": [
      "[1, 1, 2, 3, 4, 5, 6, 6, 7, 7, 7, 8]\n",
      "[1, 2, 3, 4, 5, 6, 7, 8]\n"
     ]
    }
   ],
   "source": [
    "my_list = [1, 1, 2, 3, 4, 5, 6, 6, 7, 7, 7, 8]   #  длинное решение\n",
    "print(my_list)\n",
    "\n",
    "n_list = []\n",
    "\n",
    "for i in my_list:\n",
    "    if i not in n_list:\n",
    "        n_list.append(i)   \n",
    "print(n_list)"
   ]
  },
  {
   "cell_type": "code",
   "execution_count": 48,
   "id": "bfa0c893",
   "metadata": {},
   "outputs": [
    {
     "name": "stdout",
     "output_type": "stream",
     "text": [
      "Введите данные: 234534534\n",
      "Преобразованное значение: 234534534 (Целое положительное число)\n"
     ]
    }
   ],
   "source": [
    "user_input = input(\"Введите данные: \")\n",
    "\n",
    "# Проверка на целое положительное число\n",
    "if user_input.isdigit():\n",
    "    converted_data = int(user_input)\n",
    "    print(\"Преобразованное значение:\", converted_data, \"(Целое положительное число)\")\n",
    "\n",
    "# Проверка на вещественное положительное или отрицательное число\n",
    "elif user_input.replace(\".\", \"\", 1).replace(\"-\", \"\", 1).isdigit():\n",
    "    converted_data = float(user_input)\n",
    "    print(\"Преобразованное значение:\", converted_data, \"(Вещественное число)\")\n",
    "\n",
    "# Проверка на строку с заглавными буквами\n",
    "elif any(char.isupper() for char in user_input):\n",
    "    converted_data = user_input.lower()\n",
    "    print(\"Преобразованное значение:\", converted_data, \"(Строка в нижнем регистре с заглавными буквами)\")\n",
    "\n",
    "# Строка в нижнем регистре в остальных случаях\n",
    "else:\n",
    "    converted_data = user_input.lower()\n",
    "    print(\"Преобразованное значение:\", converted_data, \"(Строка в нижнем регистре)\")"
   ]
  },
  {
   "cell_type": "markdown",
   "id": "de0cc9e6",
   "metadata": {},
   "source": [
    "### Задание № 2"
   ]
  },
  {
   "cell_type": "markdown",
   "id": "2b1c322b",
   "metadata": {},
   "source": [
    "    Пользователь вводит данные. Сделайте проверку данных и преобразуйте если возможно в один из вариантов ниже:\n",
    "    ✔ Целое положительное число\n",
    "    ✔ Вещественное положительное или отрицательное число\n",
    "    ✔ Строку в нижнем регистре, если в строке есть хотя бы одна заглавная буква\n",
    "    ✔ Строку в нижнем регистре в остальных случаях"
   ]
  },
  {
   "cell_type": "code",
   "execution_count": 22,
   "id": "b754e026",
   "metadata": {},
   "outputs": [
    {
     "name": "stdout",
     "output_type": "stream",
     "text": [
      "Enter data: 25 апреля\n",
      "25 апреля <class 'str'>\n"
     ]
    }
   ],
   "source": [
    "data = str(input(\"Enter data: \"))\n",
    "\n",
    "if data.isdigit():\n",
    "    conv = int(data)\n",
    "elif data.replace(\"-\",\"\").replace(\".\",\"\").replace(\",\",\"\").isdigit():\n",
    "    conv = float(dat)\n",
    "elif data.__contains__(r'\\p{Lu}'):\n",
    "    conv = data.lower()\n",
    "else:\n",
    "    conv = data.lower()\n",
    "print(conv, type(conv))"
   ]
  },
  {
   "cell_type": "code",
   "execution_count": 49,
   "id": "a9d04fcf",
   "metadata": {},
   "outputs": [
    {
     "name": "stdout",
     "output_type": "stream",
     "text": [
      "Введите данные: 23523уеццееОЛЛШол\n",
      "Преобразованное значение: 23523уеццееоллшол (Строка в нижнем регистре с заглавными буквами)\n"
     ]
    }
   ],
   "source": [
    "user_input = input(\"Введите данные: \")\n",
    "\n",
    "if user_input.isdigit():\n",
    "    converted_data = int(user_input)\n",
    "    print(f\"Преобразованное значение: {converted_data} (Целое положительное число)\")\n",
    "elif user_input.replace(\".\", \"\", 1).replace(\"-\", \"\", 1).isdigit():\n",
    "    converted_data = float(user_input)\n",
    "    print(f\"Преобразованное значение: {converted_data} (Вещественное число)\")\n",
    "elif any(char.isupper() for char in user_input):\n",
    "    converted_data = user_input.lower()\n",
    "    print(f\"Преобразованное значение: {converted_data} (Строка в нижнем регистре с заглавными буквами)\")\n",
    "else:\n",
    "    converted_data = user_input.lower()\n",
    "    print(f\"Преобразованное значение: {converted_data} (Строка в нижнем регистре)\")"
   ]
  },
  {
   "cell_type": "markdown",
   "id": "a70f342b",
   "metadata": {},
   "source": [
    "### Задание №3"
   ]
  },
  {
   "cell_type": "markdown",
   "id": "d46f761f",
   "metadata": {},
   "source": [
    "    ✔ Создайте вручную кортеж содержащий элементы разных типов.\n",
    "    ✔ Получите из него словарь списков, где:\n",
    "    ключ — тип элемента,\n",
    "    значение — список элементов данного типа."
   ]
  },
  {
   "cell_type": "code",
   "execution_count": null,
   "id": "1641a9a6",
   "metadata": {},
   "outputs": [],
   "source": [
    "my_tuple = (\"Hello\", \"World\", 2, 0, 2, 3, 11.30, True, False, [1,2,3], (1,2,3), {1,2,3}, {1:1, 2:2})\n",
    "\n",
    "my_dict = {}\n",
    "\n",
    "for i in my_tuple:\n",
    "    if type(i) not in my_dict.keys():\n",
    "        my_dict[type(i)] = []\n",
    "        my_dict[type(i)].append(i)\n",
    "    else:\n",
    "        my_dict[type(i)].append(i)\n",
    "\n",
    "print(my_dict)"
   ]
  },
  {
   "cell_type": "markdown",
   "id": "0c3bb3a3",
   "metadata": {},
   "source": [
    "### Задание №4"
   ]
  },
  {
   "cell_type": "markdown",
   "id": "1cefde73",
   "metadata": {},
   "source": [
    "    ✔ Создайте вручную список с повторяющимися элементами.\n",
    "    ✔ Удалите из него все элементы, которые встречаются дважды."
   ]
  },
  {
   "cell_type": "code",
   "execution_count": null,
   "id": "3f34ae1c",
   "metadata": {},
   "outputs": [],
   "source": [
    "my_list = [1,1,1,2,3,4,5,5,5,6,6,7]\n",
    "\n",
    "for i in my_list:\n",
    "    if my_list.count(i) == 2:\n",
    "        my_list.remove(i)\n",
    "        my_list.remove(i)\n",
    "\n",
    "print(my_list)"
   ]
  },
  {
   "cell_type": "markdown",
   "id": "38bb50de",
   "metadata": {},
   "source": [
    "### Задание №5"
   ]
  },
  {
   "cell_type": "markdown",
   "id": "ec5ca32e",
   "metadata": {},
   "source": [
    "    ✔ Создайте вручную список с повторяющимися целыми числами.\n",
    "    ✔ Сформируйте список с порядковыми номерами нечётных элементов исходного списка.\n",
    "    ✔ Нумерация начинается с единицы."
   ]
  },
  {
   "cell_type": "code",
   "execution_count": null,
   "id": "334360c2",
   "metadata": {},
   "outputs": [],
   "source": [
    "my_list = [1,1,1,2,3,4,5,5,5,6,6,7]\n",
    "\n",
    "odd_indexes = []\n",
    "\n",
    "for k,i in enumerate(my_list, 1):\n",
    "    if i % 2:\n",
    "        odd_indexes.append(k)\n",
    "\n",
    "print(odd_indexes)"
   ]
  },
  {
   "cell_type": "markdown",
   "id": "60ab2669",
   "metadata": {},
   "source": [
    "### Задание №6"
   ]
  },
  {
   "cell_type": "markdown",
   "id": "9c9d3c6b",
   "metadata": {},
   "source": [
    "    Пользователь вводит строку текста. Вывести каждое слово с новой строки.\n",
    "    ✔ Строки нумеруются начиная с единицы.\n",
    "    ✔ Слова выводятся отсортированными согласно кодировки Unicode.\n",
    "    ✔ Текст выравнивается по правому краю так, чтобы у самого длинного слова был один пробел между ним и номером строки."
   ]
  },
  {
   "cell_type": "code",
   "execution_count": null,
   "id": "3fad35ec",
   "metadata": {},
   "outputs": [],
   "source": []
  },
  {
   "cell_type": "markdown",
   "id": "186197d4",
   "metadata": {},
   "source": [
    "### Задание №7"
   ]
  },
  {
   "cell_type": "markdown",
   "id": "7b7b25a4",
   "metadata": {},
   "source": [
    "    ✔ Пользователь вводит строку текста.\n",
    "    ✔ Подсчитайте сколько раз встречается каждая буква в строке без использования метода count и с ним.\n",
    "    ✔ Результат сохраните в словаре, где ключ — символ, а значение — частота встречи символа в строке.\n",
    "    ✔ Обратите внимание на порядок ключей. Объясните почему они совпадают или не совпадают в ваших решениях."
   ]
  },
  {
   "cell_type": "code",
   "execution_count": null,
   "id": "6900cc15",
   "metadata": {},
   "outputs": [],
   "source": []
  },
  {
   "cell_type": "markdown",
   "id": "ffcbc0e9",
   "metadata": {},
   "source": [
    "### Задание №8"
   ]
  },
  {
   "cell_type": "markdown",
   "id": "62eef6b9",
   "metadata": {},
   "source": [
    "    Три друга взяли вещи в поход. Сформируйте словарь, где ключ — имя друга, а значение — кортеж вещей. Ответьте на вопросы:\n",
    "    ✔ Какие вещи взяли все три друга\n",
    "    ✔ Какие вещи уникальны, есть только у одного друга\n",
    "    ✔ Какие вещи есть у всех друзей кроме одного и имя того, у кого данная вещь отсутствует\n",
    "    ✔ Для решения используйте операции с множествами. Код должен расширяться на любое большее количество друзей."
   ]
  },
  {
   "cell_type": "code",
   "execution_count": null,
   "id": "66a89592",
   "metadata": {},
   "outputs": [],
   "source": []
  }
 ],
 "metadata": {
  "kernelspec": {
   "display_name": "Python 3 (ipykernel)",
   "language": "python",
   "name": "python3"
  },
  "language_info": {
   "codemirror_mode": {
    "name": "ipython",
    "version": 3
   },
   "file_extension": ".py",
   "mimetype": "text/x-python",
   "name": "python",
   "nbconvert_exporter": "python",
   "pygments_lexer": "ipython3",
   "version": "3.9.13"
  }
 },
 "nbformat": 4,
 "nbformat_minor": 5
}
