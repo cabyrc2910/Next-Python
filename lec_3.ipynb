{
 "cells": [
  {
   "cell_type": "markdown",
   "id": "07049639",
   "metadata": {},
   "source": [
    "## 1. Списки, list"
   ]
  },
  {
   "cell_type": "markdown",
   "id": "8bbe7403",
   "metadata": {},
   "source": [
    "Массив — упорядоченный набор элементов, каждый из которых хранит одно\n",
    "значение, идентифицируемое с помощью одного или нескольких индексов. В\n",
    "простейшем случае массив имеет постоянную длину и хранит единицы данных\n",
    "одного и того же типа, а в качестве индексов выступают целые числа."
   ]
  },
  {
   "cell_type": "code",
   "execution_count": 2,
   "id": "0305a241",
   "metadata": {},
   "outputs": [],
   "source": [
    "list_1 = list()\n",
    "list_2 = list((3.14, True, \"Hello world!\"))\n",
    "list_3 = []\n",
    "list_4 = [3.14, True, \"Hello world!\"]"
   ]
  },
  {
   "cell_type": "code",
   "execution_count": 4,
   "id": "16689523",
   "metadata": {},
   "outputs": [
    {
     "name": "stdout",
     "output_type": "stream",
     "text": [
      "2\n"
     ]
    }
   ],
   "source": [
    "my_list = [2, 4, 6, 8, 10, 12]\n",
    "print(my_list[0])\n",
    "# print(my_list[6]) # IndexError: list index out of range  Не выходить за пределы индекса"
   ]
  },
  {
   "cell_type": "code",
   "execution_count": 6,
   "id": "1b77195f",
   "metadata": {},
   "outputs": [
    {
     "name": "stdout",
     "output_type": "stream",
     "text": [
      "12\n"
     ]
    }
   ],
   "source": [
    "print(my_list[-1])\n",
    "# print(my_list[-10]) # IndexError: list index out of range   Не выходить за пределы индекса"
   ]
  },
  {
   "cell_type": "markdown",
   "id": "c0bdec93",
   "metadata": {},
   "source": [
    "##### Метод append\n",
    "Для добавления нового элемента в конец списка используется метод append. Метод принимает один аргумент — объект который будет добавлен в конец динамически увеличенного списка"
   ]
  },
  {
   "cell_type": "code",
   "execution_count": 7,
   "id": "04dc8c92",
   "metadata": {},
   "outputs": [
    {
     "name": "stdout",
     "output_type": "stream",
     "text": [
      "[None, 42]\n",
      "[None, 42, 'Hello world!']\n",
      "[None, 42, 'Hello world!', [1, 3, 5, 7]]\n"
     ]
    }
   ],
   "source": [
    "a = 42\n",
    "b = 'Hello world!'\n",
    "c = [1, 3, 5, 7]\n",
    "my_list = [None]\n",
    "my_list.append(a)\n",
    "print(my_list)\n",
    "my_list.append(b)\n",
    "8\n",
    "print(my_list)\n",
    "my_list.append(c)\n",
    "print(my_list)"
   ]
  },
  {
   "cell_type": "code",
   "execution_count": 10,
   "id": "d7f4d5b3",
   "metadata": {},
   "outputs": [
    {
     "name": "stdout",
     "output_type": "stream",
     "text": [
      "[None, 42, 'Hello world!', [1, 3, 5, 7], [...], [...], [...]]\n"
     ]
    }
   ],
   "source": [
    "my_list.append(my_list)  # обьект ссылается сам на себя (циклическая ссылка)\n",
    "print(my_list) "
   ]
  },
  {
   "cell_type": "markdown",
   "id": "0ae7c7f1",
   "metadata": {},
   "source": [
    "#### Метод extend"
   ]
  },
  {
   "cell_type": "markdown",
   "id": "5e689956",
   "metadata": {},
   "source": [
    "Метод extend ведёт себя аналогично append, то есть добавляет элементы в конец\n",
    "списка. В качестве аргумента extend принимает последовательность, итерируется\n",
    "по ней слева направо и каждый элемент добавляет в новую ячейку списка."
   ]
  },
  {
   "cell_type": "code",
   "execution_count": 97,
   "id": "819f855f",
   "metadata": {},
   "outputs": [
    {
     "name": "stdout",
     "output_type": "stream",
     "text": [
      "[None]\n",
      "[None, 'H', 'e', 'l', 'l', 'o', ' ', 'w', 'o', 'r', 'l', 'd', '!']\n",
      "[None, 'H', 'e', 'l', 'l', 'o', ' ', 'w', 'o', 'r', 'l', 'd', '!', 1, 3, 5, 7]\n",
      "[None, 'H', 'e', 'l', 'l', 'o', ' ', 'w', 'o', 'r', 'l', 'd', '!', 1, 3, 5, 7, None, 'H', 'e', 'l', 'l', 'o', ' ', 'w', 'o', 'r', 'l', 'd', '!', 1, 3, 5, 7]\n"
     ]
    }
   ],
   "source": [
    "a = 42\n",
    "b = 'Hello world!'\n",
    "c = [1, 3, 5, 7]\n",
    "my_list = [None]\n",
    " \n",
    "# my_list.extend(a) # TypeError: 'int' object is not iterable\n",
    "print(my_list)\n",
    "\n",
    "my_list.extend(b)\n",
    "print(my_list)\n",
    "\n",
    "my_list.extend(c)\n",
    "print(my_list)\n",
    "\n",
    "my_list.extend(my_list)\n",
    "print(my_list)"
   ]
  },
  {
   "cell_type": "markdown",
   "id": "f3953dd8",
   "metadata": {},
   "source": [
    "    ● extend(a) — если в метод передать не коллекцию, получим ошибку TypeError.\n",
    "    ● extend(b) — строка воспринимается как коллекция, в результате каждый символ строки помещается в новую ячейку списка.\n",
    "    ● extend(c) — итерируемся по списку, c последовательно добавляя его элементы в список my_list\n",
    "    ● extend(my_list) — удваиваем список, добавляя копию всех его элементов."
   ]
  },
  {
   "cell_type": "markdown",
   "id": "29980006",
   "metadata": {},
   "source": [
    "#### Метод pop"
   ]
  },
  {
   "cell_type": "markdown",
   "id": "1014fc13",
   "metadata": {},
   "source": [
    "Метод pop позволяет удалить элемент списка. Удаляемый элемент возвращается\n",
    "как результат работы метода."
   ]
  },
  {
   "cell_type": "code",
   "execution_count": 100,
   "id": "47112363",
   "metadata": {},
   "outputs": [
    {
     "name": "stdout",
     "output_type": "stream",
     "text": [
      "12 [2, 4, 6, 8, 10]\n",
      "10 [2, 4, 6, 8]\n",
      "6 [2, 4, 8]\n"
     ]
    }
   ],
   "source": [
    "my_list = [2, 4, 6, 8, 10, 12]\n",
    "\n",
    "spam = my_list.pop()\n",
    "print(spam, my_list)\n",
    "\n",
    "spam = my_list.pop()\n",
    "print(spam, my_list)\n",
    "\n",
    "eggs = my_list.pop(2)\n",
    "print(eggs, my_list)\n",
    "\n",
    "# err = my_list.pop(10) # IndexError: pop index out of range"
   ]
  },
  {
   "cell_type": "markdown",
   "id": "9ee62eb4",
   "metadata": {},
   "source": [
    "#### Метод count\n",
    "Метод count подсчитывает вхождение элемента в список."
   ]
  },
  {
   "cell_type": "markdown",
   "id": "496d7a2f",
   "metadata": {},
   "source": []
  },
  {
   "cell_type": "code",
   "execution_count": 14,
   "id": "c3ea5327",
   "metadata": {},
   "outputs": [
    {
     "name": "stdout",
     "output_type": "stream",
     "text": [
      "4\n",
      "0\n"
     ]
    }
   ],
   "source": [
    "my_list = [2, 4, 6, 2, 8, 10, 12, 2, 4, 14, 2]\n",
    "\n",
    "spam = my_list.count(2)\n",
    "print(spam)                       # кол-во 2 в списке 4\n",
    "\n",
    "eggs = my_list.count(3)\n",
    "print(eggs)                       #  считаем несуществующий элемент  0"
   ]
  },
  {
   "cell_type": "markdown",
   "id": "bf22d2fd",
   "metadata": {},
   "source": [
    "#### Метод index\n",
    "Метод index возвращает индекс переданного объекта внутри списка,\n",
    "первого вхождения элемента"
   ]
  },
  {
   "cell_type": "code",
   "execution_count": 101,
   "id": "f01f19c3",
   "metadata": {},
   "outputs": [
    {
     "name": "stdout",
     "output_type": "stream",
     "text": [
      "1\n",
      "8\n"
     ]
    }
   ],
   "source": [
    "my_list = [2, 4, 6, 2, 8, 10, 12, 2, 4, 14, 2]\n",
    "\n",
    "spam = my_list.index(4)  \n",
    "print(spam)              # 4 элемент по значению\n",
    "\n",
    "eggs = my_list.index(4, spam + 1, 90)   \n",
    "print(eggs)              #  ищем от +1 ячейки до 90\n",
    "\n",
    "# err = my_list.index(3) # ValueError: 3 is not in list"
   ]
  },
  {
   "cell_type": "markdown",
   "id": "90bb8376",
   "metadata": {},
   "source": [
    "#### Метод insert\n",
    "Метод insert принимает на вход два аргумента — индекс для вставки и объект\n",
    "вставки. Метод добавляет элемент после индекса."
   ]
  },
  {
   "cell_type": "code",
   "execution_count": 102,
   "id": "dbdf6e7e",
   "metadata": {},
   "outputs": [
    {
     "name": "stdout",
     "output_type": "stream",
     "text": [
      "[2, 4, 555, 6, 8, 10, 12]\n",
      "[2, 4, 555, 6, 8, 13, 10, 12]\n",
      "[2, 4, 555, 6, 8, 13, 10, 12, 73]\n"
     ]
    }
   ],
   "source": [
    "my_list = [2, 4, 6, 8, 10, 12]\n",
    "my_list.insert(2, 555)\n",
    "print(my_list)       # 555 вставляем 2 элементом  \n",
    "\n",
    "my_list.insert(-2, 13)\n",
    "print(my_list)       # 13 вставляем 3 элементом с конца\n",
    "\n",
    "my_list.insert(42, 73) # my_list.append(73)\n",
    "print(my_list)         # 73 вставляем в конец списка методом сдвига"
   ]
  },
  {
   "cell_type": "markdown",
   "id": "8b72ae74",
   "metadata": {},
   "source": [
    "#### Метод remove\n",
    "Метод remove принимает на вход объект, производит его поиск в списке и удаляет в\n",
    "случае нахождения."
   ]
  },
  {
   "cell_type": "code",
   "execution_count": 103,
   "id": "7bbb809c",
   "metadata": {},
   "outputs": [
    {
     "name": "stdout",
     "output_type": "stream",
     "text": [
      "[2, 4, 8, 10, 12, 6]\n",
      "[2, 4, 8, 10, 12, 6]\n"
     ]
    }
   ],
   "source": [
    "my_list = [2, 4, 6, 8, 10, 12, 6]\n",
    "my_list.remove(6) \n",
    "print(my_list)    # удаляем число 6 слева направо\n",
    "\n",
    "# my_list.remove(3) # ValueError: list.remove(x): x not in list\n",
    "print(my_list)"
   ]
  },
  {
   "cell_type": "markdown",
   "id": "b713a2de",
   "metadata": {},
   "source": [
    "### Сортировка списков"
   ]
  },
  {
   "cell_type": "code",
   "execution_count": 18,
   "id": "e38eeb02",
   "metadata": {},
   "outputs": [
    {
     "ename": "TypeError",
     "evalue": "'<' not supported between instances of 'int' and 'str'",
     "output_type": "error",
     "traceback": [
      "\u001b[1;31m---------------------------------------------------------------------------\u001b[0m",
      "\u001b[1;31mTypeError\u001b[0m                                 Traceback (most recent call last)",
      "\u001b[1;32m~\\AppData\\Local\\Temp\\ipykernel_688\\321471356.py\u001b[0m in \u001b[0;36m<module>\u001b[1;34m\u001b[0m\n\u001b[0;32m      1\u001b[0m \u001b[0mmy_list\u001b[0m \u001b[1;33m=\u001b[0m \u001b[1;33m[\u001b[0m\u001b[1;34m'H'\u001b[0m\u001b[1;33m,\u001b[0m \u001b[1;34m'e'\u001b[0m\u001b[1;33m,\u001b[0m \u001b[1;34m'l'\u001b[0m\u001b[1;33m,\u001b[0m \u001b[1;34m'l'\u001b[0m\u001b[1;33m,\u001b[0m \u001b[1;34m'o'\u001b[0m\u001b[1;33m,\u001b[0m \u001b[1;36m1\u001b[0m\u001b[1;33m,\u001b[0m \u001b[1;36m3\u001b[0m\u001b[1;33m,\u001b[0m \u001b[1;36m5\u001b[0m\u001b[1;33m,\u001b[0m \u001b[1;36m7\u001b[0m\u001b[1;33m]\u001b[0m\u001b[1;33m\u001b[0m\u001b[1;33m\u001b[0m\u001b[0m\n\u001b[1;32m----> 2\u001b[1;33m \u001b[0mmy_list\u001b[0m\u001b[1;33m.\u001b[0m\u001b[0msort\u001b[0m\u001b[1;33m(\u001b[0m\u001b[1;33m)\u001b[0m \u001b[1;31m# TypeError: '<' not supported between instances of 'int' and 'str'\u001b[0m\u001b[1;33m\u001b[0m\u001b[1;33m\u001b[0m\u001b[0m\n\u001b[0m\u001b[0;32m      3\u001b[0m \u001b[0mres\u001b[0m \u001b[1;33m=\u001b[0m \u001b[0msorted\u001b[0m\u001b[1;33m(\u001b[0m\u001b[0mmy_list\u001b[0m\u001b[1;33m)\u001b[0m \u001b[1;31m# TypeError: '<' not supported between instances of 'int' and 'str'\u001b[0m\u001b[1;33m\u001b[0m\u001b[1;33m\u001b[0m\u001b[0m\n",
      "\u001b[1;31mTypeError\u001b[0m: '<' not supported between instances of 'int' and 'str'"
     ]
    }
   ],
   "source": [
    "my_list = ['H', 'e', 'l', 'l', 'o', 1, 3, 5, 7]\n",
    "my_list.sort() # TypeError: '<' not supported between instances of 'int' and 'str'\n",
    "res = sorted(my_list) # TypeError: '<' not supported between instances of 'int' and 'str'"
   ]
  },
  {
   "cell_type": "markdown",
   "id": "0c51448f",
   "metadata": {},
   "source": [
    "#### Функция sorted()\n",
    "Функция sorted принимает на вход любую коллекцию по которой можно\n",
    "итерироваться и возвращает отсортированный список."
   ]
  },
  {
   "cell_type": "code",
   "execution_count": 19,
   "id": "461894d8",
   "metadata": {},
   "outputs": [
    {
     "name": "stdout",
     "output_type": "stream",
     "text": [
      "[4, 8, 2, 9, 1, 7, 2]\n",
      "[1, 2, 2, 4, 7, 8, 9]\n",
      "[4, 8, 2, 9, 1, 7, 2]\n",
      "[9, 8, 7, 4, 2, 2, 1]\n"
     ]
    }
   ],
   "source": [
    "my_list = [4, 8, 2, 9, 1, 7, 2]\n",
    "sort_list = sorted(my_list)\n",
    "print(my_list, sort_list, sep='\\n')\n",
    "\n",
    "rev_list = sorted(my_list, reverse=True)   \n",
    "print(my_list, rev_list, sep='\\n')"
   ]
  },
  {
   "cell_type": "markdown",
   "id": "a640dc53",
   "metadata": {},
   "source": [
    "#### Метод sort()\n",
    "Метод sort осуществляет сортировку элементов списка без создания копии, inplace."
   ]
  },
  {
   "cell_type": "code",
   "execution_count": 20,
   "id": "1d3e3298",
   "metadata": {},
   "outputs": [
    {
     "name": "stdout",
     "output_type": "stream",
     "text": [
      "[1, 2, 2, 4, 7, 8, 9]\n",
      "[9, 8, 7, 4, 2, 2, 1]\n"
     ]
    }
   ],
   "source": [
    "my_list = [4, 8, 2, 9, 1, 7, 2]\n",
    "my_list.sort()\n",
    "print(my_list)\n",
    "\n",
    "my_list.sort(reverse=True)\n",
    "print(my_list)      # сортировка по убыванию"
   ]
  },
  {
   "cell_type": "markdown",
   "id": "991b22f0",
   "metadata": {},
   "source": [
    "### Разворот списков\n",
    "Python поддерживает операции по развороту списка. Первый элемент становится\n",
    "последним, второй — предпоследним и так далее."
   ]
  },
  {
   "cell_type": "markdown",
   "id": "338669d8",
   "metadata": {},
   "source": [
    "#### Функция reversed()\n",
    "Функция принимает на вход последовательность, которая поддерживает порядок\n",
    "элементов, возвращает функция объект итератор с обратным порядком элементов."
   ]
  },
  {
   "cell_type": "code",
   "execution_count": 109,
   "id": "eddd4ed6",
   "metadata": {},
   "outputs": [
    {
     "name": "stdout",
     "output_type": "stream",
     "text": [
      "<class 'list_reverseiterator'> <list_reverseiterator object at 0x0000021258E03700>\n",
      "[2, 7, 1, 9, 2, 8, 4]\n",
      "2\n",
      "7\n",
      "1\n",
      "9\n",
      "2\n",
      "8\n",
      "4\n"
     ]
    }
   ],
   "source": [
    "my_list = [4, 8, 2, 9, 1, 7, 2]\n",
    "res = reversed(my_list)\n",
    "print(type(res), res)\n",
    "\n",
    "rev_list = list(reversed(my_list))\n",
    "print(rev_list)\n",
    "\n",
    "for item in reversed(my_list):\n",
    "    print(item)"
   ]
  },
  {
   "cell_type": "markdown",
   "id": "d62f64b0",
   "metadata": {},
   "source": [
    "#### Метод reverse() и синтаксический сахар [::-1]\n",
    "Если нам нужно развёрнутая версия списка логичные и удобнее использовать\n",
    "встроенный метод reverse."
   ]
  },
  {
   "cell_type": "code",
   "execution_count": 23,
   "id": "037db5e0",
   "metadata": {},
   "outputs": [
    {
     "name": "stdout",
     "output_type": "stream",
     "text": [
      "[2, 7, 1, 9, 2, 8, 4]\n"
     ]
    }
   ],
   "source": [
    "my_list = [4, 8, 2, 9, 1, 7, 2]\n",
    "my_list.reverse()\n",
    "print(my_list)"
   ]
  },
  {
   "cell_type": "code",
   "execution_count": 110,
   "id": "d13985bb",
   "metadata": {},
   "outputs": [
    {
     "name": "stdout",
     "output_type": "stream",
     "text": [
      "[4, 8, 2, 9, 1, 7, 2]\n",
      "[2, 7, 1, 9, 2, 8, 4]\n"
     ]
    }
   ],
   "source": [
    "my_list = [4, 8, 2, 9, 1, 7, 2]\n",
    "new_list = my_list[::-1]  #  синтаксический сахар, срез списка в обратном порядке, разворот\n",
    "print(my_list, new_list, sep='\\n')"
   ]
  },
  {
   "cell_type": "markdown",
   "id": "48ca56d9",
   "metadata": {},
   "source": [
    "### Создание копий\n",
    "Мы уже разобрали способы создания отсортированной копии списка, развернутой\n",
    "копии списка. На этом возможности копирования не заканчиваются."
   ]
  },
  {
   "cell_type": "markdown",
   "id": "300aa4ef",
   "metadata": {},
   "source": [
    "### Срезы\n",
    "Используя квадратные скобки можно делать частичные копии списка - срезы.\n",
    "Базовый синтаксис следующий.\n",
    "   - list[start:stop:step]\n",
    "   - start указывает на первый индекс, который включается в срез. При отсутствии значения start равен нулю, началу списка.\n",
    "   - stop указывает на последний индекс, который не включается в срез. При отсутствии значения stop равен последнему элементу списка и включает его в срез.\n",
    "   - step — шаг движения от star до stop. По умолчанию step равен единице, все элементы по порядку."
   ]
  },
  {
   "cell_type": "code",
   "execution_count": 25,
   "id": "b69a7ce5",
   "metadata": {},
   "outputs": [
    {
     "name": "stdout",
     "output_type": "stream",
     "text": [
      "[6, 8, 12]\n",
      "[2, 6, 8, 12]\n",
      "[6, 8, 12, 16]\n",
      "[6, 2, 8, 10, 12]\n",
      "[16, 14, 12, 10, 8]\n",
      "[2, 8, 10, 12, 14, 16, 18]\n",
      "[2, 4, 6, 2, 8, 10, 12]\n"
     ]
    }
   ],
   "source": [
    "my_list = [2, 4, 6, 2, 8, 10, 12, 14, 16, 18]\n",
    "print(my_list[2:7:2])   #  [стартовый индекс; индекс стоп остановки; степ - шаг]\n",
    "print(my_list[:7:2])\n",
    "print(my_list[2::2])\n",
    "print(my_list[2:7:])\n",
    "print(my_list[8:3:-1])\n",
    "print(my_list[3::])\n",
    "print(my_list[:7:])"
   ]
  },
  {
   "cell_type": "markdown",
   "id": "145312a8",
   "metadata": {},
   "source": [
    "#### Метод copy()\n",
    "Метод copy создаёт поверхностную копию списка. Начнём с плохого примера, чтобы\n",
    "понять пользу копий."
   ]
  },
  {
   "cell_type": "code",
   "execution_count": 26,
   "id": "18b919ee",
   "metadata": {},
   "outputs": [
    {
     "name": "stdout",
     "output_type": "stream",
     "text": [
      "[2, 4, 6, 2, 8, 10, 12, 14, 16, 18]\n",
      "[2, 4, 6, 2, 8, 10, 12, 14, 16, 18]\n",
      "[2, 4, 555, 2, 8, 10, 12, 14, 16, 18]\n",
      "[2, 4, 555, 2, 8, 10, 12, 14, 16, 18]\n"
     ]
    }
   ],
   "source": [
    "my_list = [2, 4, 6, 2, 8, 10, 12, 14, 16, 18]\n",
    "new_list = my_list\n",
    "print(my_list, new_list, sep='\\n')\n",
    "\n",
    "my_list[2] = 555\n",
    "print(my_list, new_list, sep='\\n')"
   ]
  },
  {
   "cell_type": "code",
   "execution_count": 27,
   "id": "fea6b06a",
   "metadata": {},
   "outputs": [
    {
     "name": "stdout",
     "output_type": "stream",
     "text": [
      "[2, 4, 6, 2, 8, 10, 12, 14, 16, 18]\n",
      "[2, 4, 6, 2, 8, 10, 12, 14, 16, 18]\n",
      "[2, 4, 555, 2, 8, 10, 12, 14, 16, 18]\n",
      "[2, 4, 6, 2, 8, 10, 12, 14, 16, 18]\n"
     ]
    }
   ],
   "source": [
    "my_list = [2, 4, 6, 2, 8, 10, 12, 14, 16, 18]\n",
    "new_list = my_list.copy()\n",
    "print(my_list, new_list, sep='\\n')\n",
    "\n",
    "my_list[2] = 555\n",
    "print(my_list, new_list, sep='\\n')"
   ]
  },
  {
   "cell_type": "markdown",
   "id": "7dc0b4ef",
   "metadata": {},
   "source": [
    "#### Зачем нужна функция copy.deepcopy()\n",
    "Иногда программисту приходится работать с вложенными друг в друга\n",
    "коллекциями. Например матрица или список списков."
   ]
  },
  {
   "cell_type": "code",
   "execution_count": 28,
   "id": "1dd7c76f",
   "metadata": {},
   "outputs": [
    {
     "name": "stdout",
     "output_type": "stream",
     "text": [
      "[[1, 2, 3], [4, 5, 6], [7, 8, 9]]\n",
      "[[1, 2, 3], [4, 5, 6], [7, 8, 9]]\n",
      "[[1, 555, 3], [4, 5, 6], [7, 8, 9]]\n",
      "[[1, 555, 3], [4, 5, 6], [7, 8, 9]]\n"
     ]
    }
   ],
   "source": [
    "matrix = [[1, 2, 3], [4, 5, 6], [7, 8, 9]]\n",
    "new_m = matrix.copy()\n",
    "print(matrix, new_m, sep='\\n')\n",
    "\n",
    "matrix[0][1] = 555\n",
    "print(matrix, new_m, sep='\\n')"
   ]
  },
  {
   "cell_type": "markdown",
   "id": "eb143756",
   "metadata": {},
   "source": [
    "Метод copy создал поверхностную копию, копию верхнего уровня. Изменения же вложенных объектов отразится и на оригинале. В таком случае для создания полной копии любой глубины вложенности используют функцию deepcopy из модуля copy."
   ]
  },
  {
   "cell_type": "code",
   "execution_count": 30,
   "id": "5e9b17cf",
   "metadata": {},
   "outputs": [
    {
     "name": "stdout",
     "output_type": "stream",
     "text": [
      "[[1, 2, 3], [4, 5, 6], [7, 8, 9]]\n",
      "[[1, 2, 3], [4, 5, 6], [7, 8, 9]]\n",
      "[[1, 555, 3], [4, 5, 6], [7, 8, 9]]\n",
      "[[1, 2, 3], [4, 5, 6], [7, 8, 9]]\n"
     ]
    }
   ],
   "source": [
    "import copy\n",
    "matrix = [[1, 2, 3], [4, 5, 6], [7, 8, 9]]\n",
    "new_m = copy.deepcopy(matrix)\n",
    "print(matrix, new_m, sep='\\n')\n",
    "matrix[0][1] = 555\n",
    "print(matrix, new_m, sep='\\n')"
   ]
  },
  {
   "cell_type": "markdown",
   "id": "331b2711",
   "metadata": {},
   "source": [
    "#### Функция len\n",
    "На вход она принимает любую коллекцию, в которой можно посчитать количество элементов."
   ]
  },
  {
   "cell_type": "code",
   "execution_count": 31,
   "id": "779bf7db",
   "metadata": {},
   "outputs": [
    {
     "name": "stdout",
     "output_type": "stream",
     "text": [
      "10\n",
      "3\n",
      "4\n"
     ]
    }
   ],
   "source": [
    "my_list = [2, 4, 6, 2, 8, 10, 12, 14, 16, 18]\n",
    "matrix = [[1, 2, 3, 4], [5, 6, 7, 8], [9, 10, 11, 12]]\n",
    "print(len(my_list))\n",
    "print(len(matrix))\n",
    "print(len(matrix[1]))"
   ]
  },
  {
   "cell_type": "markdown",
   "id": "bc250b8a",
   "metadata": {},
   "source": [
    "##### Задание\n",
    "Перед вами список и несколько строк кода, которые его меняют. Напишите что\n",
    "вернёт каждая из строк кода. Попробуйте справится с заданием без запуска кода. У\n",
    "вас 3 минуты."
   ]
  },
  {
   "cell_type": "code",
   "execution_count": 115,
   "id": "1ed172c5",
   "metadata": {},
   "outputs": [
    {
     "name": "stdout",
     "output_type": "stream",
     "text": [
      "[6, 8]\n",
      "18\n",
      "None\n",
      "None\n",
      "[2, 2, 4, 6, 8, 10, 12, 14, 16, 42, 314]\n",
      "None\n",
      "[314, 42, 16, 14, 12, 10, 8, 6, 4, 2, 2]\n"
     ]
    }
   ],
   "source": [
    "my_list = [2, 4, 6, 2, 8, 10, 12, 14, 16, 18]\n",
    "print(my_list[2:6:2])                # [6, 8]\n",
    "print(my_list.pop())                 #  18\n",
    "print(my_list.extend([314, 42]))     #  None\n",
    "print(my_list.sort(reverse=False))   #  None\n",
    "print(my_list)                       #  [2, 2, 4, 6, 8, 10, 12, 14, 16, 42, 314]\n",
    "print(my_list.sort(reverse=True))\n",
    "print(my_list)                       #  [314, 42, 16, 14, 12, 10, 8, 6, 4, 2, 2]"
   ]
  },
  {
   "cell_type": "markdown",
   "id": "423075fc",
   "metadata": {},
   "source": [
    "## 2. Строки, str"
   ]
  },
  {
   "cell_type": "markdown",
   "id": "b72885a5",
   "metadata": {},
   "source": [
    "#### Работа со строками как с массивами"
   ]
  },
  {
   "cell_type": "code",
   "execution_count": 34,
   "id": "8142e699",
   "metadata": {},
   "outputs": [
    {
     "name": "stdout",
     "output_type": "stream",
     "text": [
      "w\n",
      "lo w\n"
     ]
    }
   ],
   "source": [
    "text = 'Hello world!'\n",
    "print(text[6])\n",
    "print(text[3:7])"
   ]
  },
  {
   "cell_type": "code",
   "execution_count": 35,
   "id": "e1589e63",
   "metadata": {},
   "outputs": [
    {
     "name": "stdout",
     "output_type": "stream",
     "text": [
      "Hello world!\n",
      "HeLLo world!\n"
     ]
    }
   ],
   "source": [
    "new_txt = text.replace('l', 'L', 2)\n",
    "print(text, new_txt, sep='\\n')"
   ]
  },
  {
   "cell_type": "markdown",
   "id": "d53c952d",
   "metadata": {},
   "source": [
    "#### Методы count, index, find\n",
    "Как и у списка, строка поддерживает методы count для подсчёта вхождения и index\n",
    "для поиска элемента. Но у строки появился и новый метод find. Он работает\n",
    "аналогично index. Но если искомая подстрока отсутствует, вместо ошибки\n",
    "возвращает -1."
   ]
  },
  {
   "cell_type": "code",
   "execution_count": 36,
   "id": "7b6af1be",
   "metadata": {},
   "outputs": [
    {
     "name": "stdout",
     "output_type": "stream",
     "text": [
      "3\n",
      "2\n",
      "2\n",
      "-1\n"
     ]
    }
   ],
   "source": [
    "text = 'Hello world!'\n",
    "print(text.count('l'))\n",
    "print(text.index('l'))\n",
    "print(text.find('l'))\n",
    "print(text.find('z'))"
   ]
  },
  {
   "cell_type": "markdown",
   "id": "29059825",
   "metadata": {},
   "source": [
    "#### Реверс строк\n",
    "Для разворота строки используется обратный срез, как и в случае со списком."
   ]
  },
  {
   "cell_type": "code",
   "execution_count": 37,
   "id": "e01f0c92",
   "metadata": {},
   "outputs": [
    {
     "name": "stdout",
     "output_type": "stream",
     "text": [
      "!dlrow olleH\n"
     ]
    }
   ],
   "source": [
    "text = 'Hello world!'\n",
    "print(text[::-1])"
   ]
  },
  {
   "cell_type": "markdown",
   "id": "bf19a1ff",
   "metadata": {},
   "source": [
    "#### Форматирование строк\n",
    "Опытные программисты могут назвать 5-7 способов форматирования строк.\n",
    "Разбирать их все нет смысла. Рассмотрим три “главных” на примерах."
   ]
  },
  {
   "cell_type": "markdown",
   "id": "ce078ec6",
   "metadata": {},
   "source": [
    "##### Форматирование через %\n",
    "Форматирование с использованием символа % является старым способом указания\n",
    "формата. Его вы можете встретить в коде, который писали очень давно. В\n",
    "настоящее время он используется лишь в некоторых модулях для задания формата\n",
    "вывода данных."
   ]
  },
  {
   "cell_type": "code",
   "execution_count": 38,
   "id": "cd53f527",
   "metadata": {},
   "outputs": [
    {
     "name": "stdout",
     "output_type": "stream",
     "text": [
      "Меня зовут Alex и мне 12 лет\n"
     ]
    }
   ],
   "source": [
    "name = 'Alex'\n",
    "age = 12\n",
    "text = 'Меня зовут %s и мне %d лет' % (name, age)\n",
    "print(text)"
   ]
  },
  {
   "cell_type": "markdown",
   "id": "59688d20",
   "metadata": {},
   "source": [
    "#### Метод format\n",
    "Метод формат является строковым методом и позволяет соединять заранее\n",
    "заготовленный текст с переменными. Долгое время был основным способом\n",
    "форматирования. До версии Python 3.6, если быть точным."
   ]
  },
  {
   "cell_type": "code",
   "execution_count": 40,
   "id": "471e893b",
   "metadata": {},
   "outputs": [
    {
     "name": "stdout",
     "output_type": "stream",
     "text": [
      "Меня зовут Alex и мне 12 лет\n"
     ]
    }
   ],
   "source": [
    "name = 'Alex'\n",
    "age = 12\n",
    "text = 'Меня зовут {} и мне {} лет'.format(name, age)\n",
    "print(text)"
   ]
  },
  {
   "cell_type": "markdown",
   "id": "12a48fd6",
   "metadata": {},
   "source": [
    "#### f-строка\n",
    "- Начиная с Python 3.7 для форматирования текста используют f-строки. Они работают быстрее, чем старые способы форматирования. А некоторые разработчики языка предлагают сделать их строками по умолчанию в одном из будущих релизов.\n",
    "- f-строки похожи на более короткую и читаемую запись метода формат."
   ]
  },
  {
   "cell_type": "code",
   "execution_count": 41,
   "id": "93a0e166",
   "metadata": {},
   "outputs": [
    {
     "name": "stdout",
     "output_type": "stream",
     "text": [
      "Меня зовут Alex и мне 12 лет\n"
     ]
    }
   ],
   "source": [
    "name = 'Alex'\n",
    "age = 12\n",
    "text = f'Меня зовут {name} и мне {age} лет'\n",
    "print(text)"
   ]
  },
  {
   "cell_type": "code",
   "execution_count": 44,
   "id": "d989a94c",
   "metadata": {},
   "outputs": [
    {
     "name": "stdout",
     "output_type": "stream",
     "text": [
      "{Фигурные скобки} и {name}\n"
     ]
    }
   ],
   "source": [
    "print(f'{{Фигурные скобки}} и {{name}}') # Для печати фигурных скобок используется две фигурные скобки слитно."
   ]
  },
  {
   "cell_type": "markdown",
   "id": "cf1b72be",
   "metadata": {},
   "source": [
    "#### Уточнение формата\n",
    "Существую различные способы уточнения способа вывода значения переменной."
   ]
  },
  {
   "cell_type": "code",
   "execution_count": 47,
   "id": "ebaf277f",
   "metadata": {},
   "outputs": [
    {
     "ename": "IndentationError",
     "evalue": "expected an indented block (3312106215.py, line 5)",
     "output_type": "error",
     "traceback": [
      "\u001b[1;36m  File \u001b[1;32m\"C:\\Users\\Иван\\AppData\\Local\\Temp\\ipykernel_688\\3312106215.py\"\u001b[1;36m, line \u001b[1;32m5\u001b[0m\n\u001b[1;33m    print(f'{item:>10}')\u001b[0m\n\u001b[1;37m    ^\u001b[0m\n\u001b[1;31mIndentationError\u001b[0m\u001b[1;31m:\u001b[0m expected an indented block\n"
     ]
    }
   ],
   "source": [
    "pi = 3.1415\n",
    "print(f'Число Пи с точностью два знака: {pi:.2f}')\n",
    "data = [3254, 4364314532, 43465474, 2342, 462256, 1747]\n",
    "for item in data:\n",
    "print(f'{item:>10}')\n",
    "22\n",
    "num = 2 * pi * data[1]\n",
    "print(f'{num = :_}')"
   ]
  },
  {
   "cell_type": "markdown",
   "id": "9d75a181",
   "metadata": {},
   "source": [
    "    ● :.2f — число пи выводим с точность два знака после запятой\n",
    "    ● :>10 — элементы списка выводятся с выравниванием по правому краю и общей шириной вывода в 10 символов\n",
    "    ● = — выводим имя переменной, знак равенства с пробелами до и после него и только потом значение.\n",
    "    ● :_ — число разделяется символом подчёркивания для деления на блоки по 3 цифры."
   ]
  },
  {
   "cell_type": "markdown",
   "id": "36503211",
   "metadata": {},
   "source": [
    "#### Методы строк"
   ]
  },
  {
   "cell_type": "markdown",
   "id": "eca30de4",
   "metadata": {},
   "source": [
    "##### Метод split\n",
    "Метод split позволяет разбить строку на отдельные элементы в соответствии с разделителем и поместить результат в список."
   ]
  },
  {
   "cell_type": "code",
   "execution_count": 56,
   "id": "6ba8631d",
   "metadata": {},
   "outputs": [
    {
     "name": "stdout",
     "output_type": "stream",
     "text": [
      "['https:', '', 'habr.com', 'ru', 'users', 'dzhoker1', 'posts', '']\n"
     ]
    }
   ],
   "source": [
    "link = 'https://habr.com/ru/users/dzhoker1/posts/'\n",
    "urls = link.split('/')\n",
    "print(urls) # мы взяли ссылку и разделили её на отдельные компоненты по символу “/”."
   ]
  },
  {
   "cell_type": "code",
   "execution_count": 57,
   "id": "a6524f0d",
   "metadata": {},
   "outputs": [
    {
     "name": "stdout",
     "output_type": "stream",
     "text": [
      "Введите 3 числа через пробел: 2 3 4\n",
      "4 3 2\n"
     ]
    }
   ],
   "source": [
    "a, b, c = input('Введите 3 числа через пробел: ').split()\n",
    "print(c, b, a) # метод не получил на вход аргументы и деление происходит по пробельным символам."
   ]
  },
  {
   "cell_type": "markdown",
   "id": "5b69cafd",
   "metadata": {},
   "source": [
    "Один из способов избежать ошибки лишних (но не меньших) данных при распаковке методом split — использовать символ распаковки."
   ]
  },
  {
   "cell_type": "code",
   "execution_count": 53,
   "id": "93cd4b6a",
   "metadata": {},
   "outputs": [
    {
     "name": "stdout",
     "output_type": "stream",
     "text": [
      "Введите не менее трёх чисел через пробел:2 3 4\n"
     ]
    }
   ],
   "source": [
    "a, b, c, *_ = input('Введите не менее трёх чисел через пробел:').split()"
   ]
  },
  {
   "cell_type": "markdown",
   "id": "60dee4c2",
   "metadata": {},
   "source": [
    "#### Метод join\n",
    "Метод join принимает на вход итерируемую последовательность и соединяет все её элементы в строку, разделяя каждый текстом, к которому применён метод. В некоторой степени join противоположен split."
   ]
  },
  {
   "cell_type": "code",
   "execution_count": 58,
   "id": "486dc9d8",
   "metadata": {},
   "outputs": [
    {
     "name": "stdout",
     "output_type": "stream",
     "text": [
      "https://habr.com/ru/users/dzhoker1/posts\n"
     ]
    }
   ],
   "source": [
    "data = ['https:', '', 'habr.com', 'ru', 'users', 'dzhoker1',\n",
    "'posts']\n",
    "url = '/'.join(data)\n",
    "print(url)"
   ]
  },
  {
   "cell_type": "markdown",
   "id": "a34ccf01",
   "metadata": {},
   "source": [
    "#### Методы upper, lower, title, capitalize\n",
    "При работе с текстом можно быстро менять строчные буквы на прописные и\n",
    "наоборот."
   ]
  },
  {
   "cell_type": "code",
   "execution_count": 59,
   "id": "fb55b412",
   "metadata": {},
   "outputs": [
    {
     "name": "stdout",
     "output_type": "stream",
     "text": [
      "ОДНАЖДЫ В СТУДЁНУЮ ЗИМНЮЮ ПОРУ\n",
      "однажды в студёную зимнюю пору\n",
      "Однажды В Студёную Зимнюю Пору\n",
      "Однажды в студёную зимнюю пору\n"
     ]
    }
   ],
   "source": [
    "text = 'однажды в СТУДЁНУЮ зИмнЮЮ ПоРУ'\n",
    "print(text.upper())\n",
    "print(text.lower())\n",
    "print(text.title())\n",
    "print(text.capitalize())"
   ]
  },
  {
   "cell_type": "markdown",
   "id": "adecd1e4",
   "metadata": {},
   "source": [
    "    ● upper — все символы приводятся к верхнему регистру\n",
    "    ● lower — все символы приводятся к нижнему регистру\n",
    "    ● title — первый символ каждого слова (разделитель слов - пробел) приводится к верхнему регистру, остальные символы к нижнему\n",
    "    ● capitalize — первый символ строки в верхнем регистре, остальные в нижнем"
   ]
  },
  {
   "cell_type": "markdown",
   "id": "5deb749e",
   "metadata": {},
   "source": [
    "#### Методы startswith и endswith\n",
    "Метод startswith проверяет начинается ли строка с заданной подстроки. Метод возвращает истину или ложь. Метод endswith проверяет окончание строки переданной в качестве аргумента подстрокой."
   ]
  },
  {
   "cell_type": "code",
   "execution_count": 60,
   "id": "0929c995",
   "metadata": {},
   "outputs": [
    {
     "name": "stdout",
     "output_type": "stream",
     "text": [
      "True\n",
      "True\n"
     ]
    }
   ],
   "source": [
    "text = 'Однажды в студёную зимнюю пору'\n",
    "print(text.startswith('Однажды'))\n",
    "print(text.endswith('зимнюю', 0, -5))"
   ]
  },
  {
   "cell_type": "markdown",
   "id": "9a3aceef",
   "metadata": {},
   "source": [
    "#### Задание\n",
    "Перед вами строка текста и несколько строк кода, которые её меняют. Напишите что вернёт каждая из строк кода. Попробуйте справится с заданием без запуска кода. У вас 3 минуты."
   ]
  },
  {
   "cell_type": "code",
   "execution_count": 62,
   "id": "575fc8bf",
   "metadata": {},
   "outputs": [
    {
     "name": "stdout",
     "output_type": "stream",
     "text": [
      "7\n",
      "Привет, Мир!\n",
      "['Привет,', 'мир!']\n",
      "text =              Привет, мир!\n"
     ]
    }
   ],
   "source": [
    "text = 'Привет, мир!'\n",
    "print(text.find(' '))\n",
    "print(text.title())\n",
    "print(text.split())\n",
    "print(f'{text = :>25}')"
   ]
  },
  {
   "cell_type": "markdown",
   "id": "e4d7031f",
   "metadata": {},
   "source": [
    "## 3. Кортеж, tuple\n",
    "Кортежи — это неизменяемые последовательности, обычно используемые для хранения коллекций разнородных данных. Также используются в случаях, когда требуется неизменяемая последовательность однородных данных. Как и строку кортеж нельзя изменить после создания. При этом кортеж как и список является массивом указателей на объекты любого типа."
   ]
  },
  {
   "cell_type": "markdown",
   "id": "3fab8afe",
   "metadata": {},
   "source": [
    "#### Способы создания кортежа"
   ]
  },
  {
   "cell_type": "code",
   "execution_count": 64,
   "id": "1447c77a",
   "metadata": {},
   "outputs": [
    {
     "name": "stdout",
     "output_type": "stream",
     "text": [
      "()\n",
      "(1,)\n",
      "(1,)\n",
      "(1, 2, 3)\n",
      "(1, 2, 3)\n",
      "(0, 1, 2)\n"
     ]
    }
   ],
   "source": [
    "a = ()\n",
    "b1 = 1,\n",
    "b2 = (1,)\n",
    "c1 = 1, 2, 3,\n",
    "c2 = (1, 2, 3)\n",
    "d = tuple(range(3))\n",
    "print(a, b1, b2, c1, c2, d, sep='\\n')"
   ]
  },
  {
   "cell_type": "markdown",
   "id": "8eda3997",
   "metadata": {},
   "source": [
    "1. Пара круглых скобок создаёт пустой кортеж\n",
    "2. Один элемент с замыкающей запятой в скобках или без них создаёт кортеж сэлементом\n",
    "3. Несколько элементов разделенных запятыми с замыкающей запятой или вкруглых скобках\n",
    "4. Функция tuple(), которой передаётся любой итерируемый объект"
   ]
  },
  {
   "cell_type": "markdown",
   "id": "38d8b944",
   "metadata": {},
   "source": [
    "#### Кортежи реализуют все общие операции последовательностей\n",
    "    ● Обращение к элементу по индексу\n",
    "    ● Срезы\n",
    "    ● Методы, которые работают с последовательностью, но не меняют её: count, index, а также функция len()"
   ]
  },
  {
   "cell_type": "markdown",
   "id": "35ac4f9b",
   "metadata": {},
   "source": [
    "#### Задание\n",
    "Убедимся, что вы сможете провести параллель между кортежами и списками, строками. Перед вами кортеж и несколько строк кода. Напишите, что вернёт каждая из них. Попробуйте справится с заданием без запуска кода. У вас 3 минуты."
   ]
  },
  {
   "cell_type": "code",
   "execution_count": 65,
   "id": "6c595d5b",
   "metadata": {},
   "outputs": [
    {
     "name": "stdout",
     "output_type": "stream",
     "text": [
      "(6, 8)\n",
      "14\n",
      "2\n",
      "my_tuple = (2, 4, 6, 2, 8, 10, 12, 14, 16, 18)\n",
      "3\n",
      "<class 'str'>\n"
     ]
    }
   ],
   "source": [
    "my_tuple = (2, 4, 6, 2, 8, 10, 12, 14, 16, 18)\n",
    "print(my_tuple[2:6:2])\n",
    "print(my_tuple[-3])\n",
    "print(my_tuple.count(2))\n",
    "print(f'{my_tuple = }')\n",
    "print(my_tuple.index(2, 2))\n",
    "print(type('text',))"
   ]
  },
  {
   "cell_type": "markdown",
   "id": "36df7c0d",
   "metadata": {},
   "source": [
    "## 4. Словарь, dict"
   ]
  },
  {
   "cell_type": "markdown",
   "id": "b0c1acc2",
   "metadata": {},
   "source": [
    "#### Способы создания словаря\n",
    "    Для создания словаря есть несколько способов. Например:\n",
    "    ● передать набор пар ключ-значение в фигурных скобках,\n",
    "    ● использовать знак равенства между ключом и значением,\n",
    "    ● передать любую последовательность, каждый элемент который пара ключ и значение\n",
    "    ✔ dict(x) — создаём словарь\n",
    "    ✔ {key: value} — тоже создаём словарь"
   ]
  },
  {
   "cell_type": "code",
   "execution_count": 66,
   "id": "9eeba0b5",
   "metadata": {},
   "outputs": [
    {
     "name": "stdout",
     "output_type": "stream",
     "text": [
      "True\n"
     ]
    }
   ],
   "source": [
    "a = {'one': 42, 'two': 3.14, 'ten': 'Hello world!'}\n",
    "b = dict(one=42, two=3.14, ten='Hello world!')\n",
    "c = dict([('one', 42), ('two', 3.14), ('ten', 'Hello world!')])\n",
    "print(a == b == c)"
   ]
  },
  {
   "cell_type": "markdown",
   "id": "e4ee901d",
   "metadata": {},
   "source": [
    "#### Добавление нового ключа\n",
    "Для добавления в существующий словарь новой пары ключ-значение можно\n",
    "использовать обычную операцию присваивания."
   ]
  },
  {
   "cell_type": "code",
   "execution_count": 116,
   "id": "1e260b0f",
   "metadata": {},
   "outputs": [
    {
     "name": "stdout",
     "output_type": "stream",
     "text": [
      "{'one': 1, 'two': 2, 'three': 3, 'four': 4, 'ten': 10}\n"
     ]
    }
   ],
   "source": [
    "my_dict = {'one': 1, 'two': 2, 'three': 3, 'four': 4}\n",
    "x = 10\n",
    "my_dict['ten'] = x\n",
    "print(my_dict)"
   ]
  },
  {
   "cell_type": "markdown",
   "id": "72a8d7bf",
   "metadata": {},
   "source": [
    "#### Доступ к значению словаря\n",
    "    Доступ через квадратные скобки []\n",
    "    Для получения доступа к значению необходимо указать ключ в квадратных скобках после или переменной."
   ]
  },
  {
   "cell_type": "code",
   "execution_count": 69,
   "id": "a82f4721",
   "metadata": {},
   "outputs": [
    {
     "name": "stdout",
     "output_type": "stream",
     "text": [
      "2\n",
      "10\n"
     ]
    },
    {
     "ename": "KeyError",
     "evalue": "1",
     "output_type": "error",
     "traceback": [
      "\u001b[1;31m---------------------------------------------------------------------------\u001b[0m",
      "\u001b[1;31mKeyError\u001b[0m                                  Traceback (most recent call last)",
      "\u001b[1;32m~\\AppData\\Local\\Temp\\ipykernel_688\\3178911522.py\u001b[0m in \u001b[0;36m<module>\u001b[1;34m\u001b[0m\n\u001b[0;32m      3\u001b[0m \u001b[0mprint\u001b[0m\u001b[1;33m(\u001b[0m\u001b[0mmy_dict\u001b[0m\u001b[1;33m[\u001b[0m\u001b[1;34m'two'\u001b[0m\u001b[1;33m]\u001b[0m\u001b[1;33m)\u001b[0m\u001b[1;33m\u001b[0m\u001b[1;33m\u001b[0m\u001b[0m\n\u001b[0;32m      4\u001b[0m \u001b[0mprint\u001b[0m\u001b[1;33m(\u001b[0m\u001b[0mmy_dict\u001b[0m\u001b[1;33m[\u001b[0m\u001b[0mTEN\u001b[0m\u001b[1;33m]\u001b[0m\u001b[1;33m)\u001b[0m\u001b[1;33m\u001b[0m\u001b[1;33m\u001b[0m\u001b[0m\n\u001b[1;32m----> 5\u001b[1;33m \u001b[0mprint\u001b[0m\u001b[1;33m(\u001b[0m\u001b[0mmy_dict\u001b[0m\u001b[1;33m[\u001b[0m\u001b[1;36m1\u001b[0m\u001b[1;33m]\u001b[0m\u001b[1;33m)\u001b[0m \u001b[1;31m# KeyError: 1\u001b[0m\u001b[1;33m\u001b[0m\u001b[1;33m\u001b[0m\u001b[0m\n\u001b[0m",
      "\u001b[1;31mKeyError\u001b[0m: 1"
     ]
    }
   ],
   "source": [
    "TEN = 'ten'\n",
    "my_dict = {'one': 1, 'two': 2, 'three': 3, 'four': 4, 'ten': 10}\n",
    "print(my_dict['two'])\n",
    "print(my_dict[TEN])\n",
    "print(my_dict[1]) # KeyError: 1"
   ]
  },
  {
   "cell_type": "markdown",
   "id": "71375f55",
   "metadata": {},
   "source": [
    "#### Доступ через метод get\n",
    "Если ли мы хотим гарантировать отсутствие ошибки KeyError при обращении к\n",
    "элементу словаря, можно обратиться к значению через метод get, а не квадратные\n",
    "скобки."
   ]
  },
  {
   "cell_type": "code",
   "execution_count": 70,
   "id": "cdaa0379",
   "metadata": {},
   "outputs": [
    {
     "name": "stdout",
     "output_type": "stream",
     "text": [
      "2\n",
      "None\n",
      "5\n",
      "10\n"
     ]
    }
   ],
   "source": [
    "my_dict = {'one': 1, 'two': 2, 'three': 3, 'four': 4, 'ten': 10}\n",
    "print(my_dict.get('two'))\n",
    "print(my_dict.get('five'))\n",
    "print(my_dict.get('five', 5))   #  'five' отсутствует по умолчанию 5\n",
    "print(my_dict.get('ten', 5))    #  'ten' есть по умолчанию 5 игнор"
   ]
  },
  {
   "cell_type": "markdown",
   "id": "3f2ba730",
   "metadata": {},
   "source": [
    "#### Метод setdefault\n",
    "Метод setdefault похож не get, возвращает значение но отсутствующий ключ добавляется в словарь."
   ]
  },
  {
   "cell_type": "code",
   "execution_count": 119,
   "id": "d836ff8c",
   "metadata": {},
   "outputs": [
    {
     "name": "stdout",
     "output_type": "stream",
     "text": [
      "spam = None\tmy_dict={'one': 1, 'two': 2, 'three': 3, 'four': 4, 'ten': 10, 'five': None}\n",
      "eggs = 6\tmy_dict={'one': 1, 'two': 2, 'three': 3, 'four': 4, 'ten': 10, 'five': None, 'six': 6}\n",
      "new_spam=2\tmy_dict={'one': 1, 'two': 2, 'three': 3, 'four': 4, 'ten': 10, 'five': None, 'six': 6}\n",
      "new_eggs=1\tmy_dict={'one': 1, 'two': 2, 'three': 3, 'four': 4, 'ten': 10, 'five': None, 'six': 6}\n",
      "new_eggs=1000\tmy_dict={'one': 1, 'two': 2, 'three': 3, 'four': 4, 'ten': 10, 'five': None, 'six': 6, 'р': 1000}\n"
     ]
    }
   ],
   "source": [
    "my_dict = {'one': 1, 'two': 2, 'three': 3, 'four': 4, 'ten': 10}\n",
    "spam = my_dict.setdefault('five')\n",
    "print(f'{spam = }\\t{my_dict=}')\n",
    "\n",
    "eggs = my_dict.setdefault('six', 6)\n",
    "print(f'{eggs = }\\t{my_dict=}')\n",
    "\n",
    "new_spam = my_dict.setdefault('two')\n",
    "print(f'{new_spam=}\\t{my_dict=}')\n",
    "\n",
    "new_eggs = my_dict.setdefault('one', 1_000)\n",
    "print(f'{new_eggs=}\\t{my_dict=}')\n",
    "\n",
    "new_eggs = my_dict.setdefault('р', 1_000)\n",
    "print(f'{new_eggs=}\\t{my_dict=}')"
   ]
  },
  {
   "cell_type": "markdown",
   "id": "7af11ff5",
   "metadata": {},
   "source": [
    "#### Метод keys\n",
    "Метод keys возвращает объект-итератор dict_keys."
   ]
  },
  {
   "cell_type": "code",
   "execution_count": 120,
   "id": "165a50c4",
   "metadata": {},
   "outputs": [
    {
     "name": "stdout",
     "output_type": "stream",
     "text": [
      "dict_keys(['one', 'two', 'three', 'four', 'ten'])\n",
      "one\n",
      "two\n",
      "three\n",
      "four\n",
      "ten\n"
     ]
    }
   ],
   "source": [
    "my_dict = {'one': 1, 'two': 2, 'three': 3, 'four': 4, 'ten': 10}\n",
    "print(my_dict.keys())\n",
    "\n",
    "for key in my_dict.keys():    #   for key in my_dict:    то же самое\n",
    "    print(key)"
   ]
  },
  {
   "cell_type": "markdown",
   "id": "16f5c65d",
   "metadata": {},
   "source": [
    "    Обычно объект не используют напрямую. Метод keys применяется в связке с циклом for для перебора ключей словаря.\n",
    "    🔥 Важно! Запись цикла for key in my_dict: отработает аналогично. По умолчанию словарь возвращает ключи для итерации в цикле."
   ]
  },
  {
   "cell_type": "markdown",
   "id": "d408ebbc",
   "metadata": {},
   "source": [
    "#### Метод values\n",
    "Метод values похож на keys, но возвращает значения в виде объекта итератора\n",
    "dict_values, а не ключи."
   ]
  },
  {
   "cell_type": "code",
   "execution_count": 74,
   "id": "e600bf46",
   "metadata": {},
   "outputs": [
    {
     "name": "stdout",
     "output_type": "stream",
     "text": [
      "dict_values([1, 2, 3, 4, 10])\n",
      "1\n",
      "2\n",
      "3\n",
      "4\n",
      "10\n"
     ]
    }
   ],
   "source": [
    "my_dict = {'one': 1, 'two': 2, 'three': 3, 'four': 4, 'ten': 10}\n",
    "print(my_dict.values())\n",
    "\n",
    "for value in my_dict.values():\n",
    "    print(value)"
   ]
  },
  {
   "cell_type": "markdown",
   "id": "e68c1913",
   "metadata": {},
   "source": [
    "#### Метод items\n",
    "Если в цикле необходимо работать одновременно с ключами и значениями, как с\n",
    "парами, используют метод items."
   ]
  },
  {
   "cell_type": "code",
   "execution_count": 121,
   "id": "82951f45",
   "metadata": {},
   "outputs": [
    {
     "name": "stdout",
     "output_type": "stream",
     "text": [
      "dict_items([('one', 1), ('two', 2), ('three', 3), ('four', 4), ('ten', 10)])\n",
      "('one', 1)\n",
      "tuple_data[0] = 'one' value before 100 - 99\n",
      "('two', 2)\n",
      "tuple_data[0] = 'two' value before 100 - 98\n",
      "('three', 3)\n",
      "tuple_data[0] = 'three' value before 100 - 97\n",
      "('four', 4)\n",
      "tuple_data[0] = 'four' value before 100 - 96\n",
      "('ten', 10)\n",
      "tuple_data[0] = 'ten' value before 100 - 90\n",
      "key = 'one' value before 100 - 99\n",
      "key = 'two' value before 100 - 98\n",
      "key = 'three' value before 100 - 97\n",
      "key = 'four' value before 100 - 96\n",
      "key = 'ten' value before 100 - 90\n"
     ]
    }
   ],
   "source": [
    "my_dict = {'one': 1, 'two': 2, 'three': 3, 'four': 4, 'ten': 10}\n",
    "print(my_dict.items())\n",
    "\n",
    "for tuple_data in my_dict.items():  #  плохо\n",
    "    print(tuple_data)\n",
    "    \n",
    "    print(f'{tuple_data[0] = } value before 100 - {100 - tuple_data[1]}')\n",
    "\n",
    "    \n",
    "for key, value in my_dict.items():  # хорошо\n",
    "    print(f'{key = } value before 100 - {100 - value}')"
   ]
  },
  {
   "cell_type": "markdown",
   "id": "8ad7228c",
   "metadata": {},
   "source": [
    "#### Метод popitem\n",
    "Для удаления пары ключ значение из словаря используют метод popitem."
   ]
  },
  {
   "cell_type": "code",
   "execution_count": 76,
   "id": "50272fa7",
   "metadata": {},
   "outputs": [
    {
     "name": "stdout",
     "output_type": "stream",
     "text": [
      "spam = ('ten', 10)\tmy_dict={'one': 1, 'two': 2, 'three': 3, 'four': 4}\n",
      "eggs = ('four', 4)\tmy_dict={'one': 1, 'two': 2, 'three': 3}\n"
     ]
    }
   ],
   "source": [
    "my_dict = {'one': 1, 'two': 2, 'three': 3, 'four': 4, 'ten': 10}\n",
    "spam = my_dict.popitem()\n",
    "print(f'{spam = }\\t{my_dict=}')\n",
    "\n",
    "eggs = my_dict.popitem()\n",
    "print(f'{eggs = }\\t{my_dict=}')"
   ]
  },
  {
   "cell_type": "markdown",
   "id": "9e4f10e8",
   "metadata": {},
   "source": [
    "#### Метод pop\n",
    "Метод pop удаляет пару ключ-значение по переданному ключу."
   ]
  },
  {
   "cell_type": "code",
   "execution_count": 129,
   "id": "eef3c16f",
   "metadata": {},
   "outputs": [
    {
     "name": "stdout",
     "output_type": "stream",
     "text": [
      "spam = 2\tmy_dict={'one': 1, 'three': 3, 'four': 4, 'ten': 10}\n"
     ]
    }
   ],
   "source": [
    "my_dict = {'one': 1, 'two': 2, 'three': 3, 'four': 4, 'ten': 10}\n",
    "spam = my_dict.pop('two')\n",
    "print(f'{spam = }\\t{my_dict=}')\n",
    "\n",
    "# err = my_dict.pop('six') # KeyError: 'six'\n",
    "# err = my_dict.pop() # TypeError: pop expected at least 1 argument, got 0"
   ]
  },
  {
   "cell_type": "markdown",
   "id": "534fdb8c",
   "metadata": {},
   "source": [
    "#### Метод update\n",
    "Для расширение словаря новыми значениями используют метод update."
   ]
  },
  {
   "cell_type": "code",
   "execution_count": 78,
   "id": "8ea4480a",
   "metadata": {},
   "outputs": [
    {
     "name": "stdout",
     "output_type": "stream",
     "text": [
      "{'one': 1, 'two': 2, 'three': 3, 'four': 4, 'ten': 10, 'six': 6}\n",
      "{'one': 1, 'two': 42, 'three': 3, 'four': 4, 'ten': 10, 'six': 6, 'five': 5}\n"
     ]
    }
   ],
   "source": [
    "my_dict = {'one': 1, 'two': 2, 'three': 3, 'four': 4, 'ten': 10}\n",
    "my_dict.update(dict(six=6))\n",
    "print(my_dict)\n",
    "\n",
    "my_dict.update(dict([('five', 5), ('two', 42)]))\n",
    "print(my_dict)"
   ]
  },
  {
   "cell_type": "markdown",
   "id": "e380c6dc",
   "metadata": {},
   "source": [
    "На вход метод получает другой словарь в любой из вариаций создания словаря.\n",
    "Если передать существующий ключ, значение будет заменено новым."
   ]
  },
  {
   "cell_type": "markdown",
   "id": "8f0876c4",
   "metadata": {},
   "source": [
    "Ещё один способ создать словари из нескольких других, который появился в новой\n",
    "версии Python — вертикальная черта."
   ]
  },
  {
   "cell_type": "code",
   "execution_count": 80,
   "id": "867cfe46",
   "metadata": {},
   "outputs": [
    {
     "name": "stdout",
     "output_type": "stream",
     "text": [
      "{'one': 1, 'two': 42, 'three': 3, 'four': 4, 'ten': 10, 'five': 5, 'six': 6}\n"
     ]
    }
   ],
   "source": [
    "my_dict = {'one': 1, 'two': 2, 'three': 3, 'four': 4, 'ten': 10}\n",
    "new_dict = my_dict | {'five': 5, 'two': 42} | dict(six=6)\n",
    "print(new_dict)"
   ]
  },
  {
   "cell_type": "markdown",
   "id": "adb74f2b",
   "metadata": {},
   "source": [
    "#### Задание\n",
    "Перед вами словарь и несколько строк кода. Напишите что вернёт каждая из строк.\n",
    "Попробуйте справится с заданием без запуска кода. У вас 3 минуты."
   ]
  },
  {
   "cell_type": "code",
   "execution_count": 127,
   "id": "ab509a38",
   "metadata": {},
   "outputs": [
    {
     "name": "stdout",
     "output_type": "stream",
     "text": [
      "10\n",
      "dict_values([1, 2, 3, 4, 10])\n",
      "1\n",
      "{'two': 2, 'three': 3, 'four': 4, 'ten': 10, 'one': 4}\n"
     ]
    }
   ],
   "source": [
    "my_dict = {'one': 1, \n",
    "           'two': 2, \n",
    "           'three': 3, \n",
    "           'four': 4, \n",
    "           'ten': 10,\n",
    "          }\n",
    "\n",
    "print(my_dict.setdefault('ten', 555))\n",
    "print(my_dict.values())\n",
    "print(my_dict.pop('one'))\n",
    "\n",
    "my_dict['one'] = my_dict['four']\n",
    "print(my_dict)"
   ]
  },
  {
   "cell_type": "markdown",
   "id": "c5dd2690",
   "metadata": {},
   "source": [
    "## 5. Множества set и frozenset\n",
    "Ещё одна коллекция из коробки — множества. Множество — набор уникальных неиндексированных элементов. В Python есть два вида множеств: set — изменяемое множество, frozenset — неизменяемое множество. Неизменяемое множество позволяет вычислять хеш и может использоваться там, где разрешён лишь хешированный тип данных, например в качестве ключа словаря."
   ]
  },
  {
   "cell_type": "code",
   "execution_count": 128,
   "id": "6bde768b",
   "metadata": {},
   "outputs": [
    {
     "name": "stdout",
     "output_type": "stream",
     "text": [
      "{1, 2, 3, 4, 5, 6, 7}\n",
      "frozenset({1, 2, 3, 4, 5, 6, 7})\n"
     ]
    }
   ],
   "source": [
    "my_set = {1, 2, 3, 4, 2, 5, 6, 7}\n",
    "print(my_set)\n",
    "my_f_set = frozenset((1, 2, 3, 4, 2, 5, 6, 7,))\n",
    "print(my_f_set)\n",
    "# not_set = {1, 2, 3, 4, 2, 5, 6, 7, ['a', 'b']} # TypeError: unhashable type: 'list'"
   ]
  },
  {
   "cell_type": "markdown",
   "id": "b5240175",
   "metadata": {},
   "source": [
    "### Методы множеств"
   ]
  },
  {
   "cell_type": "markdown",
   "id": "4360294e",
   "metadata": {},
   "source": [
    "#### Метод add\n",
    "Метод add работает аналогично методу списка append, т.е. добавляет один элемент\n",
    "в коллекцию."
   ]
  },
  {
   "cell_type": "code",
   "execution_count": 134,
   "id": "2f45e702",
   "metadata": {},
   "outputs": [
    {
     "name": "stdout",
     "output_type": "stream",
     "text": [
      "{1, 2, 3, 4, 5, 6, 7, 9}\n",
      "{1, 2, 3, 4, 5, 6, 7, 9}\n",
      "{(9, 10), 1, 2, 3, 4, 5, 6, 7, 9}\n"
     ]
    }
   ],
   "source": [
    "my_set = {3, 4, 2, 5, 6, 1, 7}\n",
    "my_set.add(9)\n",
    "print(my_set)\n",
    "\n",
    "my_set.add(7)\n",
    "print(my_set)\n",
    "\n",
    "# my_set.add(9, 10) # TypeError: set.add() takes exactly one argument (2 given)\n",
    "my_set.add((9, 10))\n",
    "print(my_set)"
   ]
  },
  {
   "cell_type": "markdown",
   "id": "e5d6069c",
   "metadata": {},
   "source": [
    "#### Метод remove\n",
    "Для удаления элемента множества используют метод remove."
   ]
  },
  {
   "cell_type": "code",
   "execution_count": 135,
   "id": "5e0e070c",
   "metadata": {},
   "outputs": [
    {
     "name": "stdout",
     "output_type": "stream",
     "text": [
      "{1, 2, 3, 4, 6, 7}\n"
     ]
    }
   ],
   "source": [
    "my_set = {3, 4, 2, 5, 6, 1, 7}\n",
    "my_set.remove(5)\n",
    "print(my_set)\n",
    "# my_set.remove(10) # KeyError: 10"
   ]
  },
  {
   "cell_type": "markdown",
   "id": "9b4d86c0",
   "metadata": {},
   "source": [
    "#### Метод discard\n",
    "Метод discard работает аналогично remove — удаляет один элемент множества."
   ]
  },
  {
   "cell_type": "code",
   "execution_count": 85,
   "id": "3c47aa95",
   "metadata": {},
   "outputs": [
    {
     "name": "stdout",
     "output_type": "stream",
     "text": [
      "{1, 2, 3, 4, 6, 7}\n"
     ]
    }
   ],
   "source": [
    "my_set = {3, 4, 2, 5, 6, 1, 7}\n",
    "my_set.discard(5)\n",
    "print(my_set)\n",
    "my_set.discard(10)"
   ]
  },
  {
   "cell_type": "markdown",
   "id": "e904faab",
   "metadata": {},
   "source": [
    "#### Метод intersection\n",
    "Для получения пересечения множеств, т.е. множества с элементами, которые есть и\n",
    "в левом и в правам множестве используют метод intersection"
   ]
  },
  {
   "cell_type": "code",
   "execution_count": 86,
   "id": "8ef09d1c",
   "metadata": {},
   "outputs": [
    {
     "name": "stdout",
     "output_type": "stream",
     "text": [
      "my_set = {1, 2, 3, 4, 5, 6, 7}\n",
      "other_set = {1, 42, 4, 314}\n",
      "new_set = {1, 4}\n"
     ]
    }
   ],
   "source": [
    "my_set = {3, 4, 2, 5, 6, 1, 7}\n",
    "other_set = {1, 4, 42, 314}\n",
    "new_set = my_set.intersection(other_set)\n",
    "print(f'{my_set = }\\n{other_set = }\\n{new_set = }')"
   ]
  },
  {
   "cell_type": "markdown",
   "id": "27972779",
   "metadata": {},
   "source": [
    "Новая версия Python позволяет получить пересечение множеств в следующей\n",
    "записи c использованием символа &"
   ]
  },
  {
   "cell_type": "code",
   "execution_count": 87,
   "id": "7c1dbcbb",
   "metadata": {},
   "outputs": [
    {
     "name": "stdout",
     "output_type": "stream",
     "text": [
      "my_set = {1, 2, 3, 4, 5, 6, 7}\n",
      "other_set = {1, 42, 4, 314}\n",
      "new_set = {1, 4}\n"
     ]
    }
   ],
   "source": [
    "my_set = {3, 4, 2, 5, 6, 1, 7}\n",
    "other_set = {1, 4, 42, 314}\n",
    "new_set = my_set & other_set\n",
    "print(f'{my_set = }\\n{other_set = }\\n{new_set = }')"
   ]
  },
  {
   "cell_type": "markdown",
   "id": "d13b809b",
   "metadata": {},
   "source": [
    "#### Метод union\n",
    "Для объединения множеств используется метод union."
   ]
  },
  {
   "cell_type": "code",
   "execution_count": 89,
   "id": "0c7101e1",
   "metadata": {},
   "outputs": [
    {
     "name": "stdout",
     "output_type": "stream",
     "text": [
      "my_set = {1, 2, 3, 4, 5, 6, 7}\n",
      "other_set = {1, 42, 4, 314}\n",
      "new_set = {1, 2, 3, 4, 5, 6, 7, 42, 314}\n",
      "my_set = {1, 2, 3, 4, 5, 6, 7}\n",
      "other_set = {1, 42, 4, 314}\n",
      "new_set_2 = {1, 2, 3, 4, 5, 6, 7, 42, 314}\n"
     ]
    }
   ],
   "source": [
    "my_set = {3, 4, 2, 5, 6, 1, 7}\n",
    "other_set = {1, 4, 42, 314}\n",
    "new_set = my_set.union(other_set)\n",
    "print(f'{my_set = }\\n{other_set = }\\n{new_set = }')\n",
    "\n",
    "new_set_2 = my_set | other_set\n",
    "print(f'{my_set = }\\n{other_set = }\\n{new_set_2 = }')"
   ]
  },
  {
   "cell_type": "markdown",
   "id": "04cb6861",
   "metadata": {},
   "source": [
    "#### Метод difference\n",
    "Метод difference удаляет из левого множества элементы правого."
   ]
  },
  {
   "cell_type": "code",
   "execution_count": 138,
   "id": "4674bc09",
   "metadata": {},
   "outputs": [
    {
     "name": "stdout",
     "output_type": "stream",
     "text": [
      "my_set = {1, 2, 3, 4, 5, 6, 7}\n",
      "other_set = {1, 42, 4, 314}\n",
      "new_set = {2, 3, 5, 6, 7}\n",
      "my_set = {1, 2, 3, 4, 5, 6, 7}\n",
      "other_set = {1, 42, 4, 314}\n",
      "new_set_2 = {2, 3, 5, 6, 7}\n"
     ]
    }
   ],
   "source": [
    "my_set = {3, 4, 2, 5, 6, 1, 7}\n",
    "other_set = {1, 4, 42, 314}\n",
    "new_set = my_set.difference(other_set)\n",
    "print(f'{my_set = }\\n{other_set = }\\n{new_set = }')\n",
    "\n",
    "new_set_2 = my_set - other_set\n",
    "print(f'{my_set = }\\n{other_set = }\\n{new_set_2 = }')"
   ]
  },
  {
   "cell_type": "markdown",
   "id": "0c627349",
   "metadata": {},
   "source": [
    "#### Проверка на вхождение, in\n",
    "Для проверки входит ли элемент в множество используют зарезервированное\n",
    "слово in."
   ]
  },
  {
   "cell_type": "code",
   "execution_count": 91,
   "id": "78915b28",
   "metadata": {},
   "outputs": [
    {
     "name": "stdout",
     "output_type": "stream",
     "text": [
      "False\n"
     ]
    }
   ],
   "source": [
    "my_set = {3, 4, 2, 5, 6, 1, 7}\n",
    "print(42 in my_set)"
   ]
  },
  {
   "cell_type": "markdown",
   "id": "04d32089",
   "metadata": {},
   "source": [
    "#### Задание\n",
    "Перед вами множество и несколько строк кода. Напишите что вернёт каждая из строк. Попробуйте справится с заданием без запуска кода. У вас 3 минуты."
   ]
  },
  {
   "cell_type": "code",
   "execution_count": 139,
   "id": "447b8b14",
   "metadata": {},
   "outputs": [
    {
     "name": "stdout",
     "output_type": "stream",
     "text": [
      "7\n",
      "frozenset({4, 5, 6, 7})\n",
      "frozenset({1, 2, 3, 4, 5, 6, 7, 8})\n",
      "frozenset({2, 4, 6})\n"
     ]
    }
   ],
   "source": [
    "my_set = frozenset({3, 4, 1, 2, 5, 6, 1, 7, 2, 7})\n",
    "print(len(my_set))\n",
    "print(my_set - {1, 2, 3})\n",
    "print(my_set.union({2, 4, 6, 8}))\n",
    "print(my_set & {2, 4, 6, 8})\n",
    "# print(my_set.discard(10))  # AttributeError: 'frozenset' object has no attribute 'discard'"
   ]
  },
  {
   "cell_type": "markdown",
   "id": "8419ffc7",
   "metadata": {},
   "source": [
    "## 6. Классы bytes и bytearray\n",
    "  Неизменяемые байты и их изменяемая версия — массиву байт. Для отправки информации по каналам связи объекты не подойдут.\n",
    "    Даже текст не отправить. А вот пересылать байты — легко."
   ]
  },
  {
   "cell_type": "code",
   "execution_count": 93,
   "id": "4a48467e",
   "metadata": {
    "scrolled": true
   },
   "outputs": [
    {
     "name": "stdout",
     "output_type": "stream",
     "text": [
      "b'Hello world!' <class 'bytes'>\n",
      "b'\\xd0\\x9f\\xd1\\x80\\xd0\\xb8\\xd0\\xb2\\xd0\\xb5\\xd1\\x82, \\xd0\\xbc\\xd0\\xb8\\xd1\\x80!' <class 'bytes'>\n"
     ]
    }
   ],
   "source": [
    "text_en = 'Hello world!'\n",
    "res = text_en.encode('utf-8')\n",
    "print(res, type(res))\n",
    "\n",
    "text_ru = 'Привет, мир!'\n",
    "res = text_ru.encode('utf-8')\n",
    "print(res, type(res))"
   ]
  },
  {
   "cell_type": "markdown",
   "id": "2ed3dd88",
   "metadata": {},
   "source": [
    "- Префикс b говорит о том, что перед нами не строка, а байты."
   ]
  },
  {
   "cell_type": "markdown",
   "id": "0d948f94",
   "metadata": {},
   "source": [
    "Для получения набора байт можно использовать функцию bytes. А если необходимо\n",
    "изменять байт, использую функцию bytearray."
   ]
  },
  {
   "cell_type": "code",
   "execution_count": 94,
   "id": "6637796e",
   "metadata": {},
   "outputs": [
    {
     "name": "stdout",
     "output_type": "stream",
     "text": [
      "x = b'\\xd0\\x9f\\xd1\\x80\\xd0\\xb8'\n",
      "y = bytearray(b'\\xd0\\x9f\\xd1\\x80\\xd0\\xb8')\n"
     ]
    }
   ],
   "source": [
    "x = bytes(b'\\xd0\\x9f\\xd1\\x80\\xd0\\xb8')\n",
    "y = bytearray(b'\\xd0\\x9f\\xd1\\x80\\xd0\\xb8')\n",
    "print(f'{x = }\\n{y = }')"
   ]
  }
 ],
 "metadata": {
  "kernelspec": {
   "display_name": "Python 3 (ipykernel)",
   "language": "python",
   "name": "python3"
  },
  "language_info": {
   "codemirror_mode": {
    "name": "ipython",
    "version": 3
   },
   "file_extension": ".py",
   "mimetype": "text/x-python",
   "name": "python",
   "nbconvert_exporter": "python",
   "pygments_lexer": "ipython3",
   "version": "3.9.13"
  }
 },
 "nbformat": 4,
 "nbformat_minor": 5
}
