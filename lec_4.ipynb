{
 "cells": [
  {
   "cell_type": "markdown",
   "id": "57b756c5",
   "metadata": {},
   "source": [
    "## Функции (Functions)\n",
    "    ● Функция (подпрограмма) — фрагмент программного кода, к которому можно обратиться из другого места программы."
   ]
  },
  {
   "cell_type": "markdown",
   "id": "e20f7a22",
   "metadata": {},
   "source": [
    "### 1. Создание своих функции"
   ]
  },
  {
   "cell_type": "markdown",
   "id": "bfe06ce8",
   "metadata": {},
   "source": [
    "Данный на вход > Функция > Результат"
   ]
  },
  {
   "cell_type": "markdown",
   "id": "74b9c0fd",
   "metadata": {},
   "source": [
    " ● Функции высшего порядка — это функции, которые работают с другими функциями, либо принимая их в виде параметров, либо возвращая их."
   ]
  },
  {
   "cell_type": "markdown",
   "id": "c8edd9f2",
   "metadata": {},
   "source": [
    "#### Вызовы, передача функций"
   ]
  },
  {
   "cell_type": "markdown",
   "id": "d9d7a67f",
   "metadata": {},
   "source": [
    "    Вызов функции c параметром (аргументом), всегда со скобками ():\n",
    "    Функция высшего порядка type() передается значение функции id():"
   ]
  },
  {
   "cell_type": "code",
   "execution_count": 2,
   "id": "462d914d",
   "metadata": {},
   "outputs": [
    {
     "name": "stdout",
     "output_type": "stream",
     "text": [
      "<class 'int'> 140729635104840\n",
      "<class 'builtin_function_or_method'>\n",
      "6\n"
     ]
    }
   ],
   "source": [
    "a = 42\n",
    "print(type(a), id(a))\n",
    "print(type(id))\n",
    "\n",
    "very_bad_programming_style = sum\n",
    "print(very_bad_programming_style([1, 2, 3]))"
   ]
  },
  {
   "cell_type": "markdown",
   "id": "23abcb84",
   "metadata": {},
   "source": [
    "#### Определение функции\n",
    "Для определения собственной функции используется зарезервированное слово def."
   ]
  },
  {
   "cell_type": "code",
   "execution_count": 9,
   "id": "f8414e6a",
   "metadata": {},
   "outputs": [],
   "source": [
    "def my_func():\n",
    "    pass"
   ]
  },
  {
   "cell_type": "markdown",
   "id": "abde2aca",
   "metadata": {},
   "source": [
    "pass - то зарезервированное слово, которое ничего не делает. Используется в тех местах, где должен быть код для верной\n",
    "работы программы, но его пока нет."
   ]
  },
  {
   "cell_type": "markdown",
   "id": "320cc385",
   "metadata": {},
   "source": [
    "#### Аргументы функции"
   ]
  },
  {
   "cell_type": "code",
   "execution_count": 3,
   "id": "a4d39c66",
   "metadata": {},
   "outputs": [
    {
     "name": "stdout",
     "output_type": "stream",
     "text": [
      "(3.0, -1.5)\n"
     ]
    }
   ],
   "source": [
    "def quadratic_equations(a: int | float, b: int | float, c: int | float) -> tuple[float, float] | float | str:\n",
    "    d = b ** 2 - 4 * a * c\n",
    "    if d > 0:\n",
    "        return (-b + d ** 0.5) / (2 * a), (-b - d ** 0.5) / (2 *a)\n",
    "    elif d == 0:\n",
    "        return -b / (2 * a)\n",
    "    else:\n",
    "        return 'Нет решений'\n",
    "    \n",
    "print(quadratic_equations(2, -3, -9))"
   ]
  },
  {
   "cell_type": "code",
   "execution_count": 4,
   "id": "6b70bdb5",
   "metadata": {},
   "outputs": [
    {
     "name": "stdout",
     "output_type": "stream",
     "text": [
      "(3.0, -1.5)\n"
     ]
    }
   ],
   "source": [
    "def quadratic_equations(a: int | float, b: int | float, c: int | float) -> tuple[float, float] | float | None:\n",
    "    d = b ** 2 - 4 * a * c\n",
    "    if d > 0:\n",
    "        return (-b + d ** 0.5) / (2 * a), (-b - d ** 0.5) / (2 *a)\n",
    "    elif d == 0:\n",
    "        return -b / (2 * a)\n",
    "    else:\n",
    "        return None\n",
    "    \n",
    "print(quadratic_equations(2, -3, -9))"
   ]
  },
  {
   "cell_type": "markdown",
   "id": "1995a05c",
   "metadata": {},
   "source": [
    "#### Изменяемые и неизменяемые аргументы"
   ]
  },
  {
   "cell_type": "markdown",
   "id": "e6ba46e9",
   "metadata": {},
   "source": [
    "Пример работы с неизменяемыми переменными."
   ]
  },
  {
   "cell_type": "code",
   "execution_count": 3,
   "id": "71baeafb",
   "metadata": {},
   "outputs": [
    {
     "name": "stdout",
     "output_type": "stream",
     "text": [
      "In main a = 42\n",
      "In func a = 43\n",
      "a = 42\tz = 43\n"
     ]
    }
   ],
   "source": [
    "def no_mutable(a: int) -> int:\n",
    "    a += 1\n",
    "    print(f'In func {a = }') # Для демонстрации работы, но не для привычки принтить из функции\n",
    "    return a\n",
    "\n",
    "a = 42\n",
    "print(f'In main {a = }')\n",
    "z = no_mutable(a)\n",
    "print(f'{a = }\\t{z = }')"
   ]
  },
  {
   "cell_type": "markdown",
   "id": "af321cac",
   "metadata": {},
   "source": [
    "Пример работы с изменяемыми объектами."
   ]
  },
  {
   "cell_type": "code",
   "execution_count": 5,
   "id": "d86887ef",
   "metadata": {},
   "outputs": [
    {
     "name": "stdout",
     "output_type": "stream",
     "text": [
      "In main my_list = [2, 4, 6, 8]\n",
      "In func data = [3, 5, 7, 9]\n",
      "my_list = [3, 5, 7, 9]\tnew_list = [3, 5, 7, 9]\n"
     ]
    }
   ],
   "source": [
    "def mutable(data: list[int]) -> list[int]:\n",
    "    for i, item in enumerate(data):\n",
    "        data[i] = item + 1\n",
    "    print(f'In func {data = }') # Для демонстрации работы, но не для привычки принтить из функции\n",
    "    return data\n",
    "\n",
    "my_list = [2, 4, 6, 8]\n",
    "print(f'In main {my_list = }')\n",
    "new_list = mutable(my_list)\n",
    "print(f'{my_list = }\\t{new_list = }')"
   ]
  },
  {
   "cell_type": "markdown",
   "id": "ec9c8dd7",
   "metadata": {},
   "source": [
    "#### Возврат значения"
   ]
  },
  {
   "cell_type": "markdown",
   "id": "445ca993",
   "metadata": {},
   "source": [
    "    ● Если указан один объект — возвращается именно этот объект.\n",
    "    ● Если указано несколько значений через запятую, возвращается кортеж с перечисленными значениями\n",
    "    ● Если ничего не указано после return — возвращается None\n",
    "    После выполнения строки с командой return работа функции завершается, даже если это не последняя строка в теле функции."
   ]
  },
  {
   "cell_type": "code",
   "execution_count": 8,
   "id": "513b2e2d",
   "metadata": {},
   "outputs": [
    {
     "name": "stdout",
     "output_type": "stream",
     "text": [
      "(3.0, -1.5)\n"
     ]
    }
   ],
   "source": [
    "def quadratic_equations(a, b, c):\n",
    "    d = b ** 2 - 4 * a * c\n",
    "    if d > 0:\n",
    "        return (-b + d ** 0.5) / (2 * a), (-b - d ** 0.5) / (2 * a)\n",
    "    if d == 0:\n",
    "        return -b / (2 * a)\n",
    "    return None\n",
    "print(quadratic_equations(2, -3, -9))\n"
   ]
  },
  {
   "cell_type": "markdown",
   "id": "cb17255f",
   "metadata": {},
   "source": [
    "#### Неявный return"
   ]
  },
  {
   "cell_type": "code",
   "execution_count": 10,
   "id": "fa021f78",
   "metadata": {
    "scrolled": true
   },
   "outputs": [
    {
     "name": "stdout",
     "output_type": "stream",
     "text": [
      "In main my_list = [2, 4, 6, 8]\n",
      "In func data = [3, 5, 7, 9]\n",
      "my_list = [3, 5, 7, 9]\tnew_list = None\n"
     ]
    }
   ],
   "source": [
    "def no_return(data: list[int]):\n",
    "    for i, item in enumerate(data):\n",
    "        data[i] = item + 1\n",
    "    print(f'In func {data = }') # Для демонстрации работы, но не для привычки принтить из функции\n",
    "    \n",
    "my_list = [2, 4, 6, 8]\n",
    "print(f'In main {my_list = }')\n",
    "new_list = no_return(my_list)\n",
    "print(f'{my_list = }\\t{new_list = }')"
   ]
  },
  {
   "cell_type": "markdown",
   "id": "d6a9cd2f",
   "metadata": {},
   "source": [
    "    🔥 Важно! Если функция ничего не возвращает, значит она возвращает ничего — None. \n",
    "    Теперь можно изменить функцию поиска корней квадратного уравнения и сделать короче."
   ]
  },
  {
   "cell_type": "markdown",
   "id": "042aa546",
   "metadata": {},
   "source": [
    "#### Значения по умолчанию"
   ]
  },
  {
   "cell_type": "markdown",
   "id": "c264db27",
   "metadata": {},
   "source": [
    "    - Функция может содержать значения по умолчанию для своих параметров.\n",
    "    - Переменная a должна быть передана в обязательном порядке. Если не передать 2-й и/или 3-й аргумент, в переменные попадут нули как значения по умолчанию."
   ]
  },
  {
   "cell_type": "code",
   "execution_count": 11,
   "id": "4ddaffbf",
   "metadata": {},
   "outputs": [
    {
     "name": "stdout",
     "output_type": "stream",
     "text": [
      "(4.5, 0.0)\n"
     ]
    }
   ],
   "source": [
    "def quadratic_equations(a, b=0, c=0):\n",
    "    d = b ** 2 - 4 * a * c\n",
    "    if d > 0:\n",
    "        return (-b + d ** 0.5) / (2 * a), (-b - d ** 0.5) / (2 *a)\n",
    "    if d == 0:\n",
    "        return -b / (2 * a)\n",
    "    \n",
    "print(quadratic_equations(2, -9))"
   ]
  },
  {
   "cell_type": "markdown",
   "id": "d70237c3",
   "metadata": {},
   "source": [
    "🔥 PEP-8! Для указания значения по умолчанию используется знак равенства. До и после такого равно пробелы не ставятся."
   ]
  },
  {
   "cell_type": "markdown",
   "id": "11bb8655",
   "metadata": {},
   "source": [
    "#### Изменяемый объект как значение по умолчанию"
   ]
  },
  {
   "cell_type": "code",
   "execution_count": 14,
   "id": "5a0227d1",
   "metadata": {},
   "outputs": [
    {
     "name": "stdout",
     "output_type": "stream",
     "text": [
      "new_list = [None, 1, 2, 3, 4, 5]\n",
      "other_list = [None, 1, 2, 3, 4, 5, 1, 2, 3, 4, 5, 6, 7]\n"
     ]
    }
   ],
   "source": [
    "def from_one_to_n(n, data=[]):\n",
    "    for i in range(1, n + 1):\n",
    "        data.append(i)\n",
    "    return data\n",
    "\n",
    "new_list = from_one_to_n(5)\n",
    "print(f'{new_list = }')\n",
    "other_list = from_one_to_n(7)\n",
    "print(f'{other_list = }')"
   ]
  },
  {
   "cell_type": "markdown",
   "id": "5623184f",
   "metadata": {},
   "source": [
    "Рекомендуемый приём"
   ]
  },
  {
   "cell_type": "code",
   "execution_count": 15,
   "id": "8d608dec",
   "metadata": {},
   "outputs": [
    {
     "name": "stdout",
     "output_type": "stream",
     "text": [
      "new_list = [1, 2, 3, 4, 5]\n",
      "other_list = [1, 2, 3, 4, 5, 6, 7]\n"
     ]
    }
   ],
   "source": [
    "def from_one_to_n(n, data=None):\n",
    "    if data is None:\n",
    "        data = []\n",
    "    for i in range(1, n + 1):\n",
    "        data.append(i)\n",
    "    return data\n",
    "\n",
    "new_list = from_one_to_n(5)\n",
    "print(f'{new_list = }')\n",
    "other_list = from_one_to_n(7)\n",
    "print(f'{other_list = }')"
   ]
  },
  {
   "cell_type": "markdown",
   "id": "783cad8c",
   "metadata": {},
   "source": [
    "#### Позиционные и ключевые параметры"
   ]
  },
  {
   "cell_type": "code",
   "execution_count": 18,
   "id": "eaf62f5c",
   "metadata": {},
   "outputs": [],
   "source": [
    "def func(positional_only_parameters, /, positional_or_keyword_parameters, *,\n",
    "keyword_only_parameters): pass"
   ]
  },
  {
   "cell_type": "markdown",
   "id": "2a1af701",
   "metadata": {},
   "source": [
    "🔥 Важно! Косая черта и звёздочка одновременно или по отдельности могут отсутствовать при определении функции."
   ]
  },
  {
   "cell_type": "markdown",
   "id": "917a8b46",
   "metadata": {},
   "source": [
    "    ● Пример обычной функции:"
   ]
  },
  {
   "cell_type": "code",
   "execution_count": 19,
   "id": "c0fa54cd",
   "metadata": {},
   "outputs": [
    {
     "name": "stdout",
     "output_type": "stream",
     "text": [
      "42\n",
      "42\n"
     ]
    }
   ],
   "source": [
    "def standard_arg(arg):\n",
    "    print(arg) # Принтим для примера, а не для привычки\n",
    "    \n",
    "standard_arg(42)\n",
    "standard_arg(arg=42)"
   ]
  },
  {
   "cell_type": "markdown",
   "id": "90d6d873",
   "metadata": {},
   "source": [
    "    ● Пример только позиционной функции:"
   ]
  },
  {
   "cell_type": "code",
   "execution_count": 24,
   "id": "dba6623c",
   "metadata": {},
   "outputs": [
    {
     "name": "stdout",
     "output_type": "stream",
     "text": [
      "42\n"
     ]
    }
   ],
   "source": [
    "def pos_only_arg(arg, /):\n",
    "    print(arg) # Принтим для примера, а не для привычки\n",
    "    \n",
    "pos_only_arg(42)\n",
    "# pos_only_arg(arg=42) # TypeError: pos_only_arg() got some positional-only arguments passed as keyword arguments: 'arg'"
   ]
  },
  {
   "cell_type": "markdown",
   "id": "cc3ff187",
   "metadata": {},
   "source": [
    "    ● Пример только ключевой функции:"
   ]
  },
  {
   "cell_type": "code",
   "execution_count": 26,
   "id": "a0eb6690",
   "metadata": {},
   "outputs": [
    {
     "name": "stdout",
     "output_type": "stream",
     "text": [
      "42\n"
     ]
    }
   ],
   "source": [
    "def kwd_only_arg(*, arg):\n",
    "    print(arg) # Принтим для примера, а не для привычки\n",
    "    \n",
    "# kwd_only_arg(42)\n",
    "kwd_only_arg(arg=42)"
   ]
  },
  {
   "cell_type": "markdown",
   "id": "df533d16",
   "metadata": {},
   "source": [
    "    ● Пример функции со всеми вариантами параметров:"
   ]
  },
  {
   "cell_type": "code",
   "execution_count": 29,
   "id": "72cadb76",
   "metadata": {},
   "outputs": [
    {
     "name": "stdout",
     "output_type": "stream",
     "text": [
      "1 2 3\n",
      "1 2 3\n"
     ]
    }
   ],
   "source": [
    "def combined_example(pos_only, /, standard, *, kwd_only):\n",
    "    print(pos_only, standard, kwd_only) # Принтим для примера, а не для привычки\n",
    "    \n",
    "# combined_example(1, 2, 3) # TypeError: combined_example() takes 2 positional arguments but 3 were given\n",
    "combined_example(1, 2, kwd_only=3)\n",
    "combined_example(1, standard=2, kwd_only=3)\n",
    "# combined_example(pos_only=1, standard=2, kwd_only=3) # TypeError: combined_example() got some positional-only arguments passed as keyword arguments: 'pos_only'"
   ]
  },
  {
   "cell_type": "markdown",
   "id": "bd9ad621",
   "metadata": {},
   "source": [
    "    🔥 Важно! Если функция принимает несколько ключевых параметров, порядок передачи аргументов может отличаться."
   ]
  },
  {
   "cell_type": "markdown",
   "id": "62ce6fa4",
   "metadata": {},
   "source": [
    "#### Параметры args и kwargs"
   ]
  },
  {
   "cell_type": "markdown",
   "id": "ddc74f11",
   "metadata": {},
   "source": [
    "    ✔ def func(*args): — принимает любое число позиционных аргументов\n",
    "    ✔ def func(**kwargs): — принимает любое число ключевых аргументов\n",
    "    ✔ def func(*args, **kwargs): — принимает любое"
   ]
  },
  {
   "cell_type": "code",
   "execution_count": 31,
   "id": "56a5c5a4",
   "metadata": {},
   "outputs": [
    {
     "name": "stdout",
     "output_type": "stream",
     "text": [
      "2.0\n"
     ]
    }
   ],
   "source": [
    "def mean(args):\n",
    "    return sum(args) / len(args)\n",
    "print(mean([1, 2, 3]))\n",
    "# print(mean(1, 2, 3)) # TypeError: mean() takes 1 positional argument but 3 were given"
   ]
  },
  {
   "cell_type": "code",
   "execution_count": 32,
   "id": "9c03c34c",
   "metadata": {},
   "outputs": [
    {
     "name": "stdout",
     "output_type": "stream",
     "text": [
      "2.0\n",
      "2.0\n"
     ]
    }
   ],
   "source": [
    "def mean(*args):\n",
    "    return sum(args) / len(args)\n",
    "\n",
    "print(mean(*[1, 2, 3]))\n",
    "print(mean(1, 2, 3))"
   ]
  },
  {
   "cell_type": "markdown",
   "id": "7f701cdb",
   "metadata": {},
   "source": [
    "    🔥 Внимание! При вызове функции со списком перед квадратными скобками добавили звёздочку. Смыcл её противоположный. Мы распаковали список. Каждый элемент был передан в функцию по отдельности."
   ]
  },
  {
   "cell_type": "code",
   "execution_count": 33,
   "id": "3b7b2c87",
   "metadata": {},
   "outputs": [
    {
     "name": "stdout",
     "output_type": "stream",
     "text": [
      "По предмету \"химия\" получена оценка 5\n",
      "По предмету \"физика\" получена оценка 4\n",
      "По предмету \"математика\" получена оценка 5\n",
      "По предмету \"физра\" получена оценка 5\n"
     ]
    }
   ],
   "source": [
    "def school_print(**kwargs):\n",
    "    for key, value in kwargs.items():\n",
    "        print(f'По предмету \"{key}\" получена оценка {value}')\n",
    "        \n",
    "school_print(химия=5, физика=4, математика=5, физра=5)"
   ]
  },
  {
   "cell_type": "markdown",
   "id": "5dbe98b9",
   "metadata": {},
   "source": [
    "    🔥 Важно! Благодаря кодировке utf-8 мы смогли передать в функцию переменные на русском языке."
   ]
  },
  {
   "cell_type": "markdown",
   "id": "f7531276",
   "metadata": {},
   "source": [
    "#### Области видимости: global и nonlocal"
   ]
  },
  {
   "cell_type": "markdown",
   "id": "d688e481",
   "metadata": {},
   "source": [
    "    ● локальная — код внутри самой функции, т.е. переменные заданные в теле функции.\n",
    "    ● глобальная — код модуля, т.е. переменные заданные в файле py содержащем функцию.\n",
    "    ● не локальная — код внешней функции, исключающий доступ к глобальным переменным."
   ]
  },
  {
   "cell_type": "markdown",
   "id": "0077cd05",
   "metadata": {},
   "source": [
    "● Локальные переменные:"
   ]
  },
  {
   "cell_type": "code",
   "execution_count": 35,
   "id": "81d32966",
   "metadata": {},
   "outputs": [
    {
     "name": "stdout",
     "output_type": "stream",
     "text": [
      "In main x = 42\n",
      "In func x = 100\n",
      "x = 42\tz = 43\n"
     ]
    }
   ],
   "source": [
    "def func(y: int) -> int:\n",
    "    x = 100\n",
    "    print(f'In func {x = }') # Для демонстрации работы, но не для привычки принтить из функции\n",
    "    return y + 1\n",
    "\n",
    "x = 42\n",
    "print(f'In main {x = }')\n",
    "z = func(x)\n",
    "print(f'{x = }\\t{z = }')"
   ]
  },
  {
   "cell_type": "markdown",
   "id": "00569146",
   "metadata": {},
   "source": [
    "● Глобальные переменные:"
   ]
  },
  {
   "cell_type": "code",
   "execution_count": 42,
   "id": "63a5d44c",
   "metadata": {},
   "outputs": [
    {
     "name": "stdout",
     "output_type": "stream",
     "text": [
      "In main x = 42\n",
      "In func x = 142\n",
      "x = 142\tz = 43\n"
     ]
    }
   ],
   "source": [
    "def func(y: int) -> int:\n",
    "    global x\n",
    "    x += 100\n",
    "    print(f'In func {x = }') # Для демонстрации работы, но не для привычки принтить из функции\n",
    "    return y + 1\n",
    "\n",
    "x = 42\n",
    "print(f'In main {x = }')\n",
    "z = func(x)\n",
    "print(f'{x = }\\t{z = }')"
   ]
  },
  {
   "cell_type": "markdown",
   "id": "a8b54b42",
   "metadata": {},
   "source": [
    "● Не локальные переменные:"
   ]
  },
  {
   "cell_type": "code",
   "execution_count": 43,
   "id": "a223a7e1",
   "metadata": {},
   "outputs": [
    {
     "name": "stdout",
     "output_type": "stream",
     "text": [
      "In main x = 42\n",
      "In func x = 101\n",
      "x = 42\tz = 44\n"
     ]
    }
   ],
   "source": [
    "def main(a):\n",
    "    x = 1\n",
    "    def func(y):\n",
    "        nonlocal x\n",
    "        x += 100\n",
    "        print(f'In func {x = }') # Для демонстрации работы, но не для привычки принтить из функции\n",
    "        return y + 1\n",
    "    \n",
    "    return x + func(a)\n",
    "x = 42\n",
    "print(f'In main {x = }')\n",
    "z = main(x)\n",
    "print(f'{x = }\\t{z = }')"
   ]
  },
  {
   "cell_type": "markdown",
   "id": "80a9d42c",
   "metadata": {},
   "source": [
    "#### Доступ к константам\n",
    "Один из случаев когда обращение из тела функции к глобальной переменной считается нормальным — доступ к константам."
   ]
  },
  {
   "cell_type": "code",
   "execution_count": 44,
   "id": "216b608a",
   "metadata": {},
   "outputs": [
    {
     "name": "stdout",
     "output_type": "stream",
     "text": [
      "112\n"
     ]
    }
   ],
   "source": [
    "LIMIT = 1_000\n",
    "def func(x, y):\n",
    "    result = x ** y % LIMIT\n",
    "    return result\n",
    "\n",
    "print(func(42, 73))"
   ]
  },
  {
   "cell_type": "markdown",
   "id": "61a5e7bb",
   "metadata": {},
   "source": [
    "#### Анонимная функция lambda\n",
    "Они позволяют задать функцию в одну строку кода без использования других ключевых слов."
   ]
  },
  {
   "cell_type": "code",
   "execution_count": 45,
   "id": "743473df",
   "metadata": {},
   "outputs": [
    {
     "name": "stdout",
     "output_type": "stream",
     "text": [
      "45.14\n",
      "45.14\n"
     ]
    }
   ],
   "source": [
    "def add_two_def(a, b):\n",
    "    return a + b\n",
    "\n",
    "add_two_lambda = lambda a, b: a + b\n",
    "\n",
    "print(add_two_def(42, 3.14))\n",
    "print(add_two_lambda(42, 3.14))"
   ]
  },
  {
   "cell_type": "markdown",
   "id": "2dff1e2a",
   "metadata": {},
   "source": [
    "🔥 Важно! С точки зрения разработки присваивание анонимной функции\n",
    "имени является неверным. Лямбды не должны использоваться для подобных\n",
    "программных решений. Аналогичное предупреждение есть и в PEP-8."
   ]
  },
  {
   "cell_type": "code",
   "execution_count": 46,
   "id": "5fb5f9f9",
   "metadata": {},
   "outputs": [
    {
     "name": "stdout",
     "output_type": "stream",
     "text": [
      "s_key = [('four', 4), ('one', 1), ('ten', 10), ('three', 3), ('two', 2)]\n",
      "s_value = [('one', 1), ('two', 2), ('three', 3), ('four', 4), ('ten', 10)]\n"
     ]
    }
   ],
   "source": [
    "my_dict = {'two': 2, 'one': 1, 'four': 4, 'three': 3, 'ten': 10}\n",
    "s_key = sorted(my_dict.items())\n",
    "s_value = sorted(my_dict.items(), key=lambda x: x[1])\n",
    "print(f'{s_key = }\\n{s_value = }')"
   ]
  },
  {
   "cell_type": "markdown",
   "id": "5c4b9e26",
   "metadata": {},
   "source": [
    "#### Документирование кода функций"
   ]
  },
  {
   "cell_type": "markdown",
   "id": "5002316f",
   "metadata": {},
   "source": [
    "    ● Тройные кавычки используются, даже если строка помещается на одной строке. Это позволяет легко расширить его позже.\n",
    "    ● Закрывающие кавычки находятся на той же строке, что и открывающие. Это выглядит лучше для однострочников.\n",
    "    ● Нет пустой строки ни до, ни после строки документации.\n",
    "    ● Строка документации — это фраза, заканчивающаяся точкой. Он описывает действие функции или метода как команду\n",
    "    ● Однострочная строка документации не должна повторять параметры функции."
   ]
  },
  {
   "cell_type": "code",
   "execution_count": 48,
   "id": "fbdb496e",
   "metadata": {},
   "outputs": [
    {
     "name": "stdout",
     "output_type": "stream",
     "text": [
      "73\n"
     ]
    }
   ],
   "source": [
    "def max_before_hundred(*args):\n",
    "    \"\"\"Return the maximum number not exceeding 100.\"\"\"\n",
    "    m = float('-inf')\n",
    "    for item in args:\n",
    "        if m < item < 100:\n",
    "            m = item\n",
    "    return m\n",
    "\n",
    "print(max_before_hundred(-42, 73, 256, 0))"
   ]
  },
  {
   "cell_type": "markdown",
   "id": "997cd090",
   "metadata": {},
   "source": [
    "🔥 Внимание! В программе использована переменная, а точнее константа\n",
    "“минус бесконечность” float('-inf'). Это особая форма представления\n",
    "бесконечности в памяти интерпретатора, аналогичная бесконечности из\n",
    "модуля math."
   ]
  },
  {
   "cell_type": "markdown",
   "id": "9e7c2dd2",
   "metadata": {},
   "source": [
    "#### Задание\n",
    "Перед вами функция и её вызов. Найдите три ошибки и напишите о них в чат."
   ]
  },
  {
   "cell_type": "code",
   "execution_count": 50,
   "id": "87f30805",
   "metadata": {},
   "outputs": [
    {
     "ename": "TypeError",
     "evalue": "func() got some positional-only arguments passed as keyword arguments: 'a'",
     "output_type": "error",
     "traceback": [
      "\u001b[1;31m---------------------------------------------------------------------------\u001b[0m",
      "\u001b[1;31mTypeError\u001b[0m                                 Traceback (most recent call last)",
      "\u001b[1;32m~\\AppData\\Local\\Temp\\ipykernel_8776\\1714543700.py\u001b[0m in \u001b[0;36m<module>\u001b[1;34m\u001b[0m\n\u001b[0;32m      7\u001b[0m     \u001b[1;32mreturn\u001b[0m\u001b[1;33m\u001b[0m\u001b[1;33m\u001b[0m\u001b[0m\n\u001b[0;32m      8\u001b[0m \u001b[1;33m\u001b[0m\u001b[0m\n\u001b[1;32m----> 9\u001b[1;33m \u001b[0mprint\u001b[0m\u001b[1;33m(\u001b[0m\u001b[0mfunc\u001b[0m\u001b[1;33m(\u001b[0m\u001b[0mc\u001b[0m\u001b[1;33m=\u001b[0m\u001b[1;36m1\u001b[0m\u001b[1;33m,\u001b[0m \u001b[0mb\u001b[0m\u001b[1;33m=\u001b[0m\u001b[1;36m2\u001b[0m\u001b[1;33m,\u001b[0m \u001b[0ma\u001b[0m\u001b[1;33m=\u001b[0m\u001b[1;36m3\u001b[0m\u001b[1;33m)\u001b[0m\u001b[1;33m)\u001b[0m\u001b[1;33m\u001b[0m\u001b[1;33m\u001b[0m\u001b[0m\n\u001b[0m",
      "\u001b[1;31mTypeError\u001b[0m: func() got some positional-only arguments passed as keyword arguments: 'a'"
     ]
    }
   ],
   "source": [
    "def func(a=0.0, /, b=0.0, *, c=0.0):\n",
    "    \"\"\"func(a=0.0: int | float, /, b=0.0: int | float, *, c=0.0: int | float) -> : int | float\"\"\"\n",
    "    if a > c:\n",
    "        return a\n",
    "    if a < c:\n",
    "        return c\n",
    "    return\n",
    "\n",
    "print(func(c=1, b=2, a=3))"
   ]
  },
  {
   "cell_type": "markdown",
   "id": "f1bce0a4",
   "metadata": {},
   "source": [
    "### 2. Функции “из коробки”"
   ]
  },
  {
   "cell_type": "markdown",
   "id": "babe2709",
   "metadata": {},
   "source": [
    "abs(), aiter(), all(), any(), anext(), ascii(), bin(), bool(), breakpoint(), bytearray(), bytes(),\n",
    "callable(), chr(), classmethod(), compile(), complex(), delattr(), dict(), dir(), divmod(),\n",
    "enumerate(), eval(), exec(), filter(), float(), format(), frozenset(), getattr(), globals(),\n",
    "hasattr(), hash(), help(), hex(), id(), input(), int(), isinstance(), issubclass(), iter(), len(),\n",
    "list(), locals(), map(), max(), memoryview(), min(), next(), object(), oct(), open(), ord(),\n",
    "pow(), print(), property(), range(), repr(), reversed(), round(), set(), setattr(), slice(),\n",
    "sorted(), staticmethod(), str(), sum(), super(), tuple(), type(), vars(), zip()."
   ]
  },
  {
   "cell_type": "markdown",
   "id": "cba546eb",
   "metadata": {},
   "source": [
    "🔥 Важно! Не используйте имена встроенных функций в качестве имён переменных."
   ]
  },
  {
   "cell_type": "markdown",
   "id": "7979189e",
   "metadata": {},
   "source": [
    "#### Повторяем map(), filter(), zip()"
   ]
  },
  {
   "cell_type": "markdown",
   "id": "9715f791",
   "metadata": {},
   "source": [
    "##### map(function, iterable) — \n",
    "принимает на вход функцию и последовательность.\n",
    "Функция применяется к каждому элементу последовательности и возвращает map итератор."
   ]
  },
  {
   "cell_type": "code",
   "execution_count": 53,
   "id": "92d0f4b4",
   "metadata": {},
   "outputs": [
    {
     "name": "stdout",
     "output_type": "stream",
     "text": [
      "привет здорова приветствую\n"
     ]
    }
   ],
   "source": [
    "texts = [\"Привет\", \"ЗДОРОВА\", \"привеТствую\"]\n",
    "res = map(lambda x: x.lower(), texts)\n",
    "print(*res)"
   ]
  },
  {
   "cell_type": "markdown",
   "id": "bbfce8fd",
   "metadata": {},
   "source": [
    "##### filter(function, iterable) — \n",
    "принимает на вход функцию и последовательность. Если функция возвращает истину, элемент остаётся в последовательности. Как и map возвращает объект итератор."
   ]
  },
  {
   "cell_type": "code",
   "execution_count": 52,
   "id": "74f91fe4",
   "metadata": {},
   "outputs": [
    {
     "name": "stdout",
     "output_type": "stream",
     "text": [
      "(42, 1024)\n"
     ]
    }
   ],
   "source": [
    "numbers = [42, -73, 1024]\n",
    "res = tuple(filter(lambda x: x > 0, numbers))\n",
    "print(res)"
   ]
  },
  {
   "cell_type": "markdown",
   "id": "95687a86",
   "metadata": {},
   "source": [
    "##### zip(*iterables, strict=False) — \n",
    "принимает несколько последовательностей и итерируется по ним параллельно."
   ]
  },
  {
   "cell_type": "code",
   "execution_count": 54,
   "id": "be128a11",
   "metadata": {},
   "outputs": [
    {
     "name": "stdout",
     "output_type": "stream",
     "text": [
      "Иван заработал 125000.00 денег и премию 12500.00\n",
      "Николай заработал 96000.00 денег и премию 24000.00\n",
      "Пётр заработал 109000.00 денег и премию 14170.00\n"
     ]
    }
   ],
   "source": [
    "names = [\"Иван\", \"Николай\", \"Пётр\"]\n",
    "salaries = [125_000, 96_000, 109_000]\n",
    "awards = [0.1, 0.25, 0.13, 0.99]\n",
    "for name, salary, award in zip(names, salaries, awards):\n",
    "    print(f'{name} заработал {salary:.2f} денег и премию {salary * award:.2f}')"
   ]
  },
  {
   "cell_type": "markdown",
   "id": "6ceef9c4",
   "metadata": {},
   "source": [
    "#### Функции max(), min(), sum()"
   ]
  },
  {
   "cell_type": "markdown",
   "id": "2bbd5337",
   "metadata": {},
   "source": [
    "##### ● Функция max()\n",
    "max(iterable, *[, key, default]) или max(arg1, arg2, *args[, key])\n",
    "Функция принимает на вход итерируемую последовательность или несколько\n",
    "позиционных элементов и ищет максимальное из них. Ключевой параметр key\n",
    "указывает на то, какие элементы необходимо сравнить, если объект является\n",
    "сложной структурой. Отдельно параметр default используется для возврата\n",
    "значения, если на вход передана пустой итератор."
   ]
  },
  {
   "cell_type": "code",
   "execution_count": 55,
   "id": "f85e4bd2",
   "metadata": {},
   "outputs": [
    {
     "name": "stdout",
     "output_type": "stream",
     "text": [
      "empty\n",
      "256\n",
      "('Иван', 125000)\n"
     ]
    }
   ],
   "source": [
    "lst_1 = []\n",
    "lst_2 = [42, 256, 73]\n",
    "lst_3 = [(\"Иван\", 125_000), (\"Николай\", 96_000), (\"Пётр\",\n",
    "109_000)]\n",
    "print(max(lst_1, default='empty'))\n",
    "print(max(*lst_2))\n",
    "print(max(lst_3, key=lambda x: x[1]))"
   ]
  },
  {
   "cell_type": "markdown",
   "id": "d2ba314a",
   "metadata": {},
   "source": [
    "##### ● Функция min()\n",
    "min(iterable, *[, key, default]) или min(arg1, arg2, *args[, key])\n",
    "Функция работает аналогично max, но ищет минимальный элемент."
   ]
  },
  {
   "cell_type": "code",
   "execution_count": 56,
   "id": "afac54ac",
   "metadata": {},
   "outputs": [
    {
     "name": "stdout",
     "output_type": "stream",
     "text": [
      "empty\n",
      "42\n",
      "('Николай', 96000)\n"
     ]
    }
   ],
   "source": [
    "lst_1 = []\n",
    "lst_2 = [42, 256, 73]\n",
    "lst_3 = [(\"Иван\", 125_000), (\"Николай\", 96_000), (\"Пётр\",\n",
    "109_000)]\n",
    "print(min(lst_1, default='empty'))\n",
    "print(min(*lst_2))\n",
    "print(min(lst_3, key=lambda x: x[1]))"
   ]
  },
  {
   "cell_type": "markdown",
   "id": "9eab5b7a",
   "metadata": {},
   "source": [
    "● Функция sum()\n",
    "sum(iterable, /, start=0)\n",
    "Функция принимает объект итератор и подсчитывает сумму всех элементов.\n",
    "Ключевой аргумент start задаёт начальное значение для суммирования."
   ]
  },
  {
   "cell_type": "code",
   "execution_count": 57,
   "id": "a059ef82",
   "metadata": {},
   "outputs": [
    {
     "name": "stdout",
     "output_type": "stream",
     "text": [
      "371\n",
      "1395\n"
     ]
    }
   ],
   "source": [
    "my_list = [42, 256, 73]\n",
    "print(sum(my_list))\n",
    "print(sum(my_list, start=1024))"
   ]
  },
  {
   "cell_type": "markdown",
   "id": "325a8c9b",
   "metadata": {},
   "source": [
    "#### Функции all(), any()"
   ]
  },
  {
   "cell_type": "markdown",
   "id": "fb4060e5",
   "metadata": {},
   "source": [
    "##### ● Функция all()\n",
    "all(iterable)\n",
    "Функция возвращает истину, если все элементы последовательности являются\n",
    "истиной. На Python создание функции all выглядело бы так:"
   ]
  },
  {
   "cell_type": "code",
   "execution_count": 58,
   "id": "a012a147",
   "metadata": {},
   "outputs": [],
   "source": [
    "def all(iterable):\n",
    "    for element in iterable:\n",
    "        if not element:\n",
    "            return False\n",
    "    return True"
   ]
  },
  {
   "cell_type": "code",
   "execution_count": 59,
   "id": "106cb610",
   "metadata": {},
   "outputs": [
    {
     "name": "stdout",
     "output_type": "stream",
     "text": [
      "В последовательности есть отрицательные и/или нулевые элементы\n"
     ]
    }
   ],
   "source": [
    "numbers = [42, -73, 1024]\n",
    "if all(map(lambda x: x > 0, numbers)):\n",
    "    print('Все элементы положительные')\n",
    "else:\n",
    "    print('В последовательности есть отрицательные и/или нулевые элементы')"
   ]
  },
  {
   "cell_type": "markdown",
   "id": "efdca54b",
   "metadata": {},
   "source": [
    "##### ● Функция any()\n",
    "any(iterable)\n",
    "Функция возвращает истину, если хотя бы один элемент последовательности\n",
    "являются истиной. На Python создание функции any выглядело бы так:"
   ]
  },
  {
   "cell_type": "code",
   "execution_count": 61,
   "id": "53dad5a3",
   "metadata": {},
   "outputs": [],
   "source": [
    "def any(iterable):\n",
    "    for element in iterable:\n",
    "        if element:\n",
    "            return True\n",
    "    return False"
   ]
  },
  {
   "cell_type": "code",
   "execution_count": 62,
   "id": "cb2c1d5d",
   "metadata": {},
   "outputs": [
    {
     "name": "stdout",
     "output_type": "stream",
     "text": [
      "Хотя бы один элемент положительный\n"
     ]
    }
   ],
   "source": [
    "numbers = [42, -73, 1024]\n",
    "if any(map(lambda x: x > 0, numbers)):\n",
    "    print('Хотя бы один элемент положительный')\n",
    "else:\n",
    "    print('Все элементы не больше нуля')"
   ]
  },
  {
   "cell_type": "markdown",
   "id": "1612f831",
   "metadata": {},
   "source": [
    "🔥 Важно! Все перечисленные выше функции имеют линейную асимптотику\n",
    "O(n), т.е. функция проходит последовательность от начала до конца прежде чем\n",
    "вернуть результат."
   ]
  },
  {
   "cell_type": "markdown",
   "id": "0e040412",
   "metadata": {},
   "source": [
    "#### Функции chr(), ord()"
   ]
  },
  {
   "cell_type": "markdown",
   "id": "04f37975",
   "metadata": {},
   "source": [
    "##### ● Функция chr()\n",
    "chr(integer)\n",
    "Функция возвращает строковой символ из таблицы Юникод по его номеру. Номер -\n",
    "целое число от 0 до 1_114_111."
   ]
  },
  {
   "cell_type": "code",
   "execution_count": 63,
   "id": "e155f8e9",
   "metadata": {},
   "outputs": [
    {
     "name": "stdout",
     "output_type": "stream",
     "text": [
      "a\n",
      "ё\n",
      "😇\n"
     ]
    }
   ],
   "source": [
    "print(chr(97))\n",
    "print(chr(1105))\n",
    "print(chr(128519))"
   ]
  },
  {
   "cell_type": "markdown",
   "id": "eb02bc70",
   "metadata": {},
   "source": [
    "##### ● Функция ord()\n",
    "ord(char)\n",
    "Функция принимает один символ и возвращает его код в таблице Юникод."
   ]
  },
  {
   "cell_type": "code",
   "execution_count": 64,
   "id": "65067535",
   "metadata": {},
   "outputs": [
    {
     "name": "stdout",
     "output_type": "stream",
     "text": [
      "97\n",
      "1072\n",
      "128521\n"
     ]
    }
   ],
   "source": [
    "print(ord('a'))\n",
    "print(ord('а'))\n",
    "print(ord('😉'))"
   ]
  },
  {
   "cell_type": "markdown",
   "id": "48a71347",
   "metadata": {},
   "source": [
    "#### Функции locals(), globals(), vars()"
   ]
  },
  {
   "cell_type": "markdown",
   "id": "10686cfa",
   "metadata": {},
   "source": [
    "##### ● Функция locals()\n",
    "Функция возвращает словарь переменных из локальной области видимости на\n",
    "момент вызова функции."
   ]
  },
  {
   "cell_type": "code",
   "execution_count": 67,
   "id": "7cf24552",
   "metadata": {},
   "outputs": [
    {
     "name": "stdout",
     "output_type": "stream",
     "text": [
      "{'a': 1, 'b': 2, 'c': 3, 'x': 3}\n"
     ]
    },
    {
     "data": {
      "text/plain": [
       "6"
      ]
     },
     "execution_count": 67,
     "metadata": {},
     "output_type": "execute_result"
    }
   ],
   "source": [
    "SIZE = 10\n",
    "\n",
    "def func(a, b, c):\n",
    "    x = a + b\n",
    "    print(locals())\n",
    "    z = x + c\n",
    "    return z\n",
    "func(1, 2, 3)"
   ]
  },
  {
   "cell_type": "markdown",
   "id": "dc851fee",
   "metadata": {},
   "source": [
    "🔥 Важно! Python игнорирует попытки обновления словаря locals. Для\n",
    "изменения значений переменных надо обращаться к ним напрямую."
   ]
  },
  {
   "cell_type": "markdown",
   "id": "034db0ea",
   "metadata": {},
   "source": [
    "##### ● Функция globals()\n",
    "Функция возвращает словарь переменных из глобальной области видимости, т.е. из\n",
    "пространства модуля."
   ]
  },
  {
   "cell_type": "code",
   "execution_count": 6,
   "id": "27326d14",
   "metadata": {
    "scrolled": true
   },
   "outputs": [
    {
     "name": "stdout",
     "output_type": "stream",
     "text": [
      "{'__name__': '__main__', '__doc__': 'Automatically created module for IPython interactive environment', '__package__': None, '__loader__': None, '__spec__': None, '__builtin__': <module 'builtins' (built-in)>, '__builtins__': <module 'builtins' (built-in)>, '_ih': ['', 'a = 42\\nprint(type(a), id(a))\\nprint(type(id))\\n\\nvery_bad_programming_style = sum\\nprint(very_bad_programming_style([1, 2, 3]))', 'a = 42\\nprint(type(a), id(a))\\nprint(type(id))\\n\\nvery_bad_programming_style = sum\\nprint(very_bad_programming_style([1, 2, 3]))', \"def quadratic_equations(a: int | float, b: int | float, c: int | float) -> tuple[float, float] | float | str:\\n    d = b ** 2 - 4 * a * c\\n    if d > 0:\\n        return (-b + d ** 0.5) / (2 * a), (-b - d ** 0.5) / (2 *a)\\n    elif d == 0:\\n        return -b / (2 * a)\\n    else:\\n        return 'Нет решений'\\n    \\nprint(quadratic_equations(2, -3, -9))\", 'def quadratic_equations(a: int | float, b: int | float, c: int | float) -> tuple[float, float] | float | None:\\n    d = b ** 2 - 4 * a * c\\n    if d > 0:\\n        return (-b + d ** 0.5) / (2 * a), (-b - d ** 0.5) / (2 *a)\\n    elif d == 0:\\n        return -b / (2 * a)\\n    else:\\n        return None\\n    \\nprint(quadratic_equations(2, -3, -9))', 'print(vars(int))', 'SIZE = 10\\ndef func(a, b, c):\\n    x = a + b\\n    print(globals())\\n    z = x + c\\n    return z\\n\\nprint(globals())\\nprint(func(1, 2, 3))'], '_oh': {}, '_dh': [WindowsPath('c:/Users/Иван/Desktop/GeekBrains/16. Next-Python'), WindowsPath('c:/Users/Иван/Desktop/GeekBrains/16. Next-Python')], 'In': ['', 'a = 42\\nprint(type(a), id(a))\\nprint(type(id))\\n\\nvery_bad_programming_style = sum\\nprint(very_bad_programming_style([1, 2, 3]))', 'a = 42\\nprint(type(a), id(a))\\nprint(type(id))\\n\\nvery_bad_programming_style = sum\\nprint(very_bad_programming_style([1, 2, 3]))', \"def quadratic_equations(a: int | float, b: int | float, c: int | float) -> tuple[float, float] | float | str:\\n    d = b ** 2 - 4 * a * c\\n    if d > 0:\\n        return (-b + d ** 0.5) / (2 * a), (-b - d ** 0.5) / (2 *a)\\n    elif d == 0:\\n        return -b / (2 * a)\\n    else:\\n        return 'Нет решений'\\n    \\nprint(quadratic_equations(2, -3, -9))\", 'def quadratic_equations(a: int | float, b: int | float, c: int | float) -> tuple[float, float] | float | None:\\n    d = b ** 2 - 4 * a * c\\n    if d > 0:\\n        return (-b + d ** 0.5) / (2 * a), (-b - d ** 0.5) / (2 *a)\\n    elif d == 0:\\n        return -b / (2 * a)\\n    else:\\n        return None\\n    \\nprint(quadratic_equations(2, -3, -9))', 'print(vars(int))', 'SIZE = 10\\ndef func(a, b, c):\\n    x = a + b\\n    print(globals())\\n    z = x + c\\n    return z\\n\\nprint(globals())\\nprint(func(1, 2, 3))'], 'Out': {}, 'get_ipython': <bound method InteractiveShell.get_ipython of <ipykernel.zmqshell.ZMQInteractiveShell object at 0x000001D2CC4B5210>>, 'exit': <IPython.core.autocall.ZMQExitAutocall object at 0x000001D2CC52D410>, 'quit': <IPython.core.autocall.ZMQExitAutocall object at 0x000001D2CC52D410>, 'open': <function open at 0x000001D2C9868040>, '_': '', '__': '', '___': '', '__vsc_ipynb_file__': 'c:\\\\Users\\\\Иван\\\\Desktop\\\\GeekBrains\\\\16. Next-Python\\\\lec_4.ipynb', '_i': 'print(vars(int))', '_ii': 'def quadratic_equations(a: int | float, b: int | float, c: int | float) -> tuple[float, float] | float | None:\\n    d = b ** 2 - 4 * a * c\\n    if d > 0:\\n        return (-b + d ** 0.5) / (2 * a), (-b - d ** 0.5) / (2 *a)\\n    elif d == 0:\\n        return -b / (2 * a)\\n    else:\\n        return None\\n    \\nprint(quadratic_equations(2, -3, -9))', '_iii': \"def quadratic_equations(a: int | float, b: int | float, c: int | float) -> tuple[float, float] | float | str:\\n    d = b ** 2 - 4 * a * c\\n    if d > 0:\\n        return (-b + d ** 0.5) / (2 * a), (-b - d ** 0.5) / (2 *a)\\n    elif d == 0:\\n        return -b / (2 * a)\\n    else:\\n        return 'Нет решений'\\n    \\nprint(quadratic_equations(2, -3, -9))\", '_i1': 'a = 42\\nprint(type(a), id(a))\\nprint(type(id))\\n\\nvery_bad_programming_style = sum\\nprint(very_bad_programming_style([1, 2, 3]))', 'a': 42, 'very_bad_programming_style': <built-in function sum>, '_i2': 'a = 42\\nprint(type(a), id(a))\\nprint(type(id))\\n\\nvery_bad_programming_style = sum\\nprint(very_bad_programming_style([1, 2, 3]))', '_i3': \"def quadratic_equations(a: int | float, b: int | float, c: int | float) -> tuple[float, float] | float | str:\\n    d = b ** 2 - 4 * a * c\\n    if d > 0:\\n        return (-b + d ** 0.5) / (2 * a), (-b - d ** 0.5) / (2 *a)\\n    elif d == 0:\\n        return -b / (2 * a)\\n    else:\\n        return 'Нет решений'\\n    \\nprint(quadratic_equations(2, -3, -9))\", 'quadratic_equations': <function quadratic_equations at 0x000001D2CD63C400>, '_i4': 'def quadratic_equations(a: int | float, b: int | float, c: int | float) -> tuple[float, float] | float | None:\\n    d = b ** 2 - 4 * a * c\\n    if d > 0:\\n        return (-b + d ** 0.5) / (2 * a), (-b - d ** 0.5) / (2 *a)\\n    elif d == 0:\\n        return -b / (2 * a)\\n    else:\\n        return None\\n    \\nprint(quadratic_equations(2, -3, -9))', '_i5': 'print(vars(int))', '_i6': 'SIZE = 10\\ndef func(a, b, c):\\n    x = a + b\\n    print(globals())\\n    z = x + c\\n    return z\\n\\nprint(globals())\\nprint(func(1, 2, 3))', 'SIZE': 10, 'func': <function func at 0x000001D2CD63CB80>}\n",
      "{'__name__': '__main__', '__doc__': 'Automatically created module for IPython interactive environment', '__package__': None, '__loader__': None, '__spec__': None, '__builtin__': <module 'builtins' (built-in)>, '__builtins__': <module 'builtins' (built-in)>, '_ih': ['', 'a = 42\\nprint(type(a), id(a))\\nprint(type(id))\\n\\nvery_bad_programming_style = sum\\nprint(very_bad_programming_style([1, 2, 3]))', 'a = 42\\nprint(type(a), id(a))\\nprint(type(id))\\n\\nvery_bad_programming_style = sum\\nprint(very_bad_programming_style([1, 2, 3]))', \"def quadratic_equations(a: int | float, b: int | float, c: int | float) -> tuple[float, float] | float | str:\\n    d = b ** 2 - 4 * a * c\\n    if d > 0:\\n        return (-b + d ** 0.5) / (2 * a), (-b - d ** 0.5) / (2 *a)\\n    elif d == 0:\\n        return -b / (2 * a)\\n    else:\\n        return 'Нет решений'\\n    \\nprint(quadratic_equations(2, -3, -9))\", 'def quadratic_equations(a: int | float, b: int | float, c: int | float) -> tuple[float, float] | float | None:\\n    d = b ** 2 - 4 * a * c\\n    if d > 0:\\n        return (-b + d ** 0.5) / (2 * a), (-b - d ** 0.5) / (2 *a)\\n    elif d == 0:\\n        return -b / (2 * a)\\n    else:\\n        return None\\n    \\nprint(quadratic_equations(2, -3, -9))', 'print(vars(int))', 'SIZE = 10\\ndef func(a, b, c):\\n    x = a + b\\n    print(globals())\\n    z = x + c\\n    return z\\n\\nprint(globals())\\nprint(func(1, 2, 3))'], '_oh': {}, '_dh': [WindowsPath('c:/Users/Иван/Desktop/GeekBrains/16. Next-Python'), WindowsPath('c:/Users/Иван/Desktop/GeekBrains/16. Next-Python')], 'In': ['', 'a = 42\\nprint(type(a), id(a))\\nprint(type(id))\\n\\nvery_bad_programming_style = sum\\nprint(very_bad_programming_style([1, 2, 3]))', 'a = 42\\nprint(type(a), id(a))\\nprint(type(id))\\n\\nvery_bad_programming_style = sum\\nprint(very_bad_programming_style([1, 2, 3]))', \"def quadratic_equations(a: int | float, b: int | float, c: int | float) -> tuple[float, float] | float | str:\\n    d = b ** 2 - 4 * a * c\\n    if d > 0:\\n        return (-b + d ** 0.5) / (2 * a), (-b - d ** 0.5) / (2 *a)\\n    elif d == 0:\\n        return -b / (2 * a)\\n    else:\\n        return 'Нет решений'\\n    \\nprint(quadratic_equations(2, -3, -9))\", 'def quadratic_equations(a: int | float, b: int | float, c: int | float) -> tuple[float, float] | float | None:\\n    d = b ** 2 - 4 * a * c\\n    if d > 0:\\n        return (-b + d ** 0.5) / (2 * a), (-b - d ** 0.5) / (2 *a)\\n    elif d == 0:\\n        return -b / (2 * a)\\n    else:\\n        return None\\n    \\nprint(quadratic_equations(2, -3, -9))', 'print(vars(int))', 'SIZE = 10\\ndef func(a, b, c):\\n    x = a + b\\n    print(globals())\\n    z = x + c\\n    return z\\n\\nprint(globals())\\nprint(func(1, 2, 3))'], 'Out': {}, 'get_ipython': <bound method InteractiveShell.get_ipython of <ipykernel.zmqshell.ZMQInteractiveShell object at 0x000001D2CC4B5210>>, 'exit': <IPython.core.autocall.ZMQExitAutocall object at 0x000001D2CC52D410>, 'quit': <IPython.core.autocall.ZMQExitAutocall object at 0x000001D2CC52D410>, 'open': <function open at 0x000001D2C9868040>, '_': '', '__': '', '___': '', '__vsc_ipynb_file__': 'c:\\\\Users\\\\Иван\\\\Desktop\\\\GeekBrains\\\\16. Next-Python\\\\lec_4.ipynb', '_i': 'print(vars(int))', '_ii': 'def quadratic_equations(a: int | float, b: int | float, c: int | float) -> tuple[float, float] | float | None:\\n    d = b ** 2 - 4 * a * c\\n    if d > 0:\\n        return (-b + d ** 0.5) / (2 * a), (-b - d ** 0.5) / (2 *a)\\n    elif d == 0:\\n        return -b / (2 * a)\\n    else:\\n        return None\\n    \\nprint(quadratic_equations(2, -3, -9))', '_iii': \"def quadratic_equations(a: int | float, b: int | float, c: int | float) -> tuple[float, float] | float | str:\\n    d = b ** 2 - 4 * a * c\\n    if d > 0:\\n        return (-b + d ** 0.5) / (2 * a), (-b - d ** 0.5) / (2 *a)\\n    elif d == 0:\\n        return -b / (2 * a)\\n    else:\\n        return 'Нет решений'\\n    \\nprint(quadratic_equations(2, -3, -9))\", '_i1': 'a = 42\\nprint(type(a), id(a))\\nprint(type(id))\\n\\nvery_bad_programming_style = sum\\nprint(very_bad_programming_style([1, 2, 3]))', 'a': 42, 'very_bad_programming_style': <built-in function sum>, '_i2': 'a = 42\\nprint(type(a), id(a))\\nprint(type(id))\\n\\nvery_bad_programming_style = sum\\nprint(very_bad_programming_style([1, 2, 3]))', '_i3': \"def quadratic_equations(a: int | float, b: int | float, c: int | float) -> tuple[float, float] | float | str:\\n    d = b ** 2 - 4 * a * c\\n    if d > 0:\\n        return (-b + d ** 0.5) / (2 * a), (-b - d ** 0.5) / (2 *a)\\n    elif d == 0:\\n        return -b / (2 * a)\\n    else:\\n        return 'Нет решений'\\n    \\nprint(quadratic_equations(2, -3, -9))\", 'quadratic_equations': <function quadratic_equations at 0x000001D2CD63C400>, '_i4': 'def quadratic_equations(a: int | float, b: int | float, c: int | float) -> tuple[float, float] | float | None:\\n    d = b ** 2 - 4 * a * c\\n    if d > 0:\\n        return (-b + d ** 0.5) / (2 * a), (-b - d ** 0.5) / (2 *a)\\n    elif d == 0:\\n        return -b / (2 * a)\\n    else:\\n        return None\\n    \\nprint(quadratic_equations(2, -3, -9))', '_i5': 'print(vars(int))', '_i6': 'SIZE = 10\\ndef func(a, b, c):\\n    x = a + b\\n    print(globals())\\n    z = x + c\\n    return z\\n\\nprint(globals())\\nprint(func(1, 2, 3))', 'SIZE': 10, 'func': <function func at 0x000001D2CD63CB80>}\n",
      "6\n"
     ]
    }
   ],
   "source": [
    "SIZE = 10\n",
    "def func(a, b, c):\n",
    "    x = a + b\n",
    "    print(globals())\n",
    "    z = x + c\n",
    "    return z\n",
    "\n",
    "print(globals())\n",
    "print(func(1, 2, 3))"
   ]
  },
  {
   "cell_type": "markdown",
   "id": "05d61ef2",
   "metadata": {},
   "source": [
    "🔥 Внимание! Если вызвать функцию locals() из основного кода модуля, а не\n",
    "из функции, результат будет аналогичен работе функции globals()"
   ]
  },
  {
   "cell_type": "code",
   "execution_count": 74,
   "id": "03d4f9f3",
   "metadata": {},
   "outputs": [
    {
     "name": "stdout",
     "output_type": "stream",
     "text": [
      "73\n"
     ]
    }
   ],
   "source": [
    "x = 42\n",
    "glob_dict = globals()\n",
    "glob_dict['x'] = 73\n",
    "print(x)"
   ]
  },
  {
   "cell_type": "markdown",
   "id": "8a8f12fb",
   "metadata": {},
   "source": [
    "##### ● Функция vars()\n",
    "Функция без аргументов работает аналогично функции locals(). Если передать в vars\n",
    "объект, функция возвращает его атрибут __dict__. А если такого атрибута нет у\n",
    "объекта, вызывает ошибку TypeError."
   ]
  },
  {
   "cell_type": "code",
   "execution_count": 76,
   "id": "d6d9bad3",
   "metadata": {},
   "outputs": [
    {
     "name": "stdout",
     "output_type": "stream",
     "text": [
      "{'__repr__': <slot wrapper '__repr__' of 'int' objects>, '__hash__': <slot wrapper '__hash__' of 'int' objects>, '__getattribute__': <slot wrapper '__getattribute__' of 'int' objects>, '__lt__': <slot wrapper '__lt__' of 'int' objects>, '__le__': <slot wrapper '__le__' of 'int' objects>, '__eq__': <slot wrapper '__eq__' of 'int' objects>, '__ne__': <slot wrapper '__ne__' of 'int' objects>, '__gt__': <slot wrapper '__gt__' of 'int' objects>, '__ge__': <slot wrapper '__ge__' of 'int' objects>, '__add__': <slot wrapper '__add__' of 'int' objects>, '__radd__': <slot wrapper '__radd__' of 'int' objects>, '__sub__': <slot wrapper '__sub__' of 'int' objects>, '__rsub__': <slot wrapper '__rsub__' of 'int' objects>, '__mul__': <slot wrapper '__mul__' of 'int' objects>, '__rmul__': <slot wrapper '__rmul__' of 'int' objects>, '__mod__': <slot wrapper '__mod__' of 'int' objects>, '__rmod__': <slot wrapper '__rmod__' of 'int' objects>, '__divmod__': <slot wrapper '__divmod__' of 'int' objects>, '__rdivmod__': <slot wrapper '__rdivmod__' of 'int' objects>, '__pow__': <slot wrapper '__pow__' of 'int' objects>, '__rpow__': <slot wrapper '__rpow__' of 'int' objects>, '__neg__': <slot wrapper '__neg__' of 'int' objects>, '__pos__': <slot wrapper '__pos__' of 'int' objects>, '__abs__': <slot wrapper '__abs__' of 'int' objects>, '__bool__': <slot wrapper '__bool__' of 'int' objects>, '__invert__': <slot wrapper '__invert__' of 'int' objects>, '__lshift__': <slot wrapper '__lshift__' of 'int' objects>, '__rlshift__': <slot wrapper '__rlshift__' of 'int' objects>, '__rshift__': <slot wrapper '__rshift__' of 'int' objects>, '__rrshift__': <slot wrapper '__rrshift__' of 'int' objects>, '__and__': <slot wrapper '__and__' of 'int' objects>, '__rand__': <slot wrapper '__rand__' of 'int' objects>, '__xor__': <slot wrapper '__xor__' of 'int' objects>, '__rxor__': <slot wrapper '__rxor__' of 'int' objects>, '__or__': <slot wrapper '__or__' of 'int' objects>, '__ror__': <slot wrapper '__ror__' of 'int' objects>, '__int__': <slot wrapper '__int__' of 'int' objects>, '__float__': <slot wrapper '__float__' of 'int' objects>, '__floordiv__': <slot wrapper '__floordiv__' of 'int' objects>, '__rfloordiv__': <slot wrapper '__rfloordiv__' of 'int' objects>, '__truediv__': <slot wrapper '__truediv__' of 'int' objects>, '__rtruediv__': <slot wrapper '__rtruediv__' of 'int' objects>, '__index__': <slot wrapper '__index__' of 'int' objects>, '__new__': <built-in method __new__ of type object at 0x00007FFE4874AFD0>, 'conjugate': <method 'conjugate' of 'int' objects>, 'bit_length': <method 'bit_length' of 'int' objects>, 'to_bytes': <method 'to_bytes' of 'int' objects>, 'from_bytes': <method 'from_bytes' of 'int' objects>, 'as_integer_ratio': <method 'as_integer_ratio' of 'int' objects>, '__trunc__': <method '__trunc__' of 'int' objects>, '__floor__': <method '__floor__' of 'int' objects>, '__ceil__': <method '__ceil__' of 'int' objects>, '__round__': <method '__round__' of 'int' objects>, '__getnewargs__': <method '__getnewargs__' of 'int' objects>, '__format__': <method '__format__' of 'int' objects>, '__sizeof__': <method '__sizeof__' of 'int' objects>, 'real': <attribute 'real' of 'int' objects>, 'imag': <attribute 'imag' of 'int' objects>, 'numerator': <attribute 'numerator' of 'int' objects>, 'denominator': <attribute 'denominator' of 'int' objects>, '__doc__': \"int([x]) -> integer\\nint(x, base=10) -> integer\\n\\nConvert a number or string to an integer, or return 0 if no arguments\\nare given.  If x is a number, return x.__int__().  For floating point\\nnumbers, this truncates towards zero.\\n\\nIf x is not a number or if base is given, then x must be a string,\\nbytes, or bytearray instance representing an integer literal in the\\ngiven base.  The literal can be preceded by '+' or '-' and be surrounded\\nby whitespace.  The base defaults to 10.  Valid bases are 0 and 2-36.\\nBase 0 means to interpret the base from the string as an integer literal.\\n>>> int('0b100', base=0)\\n4\"}\n"
     ]
    }
   ],
   "source": [
    "print(vars(int))"
   ]
  },
  {
   "cell_type": "markdown",
   "id": "7a153b62",
   "metadata": {},
   "source": [
    "#### Задание\n",
    "Перед вами список и три операции с ним. Напишите что выведет каждая из строк по вашему мнению, не запуская код. "
   ]
  },
  {
   "cell_type": "code",
   "execution_count": 77,
   "id": "5e0cd09b",
   "metadata": {},
   "outputs": [
    {
     "name": "stdout",
     "output_type": "stream",
     "text": [
      "['25', '-42', '146', '73', '-100', '12']\n",
      "-100\n",
      "('_ih', ['', 'def quadratic_equations(a: int | float, b: int | float, c: int | float) -> tuple[float, float] | float | None:\\n    d = b ** 2 - 4 * a * c\\n    if d > 0:\\n        return (-b + d ** 0.5) / (2 * a), (-b - d ** 0.5) / (2 *a)\\n    elif d == 0:\\n        return -b / (2 * a)\\n    else:\\n        return None\\n    \\nprint(quadratic_equations(2, -3, -9))', \"def no_mutable(a: int) -> int:\\n    a += 1\\n    print(f'In func {a = }') # Для демонстрации работы, но не\\nдля привычки принтить из функции\\n    return a\\na = 42\\nprint(f'In main {a = }')\\nz = no_mutable(a)\\nprint(f'{a = }\\\\t{z = }')\", \"def no_mutable(a: int) -> int:\\n    a += 1\\n    print(f'In func {a = }') # Для демонстрации работы, но не для привычки принтить из функции\\n    return a\\na = 42\\nprint(f'In main {a = }')\\nz = no_mutable(a)\\nprint(f'{a = }\\\\t{z = }')\", \"def mutable(data: list[int]) -> list[int]:\\n    for i, item in enumerate(data):\\n        data[i] = item + 1\\n    print(f'In func {data = }') # Для демонстрации работы, но не для привычки принтить из функции\\n    return data\\nmy_list = [2, 4, 6, 8]\\nprint(f'In main {my_list = }')\\nnew_list = mutable(my_list)\\nprint(f'{my_list = }\\\\t{new_list = }')\", \"def mutable(data: list[int]) -> list[int]:\\n    for i, item in enumerate(data):\\n        data[i] = item + 1\\n    print(f'In func {data = }') # Для демонстрации работы, но не для привычки принтить из функции\\n    return data\\n\\nmy_list = [2, 4, 6, 8]\\nprint(f'In main {my_list = }')\\nnew_list = mutable(my_list)\\nprint(f'{my_list = }\\\\t{new_list = }')\", 'def quadratic_equations(a, b, c):\\n    d = b ** 2 - 4 * a * c\\n    if d > 0:\\n        return (-b + d ** 0.5) / (2 * a), (-b - d ** 0.5) / (2 * a)\\n    if d == 0:\\n        return -b / (2 * a)\\n    return None', 'def quadratic_equations(a, b, c):\\n    d = b ** 2 - 4 * a * c\\n    if d > 0:\\n        return (-b + d ** 0.5) / (2 * a), (-b - d ** 0.5) / (2 * a)\\n    if d == 0:\\n        return -b / (2 * a)\\n    return None', 'def quadratic_equations(a, b, c):\\n    d = b ** 2 - 4 * a * c\\n    if d > 0:\\n        return (-b + d ** 0.5) / (2 * a), (-b - d ** 0.5) / (2 * a)\\n    if d == 0:\\n        return -b / (2 * a)\\n    return None\\nprint(quadratic_equations(2, -3, -9))', \"def no_return(data: list[int]):\\n    for i, item in enumerate(data):\\n    data[i] = item + 1\\n    print(f'In func {data = }') # Для демонстрации работы, но не для привычки принтить из функции\\n    \\nmy_list = [2, 4, 6, 8]\\nprint(f'In main {my_list = }')\\nnew_list = no_return(my_list)\\nprint(f'{my_list = }\\\\t{new_list = }')\", \"def no_return(data: list[int]):\\n    for i, item in enumerate(data):\\n        data[i] = item + 1\\n    print(f'In func {data = }') # Для демонстрации работы, но не для привычки принтить из функции\\n    \\nmy_list = [2, 4, 6, 8]\\nprint(f'In main {my_list = }')\\nnew_list = no_return(my_list)\\nprint(f'{my_list = }\\\\t{new_list = }')\", 'def quadratic_equations(a, b=0, c=0):\\n    d = b ** 2 - 4 * a * c\\n    if d > 0:\\n        return (-b + d ** 0.5) / (2 * a), (-b - d ** 0.5) / (2 *a)\\n    if d == 0:\\n        return -b / (2 * a)\\n    \\nprint(quadratic_equations(2, -9))', \"def from_one_to_n(n, data=[]):\\n    for i in range(1, n + 1):\\n        data.append(i)\\n    return data\\n\\nnew_list = from_one_to_n(5)\\nprint(f'{new_list = }')\\nother_list = from_one_to_n(7)\\nprint(f'{other_list = }')\", 'def from_one_to_n(n, data=None):\\n    if data is None:\\n        data = []\\n    for i in range(1, n + 1):\\n        data.append(i)\\n    return data', \"def from_one_to_n(n, data=[None]):\\n    for i in range(1, n + 1):\\n        data.append(i)\\n    return data\\n\\nnew_list = from_one_to_n(5)\\nprint(f'{new_list = }')\\nother_list = from_one_to_n(7)\\nprint(f'{other_list = }')\", \"def from_one_to_n(n, data=None):\\n    if data is None:\\n        data = []\\n    for i in range(1, n + 1):\\n        data.append(i)\\n    return data\\n\\nnew_list = from_one_to_n(5)\\nprint(f'{new_list = }')\\nother_list = from_one_to_n(7)\\nprint(f'{other_list = }')\", 'def func(positional_only_parameters, /, positional_or_keyword_parameters, *, keyword_only_parameters): pass', 'def func(positional_only_parameters, /, positional_or_keyword_parameters, *, keyword_only_parameters): pass', 'def func(positional_only_parameters, /, positional_or_keyword_parameters, *,\\nkeyword_only_parameters): pass', 'def standard_arg(arg):\\n    print(arg) # Принтим для примера, а не для привычки\\n    \\nstandard_arg(42)\\nstandard_arg(arg=42)', 'def kwd_only_arg(*, arg):\\n    print(arg) # Принтим для примера, а не для привычки\\n    \\nkwd_only_arg(42)\\nkwd_only_arg(arg=42)', \"def pos_only_arg(arg, /):\\n    print(arg) # Принтим для примера, а не для привычки\\npos_only_arg(42)\\npos_only_arg(arg=42) # TypeError: pos_only_arg() got some positional-only arguments passed as keyword arguments: 'arg'\", 'def kwd_only_arg(*, arg):\\n    print(arg) # Принтим для примера, а не для привычки\\n    \\n    kwd_only_arg(42)\\n    kwd_only_arg(arg=42)', 'def kwd_only_arg(*, arg):\\n    print(arg) # Принтим для примера, а не для привычки\\n    \\n    kwd_only_arg(42)\\n    kwd_only_arg(arg=42)', \"def pos_only_arg(arg, /):\\n    print(arg) # Принтим для примера, а не для привычки\\n    \\npos_only_arg(42)\\n# pos_only_arg(arg=42) # TypeError: pos_only_arg() got some positional-only arguments passed as keyword arguments: 'arg'\", 'def kwd_only_arg(*, arg):\\n    print(arg) # Принтим для примера, а не для привычки\\n    \\nkwd_only_arg(42)\\nkwd_only_arg(arg=42)', 'def kwd_only_arg(*, arg):\\n    print(arg) # Принтим для примера, а не для привычки\\n    \\n# kwd_only_arg(42)\\nkwd_only_arg(arg=42)', \"def combined_example(pos_only, /, standard, *, kwd_only):\\n    print(pos_only, standard, kwd_only) # Принтим для примера, а не для привычки\\n    \\ncombined_example(1, 2, 3) # TypeError: combined_example() takes 2 positional arguments but 3 were given\\ncombined_example(1, 2, kwd_only=3)\\ncombined_example(1, standard=2, kwd_only=3)\\ncombined_example(pos_only=1, standard=2, kwd_only=3) # TypeError: combined_example() got some positional-only arguments passed as keyword arguments: 'pos_only'\", \"def combined_example(pos_only, /, standard, *, kwd_only):\\n    print(pos_only, standard, kwd_only) # Принтим для примера, а не для привычки\\n    \\n# combined_example(1, 2, 3) # TypeError: combined_example() takes 2 positional arguments but 3 were given\\ncombined_example(1, 2, kwd_only=3)\\ncombined_example(1, standard=2, kwd_only=3)\\ncombined_example(pos_only=1, standard=2, kwd_only=3) # TypeError: combined_example() got some positional-only arguments passed as keyword arguments: 'pos_only'\", \"def combined_example(pos_only, /, standard, *, kwd_only):\\n    print(pos_only, standard, kwd_only) # Принтим для примера, а не для привычки\\n    \\n# combined_example(1, 2, 3) # TypeError: combined_example() takes 2 positional arguments but 3 were given\\ncombined_example(1, 2, kwd_only=3)\\ncombined_example(1, standard=2, kwd_only=3)\\n# combined_example(pos_only=1, standard=2, kwd_only=3) # TypeError: combined_example() got some positional-only arguments passed as keyword arguments: 'pos_only'\", 'def mean(args):\\n    return sum(args) / len(args)\\nprint(mean([1, 2, 3]))\\nprint(mean(1, 2, 3)) # TypeError: mean() takes 1 positional argument but 3 were given', 'def mean(args):\\n    return sum(args) / len(args)\\nprint(mean([1, 2, 3]))\\n# print(mean(1, 2, 3)) # TypeError: mean() takes 1 positional argument but 3 were given', 'def mean(*args):\\n    return sum(args) / len(args)\\n\\nprint(mean(*[1, 2, 3]))\\nprint(mean(1, 2, 3))', 'def school_print(**kwargs):\\n    for key, value in kwargs.items():\\n        print(f\\'По предмету \"{key}\" получена оценка {value}\\')\\n        \\nschool_print(химия=5, физика=4, математика=5, физра=5)', \"def func(y: int) -> int:\\n    x = 100\\n    print(f'In func {x = }') # Для демонстрации работы, но не\\nдля привычки принтить из функции\\n    return y + 1\\n\\nx = 42\\nprint(f'In main {x = }')\\nz = func(x)\\nprint(f'{x = }\\\\t{z = }')\", \"def func(y: int) -> int:\\n    x = 100\\n    print(f'In func {x = }') # Для демонстрации работы, но не для привычки принтить из функции\\n    return y + 1\\n\\nx = 42\\nprint(f'In main {x = }')\\nz = func(x)\\nprint(f'{x = }\\\\t{z = }')\", \"def func(y: int) -> int:\\n    global x\\n    x += 100\\n    print(f'In func {x = }') # Для демонстрации работы, но не для привычки принтить из функции\\nreturn y + 1\", \"def func(y: int) -> int:\\n    global x\\n    x += 100\\n        print(f'In func {x = }') # Для демонстрации работы, но не для привычки принтить из функции\\nreturn y + 1\", \"def func(y: int) -> int:\\n    global x\\n    x += 100\\nprint(f'In func {x = }') # Для демонстрации работы, но не для привычки принтить из функции\\nreturn y + 1\", \"def func(y: int) -> int:\\n    global x\\n    x += 100\\nprint(f'In func {x = }') # Для демонстрации работы, но не для привычки принтить из функции\\n return y + 1\", \"def func(y: int) -> int:\\n    global x\\n    x += 100\\nprint(f'In func {x = }') # Для демонстрации работы, но не для привычки принтить из функции\\n    return y + 1\", \"def func(y: int) -> int:\\n    global x\\n    x += 100\\nprint(f'In func {x = }') # Для демонстрации работы, но не для привычки принтить из функции\\nreturn y + 1\", \"def func(y: int) -> int:\\n    global x\\n    x += 100\\n    print(f'In func {x = }') # Для демонстрации работы, но не для привычки принтить из функции\\n    return y + 1\\n\\nx = 42\\nprint(f'In main {x = }')\\nz = func(x)\\nprint(f'{x = }\\\\t{z = }')\", \"def main(a):\\n    x = 1\\n    def func(y):\\n        nonlocal x\\n        x += 100\\n        print(f'In func {x = }') # Для демонстрации работы, но не для привычки принтить из функции\\n        return y + 1\\n    \\n    return x + func(a)\\nx = 42\\nprint(f'In main {x = }')\\nz = main(x)\\nprint(f'{x = }\\\\t{z = }')\", 'LIMIT = 1_000\\ndef func(x, y):\\n    result = x ** y % LIMIT\\n    return result\\n\\nprint(func(42, 73))', 'def add_two_def(a, b):\\n    return a + b\\n\\nadd_two_lambda = lambda a, b: a + b\\n\\nprint(add_two_def(42, 3.14))\\nprint(add_two_lambda(42, 3.14))', \"my_dict = {'two': 2, 'one': 1, 'four': 4, 'three': 3, 'ten': 10}\\ns_key = sorted(my_dict.items())\\ns_value = sorted(my_dict.items(), key=lambda x: x[1])\\nprint(f'{s_key = }\\\\n{s_value = }')\", '####Документирование кода функций', 'def max_before_hundred(*args):\\n    \"\"\"Return the maximum number not exceeding 100.\"\"\"\\n    m = float(\\'-inf\\')\\n    for item in args:\\n        if m < item < 100:\\n            m = item\\n    return m\\nprint(max_before_hundred(-42, 73, 256, 0))', 'def func(a=0.0, /, b=0.0, *, c=0.0):\\n    \"\"\"func(a=0.0: int | float, /, b=0.0: int | float, *, c=0.0:\\nint | float) -> : int | float\"\"\"\\n    if a > c:\\n        return a\\n    if a < c:\\n        return c\\n    return\\n\\nprint(func(c=1, b=2, a=3))', 'def func(a=0.0, /, b=0.0, *, c=0.0):\\n    \"\"\"func(a=0.0: int | float, /, b=0.0: int | float, *, c=0.0: int | float) -> : int | float\"\"\"\\n    if a > c:\\n        return a\\n    if a < c:\\n        return c\\n    return\\n\\nprint(func(c=1, b=2, a=3))', 'names = [\"Иван\", \"Николай\", \"Пётр\"]\\nsalaries = [125_000, 96_000, 109_000]\\nawards = [0.1, 0.25, 0.13, 0.99]\\nfor name, salary, award in zip(names, salaries, awards):\\n    print(f\\'{name} заработал {salary:.2f} денег и премию {salary\\n* award:.2f}\\')', 'numbers = [42, -73, 1024]\\nres = tuple(filter(lambda x: x > 0, numbers))\\nprint(res)', 'texts = [\"Привет\", \"ЗДОРОВА\", \"привеТствую\"]\\nres = map(lambda x: x.lower(), texts)\\nprint(*res)', 'names = [\"Иван\", \"Николай\", \"Пётр\"]\\nsalaries = [125_000, 96_000, 109_000]\\nawards = [0.1, 0.25, 0.13, 0.99]\\nfor name, salary, award in zip(names, salaries, awards):\\n    print(f\\'{name} заработал {salary:.2f} денег и премию {salary * award:.2f}\\')', 'lst_1 = []\\nlst_2 = [42, 256, 73]\\nlst_3 = [(\"Иван\", 125_000), (\"Николай\", 96_000), (\"Пётр\",\\n109_000)]\\nprint(max(lst_1, default=\\'empty\\'))\\nprint(max(*lst_2))\\nprint(max(lst_3, key=lambda x: x[1]))', 'lst_1 = []\\nlst_2 = [42, 256, 73]\\nlst_3 = [(\"Иван\", 125_000), (\"Николай\", 96_000), (\"Пётр\",\\n109_000)]\\nprint(min(lst_1, default=\\'empty\\'))\\nprint(min(*lst_2))\\nprint(min(lst_3, key=lambda x: x[1]))', 'my_list = [42, 256, 73]\\nprint(sum(my_list))\\nprint(sum(my_list, start=1024))', 'def all(iterable):\\n    for element in iterable:\\n        if not element:\\n            return False\\n    return True', \"numbers = [42, -73, 1024]\\nif all(map(lambda x: x > 0, numbers)):\\n    print('Все элементы положительные')\\nelse:\\n    print('В последовательности есть отрицательные и/или нулевые элементы')\", 'def any(iterable):\\n    for element in iterable:\\n        if element:\\n            return True\\n    return False', 'def any(iterable):\\n    for element in iterable:\\n        if element:\\n            return True\\n    return False', \"numbers = [42, -73, 1024]\\nif any(map(lambda x: x > 0, numbers)):\\n    print('Хотя бы один элемент положительный')\\nelse:\\n    print('Все элементы не больше нуля')\", 'print(chr(97))\\nprint(chr(1105))\\nprint(chr(128519))', \"print(ord('a'))\\nprint(ord('а'))\\nprint(ord('😉'))\", '● Функция locals()\\nФункция возвращает словарь переменных из локальной области видимости на\\nмомент вызова функции.', 'SIZE = 10\\n\\ndef func(a, b, c):\\n    x = a + b\\n    print(locals())\\n    z = x + c\\n    return z', 'SIZE = 10\\n\\ndef func(a, b, c):\\n    x = a + b\\n    print(locals())\\n    z = x + c\\n    return z\\nfunc(1, 2, 3)', 'SIZE = 10\\ndef func(a, b, c):\\n    x = a + b\\n    print(globals())\\n    z = x + c\\n    return z\\n\\nprint(globals())\\nprint(func(1, 2, 3))', \"x = 42\\nglob_dict = globals()\\nglob_dict['x'] = 73\\nprint(x)\", 'print(vars(int))', \"data = [25, -42, 146, 73, -100, 12]\\nprint(list(map(str, data)))\\nprint(max(data, key=lambda x: -x))\\nprint(*filter(lambda x: not x[0].startswith('__'),\\nglobals().items()))\", \"data = [25, -42, 146, 73, -100, 12]\\nprint(list(map(str, data)))\\nprint(max(data, key=lambda x: -x))\\nprint(*filter(lambda x: not x[0].startswith('__'), globals().items()))\", 'print(vars(int))', \"x = 42\\nglob_dict = globals()\\nglob_dict['x'] = 73\\nprint(x)\", 'print(vars(int))', 'print(vars(int))', \"data = [25, -42, 146, 73, -100, 12]\\nprint(list(map(str, data)))\\nprint(max(data, key=lambda x: -x))\\nprint(*filter(lambda x: not x[0].startswith('__'), globals().items()))\"]) ('_oh', {67: 6}) ('_dh', ['C:\\\\Users\\\\Иван\\\\Desktop\\\\GeekBrains\\\\16. Next-Python']) ('In', ['', 'def quadratic_equations(a: int | float, b: int | float, c: int | float) -> tuple[float, float] | float | None:\\n    d = b ** 2 - 4 * a * c\\n    if d > 0:\\n        return (-b + d ** 0.5) / (2 * a), (-b - d ** 0.5) / (2 *a)\\n    elif d == 0:\\n        return -b / (2 * a)\\n    else:\\n        return None\\n    \\nprint(quadratic_equations(2, -3, -9))', \"def no_mutable(a: int) -> int:\\n    a += 1\\n    print(f'In func {a = }') # Для демонстрации работы, но не\\nдля привычки принтить из функции\\n    return a\\na = 42\\nprint(f'In main {a = }')\\nz = no_mutable(a)\\nprint(f'{a = }\\\\t{z = }')\", \"def no_mutable(a: int) -> int:\\n    a += 1\\n    print(f'In func {a = }') # Для демонстрации работы, но не для привычки принтить из функции\\n    return a\\na = 42\\nprint(f'In main {a = }')\\nz = no_mutable(a)\\nprint(f'{a = }\\\\t{z = }')\", \"def mutable(data: list[int]) -> list[int]:\\n    for i, item in enumerate(data):\\n        data[i] = item + 1\\n    print(f'In func {data = }') # Для демонстрации работы, но не для привычки принтить из функции\\n    return data\\nmy_list = [2, 4, 6, 8]\\nprint(f'In main {my_list = }')\\nnew_list = mutable(my_list)\\nprint(f'{my_list = }\\\\t{new_list = }')\", \"def mutable(data: list[int]) -> list[int]:\\n    for i, item in enumerate(data):\\n        data[i] = item + 1\\n    print(f'In func {data = }') # Для демонстрации работы, но не для привычки принтить из функции\\n    return data\\n\\nmy_list = [2, 4, 6, 8]\\nprint(f'In main {my_list = }')\\nnew_list = mutable(my_list)\\nprint(f'{my_list = }\\\\t{new_list = }')\", 'def quadratic_equations(a, b, c):\\n    d = b ** 2 - 4 * a * c\\n    if d > 0:\\n        return (-b + d ** 0.5) / (2 * a), (-b - d ** 0.5) / (2 * a)\\n    if d == 0:\\n        return -b / (2 * a)\\n    return None', 'def quadratic_equations(a, b, c):\\n    d = b ** 2 - 4 * a * c\\n    if d > 0:\\n        return (-b + d ** 0.5) / (2 * a), (-b - d ** 0.5) / (2 * a)\\n    if d == 0:\\n        return -b / (2 * a)\\n    return None', 'def quadratic_equations(a, b, c):\\n    d = b ** 2 - 4 * a * c\\n    if d > 0:\\n        return (-b + d ** 0.5) / (2 * a), (-b - d ** 0.5) / (2 * a)\\n    if d == 0:\\n        return -b / (2 * a)\\n    return None\\nprint(quadratic_equations(2, -3, -9))', \"def no_return(data: list[int]):\\n    for i, item in enumerate(data):\\n    data[i] = item + 1\\n    print(f'In func {data = }') # Для демонстрации работы, но не для привычки принтить из функции\\n    \\nmy_list = [2, 4, 6, 8]\\nprint(f'In main {my_list = }')\\nnew_list = no_return(my_list)\\nprint(f'{my_list = }\\\\t{new_list = }')\", \"def no_return(data: list[int]):\\n    for i, item in enumerate(data):\\n        data[i] = item + 1\\n    print(f'In func {data = }') # Для демонстрации работы, но не для привычки принтить из функции\\n    \\nmy_list = [2, 4, 6, 8]\\nprint(f'In main {my_list = }')\\nnew_list = no_return(my_list)\\nprint(f'{my_list = }\\\\t{new_list = }')\", 'def quadratic_equations(a, b=0, c=0):\\n    d = b ** 2 - 4 * a * c\\n    if d > 0:\\n        return (-b + d ** 0.5) / (2 * a), (-b - d ** 0.5) / (2 *a)\\n    if d == 0:\\n        return -b / (2 * a)\\n    \\nprint(quadratic_equations(2, -9))', \"def from_one_to_n(n, data=[]):\\n    for i in range(1, n + 1):\\n        data.append(i)\\n    return data\\n\\nnew_list = from_one_to_n(5)\\nprint(f'{new_list = }')\\nother_list = from_one_to_n(7)\\nprint(f'{other_list = }')\", 'def from_one_to_n(n, data=None):\\n    if data is None:\\n        data = []\\n    for i in range(1, n + 1):\\n        data.append(i)\\n    return data', \"def from_one_to_n(n, data=[None]):\\n    for i in range(1, n + 1):\\n        data.append(i)\\n    return data\\n\\nnew_list = from_one_to_n(5)\\nprint(f'{new_list = }')\\nother_list = from_one_to_n(7)\\nprint(f'{other_list = }')\", \"def from_one_to_n(n, data=None):\\n    if data is None:\\n        data = []\\n    for i in range(1, n + 1):\\n        data.append(i)\\n    return data\\n\\nnew_list = from_one_to_n(5)\\nprint(f'{new_list = }')\\nother_list = from_one_to_n(7)\\nprint(f'{other_list = }')\", 'def func(positional_only_parameters, /, positional_or_keyword_parameters, *, keyword_only_parameters): pass', 'def func(positional_only_parameters, /, positional_or_keyword_parameters, *, keyword_only_parameters): pass', 'def func(positional_only_parameters, /, positional_or_keyword_parameters, *,\\nkeyword_only_parameters): pass', 'def standard_arg(arg):\\n    print(arg) # Принтим для примера, а не для привычки\\n    \\nstandard_arg(42)\\nstandard_arg(arg=42)', 'def kwd_only_arg(*, arg):\\n    print(arg) # Принтим для примера, а не для привычки\\n    \\nkwd_only_arg(42)\\nkwd_only_arg(arg=42)', \"def pos_only_arg(arg, /):\\n    print(arg) # Принтим для примера, а не для привычки\\npos_only_arg(42)\\npos_only_arg(arg=42) # TypeError: pos_only_arg() got some positional-only arguments passed as keyword arguments: 'arg'\", 'def kwd_only_arg(*, arg):\\n    print(arg) # Принтим для примера, а не для привычки\\n    \\n    kwd_only_arg(42)\\n    kwd_only_arg(arg=42)', 'def kwd_only_arg(*, arg):\\n    print(arg) # Принтим для примера, а не для привычки\\n    \\n    kwd_only_arg(42)\\n    kwd_only_arg(arg=42)', \"def pos_only_arg(arg, /):\\n    print(arg) # Принтим для примера, а не для привычки\\n    \\npos_only_arg(42)\\n# pos_only_arg(arg=42) # TypeError: pos_only_arg() got some positional-only arguments passed as keyword arguments: 'arg'\", 'def kwd_only_arg(*, arg):\\n    print(arg) # Принтим для примера, а не для привычки\\n    \\nkwd_only_arg(42)\\nkwd_only_arg(arg=42)', 'def kwd_only_arg(*, arg):\\n    print(arg) # Принтим для примера, а не для привычки\\n    \\n# kwd_only_arg(42)\\nkwd_only_arg(arg=42)', \"def combined_example(pos_only, /, standard, *, kwd_only):\\n    print(pos_only, standard, kwd_only) # Принтим для примера, а не для привычки\\n    \\ncombined_example(1, 2, 3) # TypeError: combined_example() takes 2 positional arguments but 3 were given\\ncombined_example(1, 2, kwd_only=3)\\ncombined_example(1, standard=2, kwd_only=3)\\ncombined_example(pos_only=1, standard=2, kwd_only=3) # TypeError: combined_example() got some positional-only arguments passed as keyword arguments: 'pos_only'\", \"def combined_example(pos_only, /, standard, *, kwd_only):\\n    print(pos_only, standard, kwd_only) # Принтим для примера, а не для привычки\\n    \\n# combined_example(1, 2, 3) # TypeError: combined_example() takes 2 positional arguments but 3 were given\\ncombined_example(1, 2, kwd_only=3)\\ncombined_example(1, standard=2, kwd_only=3)\\ncombined_example(pos_only=1, standard=2, kwd_only=3) # TypeError: combined_example() got some positional-only arguments passed as keyword arguments: 'pos_only'\", \"def combined_example(pos_only, /, standard, *, kwd_only):\\n    print(pos_only, standard, kwd_only) # Принтим для примера, а не для привычки\\n    \\n# combined_example(1, 2, 3) # TypeError: combined_example() takes 2 positional arguments but 3 were given\\ncombined_example(1, 2, kwd_only=3)\\ncombined_example(1, standard=2, kwd_only=3)\\n# combined_example(pos_only=1, standard=2, kwd_only=3) # TypeError: combined_example() got some positional-only arguments passed as keyword arguments: 'pos_only'\", 'def mean(args):\\n    return sum(args) / len(args)\\nprint(mean([1, 2, 3]))\\nprint(mean(1, 2, 3)) # TypeError: mean() takes 1 positional argument but 3 were given', 'def mean(args):\\n    return sum(args) / len(args)\\nprint(mean([1, 2, 3]))\\n# print(mean(1, 2, 3)) # TypeError: mean() takes 1 positional argument but 3 were given', 'def mean(*args):\\n    return sum(args) / len(args)\\n\\nprint(mean(*[1, 2, 3]))\\nprint(mean(1, 2, 3))', 'def school_print(**kwargs):\\n    for key, value in kwargs.items():\\n        print(f\\'По предмету \"{key}\" получена оценка {value}\\')\\n        \\nschool_print(химия=5, физика=4, математика=5, физра=5)', \"def func(y: int) -> int:\\n    x = 100\\n    print(f'In func {x = }') # Для демонстрации работы, но не\\nдля привычки принтить из функции\\n    return y + 1\\n\\nx = 42\\nprint(f'In main {x = }')\\nz = func(x)\\nprint(f'{x = }\\\\t{z = }')\", \"def func(y: int) -> int:\\n    x = 100\\n    print(f'In func {x = }') # Для демонстрации работы, но не для привычки принтить из функции\\n    return y + 1\\n\\nx = 42\\nprint(f'In main {x = }')\\nz = func(x)\\nprint(f'{x = }\\\\t{z = }')\", \"def func(y: int) -> int:\\n    global x\\n    x += 100\\n    print(f'In func {x = }') # Для демонстрации работы, но не для привычки принтить из функции\\nreturn y + 1\", \"def func(y: int) -> int:\\n    global x\\n    x += 100\\n        print(f'In func {x = }') # Для демонстрации работы, но не для привычки принтить из функции\\nreturn y + 1\", \"def func(y: int) -> int:\\n    global x\\n    x += 100\\nprint(f'In func {x = }') # Для демонстрации работы, но не для привычки принтить из функции\\nreturn y + 1\", \"def func(y: int) -> int:\\n    global x\\n    x += 100\\nprint(f'In func {x = }') # Для демонстрации работы, но не для привычки принтить из функции\\n return y + 1\", \"def func(y: int) -> int:\\n    global x\\n    x += 100\\nprint(f'In func {x = }') # Для демонстрации работы, но не для привычки принтить из функции\\n    return y + 1\", \"def func(y: int) -> int:\\n    global x\\n    x += 100\\nprint(f'In func {x = }') # Для демонстрации работы, но не для привычки принтить из функции\\nreturn y + 1\", \"def func(y: int) -> int:\\n    global x\\n    x += 100\\n    print(f'In func {x = }') # Для демонстрации работы, но не для привычки принтить из функции\\n    return y + 1\\n\\nx = 42\\nprint(f'In main {x = }')\\nz = func(x)\\nprint(f'{x = }\\\\t{z = }')\", \"def main(a):\\n    x = 1\\n    def func(y):\\n        nonlocal x\\n        x += 100\\n        print(f'In func {x = }') # Для демонстрации работы, но не для привычки принтить из функции\\n        return y + 1\\n    \\n    return x + func(a)\\nx = 42\\nprint(f'In main {x = }')\\nz = main(x)\\nprint(f'{x = }\\\\t{z = }')\", 'LIMIT = 1_000\\ndef func(x, y):\\n    result = x ** y % LIMIT\\n    return result\\n\\nprint(func(42, 73))', 'def add_two_def(a, b):\\n    return a + b\\n\\nadd_two_lambda = lambda a, b: a + b\\n\\nprint(add_two_def(42, 3.14))\\nprint(add_two_lambda(42, 3.14))', \"my_dict = {'two': 2, 'one': 1, 'four': 4, 'three': 3, 'ten': 10}\\ns_key = sorted(my_dict.items())\\ns_value = sorted(my_dict.items(), key=lambda x: x[1])\\nprint(f'{s_key = }\\\\n{s_value = }')\", '####Документирование кода функций', 'def max_before_hundred(*args):\\n    \"\"\"Return the maximum number not exceeding 100.\"\"\"\\n    m = float(\\'-inf\\')\\n    for item in args:\\n        if m < item < 100:\\n            m = item\\n    return m\\nprint(max_before_hundred(-42, 73, 256, 0))', 'def func(a=0.0, /, b=0.0, *, c=0.0):\\n    \"\"\"func(a=0.0: int | float, /, b=0.0: int | float, *, c=0.0:\\nint | float) -> : int | float\"\"\"\\n    if a > c:\\n        return a\\n    if a < c:\\n        return c\\n    return\\n\\nprint(func(c=1, b=2, a=3))', 'def func(a=0.0, /, b=0.0, *, c=0.0):\\n    \"\"\"func(a=0.0: int | float, /, b=0.0: int | float, *, c=0.0: int | float) -> : int | float\"\"\"\\n    if a > c:\\n        return a\\n    if a < c:\\n        return c\\n    return\\n\\nprint(func(c=1, b=2, a=3))', 'names = [\"Иван\", \"Николай\", \"Пётр\"]\\nsalaries = [125_000, 96_000, 109_000]\\nawards = [0.1, 0.25, 0.13, 0.99]\\nfor name, salary, award in zip(names, salaries, awards):\\n    print(f\\'{name} заработал {salary:.2f} денег и премию {salary\\n* award:.2f}\\')', 'numbers = [42, -73, 1024]\\nres = tuple(filter(lambda x: x > 0, numbers))\\nprint(res)', 'texts = [\"Привет\", \"ЗДОРОВА\", \"привеТствую\"]\\nres = map(lambda x: x.lower(), texts)\\nprint(*res)', 'names = [\"Иван\", \"Николай\", \"Пётр\"]\\nsalaries = [125_000, 96_000, 109_000]\\nawards = [0.1, 0.25, 0.13, 0.99]\\nfor name, salary, award in zip(names, salaries, awards):\\n    print(f\\'{name} заработал {salary:.2f} денег и премию {salary * award:.2f}\\')', 'lst_1 = []\\nlst_2 = [42, 256, 73]\\nlst_3 = [(\"Иван\", 125_000), (\"Николай\", 96_000), (\"Пётр\",\\n109_000)]\\nprint(max(lst_1, default=\\'empty\\'))\\nprint(max(*lst_2))\\nprint(max(lst_3, key=lambda x: x[1]))', 'lst_1 = []\\nlst_2 = [42, 256, 73]\\nlst_3 = [(\"Иван\", 125_000), (\"Николай\", 96_000), (\"Пётр\",\\n109_000)]\\nprint(min(lst_1, default=\\'empty\\'))\\nprint(min(*lst_2))\\nprint(min(lst_3, key=lambda x: x[1]))', 'my_list = [42, 256, 73]\\nprint(sum(my_list))\\nprint(sum(my_list, start=1024))', 'def all(iterable):\\n    for element in iterable:\\n        if not element:\\n            return False\\n    return True', \"numbers = [42, -73, 1024]\\nif all(map(lambda x: x > 0, numbers)):\\n    print('Все элементы положительные')\\nelse:\\n    print('В последовательности есть отрицательные и/или нулевые элементы')\", 'def any(iterable):\\n    for element in iterable:\\n        if element:\\n            return True\\n    return False', 'def any(iterable):\\n    for element in iterable:\\n        if element:\\n            return True\\n    return False', \"numbers = [42, -73, 1024]\\nif any(map(lambda x: x > 0, numbers)):\\n    print('Хотя бы один элемент положительный')\\nelse:\\n    print('Все элементы не больше нуля')\", 'print(chr(97))\\nprint(chr(1105))\\nprint(chr(128519))', \"print(ord('a'))\\nprint(ord('а'))\\nprint(ord('😉'))\", '● Функция locals()\\nФункция возвращает словарь переменных из локальной области видимости на\\nмомент вызова функции.', 'SIZE = 10\\n\\ndef func(a, b, c):\\n    x = a + b\\n    print(locals())\\n    z = x + c\\n    return z', 'SIZE = 10\\n\\ndef func(a, b, c):\\n    x = a + b\\n    print(locals())\\n    z = x + c\\n    return z\\nfunc(1, 2, 3)', 'SIZE = 10\\ndef func(a, b, c):\\n    x = a + b\\n    print(globals())\\n    z = x + c\\n    return z\\n\\nprint(globals())\\nprint(func(1, 2, 3))', \"x = 42\\nglob_dict = globals()\\nglob_dict['x'] = 73\\nprint(x)\", 'print(vars(int))', \"data = [25, -42, 146, 73, -100, 12]\\nprint(list(map(str, data)))\\nprint(max(data, key=lambda x: -x))\\nprint(*filter(lambda x: not x[0].startswith('__'),\\nglobals().items()))\", \"data = [25, -42, 146, 73, -100, 12]\\nprint(list(map(str, data)))\\nprint(max(data, key=lambda x: -x))\\nprint(*filter(lambda x: not x[0].startswith('__'), globals().items()))\", 'print(vars(int))', \"x = 42\\nglob_dict = globals()\\nglob_dict['x'] = 73\\nprint(x)\", 'print(vars(int))', 'print(vars(int))', \"data = [25, -42, 146, 73, -100, 12]\\nprint(list(map(str, data)))\\nprint(max(data, key=lambda x: -x))\\nprint(*filter(lambda x: not x[0].startswith('__'), globals().items()))\"]) ('Out', {67: 6}) ('get_ipython', <bound method InteractiveShell.get_ipython of <ipykernel.zmqshell.ZMQInteractiveShell object at 0x000002493FD335B0>>) ('exit', <IPython.core.autocall.ZMQExitAutocall object at 0x000002493FC4F400>) ('quit', <IPython.core.autocall.ZMQExitAutocall object at 0x000002493FC4F400>) ('_', 6) ('_i', 'print(vars(int))') ('_ii', 'print(vars(int))') ('_iii', \"x = 42\\nglob_dict = globals()\\nglob_dict['x'] = 73\\nprint(x)\") ('_i1', 'def quadratic_equations(a: int | float, b: int | float, c: int | float) -> tuple[float, float] | float | None:\\n    d = b ** 2 - 4 * a * c\\n    if d > 0:\\n        return (-b + d ** 0.5) / (2 * a), (-b - d ** 0.5) / (2 *a)\\n    elif d == 0:\\n        return -b / (2 * a)\\n    else:\\n        return None\\n    \\nprint(quadratic_equations(2, -3, -9))') ('_i2', \"def no_mutable(a: int) -> int:\\n    a += 1\\n    print(f'In func {a = }') # Для демонстрации работы, но не\\nдля привычки принтить из функции\\n    return a\\na = 42\\nprint(f'In main {a = }')\\nz = no_mutable(a)\\nprint(f'{a = }\\\\t{z = }')\") ('_i3', \"def no_mutable(a: int) -> int:\\n    a += 1\\n    print(f'In func {a = }') # Для демонстрации работы, но не для привычки принтить из функции\\n    return a\\na = 42\\nprint(f'In main {a = }')\\nz = no_mutable(a)\\nprint(f'{a = }\\\\t{z = }')\") ('no_mutable', <function no_mutable at 0x00000249400CD3A0>) ('a', 42) ('z', 44) ('_i4', \"def mutable(data: list[int]) -> list[int]:\\n    for i, item in enumerate(data):\\n        data[i] = item + 1\\n    print(f'In func {data = }') # Для демонстрации работы, но не для привычки принтить из функции\\n    return data\\nmy_list = [2, 4, 6, 8]\\nprint(f'In main {my_list = }')\\nnew_list = mutable(my_list)\\nprint(f'{my_list = }\\\\t{new_list = }')\") ('mutable', <function mutable at 0x00000249400F08B0>) ('my_list', [42, 256, 73]) ('new_list', [1, 2, 3, 4, 5]) ('_i5', \"def mutable(data: list[int]) -> list[int]:\\n    for i, item in enumerate(data):\\n        data[i] = item + 1\\n    print(f'In func {data = }') # Для демонстрации работы, но не для привычки принтить из функции\\n    return data\\n\\nmy_list = [2, 4, 6, 8]\\nprint(f'In main {my_list = }')\\nnew_list = mutable(my_list)\\nprint(f'{my_list = }\\\\t{new_list = }')\") ('_i6', 'def quadratic_equations(a, b, c):\\n    d = b ** 2 - 4 * a * c\\n    if d > 0:\\n        return (-b + d ** 0.5) / (2 * a), (-b - d ** 0.5) / (2 * a)\\n    if d == 0:\\n        return -b / (2 * a)\\n    return None') ('quadratic_equations', <function quadratic_equations at 0x00000249401C21F0>) ('_i7', 'def quadratic_equations(a, b, c):\\n    d = b ** 2 - 4 * a * c\\n    if d > 0:\\n        return (-b + d ** 0.5) / (2 * a), (-b - d ** 0.5) / (2 * a)\\n    if d == 0:\\n        return -b / (2 * a)\\n    return None') ('_i8', 'def quadratic_equations(a, b, c):\\n    d = b ** 2 - 4 * a * c\\n    if d > 0:\\n        return (-b + d ** 0.5) / (2 * a), (-b - d ** 0.5) / (2 * a)\\n    if d == 0:\\n        return -b / (2 * a)\\n    return None\\nprint(quadratic_equations(2, -3, -9))') ('_i9', \"def no_return(data: list[int]):\\n    for i, item in enumerate(data):\\n    data[i] = item + 1\\n    print(f'In func {data = }') # Для демонстрации работы, но не для привычки принтить из функции\\n    \\nmy_list = [2, 4, 6, 8]\\nprint(f'In main {my_list = }')\\nnew_list = no_return(my_list)\\nprint(f'{my_list = }\\\\t{new_list = }')\") ('_i10', \"def no_return(data: list[int]):\\n    for i, item in enumerate(data):\\n        data[i] = item + 1\\n    print(f'In func {data = }') # Для демонстрации работы, но не для привычки принтить из функции\\n    \\nmy_list = [2, 4, 6, 8]\\nprint(f'In main {my_list = }')\\nnew_list = no_return(my_list)\\nprint(f'{my_list = }\\\\t{new_list = }')\") ('no_return', <function no_return at 0x00000249401B4D30>) ('_i11', 'def quadratic_equations(a, b=0, c=0):\\n    d = b ** 2 - 4 * a * c\\n    if d > 0:\\n        return (-b + d ** 0.5) / (2 * a), (-b - d ** 0.5) / (2 *a)\\n    if d == 0:\\n        return -b / (2 * a)\\n    \\nprint(quadratic_equations(2, -9))') ('_i12', \"def from_one_to_n(n, data=[]):\\n    for i in range(1, n + 1):\\n        data.append(i)\\n    return data\\n\\nnew_list = from_one_to_n(5)\\nprint(f'{new_list = }')\\nother_list = from_one_to_n(7)\\nprint(f'{other_list = }')\") ('from_one_to_n', <function from_one_to_n at 0x00000249401C2280>) ('other_list', [1, 2, 3, 4, 5, 6, 7]) ('_i13', 'def from_one_to_n(n, data=None):\\n    if data is None:\\n        data = []\\n    for i in range(1, n + 1):\\n        data.append(i)\\n    return data') ('_i14', \"def from_one_to_n(n, data=[None]):\\n    for i in range(1, n + 1):\\n        data.append(i)\\n    return data\\n\\nnew_list = from_one_to_n(5)\\nprint(f'{new_list = }')\\nother_list = from_one_to_n(7)\\nprint(f'{other_list = }')\") ('_i15', \"def from_one_to_n(n, data=None):\\n    if data is None:\\n        data = []\\n    for i in range(1, n + 1):\\n        data.append(i)\\n    return data\\n\\nnew_list = from_one_to_n(5)\\nprint(f'{new_list = }')\\nother_list = from_one_to_n(7)\\nprint(f'{other_list = }')\") ('_i16', 'def func(positional_only_parameters, /, positional_or_keyword_parameters, *, keyword_only_parameters): pass') ('func', <function func at 0x00000249401C2D30>) ('_i17', 'def func(positional_only_parameters, /, positional_or_keyword_parameters, *, keyword_only_parameters): pass') ('_i18', 'def func(positional_only_parameters, /, positional_or_keyword_parameters, *,\\nkeyword_only_parameters): pass') ('_i19', 'def standard_arg(arg):\\n    print(arg) # Принтим для примера, а не для привычки\\n    \\nstandard_arg(42)\\nstandard_arg(arg=42)') ('standard_arg', <function standard_arg at 0x00000249401B4EE0>) ('_i20', 'def kwd_only_arg(*, arg):\\n    print(arg) # Принтим для примера, а не для привычки\\n    \\nkwd_only_arg(42)\\nkwd_only_arg(arg=42)') ('kwd_only_arg', <function kwd_only_arg at 0x00000249401C2670>) ('_i21', \"def pos_only_arg(arg, /):\\n    print(arg) # Принтим для примера, а не для привычки\\npos_only_arg(42)\\npos_only_arg(arg=42) # TypeError: pos_only_arg() got some positional-only arguments passed as keyword arguments: 'arg'\") ('pos_only_arg', <function pos_only_arg at 0x00000249401B4F70>) ('_i22', 'def kwd_only_arg(*, arg):\\n    print(arg) # Принтим для примера, а не для привычки\\n    \\n    kwd_only_arg(42)\\n    kwd_only_arg(arg=42)') ('_i23', 'def kwd_only_arg(*, arg):\\n    print(arg) # Принтим для примера, а не для привычки\\n    \\n    kwd_only_arg(42)\\n    kwd_only_arg(arg=42)') ('_i24', \"def pos_only_arg(arg, /):\\n    print(arg) # Принтим для примера, а не для привычки\\n    \\npos_only_arg(42)\\n# pos_only_arg(arg=42) # TypeError: pos_only_arg() got some positional-only arguments passed as keyword arguments: 'arg'\") ('_i25', 'def kwd_only_arg(*, arg):\\n    print(arg) # Принтим для примера, а не для привычки\\n    \\nkwd_only_arg(42)\\nkwd_only_arg(arg=42)') ('_i26', 'def kwd_only_arg(*, arg):\\n    print(arg) # Принтим для примера, а не для привычки\\n    \\n# kwd_only_arg(42)\\nkwd_only_arg(arg=42)') ('_i27', \"def combined_example(pos_only, /, standard, *, kwd_only):\\n    print(pos_only, standard, kwd_only) # Принтим для примера, а не для привычки\\n    \\ncombined_example(1, 2, 3) # TypeError: combined_example() takes 2 positional arguments but 3 were given\\ncombined_example(1, 2, kwd_only=3)\\ncombined_example(1, standard=2, kwd_only=3)\\ncombined_example(pos_only=1, standard=2, kwd_only=3) # TypeError: combined_example() got some positional-only arguments passed as keyword arguments: 'pos_only'\") ('combined_example', <function combined_example at 0x00000249401C2700>) ('_i28', \"def combined_example(pos_only, /, standard, *, kwd_only):\\n    print(pos_only, standard, kwd_only) # Принтим для примера, а не для привычки\\n    \\n# combined_example(1, 2, 3) # TypeError: combined_example() takes 2 positional arguments but 3 were given\\ncombined_example(1, 2, kwd_only=3)\\ncombined_example(1, standard=2, kwd_only=3)\\ncombined_example(pos_only=1, standard=2, kwd_only=3) # TypeError: combined_example() got some positional-only arguments passed as keyword arguments: 'pos_only'\") ('_i29', \"def combined_example(pos_only, /, standard, *, kwd_only):\\n    print(pos_only, standard, kwd_only) # Принтим для примера, а не для привычки\\n    \\n# combined_example(1, 2, 3) # TypeError: combined_example() takes 2 positional arguments but 3 were given\\ncombined_example(1, 2, kwd_only=3)\\ncombined_example(1, standard=2, kwd_only=3)\\n# combined_example(pos_only=1, standard=2, kwd_only=3) # TypeError: combined_example() got some positional-only arguments passed as keyword arguments: 'pos_only'\") ('_i30', 'def mean(args):\\n    return sum(args) / len(args)\\nprint(mean([1, 2, 3]))\\nprint(mean(1, 2, 3)) # TypeError: mean() takes 1 positional argument but 3 were given') ('mean', <function mean at 0x00000249401C29D0>) ('_i31', 'def mean(args):\\n    return sum(args) / len(args)\\nprint(mean([1, 2, 3]))\\n# print(mean(1, 2, 3)) # TypeError: mean() takes 1 positional argument but 3 were given') ('_i32', 'def mean(*args):\\n    return sum(args) / len(args)\\n\\nprint(mean(*[1, 2, 3]))\\nprint(mean(1, 2, 3))') ('_i33', 'def school_print(**kwargs):\\n    for key, value in kwargs.items():\\n        print(f\\'По предмету \"{key}\" получена оценка {value}\\')\\n        \\nschool_print(химия=5, физика=4, математика=5, физра=5)') ('school_print', <function school_print at 0x00000249401C2820>) ('_i34', \"def func(y: int) -> int:\\n    x = 100\\n    print(f'In func {x = }') # Для демонстрации работы, но не\\nдля привычки принтить из функции\\n    return y + 1\\n\\nx = 42\\nprint(f'In main {x = }')\\nz = func(x)\\nprint(f'{x = }\\\\t{z = }')\") ('_i35', \"def func(y: int) -> int:\\n    x = 100\\n    print(f'In func {x = }') # Для демонстрации работы, но не для привычки принтить из функции\\n    return y + 1\\n\\nx = 42\\nprint(f'In main {x = }')\\nz = func(x)\\nprint(f'{x = }\\\\t{z = }')\") ('x', 73) ('_i36', \"def func(y: int) -> int:\\n    global x\\n    x += 100\\n    print(f'In func {x = }') # Для демонстрации работы, но не для привычки принтить из функции\\nreturn y + 1\") ('_i37', \"def func(y: int) -> int:\\n    global x\\n    x += 100\\n        print(f'In func {x = }') # Для демонстрации работы, но не для привычки принтить из функции\\nreturn y + 1\") ('_i38', \"def func(y: int) -> int:\\n    global x\\n    x += 100\\nprint(f'In func {x = }') # Для демонстрации работы, но не для привычки принтить из функции\\nreturn y + 1\") ('_i39', \"def func(y: int) -> int:\\n    global x\\n    x += 100\\nprint(f'In func {x = }') # Для демонстрации работы, но не для привычки принтить из функции\\n return y + 1\") ('_i40', \"def func(y: int) -> int:\\n    global x\\n    x += 100\\nprint(f'In func {x = }') # Для демонстрации работы, но не для привычки принтить из функции\\n    return y + 1\") ('_i41', \"def func(y: int) -> int:\\n    global x\\n    x += 100\\nprint(f'In func {x = }') # Для демонстрации работы, но не для привычки принтить из функции\\nreturn y + 1\") ('_i42', \"def func(y: int) -> int:\\n    global x\\n    x += 100\\n    print(f'In func {x = }') # Для демонстрации работы, но не для привычки принтить из функции\\n    return y + 1\\n\\nx = 42\\nprint(f'In main {x = }')\\nz = func(x)\\nprint(f'{x = }\\\\t{z = }')\") ('_i43', \"def main(a):\\n    x = 1\\n    def func(y):\\n        nonlocal x\\n        x += 100\\n        print(f'In func {x = }') # Для демонстрации работы, но не для привычки принтить из функции\\n        return y + 1\\n    \\n    return x + func(a)\\nx = 42\\nprint(f'In main {x = }')\\nz = main(x)\\nprint(f'{x = }\\\\t{z = }')\") ('main', <function main at 0x00000249400970D0>) ('_i44', 'LIMIT = 1_000\\ndef func(x, y):\\n    result = x ** y % LIMIT\\n    return result\\n\\nprint(func(42, 73))') ('LIMIT', 1000) ('_i45', 'def add_two_def(a, b):\\n    return a + b\\n\\nadd_two_lambda = lambda a, b: a + b\\n\\nprint(add_two_def(42, 3.14))\\nprint(add_two_lambda(42, 3.14))') ('add_two_def', <function add_two_def at 0x00000249401C2160>) ('add_two_lambda', <function <lambda> at 0x00000249401C2C10>) ('_i46', \"my_dict = {'two': 2, 'one': 1, 'four': 4, 'three': 3, 'ten': 10}\\ns_key = sorted(my_dict.items())\\ns_value = sorted(my_dict.items(), key=lambda x: x[1])\\nprint(f'{s_key = }\\\\n{s_value = }')\") ('my_dict', {'two': 2, 'one': 1, 'four': 4, 'three': 3, 'ten': 10}) ('s_key', [('four', 4), ('one', 1), ('ten', 10), ('three', 3), ('two', 2)]) ('s_value', [('one', 1), ('two', 2), ('three', 3), ('four', 4), ('ten', 10)]) ('_i47', '####Документирование кода функций') ('_i48', 'def max_before_hundred(*args):\\n    \"\"\"Return the maximum number not exceeding 100.\"\"\"\\n    m = float(\\'-inf\\')\\n    for item in args:\\n        if m < item < 100:\\n            m = item\\n    return m\\nprint(max_before_hundred(-42, 73, 256, 0))') ('max_before_hundred', <function max_before_hundred at 0x00000249401C2CA0>) ('_i49', 'def func(a=0.0, /, b=0.0, *, c=0.0):\\n    \"\"\"func(a=0.0: int | float, /, b=0.0: int | float, *, c=0.0:\\nint | float) -> : int | float\"\"\"\\n    if a > c:\\n        return a\\n    if a < c:\\n        return c\\n    return\\n\\nprint(func(c=1, b=2, a=3))') ('_i50', 'def func(a=0.0, /, b=0.0, *, c=0.0):\\n    \"\"\"func(a=0.0: int | float, /, b=0.0: int | float, *, c=0.0: int | float) -> : int | float\"\"\"\\n    if a > c:\\n        return a\\n    if a < c:\\n        return c\\n    return\\n\\nprint(func(c=1, b=2, a=3))') ('_i51', 'names = [\"Иван\", \"Николай\", \"Пётр\"]\\nsalaries = [125_000, 96_000, 109_000]\\nawards = [0.1, 0.25, 0.13, 0.99]\\nfor name, salary, award in zip(names, salaries, awards):\\n    print(f\\'{name} заработал {salary:.2f} денег и премию {salary\\n* award:.2f}\\')') ('_i52', 'numbers = [42, -73, 1024]\\nres = tuple(filter(lambda x: x > 0, numbers))\\nprint(res)') ('numbers', [42, -73, 1024]) ('res', <map object at 0x00000249400C31F0>) ('_i53', 'texts = [\"Привет\", \"ЗДОРОВА\", \"привеТствую\"]\\nres = map(lambda x: x.lower(), texts)\\nprint(*res)') ('texts', ['Привет', 'ЗДОРОВА', 'привеТствую']) ('_i54', 'names = [\"Иван\", \"Николай\", \"Пётр\"]\\nsalaries = [125_000, 96_000, 109_000]\\nawards = [0.1, 0.25, 0.13, 0.99]\\nfor name, salary, award in zip(names, salaries, awards):\\n    print(f\\'{name} заработал {salary:.2f} денег и премию {salary * award:.2f}\\')') ('names', ['Иван', 'Николай', 'Пётр']) ('salaries', [125000, 96000, 109000]) ('awards', [0.1, 0.25, 0.13, 0.99]) ('name', 'Пётр') ('salary', 109000) ('award', 0.13) ('_i55', 'lst_1 = []\\nlst_2 = [42, 256, 73]\\nlst_3 = [(\"Иван\", 125_000), (\"Николай\", 96_000), (\"Пётр\",\\n109_000)]\\nprint(max(lst_1, default=\\'empty\\'))\\nprint(max(*lst_2))\\nprint(max(lst_3, key=lambda x: x[1]))') ('lst_1', []) ('lst_2', [42, 256, 73]) ('lst_3', [('Иван', 125000), ('Николай', 96000), ('Пётр', 109000)]) ('_i56', 'lst_1 = []\\nlst_2 = [42, 256, 73]\\nlst_3 = [(\"Иван\", 125_000), (\"Николай\", 96_000), (\"Пётр\",\\n109_000)]\\nprint(min(lst_1, default=\\'empty\\'))\\nprint(min(*lst_2))\\nprint(min(lst_3, key=lambda x: x[1]))') ('_i57', 'my_list = [42, 256, 73]\\nprint(sum(my_list))\\nprint(sum(my_list, start=1024))') ('_i58', 'def all(iterable):\\n    for element in iterable:\\n        if not element:\\n            return False\\n    return True') ('all', <function all at 0x00000249401C23A0>) ('_i59', \"numbers = [42, -73, 1024]\\nif all(map(lambda x: x > 0, numbers)):\\n    print('Все элементы положительные')\\nelse:\\n    print('В последовательности есть отрицательные и/или нулевые элементы')\") ('_i60', 'def any(iterable):\\n    for element in iterable:\\n        if element:\\n            return True\\n    return False') ('any', <function any at 0x00000249401C2EE0>) ('_i61', 'def any(iterable):\\n    for element in iterable:\\n        if element:\\n            return True\\n    return False') ('_i62', \"numbers = [42, -73, 1024]\\nif any(map(lambda x: x > 0, numbers)):\\n    print('Хотя бы один элемент положительный')\\nelse:\\n    print('Все элементы не больше нуля')\") ('_i63', 'print(chr(97))\\nprint(chr(1105))\\nprint(chr(128519))') ('_i64', \"print(ord('a'))\\nprint(ord('а'))\\nprint(ord('😉'))\") ('_i65', '● Функция locals()\\nФункция возвращает словарь переменных из локальной области видимости на\\nмомент вызова функции.') ('_i66', 'SIZE = 10\\n\\ndef func(a, b, c):\\n    x = a + b\\n    print(locals())\\n    z = x + c\\n    return z') ('SIZE', 10) ('_i67', 'SIZE = 10\\n\\ndef func(a, b, c):\\n    x = a + b\\n    print(locals())\\n    z = x + c\\n    return z\\nfunc(1, 2, 3)') ('_67', 6) ('_i68', 'SIZE = 10\\ndef func(a, b, c):\\n    x = a + b\\n    print(globals())\\n    z = x + c\\n    return z\\n\\nprint(globals())\\nprint(func(1, 2, 3))') ('_i69', \"x = 42\\nglob_dict = globals()\\nglob_dict['x'] = 73\\nprint(x)\") ('glob_dict', {'__name__': '__main__', '__doc__': 'Automatically created module for IPython interactive environment', '__package__': None, '__loader__': None, '__spec__': None, '__builtin__': <module 'builtins' (built-in)>, '__builtins__': <module 'builtins' (built-in)>, '_ih': ['', 'def quadratic_equations(a: int | float, b: int | float, c: int | float) -> tuple[float, float] | float | None:\\n    d = b ** 2 - 4 * a * c\\n    if d > 0:\\n        return (-b + d ** 0.5) / (2 * a), (-b - d ** 0.5) / (2 *a)\\n    elif d == 0:\\n        return -b / (2 * a)\\n    else:\\n        return None\\n    \\nprint(quadratic_equations(2, -3, -9))', \"def no_mutable(a: int) -> int:\\n    a += 1\\n    print(f'In func {a = }') # Для демонстрации работы, но не\\nдля привычки принтить из функции\\n    return a\\na = 42\\nprint(f'In main {a = }')\\nz = no_mutable(a)\\nprint(f'{a = }\\\\t{z = }')\", \"def no_mutable(a: int) -> int:\\n    a += 1\\n    print(f'In func {a = }') # Для демонстрации работы, но не для привычки принтить из функции\\n    return a\\na = 42\\nprint(f'In main {a = }')\\nz = no_mutable(a)\\nprint(f'{a = }\\\\t{z = }')\", \"def mutable(data: list[int]) -> list[int]:\\n    for i, item in enumerate(data):\\n        data[i] = item + 1\\n    print(f'In func {data = }') # Для демонстрации работы, но не для привычки принтить из функции\\n    return data\\nmy_list = [2, 4, 6, 8]\\nprint(f'In main {my_list = }')\\nnew_list = mutable(my_list)\\nprint(f'{my_list = }\\\\t{new_list = }')\", \"def mutable(data: list[int]) -> list[int]:\\n    for i, item in enumerate(data):\\n        data[i] = item + 1\\n    print(f'In func {data = }') # Для демонстрации работы, но не для привычки принтить из функции\\n    return data\\n\\nmy_list = [2, 4, 6, 8]\\nprint(f'In main {my_list = }')\\nnew_list = mutable(my_list)\\nprint(f'{my_list = }\\\\t{new_list = }')\", 'def quadratic_equations(a, b, c):\\n    d = b ** 2 - 4 * a * c\\n    if d > 0:\\n        return (-b + d ** 0.5) / (2 * a), (-b - d ** 0.5) / (2 * a)\\n    if d == 0:\\n        return -b / (2 * a)\\n    return None', 'def quadratic_equations(a, b, c):\\n    d = b ** 2 - 4 * a * c\\n    if d > 0:\\n        return (-b + d ** 0.5) / (2 * a), (-b - d ** 0.5) / (2 * a)\\n    if d == 0:\\n        return -b / (2 * a)\\n    return None', 'def quadratic_equations(a, b, c):\\n    d = b ** 2 - 4 * a * c\\n    if d > 0:\\n        return (-b + d ** 0.5) / (2 * a), (-b - d ** 0.5) / (2 * a)\\n    if d == 0:\\n        return -b / (2 * a)\\n    return None\\nprint(quadratic_equations(2, -3, -9))', \"def no_return(data: list[int]):\\n    for i, item in enumerate(data):\\n    data[i] = item + 1\\n    print(f'In func {data = }') # Для демонстрации работы, но не для привычки принтить из функции\\n    \\nmy_list = [2, 4, 6, 8]\\nprint(f'In main {my_list = }')\\nnew_list = no_return(my_list)\\nprint(f'{my_list = }\\\\t{new_list = }')\", \"def no_return(data: list[int]):\\n    for i, item in enumerate(data):\\n        data[i] = item + 1\\n    print(f'In func {data = }') # Для демонстрации работы, но не для привычки принтить из функции\\n    \\nmy_list = [2, 4, 6, 8]\\nprint(f'In main {my_list = }')\\nnew_list = no_return(my_list)\\nprint(f'{my_list = }\\\\t{new_list = }')\", 'def quadratic_equations(a, b=0, c=0):\\n    d = b ** 2 - 4 * a * c\\n    if d > 0:\\n        return (-b + d ** 0.5) / (2 * a), (-b - d ** 0.5) / (2 *a)\\n    if d == 0:\\n        return -b / (2 * a)\\n    \\nprint(quadratic_equations(2, -9))', \"def from_one_to_n(n, data=[]):\\n    for i in range(1, n + 1):\\n        data.append(i)\\n    return data\\n\\nnew_list = from_one_to_n(5)\\nprint(f'{new_list = }')\\nother_list = from_one_to_n(7)\\nprint(f'{other_list = }')\", 'def from_one_to_n(n, data=None):\\n    if data is None:\\n        data = []\\n    for i in range(1, n + 1):\\n        data.append(i)\\n    return data', \"def from_one_to_n(n, data=[None]):\\n    for i in range(1, n + 1):\\n        data.append(i)\\n    return data\\n\\nnew_list = from_one_to_n(5)\\nprint(f'{new_list = }')\\nother_list = from_one_to_n(7)\\nprint(f'{other_list = }')\", \"def from_one_to_n(n, data=None):\\n    if data is None:\\n        data = []\\n    for i in range(1, n + 1):\\n        data.append(i)\\n    return data\\n\\nnew_list = from_one_to_n(5)\\nprint(f'{new_list = }')\\nother_list = from_one_to_n(7)\\nprint(f'{other_list = }')\", 'def func(positional_only_parameters, /, positional_or_keyword_parameters, *, keyword_only_parameters): pass', 'def func(positional_only_parameters, /, positional_or_keyword_parameters, *, keyword_only_parameters): pass', 'def func(positional_only_parameters, /, positional_or_keyword_parameters, *,\\nkeyword_only_parameters): pass', 'def standard_arg(arg):\\n    print(arg) # Принтим для примера, а не для привычки\\n    \\nstandard_arg(42)\\nstandard_arg(arg=42)', 'def kwd_only_arg(*, arg):\\n    print(arg) # Принтим для примера, а не для привычки\\n    \\nkwd_only_arg(42)\\nkwd_only_arg(arg=42)', \"def pos_only_arg(arg, /):\\n    print(arg) # Принтим для примера, а не для привычки\\npos_only_arg(42)\\npos_only_arg(arg=42) # TypeError: pos_only_arg() got some positional-only arguments passed as keyword arguments: 'arg'\", 'def kwd_only_arg(*, arg):\\n    print(arg) # Принтим для примера, а не для привычки\\n    \\n    kwd_only_arg(42)\\n    kwd_only_arg(arg=42)', 'def kwd_only_arg(*, arg):\\n    print(arg) # Принтим для примера, а не для привычки\\n    \\n    kwd_only_arg(42)\\n    kwd_only_arg(arg=42)', \"def pos_only_arg(arg, /):\\n    print(arg) # Принтим для примера, а не для привычки\\n    \\npos_only_arg(42)\\n# pos_only_arg(arg=42) # TypeError: pos_only_arg() got some positional-only arguments passed as keyword arguments: 'arg'\", 'def kwd_only_arg(*, arg):\\n    print(arg) # Принтим для примера, а не для привычки\\n    \\nkwd_only_arg(42)\\nkwd_only_arg(arg=42)', 'def kwd_only_arg(*, arg):\\n    print(arg) # Принтим для примера, а не для привычки\\n    \\n# kwd_only_arg(42)\\nkwd_only_arg(arg=42)', \"def combined_example(pos_only, /, standard, *, kwd_only):\\n    print(pos_only, standard, kwd_only) # Принтим для примера, а не для привычки\\n    \\ncombined_example(1, 2, 3) # TypeError: combined_example() takes 2 positional arguments but 3 were given\\ncombined_example(1, 2, kwd_only=3)\\ncombined_example(1, standard=2, kwd_only=3)\\ncombined_example(pos_only=1, standard=2, kwd_only=3) # TypeError: combined_example() got some positional-only arguments passed as keyword arguments: 'pos_only'\", \"def combined_example(pos_only, /, standard, *, kwd_only):\\n    print(pos_only, standard, kwd_only) # Принтим для примера, а не для привычки\\n    \\n# combined_example(1, 2, 3) # TypeError: combined_example() takes 2 positional arguments but 3 were given\\ncombined_example(1, 2, kwd_only=3)\\ncombined_example(1, standard=2, kwd_only=3)\\ncombined_example(pos_only=1, standard=2, kwd_only=3) # TypeError: combined_example() got some positional-only arguments passed as keyword arguments: 'pos_only'\", \"def combined_example(pos_only, /, standard, *, kwd_only):\\n    print(pos_only, standard, kwd_only) # Принтим для примера, а не для привычки\\n    \\n# combined_example(1, 2, 3) # TypeError: combined_example() takes 2 positional arguments but 3 were given\\ncombined_example(1, 2, kwd_only=3)\\ncombined_example(1, standard=2, kwd_only=3)\\n# combined_example(pos_only=1, standard=2, kwd_only=3) # TypeError: combined_example() got some positional-only arguments passed as keyword arguments: 'pos_only'\", 'def mean(args):\\n    return sum(args) / len(args)\\nprint(mean([1, 2, 3]))\\nprint(mean(1, 2, 3)) # TypeError: mean() takes 1 positional argument but 3 were given', 'def mean(args):\\n    return sum(args) / len(args)\\nprint(mean([1, 2, 3]))\\n# print(mean(1, 2, 3)) # TypeError: mean() takes 1 positional argument but 3 were given', 'def mean(*args):\\n    return sum(args) / len(args)\\n\\nprint(mean(*[1, 2, 3]))\\nprint(mean(1, 2, 3))', 'def school_print(**kwargs):\\n    for key, value in kwargs.items():\\n        print(f\\'По предмету \"{key}\" получена оценка {value}\\')\\n        \\nschool_print(химия=5, физика=4, математика=5, физра=5)', \"def func(y: int) -> int:\\n    x = 100\\n    print(f'In func {x = }') # Для демонстрации работы, но не\\nдля привычки принтить из функции\\n    return y + 1\\n\\nx = 42\\nprint(f'In main {x = }')\\nz = func(x)\\nprint(f'{x = }\\\\t{z = }')\", \"def func(y: int) -> int:\\n    x = 100\\n    print(f'In func {x = }') # Для демонстрации работы, но не для привычки принтить из функции\\n    return y + 1\\n\\nx = 42\\nprint(f'In main {x = }')\\nz = func(x)\\nprint(f'{x = }\\\\t{z = }')\", \"def func(y: int) -> int:\\n    global x\\n    x += 100\\n    print(f'In func {x = }') # Для демонстрации работы, но не для привычки принтить из функции\\nreturn y + 1\", \"def func(y: int) -> int:\\n    global x\\n    x += 100\\n        print(f'In func {x = }') # Для демонстрации работы, но не для привычки принтить из функции\\nreturn y + 1\", \"def func(y: int) -> int:\\n    global x\\n    x += 100\\nprint(f'In func {x = }') # Для демонстрации работы, но не для привычки принтить из функции\\nreturn y + 1\", \"def func(y: int) -> int:\\n    global x\\n    x += 100\\nprint(f'In func {x = }') # Для демонстрации работы, но не для привычки принтить из функции\\n return y + 1\", \"def func(y: int) -> int:\\n    global x\\n    x += 100\\nprint(f'In func {x = }') # Для демонстрации работы, но не для привычки принтить из функции\\n    return y + 1\", \"def func(y: int) -> int:\\n    global x\\n    x += 100\\nprint(f'In func {x = }') # Для демонстрации работы, но не для привычки принтить из функции\\nreturn y + 1\", \"def func(y: int) -> int:\\n    global x\\n    x += 100\\n    print(f'In func {x = }') # Для демонстрации работы, но не для привычки принтить из функции\\n    return y + 1\\n\\nx = 42\\nprint(f'In main {x = }')\\nz = func(x)\\nprint(f'{x = }\\\\t{z = }')\", \"def main(a):\\n    x = 1\\n    def func(y):\\n        nonlocal x\\n        x += 100\\n        print(f'In func {x = }') # Для демонстрации работы, но не для привычки принтить из функции\\n        return y + 1\\n    \\n    return x + func(a)\\nx = 42\\nprint(f'In main {x = }')\\nz = main(x)\\nprint(f'{x = }\\\\t{z = }')\", 'LIMIT = 1_000\\ndef func(x, y):\\n    result = x ** y % LIMIT\\n    return result\\n\\nprint(func(42, 73))', 'def add_two_def(a, b):\\n    return a + b\\n\\nadd_two_lambda = lambda a, b: a + b\\n\\nprint(add_two_def(42, 3.14))\\nprint(add_two_lambda(42, 3.14))', \"my_dict = {'two': 2, 'one': 1, 'four': 4, 'three': 3, 'ten': 10}\\ns_key = sorted(my_dict.items())\\ns_value = sorted(my_dict.items(), key=lambda x: x[1])\\nprint(f'{s_key = }\\\\n{s_value = }')\", '####Документирование кода функций', 'def max_before_hundred(*args):\\n    \"\"\"Return the maximum number not exceeding 100.\"\"\"\\n    m = float(\\'-inf\\')\\n    for item in args:\\n        if m < item < 100:\\n            m = item\\n    return m\\nprint(max_before_hundred(-42, 73, 256, 0))', 'def func(a=0.0, /, b=0.0, *, c=0.0):\\n    \"\"\"func(a=0.0: int | float, /, b=0.0: int | float, *, c=0.0:\\nint | float) -> : int | float\"\"\"\\n    if a > c:\\n        return a\\n    if a < c:\\n        return c\\n    return\\n\\nprint(func(c=1, b=2, a=3))', 'def func(a=0.0, /, b=0.0, *, c=0.0):\\n    \"\"\"func(a=0.0: int | float, /, b=0.0: int | float, *, c=0.0: int | float) -> : int | float\"\"\"\\n    if a > c:\\n        return a\\n    if a < c:\\n        return c\\n    return\\n\\nprint(func(c=1, b=2, a=3))', 'names = [\"Иван\", \"Николай\", \"Пётр\"]\\nsalaries = [125_000, 96_000, 109_000]\\nawards = [0.1, 0.25, 0.13, 0.99]\\nfor name, salary, award in zip(names, salaries, awards):\\n    print(f\\'{name} заработал {salary:.2f} денег и премию {salary\\n* award:.2f}\\')', 'numbers = [42, -73, 1024]\\nres = tuple(filter(lambda x: x > 0, numbers))\\nprint(res)', 'texts = [\"Привет\", \"ЗДОРОВА\", \"привеТствую\"]\\nres = map(lambda x: x.lower(), texts)\\nprint(*res)', 'names = [\"Иван\", \"Николай\", \"Пётр\"]\\nsalaries = [125_000, 96_000, 109_000]\\nawards = [0.1, 0.25, 0.13, 0.99]\\nfor name, salary, award in zip(names, salaries, awards):\\n    print(f\\'{name} заработал {salary:.2f} денег и премию {salary * award:.2f}\\')', 'lst_1 = []\\nlst_2 = [42, 256, 73]\\nlst_3 = [(\"Иван\", 125_000), (\"Николай\", 96_000), (\"Пётр\",\\n109_000)]\\nprint(max(lst_1, default=\\'empty\\'))\\nprint(max(*lst_2))\\nprint(max(lst_3, key=lambda x: x[1]))', 'lst_1 = []\\nlst_2 = [42, 256, 73]\\nlst_3 = [(\"Иван\", 125_000), (\"Николай\", 96_000), (\"Пётр\",\\n109_000)]\\nprint(min(lst_1, default=\\'empty\\'))\\nprint(min(*lst_2))\\nprint(min(lst_3, key=lambda x: x[1]))', 'my_list = [42, 256, 73]\\nprint(sum(my_list))\\nprint(sum(my_list, start=1024))', 'def all(iterable):\\n    for element in iterable:\\n        if not element:\\n            return False\\n    return True', \"numbers = [42, -73, 1024]\\nif all(map(lambda x: x > 0, numbers)):\\n    print('Все элементы положительные')\\nelse:\\n    print('В последовательности есть отрицательные и/или нулевые элементы')\", 'def any(iterable):\\n    for element in iterable:\\n        if element:\\n            return True\\n    return False', 'def any(iterable):\\n    for element in iterable:\\n        if element:\\n            return True\\n    return False', \"numbers = [42, -73, 1024]\\nif any(map(lambda x: x > 0, numbers)):\\n    print('Хотя бы один элемент положительный')\\nelse:\\n    print('Все элементы не больше нуля')\", 'print(chr(97))\\nprint(chr(1105))\\nprint(chr(128519))', \"print(ord('a'))\\nprint(ord('а'))\\nprint(ord('😉'))\", '● Функция locals()\\nФункция возвращает словарь переменных из локальной области видимости на\\nмомент вызова функции.', 'SIZE = 10\\n\\ndef func(a, b, c):\\n    x = a + b\\n    print(locals())\\n    z = x + c\\n    return z', 'SIZE = 10\\n\\ndef func(a, b, c):\\n    x = a + b\\n    print(locals())\\n    z = x + c\\n    return z\\nfunc(1, 2, 3)', 'SIZE = 10\\ndef func(a, b, c):\\n    x = a + b\\n    print(globals())\\n    z = x + c\\n    return z\\n\\nprint(globals())\\nprint(func(1, 2, 3))', \"x = 42\\nglob_dict = globals()\\nglob_dict['x'] = 73\\nprint(x)\", 'print(vars(int))', \"data = [25, -42, 146, 73, -100, 12]\\nprint(list(map(str, data)))\\nprint(max(data, key=lambda x: -x))\\nprint(*filter(lambda x: not x[0].startswith('__'),\\nglobals().items()))\", \"data = [25, -42, 146, 73, -100, 12]\\nprint(list(map(str, data)))\\nprint(max(data, key=lambda x: -x))\\nprint(*filter(lambda x: not x[0].startswith('__'), globals().items()))\", 'print(vars(int))', \"x = 42\\nglob_dict = globals()\\nglob_dict['x'] = 73\\nprint(x)\", 'print(vars(int))', 'print(vars(int))', \"data = [25, -42, 146, 73, -100, 12]\\nprint(list(map(str, data)))\\nprint(max(data, key=lambda x: -x))\\nprint(*filter(lambda x: not x[0].startswith('__'), globals().items()))\"], '_oh': {67: 6}, '_dh': ['C:\\\\Users\\\\Иван\\\\Desktop\\\\GeekBrains\\\\16. Next-Python'], 'In': ['', 'def quadratic_equations(a: int | float, b: int | float, c: int | float) -> tuple[float, float] | float | None:\\n    d = b ** 2 - 4 * a * c\\n    if d > 0:\\n        return (-b + d ** 0.5) / (2 * a), (-b - d ** 0.5) / (2 *a)\\n    elif d == 0:\\n        return -b / (2 * a)\\n    else:\\n        return None\\n    \\nprint(quadratic_equations(2, -3, -9))', \"def no_mutable(a: int) -> int:\\n    a += 1\\n    print(f'In func {a = }') # Для демонстрации работы, но не\\nдля привычки принтить из функции\\n    return a\\na = 42\\nprint(f'In main {a = }')\\nz = no_mutable(a)\\nprint(f'{a = }\\\\t{z = }')\", \"def no_mutable(a: int) -> int:\\n    a += 1\\n    print(f'In func {a = }') # Для демонстрации работы, но не для привычки принтить из функции\\n    return a\\na = 42\\nprint(f'In main {a = }')\\nz = no_mutable(a)\\nprint(f'{a = }\\\\t{z = }')\", \"def mutable(data: list[int]) -> list[int]:\\n    for i, item in enumerate(data):\\n        data[i] = item + 1\\n    print(f'In func {data = }') # Для демонстрации работы, но не для привычки принтить из функции\\n    return data\\nmy_list = [2, 4, 6, 8]\\nprint(f'In main {my_list = }')\\nnew_list = mutable(my_list)\\nprint(f'{my_list = }\\\\t{new_list = }')\", \"def mutable(data: list[int]) -> list[int]:\\n    for i, item in enumerate(data):\\n        data[i] = item + 1\\n    print(f'In func {data = }') # Для демонстрации работы, но не для привычки принтить из функции\\n    return data\\n\\nmy_list = [2, 4, 6, 8]\\nprint(f'In main {my_list = }')\\nnew_list = mutable(my_list)\\nprint(f'{my_list = }\\\\t{new_list = }')\", 'def quadratic_equations(a, b, c):\\n    d = b ** 2 - 4 * a * c\\n    if d > 0:\\n        return (-b + d ** 0.5) / (2 * a), (-b - d ** 0.5) / (2 * a)\\n    if d == 0:\\n        return -b / (2 * a)\\n    return None', 'def quadratic_equations(a, b, c):\\n    d = b ** 2 - 4 * a * c\\n    if d > 0:\\n        return (-b + d ** 0.5) / (2 * a), (-b - d ** 0.5) / (2 * a)\\n    if d == 0:\\n        return -b / (2 * a)\\n    return None', 'def quadratic_equations(a, b, c):\\n    d = b ** 2 - 4 * a * c\\n    if d > 0:\\n        return (-b + d ** 0.5) / (2 * a), (-b - d ** 0.5) / (2 * a)\\n    if d == 0:\\n        return -b / (2 * a)\\n    return None\\nprint(quadratic_equations(2, -3, -9))', \"def no_return(data: list[int]):\\n    for i, item in enumerate(data):\\n    data[i] = item + 1\\n    print(f'In func {data = }') # Для демонстрации работы, но не для привычки принтить из функции\\n    \\nmy_list = [2, 4, 6, 8]\\nprint(f'In main {my_list = }')\\nnew_list = no_return(my_list)\\nprint(f'{my_list = }\\\\t{new_list = }')\", \"def no_return(data: list[int]):\\n    for i, item in enumerate(data):\\n        data[i] = item + 1\\n    print(f'In func {data = }') # Для демонстрации работы, но не для привычки принтить из функции\\n    \\nmy_list = [2, 4, 6, 8]\\nprint(f'In main {my_list = }')\\nnew_list = no_return(my_list)\\nprint(f'{my_list = }\\\\t{new_list = }')\", 'def quadratic_equations(a, b=0, c=0):\\n    d = b ** 2 - 4 * a * c\\n    if d > 0:\\n        return (-b + d ** 0.5) / (2 * a), (-b - d ** 0.5) / (2 *a)\\n    if d == 0:\\n        return -b / (2 * a)\\n    \\nprint(quadratic_equations(2, -9))', \"def from_one_to_n(n, data=[]):\\n    for i in range(1, n + 1):\\n        data.append(i)\\n    return data\\n\\nnew_list = from_one_to_n(5)\\nprint(f'{new_list = }')\\nother_list = from_one_to_n(7)\\nprint(f'{other_list = }')\", 'def from_one_to_n(n, data=None):\\n    if data is None:\\n        data = []\\n    for i in range(1, n + 1):\\n        data.append(i)\\n    return data', \"def from_one_to_n(n, data=[None]):\\n    for i in range(1, n + 1):\\n        data.append(i)\\n    return data\\n\\nnew_list = from_one_to_n(5)\\nprint(f'{new_list = }')\\nother_list = from_one_to_n(7)\\nprint(f'{other_list = }')\", \"def from_one_to_n(n, data=None):\\n    if data is None:\\n        data = []\\n    for i in range(1, n + 1):\\n        data.append(i)\\n    return data\\n\\nnew_list = from_one_to_n(5)\\nprint(f'{new_list = }')\\nother_list = from_one_to_n(7)\\nprint(f'{other_list = }')\", 'def func(positional_only_parameters, /, positional_or_keyword_parameters, *, keyword_only_parameters): pass', 'def func(positional_only_parameters, /, positional_or_keyword_parameters, *, keyword_only_parameters): pass', 'def func(positional_only_parameters, /, positional_or_keyword_parameters, *,\\nkeyword_only_parameters): pass', 'def standard_arg(arg):\\n    print(arg) # Принтим для примера, а не для привычки\\n    \\nstandard_arg(42)\\nstandard_arg(arg=42)', 'def kwd_only_arg(*, arg):\\n    print(arg) # Принтим для примера, а не для привычки\\n    \\nkwd_only_arg(42)\\nkwd_only_arg(arg=42)', \"def pos_only_arg(arg, /):\\n    print(arg) # Принтим для примера, а не для привычки\\npos_only_arg(42)\\npos_only_arg(arg=42) # TypeError: pos_only_arg() got some positional-only arguments passed as keyword arguments: 'arg'\", 'def kwd_only_arg(*, arg):\\n    print(arg) # Принтим для примера, а не для привычки\\n    \\n    kwd_only_arg(42)\\n    kwd_only_arg(arg=42)', 'def kwd_only_arg(*, arg):\\n    print(arg) # Принтим для примера, а не для привычки\\n    \\n    kwd_only_arg(42)\\n    kwd_only_arg(arg=42)', \"def pos_only_arg(arg, /):\\n    print(arg) # Принтим для примера, а не для привычки\\n    \\npos_only_arg(42)\\n# pos_only_arg(arg=42) # TypeError: pos_only_arg() got some positional-only arguments passed as keyword arguments: 'arg'\", 'def kwd_only_arg(*, arg):\\n    print(arg) # Принтим для примера, а не для привычки\\n    \\nkwd_only_arg(42)\\nkwd_only_arg(arg=42)', 'def kwd_only_arg(*, arg):\\n    print(arg) # Принтим для примера, а не для привычки\\n    \\n# kwd_only_arg(42)\\nkwd_only_arg(arg=42)', \"def combined_example(pos_only, /, standard, *, kwd_only):\\n    print(pos_only, standard, kwd_only) # Принтим для примера, а не для привычки\\n    \\ncombined_example(1, 2, 3) # TypeError: combined_example() takes 2 positional arguments but 3 were given\\ncombined_example(1, 2, kwd_only=3)\\ncombined_example(1, standard=2, kwd_only=3)\\ncombined_example(pos_only=1, standard=2, kwd_only=3) # TypeError: combined_example() got some positional-only arguments passed as keyword arguments: 'pos_only'\", \"def combined_example(pos_only, /, standard, *, kwd_only):\\n    print(pos_only, standard, kwd_only) # Принтим для примера, а не для привычки\\n    \\n# combined_example(1, 2, 3) # TypeError: combined_example() takes 2 positional arguments but 3 were given\\ncombined_example(1, 2, kwd_only=3)\\ncombined_example(1, standard=2, kwd_only=3)\\ncombined_example(pos_only=1, standard=2, kwd_only=3) # TypeError: combined_example() got some positional-only arguments passed as keyword arguments: 'pos_only'\", \"def combined_example(pos_only, /, standard, *, kwd_only):\\n    print(pos_only, standard, kwd_only) # Принтим для примера, а не для привычки\\n    \\n# combined_example(1, 2, 3) # TypeError: combined_example() takes 2 positional arguments but 3 were given\\ncombined_example(1, 2, kwd_only=3)\\ncombined_example(1, standard=2, kwd_only=3)\\n# combined_example(pos_only=1, standard=2, kwd_only=3) # TypeError: combined_example() got some positional-only arguments passed as keyword arguments: 'pos_only'\", 'def mean(args):\\n    return sum(args) / len(args)\\nprint(mean([1, 2, 3]))\\nprint(mean(1, 2, 3)) # TypeError: mean() takes 1 positional argument but 3 were given', 'def mean(args):\\n    return sum(args) / len(args)\\nprint(mean([1, 2, 3]))\\n# print(mean(1, 2, 3)) # TypeError: mean() takes 1 positional argument but 3 were given', 'def mean(*args):\\n    return sum(args) / len(args)\\n\\nprint(mean(*[1, 2, 3]))\\nprint(mean(1, 2, 3))', 'def school_print(**kwargs):\\n    for key, value in kwargs.items():\\n        print(f\\'По предмету \"{key}\" получена оценка {value}\\')\\n        \\nschool_print(химия=5, физика=4, математика=5, физра=5)', \"def func(y: int) -> int:\\n    x = 100\\n    print(f'In func {x = }') # Для демонстрации работы, но не\\nдля привычки принтить из функции\\n    return y + 1\\n\\nx = 42\\nprint(f'In main {x = }')\\nz = func(x)\\nprint(f'{x = }\\\\t{z = }')\", \"def func(y: int) -> int:\\n    x = 100\\n    print(f'In func {x = }') # Для демонстрации работы, но не для привычки принтить из функции\\n    return y + 1\\n\\nx = 42\\nprint(f'In main {x = }')\\nz = func(x)\\nprint(f'{x = }\\\\t{z = }')\", \"def func(y: int) -> int:\\n    global x\\n    x += 100\\n    print(f'In func {x = }') # Для демонстрации работы, но не для привычки принтить из функции\\nreturn y + 1\", \"def func(y: int) -> int:\\n    global x\\n    x += 100\\n        print(f'In func {x = }') # Для демонстрации работы, но не для привычки принтить из функции\\nreturn y + 1\", \"def func(y: int) -> int:\\n    global x\\n    x += 100\\nprint(f'In func {x = }') # Для демонстрации работы, но не для привычки принтить из функции\\nreturn y + 1\", \"def func(y: int) -> int:\\n    global x\\n    x += 100\\nprint(f'In func {x = }') # Для демонстрации работы, но не для привычки принтить из функции\\n return y + 1\", \"def func(y: int) -> int:\\n    global x\\n    x += 100\\nprint(f'In func {x = }') # Для демонстрации работы, но не для привычки принтить из функции\\n    return y + 1\", \"def func(y: int) -> int:\\n    global x\\n    x += 100\\nprint(f'In func {x = }') # Для демонстрации работы, но не для привычки принтить из функции\\nreturn y + 1\", \"def func(y: int) -> int:\\n    global x\\n    x += 100\\n    print(f'In func {x = }') # Для демонстрации работы, но не для привычки принтить из функции\\n    return y + 1\\n\\nx = 42\\nprint(f'In main {x = }')\\nz = func(x)\\nprint(f'{x = }\\\\t{z = }')\", \"def main(a):\\n    x = 1\\n    def func(y):\\n        nonlocal x\\n        x += 100\\n        print(f'In func {x = }') # Для демонстрации работы, но не для привычки принтить из функции\\n        return y + 1\\n    \\n    return x + func(a)\\nx = 42\\nprint(f'In main {x = }')\\nz = main(x)\\nprint(f'{x = }\\\\t{z = }')\", 'LIMIT = 1_000\\ndef func(x, y):\\n    result = x ** y % LIMIT\\n    return result\\n\\nprint(func(42, 73))', 'def add_two_def(a, b):\\n    return a + b\\n\\nadd_two_lambda = lambda a, b: a + b\\n\\nprint(add_two_def(42, 3.14))\\nprint(add_two_lambda(42, 3.14))', \"my_dict = {'two': 2, 'one': 1, 'four': 4, 'three': 3, 'ten': 10}\\ns_key = sorted(my_dict.items())\\ns_value = sorted(my_dict.items(), key=lambda x: x[1])\\nprint(f'{s_key = }\\\\n{s_value = }')\", '####Документирование кода функций', 'def max_before_hundred(*args):\\n    \"\"\"Return the maximum number not exceeding 100.\"\"\"\\n    m = float(\\'-inf\\')\\n    for item in args:\\n        if m < item < 100:\\n            m = item\\n    return m\\nprint(max_before_hundred(-42, 73, 256, 0))', 'def func(a=0.0, /, b=0.0, *, c=0.0):\\n    \"\"\"func(a=0.0: int | float, /, b=0.0: int | float, *, c=0.0:\\nint | float) -> : int | float\"\"\"\\n    if a > c:\\n        return a\\n    if a < c:\\n        return c\\n    return\\n\\nprint(func(c=1, b=2, a=3))', 'def func(a=0.0, /, b=0.0, *, c=0.0):\\n    \"\"\"func(a=0.0: int | float, /, b=0.0: int | float, *, c=0.0: int | float) -> : int | float\"\"\"\\n    if a > c:\\n        return a\\n    if a < c:\\n        return c\\n    return\\n\\nprint(func(c=1, b=2, a=3))', 'names = [\"Иван\", \"Николай\", \"Пётр\"]\\nsalaries = [125_000, 96_000, 109_000]\\nawards = [0.1, 0.25, 0.13, 0.99]\\nfor name, salary, award in zip(names, salaries, awards):\\n    print(f\\'{name} заработал {salary:.2f} денег и премию {salary\\n* award:.2f}\\')', 'numbers = [42, -73, 1024]\\nres = tuple(filter(lambda x: x > 0, numbers))\\nprint(res)', 'texts = [\"Привет\", \"ЗДОРОВА\", \"привеТствую\"]\\nres = map(lambda x: x.lower(), texts)\\nprint(*res)', 'names = [\"Иван\", \"Николай\", \"Пётр\"]\\nsalaries = [125_000, 96_000, 109_000]\\nawards = [0.1, 0.25, 0.13, 0.99]\\nfor name, salary, award in zip(names, salaries, awards):\\n    print(f\\'{name} заработал {salary:.2f} денег и премию {salary * award:.2f}\\')', 'lst_1 = []\\nlst_2 = [42, 256, 73]\\nlst_3 = [(\"Иван\", 125_000), (\"Николай\", 96_000), (\"Пётр\",\\n109_000)]\\nprint(max(lst_1, default=\\'empty\\'))\\nprint(max(*lst_2))\\nprint(max(lst_3, key=lambda x: x[1]))', 'lst_1 = []\\nlst_2 = [42, 256, 73]\\nlst_3 = [(\"Иван\", 125_000), (\"Николай\", 96_000), (\"Пётр\",\\n109_000)]\\nprint(min(lst_1, default=\\'empty\\'))\\nprint(min(*lst_2))\\nprint(min(lst_3, key=lambda x: x[1]))', 'my_list = [42, 256, 73]\\nprint(sum(my_list))\\nprint(sum(my_list, start=1024))', 'def all(iterable):\\n    for element in iterable:\\n        if not element:\\n            return False\\n    return True', \"numbers = [42, -73, 1024]\\nif all(map(lambda x: x > 0, numbers)):\\n    print('Все элементы положительные')\\nelse:\\n    print('В последовательности есть отрицательные и/или нулевые элементы')\", 'def any(iterable):\\n    for element in iterable:\\n        if element:\\n            return True\\n    return False', 'def any(iterable):\\n    for element in iterable:\\n        if element:\\n            return True\\n    return False', \"numbers = [42, -73, 1024]\\nif any(map(lambda x: x > 0, numbers)):\\n    print('Хотя бы один элемент положительный')\\nelse:\\n    print('Все элементы не больше нуля')\", 'print(chr(97))\\nprint(chr(1105))\\nprint(chr(128519))', \"print(ord('a'))\\nprint(ord('а'))\\nprint(ord('😉'))\", '● Функция locals()\\nФункция возвращает словарь переменных из локальной области видимости на\\nмомент вызова функции.', 'SIZE = 10\\n\\ndef func(a, b, c):\\n    x = a + b\\n    print(locals())\\n    z = x + c\\n    return z', 'SIZE = 10\\n\\ndef func(a, b, c):\\n    x = a + b\\n    print(locals())\\n    z = x + c\\n    return z\\nfunc(1, 2, 3)', 'SIZE = 10\\ndef func(a, b, c):\\n    x = a + b\\n    print(globals())\\n    z = x + c\\n    return z\\n\\nprint(globals())\\nprint(func(1, 2, 3))', \"x = 42\\nglob_dict = globals()\\nglob_dict['x'] = 73\\nprint(x)\", 'print(vars(int))', \"data = [25, -42, 146, 73, -100, 12]\\nprint(list(map(str, data)))\\nprint(max(data, key=lambda x: -x))\\nprint(*filter(lambda x: not x[0].startswith('__'),\\nglobals().items()))\", \"data = [25, -42, 146, 73, -100, 12]\\nprint(list(map(str, data)))\\nprint(max(data, key=lambda x: -x))\\nprint(*filter(lambda x: not x[0].startswith('__'), globals().items()))\", 'print(vars(int))', \"x = 42\\nglob_dict = globals()\\nglob_dict['x'] = 73\\nprint(x)\", 'print(vars(int))', 'print(vars(int))', \"data = [25, -42, 146, 73, -100, 12]\\nprint(list(map(str, data)))\\nprint(max(data, key=lambda x: -x))\\nprint(*filter(lambda x: not x[0].startswith('__'), globals().items()))\"], 'Out': {67: 6}, 'get_ipython': <bound method InteractiveShell.get_ipython of <ipykernel.zmqshell.ZMQInteractiveShell object at 0x000002493FD335B0>>, 'exit': <IPython.core.autocall.ZMQExitAutocall object at 0x000002493FC4F400>, 'quit': <IPython.core.autocall.ZMQExitAutocall object at 0x000002493FC4F400>, '_': 6, '__': '', '___': '', '_i': 'print(vars(int))', '_ii': 'print(vars(int))', '_iii': \"x = 42\\nglob_dict = globals()\\nglob_dict['x'] = 73\\nprint(x)\", '_i1': 'def quadratic_equations(a: int | float, b: int | float, c: int | float) -> tuple[float, float] | float | None:\\n    d = b ** 2 - 4 * a * c\\n    if d > 0:\\n        return (-b + d ** 0.5) / (2 * a), (-b - d ** 0.5) / (2 *a)\\n    elif d == 0:\\n        return -b / (2 * a)\\n    else:\\n        return None\\n    \\nprint(quadratic_equations(2, -3, -9))', '_i2': \"def no_mutable(a: int) -> int:\\n    a += 1\\n    print(f'In func {a = }') # Для демонстрации работы, но не\\nдля привычки принтить из функции\\n    return a\\na = 42\\nprint(f'In main {a = }')\\nz = no_mutable(a)\\nprint(f'{a = }\\\\t{z = }')\", '_i3': \"def no_mutable(a: int) -> int:\\n    a += 1\\n    print(f'In func {a = }') # Для демонстрации работы, но не для привычки принтить из функции\\n    return a\\na = 42\\nprint(f'In main {a = }')\\nz = no_mutable(a)\\nprint(f'{a = }\\\\t{z = }')\", 'no_mutable': <function no_mutable at 0x00000249400CD3A0>, 'a': 42, 'z': 44, '_i4': \"def mutable(data: list[int]) -> list[int]:\\n    for i, item in enumerate(data):\\n        data[i] = item + 1\\n    print(f'In func {data = }') # Для демонстрации работы, но не для привычки принтить из функции\\n    return data\\nmy_list = [2, 4, 6, 8]\\nprint(f'In main {my_list = }')\\nnew_list = mutable(my_list)\\nprint(f'{my_list = }\\\\t{new_list = }')\", 'mutable': <function mutable at 0x00000249400F08B0>, 'my_list': [42, 256, 73], 'new_list': [1, 2, 3, 4, 5], '_i5': \"def mutable(data: list[int]) -> list[int]:\\n    for i, item in enumerate(data):\\n        data[i] = item + 1\\n    print(f'In func {data = }') # Для демонстрации работы, но не для привычки принтить из функции\\n    return data\\n\\nmy_list = [2, 4, 6, 8]\\nprint(f'In main {my_list = }')\\nnew_list = mutable(my_list)\\nprint(f'{my_list = }\\\\t{new_list = }')\", '_i6': 'def quadratic_equations(a, b, c):\\n    d = b ** 2 - 4 * a * c\\n    if d > 0:\\n        return (-b + d ** 0.5) / (2 * a), (-b - d ** 0.5) / (2 * a)\\n    if d == 0:\\n        return -b / (2 * a)\\n    return None', 'quadratic_equations': <function quadratic_equations at 0x00000249401C21F0>, '_i7': 'def quadratic_equations(a, b, c):\\n    d = b ** 2 - 4 * a * c\\n    if d > 0:\\n        return (-b + d ** 0.5) / (2 * a), (-b - d ** 0.5) / (2 * a)\\n    if d == 0:\\n        return -b / (2 * a)\\n    return None', '_i8': 'def quadratic_equations(a, b, c):\\n    d = b ** 2 - 4 * a * c\\n    if d > 0:\\n        return (-b + d ** 0.5) / (2 * a), (-b - d ** 0.5) / (2 * a)\\n    if d == 0:\\n        return -b / (2 * a)\\n    return None\\nprint(quadratic_equations(2, -3, -9))', '_i9': \"def no_return(data: list[int]):\\n    for i, item in enumerate(data):\\n    data[i] = item + 1\\n    print(f'In func {data = }') # Для демонстрации работы, но не для привычки принтить из функции\\n    \\nmy_list = [2, 4, 6, 8]\\nprint(f'In main {my_list = }')\\nnew_list = no_return(my_list)\\nprint(f'{my_list = }\\\\t{new_list = }')\", '_i10': \"def no_return(data: list[int]):\\n    for i, item in enumerate(data):\\n        data[i] = item + 1\\n    print(f'In func {data = }') # Для демонстрации работы, но не для привычки принтить из функции\\n    \\nmy_list = [2, 4, 6, 8]\\nprint(f'In main {my_list = }')\\nnew_list = no_return(my_list)\\nprint(f'{my_list = }\\\\t{new_list = }')\", 'no_return': <function no_return at 0x00000249401B4D30>, '_i11': 'def quadratic_equations(a, b=0, c=0):\\n    d = b ** 2 - 4 * a * c\\n    if d > 0:\\n        return (-b + d ** 0.5) / (2 * a), (-b - d ** 0.5) / (2 *a)\\n    if d == 0:\\n        return -b / (2 * a)\\n    \\nprint(quadratic_equations(2, -9))', '_i12': \"def from_one_to_n(n, data=[]):\\n    for i in range(1, n + 1):\\n        data.append(i)\\n    return data\\n\\nnew_list = from_one_to_n(5)\\nprint(f'{new_list = }')\\nother_list = from_one_to_n(7)\\nprint(f'{other_list = }')\", 'from_one_to_n': <function from_one_to_n at 0x00000249401C2280>, 'other_list': [1, 2, 3, 4, 5, 6, 7], '_i13': 'def from_one_to_n(n, data=None):\\n    if data is None:\\n        data = []\\n    for i in range(1, n + 1):\\n        data.append(i)\\n    return data', '_i14': \"def from_one_to_n(n, data=[None]):\\n    for i in range(1, n + 1):\\n        data.append(i)\\n    return data\\n\\nnew_list = from_one_to_n(5)\\nprint(f'{new_list = }')\\nother_list = from_one_to_n(7)\\nprint(f'{other_list = }')\", '_i15': \"def from_one_to_n(n, data=None):\\n    if data is None:\\n        data = []\\n    for i in range(1, n + 1):\\n        data.append(i)\\n    return data\\n\\nnew_list = from_one_to_n(5)\\nprint(f'{new_list = }')\\nother_list = from_one_to_n(7)\\nprint(f'{other_list = }')\", '_i16': 'def func(positional_only_parameters, /, positional_or_keyword_parameters, *, keyword_only_parameters): pass', 'func': <function func at 0x00000249401C2D30>, '_i17': 'def func(positional_only_parameters, /, positional_or_keyword_parameters, *, keyword_only_parameters): pass', '_i18': 'def func(positional_only_parameters, /, positional_or_keyword_parameters, *,\\nkeyword_only_parameters): pass', '_i19': 'def standard_arg(arg):\\n    print(arg) # Принтим для примера, а не для привычки\\n    \\nstandard_arg(42)\\nstandard_arg(arg=42)', 'standard_arg': <function standard_arg at 0x00000249401B4EE0>, '_i20': 'def kwd_only_arg(*, arg):\\n    print(arg) # Принтим для примера, а не для привычки\\n    \\nkwd_only_arg(42)\\nkwd_only_arg(arg=42)', 'kwd_only_arg': <function kwd_only_arg at 0x00000249401C2670>, '_i21': \"def pos_only_arg(arg, /):\\n    print(arg) # Принтим для примера, а не для привычки\\npos_only_arg(42)\\npos_only_arg(arg=42) # TypeError: pos_only_arg() got some positional-only arguments passed as keyword arguments: 'arg'\", 'pos_only_arg': <function pos_only_arg at 0x00000249401B4F70>, '_i22': 'def kwd_only_arg(*, arg):\\n    print(arg) # Принтим для примера, а не для привычки\\n    \\n    kwd_only_arg(42)\\n    kwd_only_arg(arg=42)', '_i23': 'def kwd_only_arg(*, arg):\\n    print(arg) # Принтим для примера, а не для привычки\\n    \\n    kwd_only_arg(42)\\n    kwd_only_arg(arg=42)', '_i24': \"def pos_only_arg(arg, /):\\n    print(arg) # Принтим для примера, а не для привычки\\n    \\npos_only_arg(42)\\n# pos_only_arg(arg=42) # TypeError: pos_only_arg() got some positional-only arguments passed as keyword arguments: 'arg'\", '_i25': 'def kwd_only_arg(*, arg):\\n    print(arg) # Принтим для примера, а не для привычки\\n    \\nkwd_only_arg(42)\\nkwd_only_arg(arg=42)', '_i26': 'def kwd_only_arg(*, arg):\\n    print(arg) # Принтим для примера, а не для привычки\\n    \\n# kwd_only_arg(42)\\nkwd_only_arg(arg=42)', '_i27': \"def combined_example(pos_only, /, standard, *, kwd_only):\\n    print(pos_only, standard, kwd_only) # Принтим для примера, а не для привычки\\n    \\ncombined_example(1, 2, 3) # TypeError: combined_example() takes 2 positional arguments but 3 were given\\ncombined_example(1, 2, kwd_only=3)\\ncombined_example(1, standard=2, kwd_only=3)\\ncombined_example(pos_only=1, standard=2, kwd_only=3) # TypeError: combined_example() got some positional-only arguments passed as keyword arguments: 'pos_only'\", 'combined_example': <function combined_example at 0x00000249401C2700>, '_i28': \"def combined_example(pos_only, /, standard, *, kwd_only):\\n    print(pos_only, standard, kwd_only) # Принтим для примера, а не для привычки\\n    \\n# combined_example(1, 2, 3) # TypeError: combined_example() takes 2 positional arguments but 3 were given\\ncombined_example(1, 2, kwd_only=3)\\ncombined_example(1, standard=2, kwd_only=3)\\ncombined_example(pos_only=1, standard=2, kwd_only=3) # TypeError: combined_example() got some positional-only arguments passed as keyword arguments: 'pos_only'\", '_i29': \"def combined_example(pos_only, /, standard, *, kwd_only):\\n    print(pos_only, standard, kwd_only) # Принтим для примера, а не для привычки\\n    \\n# combined_example(1, 2, 3) # TypeError: combined_example() takes 2 positional arguments but 3 were given\\ncombined_example(1, 2, kwd_only=3)\\ncombined_example(1, standard=2, kwd_only=3)\\n# combined_example(pos_only=1, standard=2, kwd_only=3) # TypeError: combined_example() got some positional-only arguments passed as keyword arguments: 'pos_only'\", '_i30': 'def mean(args):\\n    return sum(args) / len(args)\\nprint(mean([1, 2, 3]))\\nprint(mean(1, 2, 3)) # TypeError: mean() takes 1 positional argument but 3 were given', 'mean': <function mean at 0x00000249401C29D0>, '_i31': 'def mean(args):\\n    return sum(args) / len(args)\\nprint(mean([1, 2, 3]))\\n# print(mean(1, 2, 3)) # TypeError: mean() takes 1 positional argument but 3 were given', '_i32': 'def mean(*args):\\n    return sum(args) / len(args)\\n\\nprint(mean(*[1, 2, 3]))\\nprint(mean(1, 2, 3))', '_i33': 'def school_print(**kwargs):\\n    for key, value in kwargs.items():\\n        print(f\\'По предмету \"{key}\" получена оценка {value}\\')\\n        \\nschool_print(химия=5, физика=4, математика=5, физра=5)', 'school_print': <function school_print at 0x00000249401C2820>, '_i34': \"def func(y: int) -> int:\\n    x = 100\\n    print(f'In func {x = }') # Для демонстрации работы, но не\\nдля привычки принтить из функции\\n    return y + 1\\n\\nx = 42\\nprint(f'In main {x = }')\\nz = func(x)\\nprint(f'{x = }\\\\t{z = }')\", '_i35': \"def func(y: int) -> int:\\n    x = 100\\n    print(f'In func {x = }') # Для демонстрации работы, но не для привычки принтить из функции\\n    return y + 1\\n\\nx = 42\\nprint(f'In main {x = }')\\nz = func(x)\\nprint(f'{x = }\\\\t{z = }')\", 'x': 73, '_i36': \"def func(y: int) -> int:\\n    global x\\n    x += 100\\n    print(f'In func {x = }') # Для демонстрации работы, но не для привычки принтить из функции\\nreturn y + 1\", '_i37': \"def func(y: int) -> int:\\n    global x\\n    x += 100\\n        print(f'In func {x = }') # Для демонстрации работы, но не для привычки принтить из функции\\nreturn y + 1\", '_i38': \"def func(y: int) -> int:\\n    global x\\n    x += 100\\nprint(f'In func {x = }') # Для демонстрации работы, но не для привычки принтить из функции\\nreturn y + 1\", '_i39': \"def func(y: int) -> int:\\n    global x\\n    x += 100\\nprint(f'In func {x = }') # Для демонстрации работы, но не для привычки принтить из функции\\n return y + 1\", '_i40': \"def func(y: int) -> int:\\n    global x\\n    x += 100\\nprint(f'In func {x = }') # Для демонстрации работы, но не для привычки принтить из функции\\n    return y + 1\", '_i41': \"def func(y: int) -> int:\\n    global x\\n    x += 100\\nprint(f'In func {x = }') # Для демонстрации работы, но не для привычки принтить из функции\\nreturn y + 1\", '_i42': \"def func(y: int) -> int:\\n    global x\\n    x += 100\\n    print(f'In func {x = }') # Для демонстрации работы, но не для привычки принтить из функции\\n    return y + 1\\n\\nx = 42\\nprint(f'In main {x = }')\\nz = func(x)\\nprint(f'{x = }\\\\t{z = }')\", '_i43': \"def main(a):\\n    x = 1\\n    def func(y):\\n        nonlocal x\\n        x += 100\\n        print(f'In func {x = }') # Для демонстрации работы, но не для привычки принтить из функции\\n        return y + 1\\n    \\n    return x + func(a)\\nx = 42\\nprint(f'In main {x = }')\\nz = main(x)\\nprint(f'{x = }\\\\t{z = }')\", 'main': <function main at 0x00000249400970D0>, '_i44': 'LIMIT = 1_000\\ndef func(x, y):\\n    result = x ** y % LIMIT\\n    return result\\n\\nprint(func(42, 73))', 'LIMIT': 1000, '_i45': 'def add_two_def(a, b):\\n    return a + b\\n\\nadd_two_lambda = lambda a, b: a + b\\n\\nprint(add_two_def(42, 3.14))\\nprint(add_two_lambda(42, 3.14))', 'add_two_def': <function add_two_def at 0x00000249401C2160>, 'add_two_lambda': <function <lambda> at 0x00000249401C2C10>, '_i46': \"my_dict = {'two': 2, 'one': 1, 'four': 4, 'three': 3, 'ten': 10}\\ns_key = sorted(my_dict.items())\\ns_value = sorted(my_dict.items(), key=lambda x: x[1])\\nprint(f'{s_key = }\\\\n{s_value = }')\", 'my_dict': {'two': 2, 'one': 1, 'four': 4, 'three': 3, 'ten': 10}, 's_key': [('four', 4), ('one', 1), ('ten', 10), ('three', 3), ('two', 2)], 's_value': [('one', 1), ('two', 2), ('three', 3), ('four', 4), ('ten', 10)], '_i47': '####Документирование кода функций', '_i48': 'def max_before_hundred(*args):\\n    \"\"\"Return the maximum number not exceeding 100.\"\"\"\\n    m = float(\\'-inf\\')\\n    for item in args:\\n        if m < item < 100:\\n            m = item\\n    return m\\nprint(max_before_hundred(-42, 73, 256, 0))', 'max_before_hundred': <function max_before_hundred at 0x00000249401C2CA0>, '_i49': 'def func(a=0.0, /, b=0.0, *, c=0.0):\\n    \"\"\"func(a=0.0: int | float, /, b=0.0: int | float, *, c=0.0:\\nint | float) -> : int | float\"\"\"\\n    if a > c:\\n        return a\\n    if a < c:\\n        return c\\n    return\\n\\nprint(func(c=1, b=2, a=3))', '_i50': 'def func(a=0.0, /, b=0.0, *, c=0.0):\\n    \"\"\"func(a=0.0: int | float, /, b=0.0: int | float, *, c=0.0: int | float) -> : int | float\"\"\"\\n    if a > c:\\n        return a\\n    if a < c:\\n        return c\\n    return\\n\\nprint(func(c=1, b=2, a=3))', '_i51': 'names = [\"Иван\", \"Николай\", \"Пётр\"]\\nsalaries = [125_000, 96_000, 109_000]\\nawards = [0.1, 0.25, 0.13, 0.99]\\nfor name, salary, award in zip(names, salaries, awards):\\n    print(f\\'{name} заработал {salary:.2f} денег и премию {salary\\n* award:.2f}\\')', '_i52': 'numbers = [42, -73, 1024]\\nres = tuple(filter(lambda x: x > 0, numbers))\\nprint(res)', 'numbers': [42, -73, 1024], 'res': <map object at 0x00000249400C31F0>, '_i53': 'texts = [\"Привет\", \"ЗДОРОВА\", \"привеТствую\"]\\nres = map(lambda x: x.lower(), texts)\\nprint(*res)', 'texts': ['Привет', 'ЗДОРОВА', 'привеТствую'], '_i54': 'names = [\"Иван\", \"Николай\", \"Пётр\"]\\nsalaries = [125_000, 96_000, 109_000]\\nawards = [0.1, 0.25, 0.13, 0.99]\\nfor name, salary, award in zip(names, salaries, awards):\\n    print(f\\'{name} заработал {salary:.2f} денег и премию {salary * award:.2f}\\')', 'names': ['Иван', 'Николай', 'Пётр'], 'salaries': [125000, 96000, 109000], 'awards': [0.1, 0.25, 0.13, 0.99], 'name': 'Пётр', 'salary': 109000, 'award': 0.13, '_i55': 'lst_1 = []\\nlst_2 = [42, 256, 73]\\nlst_3 = [(\"Иван\", 125_000), (\"Николай\", 96_000), (\"Пётр\",\\n109_000)]\\nprint(max(lst_1, default=\\'empty\\'))\\nprint(max(*lst_2))\\nprint(max(lst_3, key=lambda x: x[1]))', 'lst_1': [], 'lst_2': [42, 256, 73], 'lst_3': [('Иван', 125000), ('Николай', 96000), ('Пётр', 109000)], '_i56': 'lst_1 = []\\nlst_2 = [42, 256, 73]\\nlst_3 = [(\"Иван\", 125_000), (\"Николай\", 96_000), (\"Пётр\",\\n109_000)]\\nprint(min(lst_1, default=\\'empty\\'))\\nprint(min(*lst_2))\\nprint(min(lst_3, key=lambda x: x[1]))', '_i57': 'my_list = [42, 256, 73]\\nprint(sum(my_list))\\nprint(sum(my_list, start=1024))', '_i58': 'def all(iterable):\\n    for element in iterable:\\n        if not element:\\n            return False\\n    return True', 'all': <function all at 0x00000249401C23A0>, '_i59': \"numbers = [42, -73, 1024]\\nif all(map(lambda x: x > 0, numbers)):\\n    print('Все элементы положительные')\\nelse:\\n    print('В последовательности есть отрицательные и/или нулевые элементы')\", '_i60': 'def any(iterable):\\n    for element in iterable:\\n        if element:\\n            return True\\n    return False', 'any': <function any at 0x00000249401C2EE0>, '_i61': 'def any(iterable):\\n    for element in iterable:\\n        if element:\\n            return True\\n    return False', '_i62': \"numbers = [42, -73, 1024]\\nif any(map(lambda x: x > 0, numbers)):\\n    print('Хотя бы один элемент положительный')\\nelse:\\n    print('Все элементы не больше нуля')\", '_i63': 'print(chr(97))\\nprint(chr(1105))\\nprint(chr(128519))', '_i64': \"print(ord('a'))\\nprint(ord('а'))\\nprint(ord('😉'))\", '_i65': '● Функция locals()\\nФункция возвращает словарь переменных из локальной области видимости на\\nмомент вызова функции.', '_i66': 'SIZE = 10\\n\\ndef func(a, b, c):\\n    x = a + b\\n    print(locals())\\n    z = x + c\\n    return z', 'SIZE': 10, '_i67': 'SIZE = 10\\n\\ndef func(a, b, c):\\n    x = a + b\\n    print(locals())\\n    z = x + c\\n    return z\\nfunc(1, 2, 3)', '_67': 6, '_i68': 'SIZE = 10\\ndef func(a, b, c):\\n    x = a + b\\n    print(globals())\\n    z = x + c\\n    return z\\n\\nprint(globals())\\nprint(func(1, 2, 3))', '_i69': \"x = 42\\nglob_dict = globals()\\nglob_dict['x'] = 73\\nprint(x)\", 'glob_dict': {...}, '_i70': 'print(vars(int))', '_i71': \"data = [25, -42, 146, 73, -100, 12]\\nprint(list(map(str, data)))\\nprint(max(data, key=lambda x: -x))\\nprint(*filter(lambda x: not x[0].startswith('__'),\\nglobals().items()))\", 'data': [25, -42, 146, 73, -100, 12], '_i72': \"data = [25, -42, 146, 73, -100, 12]\\nprint(list(map(str, data)))\\nprint(max(data, key=lambda x: -x))\\nprint(*filter(lambda x: not x[0].startswith('__'), globals().items()))\", '_i73': 'print(vars(int))', '_i74': \"x = 42\\nglob_dict = globals()\\nglob_dict['x'] = 73\\nprint(x)\", '_i75': 'print(vars(int))', '_i76': 'print(vars(int))', '_i77': \"data = [25, -42, 146, 73, -100, 12]\\nprint(list(map(str, data)))\\nprint(max(data, key=lambda x: -x))\\nprint(*filter(lambda x: not x[0].startswith('__'), globals().items()))\"}) ('_i70', 'print(vars(int))') ('_i71', \"data = [25, -42, 146, 73, -100, 12]\\nprint(list(map(str, data)))\\nprint(max(data, key=lambda x: -x))\\nprint(*filter(lambda x: not x[0].startswith('__'),\\nglobals().items()))\") ('data', [25, -42, 146, 73, -100, 12]) ('_i72', \"data = [25, -42, 146, 73, -100, 12]\\nprint(list(map(str, data)))\\nprint(max(data, key=lambda x: -x))\\nprint(*filter(lambda x: not x[0].startswith('__'), globals().items()))\") ('_i73', 'print(vars(int))') ('_i74', \"x = 42\\nglob_dict = globals()\\nglob_dict['x'] = 73\\nprint(x)\") ('_i75', 'print(vars(int))') ('_i76', 'print(vars(int))') ('_i77', \"data = [25, -42, 146, 73, -100, 12]\\nprint(list(map(str, data)))\\nprint(max(data, key=lambda x: -x))\\nprint(*filter(lambda x: not x[0].startswith('__'), globals().items()))\")\n"
     ]
    }
   ],
   "source": [
    "data = [25, -42, 146, 73, -100, 12]\n",
    "print(list(map(str, data)))\n",
    "print(max(data, key=lambda x: -x))\n",
    "print(*filter(lambda x: not x[0].startswith('__'), globals().items()))"
   ]
  }
 ],
 "metadata": {
  "kernelspec": {
   "display_name": "Python 3 (ipykernel)",
   "language": "python",
   "name": "python3"
  },
  "language_info": {
   "codemirror_mode": {
    "name": "ipython",
    "version": 3
   },
   "file_extension": ".py",
   "mimetype": "text/x-python",
   "name": "python",
   "nbconvert_exporter": "python",
   "pygments_lexer": "ipython3",
   "version": "3.11.5"
  }
 },
 "nbformat": 4,
 "nbformat_minor": 5
}
