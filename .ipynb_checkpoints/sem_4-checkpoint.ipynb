{
 "cells": [
  {
   "cell_type": "markdown",
   "id": "acb69346",
   "metadata": {},
   "source": [
    "### Задание №1\n",
    "    ✔ Напишите функцию, которая принимает строку текста. Вывести функцией каждое слово с новой строки.\n",
    "    ✔ Строки нумеруются начиная с единицы.\n",
    "    ✔ Слова выводятся отсортированными согласно кодировки Unicode.\n",
    "    ✔ Текст выравнивается по правому краю так, чтобы у самого длинного слова был один пробел между ним и номером строки."
   ]
  },
  {
   "cell_type": "code",
   "execution_count": 23,
   "id": "ad1955e3",
   "metadata": {},
   "outputs": [
    {
     "name": "stdout",
     "output_type": "stream",
     "text": [
      "1     Able\n",
      "2    Hello\n",
      "3 Worldddd\n"
     ]
    }
   ],
   "source": [
    "def my_func_str(f_str):\n",
    "    my_list = sorted(f_str.split())\n",
    "    max_len_word = len(max(my_list))\n",
    "    for i, item in enumerate(my_list, start=1):\n",
    "        print(f'{i:} {item:>{max_len_word}}')\n",
    "    return None\n",
    "\n",
    "\n",
    "my_str = 'Hello Worldddd Able'\n",
    "my_func_str(my_str)"
   ]
  },
  {
   "cell_type": "markdown",
   "id": "1cd00a04",
   "metadata": {},
   "source": [
    "### Задание №2\n",
    "    ✔ Напишите функцию, которая принимает строку текста.\n",
    "    ✔ Сформируйте список с уникальными кодами Unicode каждого символа введённой строки отсортированный по убыванию."
   ]
  },
  {
   "cell_type": "code",
   "execution_count": 24,
   "id": "1c0092c6",
   "metadata": {},
   "outputs": [
    {
     "name": "stdout",
     "output_type": "stream",
     "text": [
      "[32, 72, 87, 100, 101, 108, 111, 114]\n"
     ]
    }
   ],
   "source": [
    "def my_str(string):\n",
    "    string = sorted(set(string))\n",
    "    new_list = []\n",
    "    for i in string:\n",
    "        new_list.append(ord(i))\n",
    "    return new_list\n",
    "\n",
    "print(my_str('Hello World'))"
   ]
  },
  {
   "cell_type": "markdown",
   "id": "f717f07c",
   "metadata": {},
   "source": [
    "### Задание №3\n",
    "    ✔ Функция получает на вход строку из двух чисел через пробел.\n",
    "    ✔ Сформируйте словарь, где ключом будет символ из Unicode, а значением — целое число.\n",
    "    ✔ Диапазон пар ключ-значение от наименьшего из введённых пользователем чисел до наибольшего включительно."
   ]
  },
  {
   "cell_type": "code",
   "execution_count": 26,
   "id": "5758f850",
   "metadata": {},
   "outputs": [
    {
     "name": "stdout",
     "output_type": "stream",
     "text": [
      "{'\\x16': 22, '\\x17': 23, '\\x18': 24, '\\x19': 25, '\\x1a': 26, '\\x1b': 27, '\\x1c': 28, '\\x1d': 29, '\\x1e': 30, '\\x1f': 31, ' ': 32, '!': 33, '\"': 34, '#': 35, '$': 36, '%': 37, '&': 38, \"'\": 39, '(': 40, ')': 41, '*': 42, '+': 43, ',': 44, '-': 45, '.': 46, '/': 47, '0': 48, '1': 49, '2': 50, '3': 51, '4': 52, '5': 53, '6': 54, '7': 55}\n"
     ]
    }
   ],
   "source": [
    "def my_uni(string):\n",
    "    my_dict = {}\n",
    "    string = sorted((string.split()))\n",
    "    for i in range(int(string[0]), int(string[1])+1):\n",
    "        my_dict[chr(int(i))] = i\n",
    "    return(my_dict)\n",
    "\n",
    "\n",
    "print(my_uni('55 22'))"
   ]
  },
  {
   "cell_type": "markdown",
   "id": "94a6c612",
   "metadata": {},
   "source": [
    "### Задание №4\n",
    "    ✔ Функция получает на вход список чисел.\n",
    "    ✔ Отсортируйте его элементы in place без использования встроенных в язык сортировок.\n",
    "    ✔ Как вариант напишите сортировку пузырьком.\n",
    "    Её описание есть в википедии."
   ]
  },
  {
   "cell_type": "code",
   "execution_count": 45,
   "id": "6522e8e7",
   "metadata": {},
   "outputs": [
    {
     "name": "stdout",
     "output_type": "stream",
     "text": [
      "[1, 3, 4, 5, 6, 7, 9]\n"
     ]
    }
   ],
   "source": [
    "def my_sort(my_list):\n",
    "    for i in range(len(my_list)):\n",
    "        for j in range(i+1, len(my_list)):\n",
    "            if my_list[i] > my_list[j]:              # > сортировка по возрастанию\n",
    "                my_list[i] , my_list[j] = my_list[j] , my_list[i]\n",
    "                # temp = my_list[j]\n",
    "                # my_list[j] = my_list[i]\n",
    "                # my_list[i] = temp\n",
    "    return my_list\n",
    "\n",
    "\n",
    "my_list = [1,7,9,5,4,6,3]\n",
    "print(my_sort(my_list))"
   ]
  },
  {
   "cell_type": "code",
   "execution_count": 44,
   "id": "318326cb",
   "metadata": {},
   "outputs": [
    {
     "data": {
      "text/plain": [
       "[9, 7, 6, 5, 4, 3, 1]"
      ]
     },
     "execution_count": 44,
     "metadata": {},
     "output_type": "execute_result"
    }
   ],
   "source": [
    "def my_sort(my_list):\n",
    "    for i in range(len(my_list)):\n",
    "        for j in range(i+1, len(my_list)): \n",
    "            if my_list[i] < my_list[j]:                 #  < сортировка по убыванию\n",
    "                my_list[i], my_list[j], = my_list[j], my_list[i]\n",
    "#                 temp = my_list[j]\n",
    "#                 my_list[j] = my_list [i]\n",
    "#                 my_list [i] = temp\n",
    "    return my_list\n",
    "                    \n",
    "my_list = [1,7,9,5,4,6,3]\n",
    "my_sort(my_list)      "
   ]
  },
  {
   "cell_type": "markdown",
   "id": "1be1b764",
   "metadata": {},
   "source": [
    "### Задание №5\n",
    "    ✔ Функция принимает на вход три списка одинаковой длины:\n",
    "    ✔ имена str,\n",
    "    ✔ ставка int,\n",
    "    ✔ премия str с указанием процентов вида «10.25%».\n",
    "    ✔ Вернуть словарь с именем в качестве ключа и суммой премии в качестве значения.\n",
    "    ✔ Сумма рассчитывается как ставка умноженная на процент премии."
   ]
  },
  {
   "cell_type": "code",
   "execution_count": 7,
   "id": "6deba5c8",
   "metadata": {},
   "outputs": [
    {
     "name": "stdout",
     "output_type": "stream",
     "text": [
      "\n",
      " {'Сергей': 110250.0, 'Дмитрий': 25060.0, 'Стас': 150135.0}\n"
     ]
    }
   ],
   "source": [
    "def clear_str(m_list):\n",
    "    for i in range(len(m_list)):\n",
    "        m_list[i]= float(m_list[i].replace('%',\"\"))\n",
    "    return None\n",
    "\n",
    "def calculate(my_name, my_salary, my_bonus):\n",
    "    new_dic = {}\n",
    "    for name, salary, bonus in zip(my_name, my_salary, my_bonus):\n",
    "        new_dic[name] = round(salary * (1+ bonus/100), 2)\n",
    "    return new_dic\n",
    "\n",
    "\n",
    "names = ['Сергей', 'Дмитрий', 'Стас']\n",
    "salary = [100000, 20000, 30000]\n",
    "bonus = ['10.25%', '25.30%', '400.45%']\n",
    "\n",
    "clear_str(bonus)\n",
    "\n",
    "print('\\n', calculate(names, salary, bonus))"
   ]
  },
  {
   "cell_type": "code",
   "execution_count": null,
   "id": "4fbdbfc2",
   "metadata": {},
   "outputs": [],
   "source": []
  },
  {
   "cell_type": "markdown",
   "id": "dcbaffc8",
   "metadata": {},
   "source": [
    "### Задание №6\n",
    "    ✔ Функция получает на вход список чисел и два индекса.\n",
    "    ✔ Вернуть сумму чисел между между переданными индексами.\n",
    "    ✔ Если индекс выходит за пределы списка, сумма считается до конца и/или начала списка."
   ]
  },
  {
   "cell_type": "code",
   "execution_count": 8,
   "id": "41f86fe6",
   "metadata": {},
   "outputs": [
    {
     "name": "stdout",
     "output_type": "stream",
     "text": [
      "0 -3\n",
      "94\n"
     ]
    }
   ],
   "source": [
    "def check_index(i_1, i_2, num_list):\n",
    "    i_max = max(i_1, i_2) if max(i_1, i_2) < len(num_list) else len(num_list)\n",
    "    i_min = min(i_1, i_2) if min(i_1, i_2) >= 0 else 0\n",
    "    print(i_min, i_max)\n",
    "    result = sum(num_list[i_min:i_max])\n",
    "    return result\n",
    "\n",
    "num_list = [23, 12, 2, 3, 4, 5, 45, 123, 456, 353]\n",
    "index_1 = -3\n",
    "index_2 = -70\n",
    "\n",
    "print(check_index(index_1,index_2, num_list))"
   ]
  },
  {
   "cell_type": "code",
   "execution_count": null,
   "id": "c052209e",
   "metadata": {},
   "outputs": [],
   "source": []
  }
 ],
 "metadata": {
  "kernelspec": {
   "display_name": "Python 3 (ipykernel)",
   "language": "python",
   "name": "python3"
  },
  "language_info": {
   "codemirror_mode": {
    "name": "ipython",
    "version": 3
   },
   "file_extension": ".py",
   "mimetype": "text/x-python",
   "name": "python",
   "nbconvert_exporter": "python",
   "pygments_lexer": "ipython3",
   "version": "3.9.13"
  }
 },
 "nbformat": 4,
 "nbformat_minor": 5
}
