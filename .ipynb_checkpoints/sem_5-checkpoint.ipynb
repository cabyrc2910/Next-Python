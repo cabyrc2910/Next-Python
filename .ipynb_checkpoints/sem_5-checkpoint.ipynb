{
 "cells": [
  {
   "cell_type": "markdown",
   "id": "442df5fe",
   "metadata": {},
   "source": [
    "### Задание №1"
   ]
  },
  {
   "cell_type": "markdown",
   "id": "f3a207f8",
   "metadata": {},
   "source": [
    "    ✔ Пользователь вводит строку из четырёх или более целых чисел, разделённых символом “/”. Сформируйте словарь, где:\n",
    "    ✔второе и третье число являются ключами.\n",
    "    ✔первое число является значением для первого ключа.\n",
    "    ✔четвертое и все возможные последующие числа хранятся в кортеже как значения второго ключа."
   ]
  },
  {
   "cell_type": "code",
   "execution_count": 11,
   "id": "3d6373a3",
   "metadata": {},
   "outputs": [
    {
     "name": "stdout",
     "output_type": "stream",
     "text": [
      "{'34': '12', '56': ('78', '98')}\n"
     ]
    }
   ],
   "source": [
    "my_str = \"12/34/56/78/98\"\n",
    "a, b, c, *d = my_str.split('/')\n",
    "# print(a, b, c, d)\n",
    "my_dic ={}\n",
    "my_dic[b] = a\n",
    "my_dic[c] = tuple(d)\n",
    "print(my_dic)"
   ]
  },
  {
   "cell_type": "markdown",
   "id": "2dff77c5",
   "metadata": {},
   "source": [
    "### Задание №2"
   ]
  },
  {
   "cell_type": "markdown",
   "id": "52f8b2b9",
   "metadata": {},
   "source": [
    "    ✔ Самостоятельно сохраните в переменной строку текста.\n",
    "    ✔ Создайте из строки словарь, где ключ — буква, а значение — код буквы.\n",
    "    ✔ Напишите преобразование в одну строку."
   ]
  },
  {
   "cell_type": "code",
   "execution_count": 22,
   "id": "941dc604",
   "metadata": {},
   "outputs": [
    {
     "name": "stdout",
     "output_type": "stream",
     "text": [
      "{'П': 1055, 'р': 1088, 'о': 1086, 'в': 1074, 'д': 1076, 'и': 1080, 'т': 1090, 'е': 1077, ' ': 32, 'у': 1091, 'к': 1082, ',': 44, 'б': 1073, 'н': 1085, 'а': 1072, 'ы': 1099, 'с': 1089, 'ч': 1095, 'л': 1083, 'з': 1079, 'й': 1081, 'п': 1087, 'ю': 1102, 'ш': 1096, 'г': 1075}\n"
     ]
    }
   ],
   "source": [
    "my_text = 'Проводите уроки, вебинары и встречи, анализируйте поведение людей и улучшайте качество вашего контента'\n",
    "\n",
    "my_dic = {i: ord(i) for i in my_text}\n",
    "\n",
    "# for i in my_text:\n",
    "#     my_dic[i] = ord(my_text)\n",
    "\n",
    "print(my_dic)"
   ]
  },
  {
   "cell_type": "markdown",
   "id": "500bc21e",
   "metadata": {},
   "source": [
    "### Задание №3"
   ]
  },
  {
   "cell_type": "markdown",
   "id": "e6bd2a0b",
   "metadata": {},
   "source": [
    "    ✔ Продолжаем развивать задачу 2.\n",
    "    ✔ Возьмите словарь, который вы получили. Сохраните его итераторатор.\n",
    "    ✔ Далее выведите первые 5 пар ключ-значение, обращаясь к итератору, а не к словарю."
   ]
  },
  {
   "cell_type": "code",
   "execution_count": 23,
   "id": "60a14646",
   "metadata": {
    "scrolled": true
   },
   "outputs": [
    {
     "name": "stdout",
     "output_type": "stream",
     "text": [
      "{'П': 1055, 'р': 1088, 'о': 1086, 'в': 1074, 'д': 1076, 'и': 1080, 'т': 1090, 'е': 1077, ' ': 32, 'у': 1091, 'к': 1082, ',': 44, 'б': 1073, 'н': 1085, 'а': 1072, 'ы': 1099, 'с': 1089, 'ч': 1095, 'л': 1083, 'з': 1079, 'й': 1081, 'п': 1087, 'ю': 1102, 'ш': 1096, 'г': 1075}\n",
      "\n",
      "П 1055\n",
      "р 1088\n",
      "о 1086\n",
      "в 1074\n",
      "д 1076\n"
     ]
    }
   ],
   "source": [
    "my_text = 'Проводите уроки, вебинары и встречи, анализируйте поведение людей и улучшайте качество вашего контента'\n",
    "\n",
    "my_dic = {i: ord(i) for i in my_text}\n",
    "\n",
    "print(my_dic, end = '\\n\\n')\n",
    "\n",
    "my_iter = iter(my_dic.items())\n",
    "\n",
    "for _ in range(0, 5):\n",
    "    print(*next(my_iter))"
   ]
  },
  {
   "cell_type": "markdown",
   "id": "18e76671",
   "metadata": {},
   "source": [
    "### Задание №4"
   ]
  },
  {
   "cell_type": "markdown",
   "id": "aeb8c830",
   "metadata": {},
   "source": [
    "    ✔ Создайте генератор чётных чисел от нуля до 100.\n",
    "    ✔ Из последовательности исключите числа, сумма цифр которых равна 8.\n",
    "    ✔ Решение в одну строку."
   ]
  },
  {
   "cell_type": "code",
   "execution_count": 36,
   "id": "a5eff9b0",
   "metadata": {},
   "outputs": [
    {
     "name": "stdout",
     "output_type": "stream",
     "text": [
      "0 2 4 6 10 12 14 16 18 20 22 24 28 30 32 34 36 38 40 42 46 48 50 52 54 56 58 60 64 66 68 70 72 74 76 78 82 84 86 88 90 92 94 96 98\n"
     ]
    }
   ],
   "source": [
    "my_list = []\n",
    "for i in range(0, 100, 2):\n",
    "    if i % 10 + i // 10 != 8:\n",
    "        my_list.append(i)\n",
    "\n",
    "# print(my_list)\n",
    "\n",
    "my_gena = (i for i in range(0, 100, 2) if i % 10 + i // 10 != 8 )\n",
    "print(*my_gena)"
   ]
  },
  {
   "cell_type": "code",
   "execution_count": 37,
   "id": "efc9e25e",
   "metadata": {},
   "outputs": [
    {
     "name": "stdout",
     "output_type": "stream",
     "text": [
      "0\n",
      "2\n",
      "4\n"
     ]
    }
   ],
   "source": [
    "my_list = []\n",
    "for i in range(0, 100, 2):\n",
    "    if i % 10 + i // 10 != 8:\n",
    "        my_list.append(i)\n",
    "\n",
    "# print(my_list)\n",
    "\n",
    "my_gena = (i for i in range(0, 100, 2) if i % 10 + i // 10 != 8 )\n",
    "print(next(my_gena))\n",
    "print(next(my_gena))\n",
    "print(next(my_gena))"
   ]
  },
  {
   "cell_type": "markdown",
   "id": "b38efda0",
   "metadata": {},
   "source": [
    "### Задание №5"
   ]
  },
  {
   "cell_type": "markdown",
   "id": "c305fbfe",
   "metadata": {},
   "source": [
    "    ✔ Напишите программу, которая выводит на экран числа от 1 до 100.\n",
    "    ✔ При этом вместо чисел, кратных трем, программа должна выводить слово «Fizz»\n",
    "    ✔ Вместо чисел, кратных пяти — слово «Buzz».\n",
    "    ✔ Если число кратно и 3, и 5, то программа должна выводить слово «FizzBuzz».\n",
    "    ✔ *Превратите решение в генераторное выражение."
   ]
  },
  {
   "cell_type": "code",
   "execution_count": 38,
   "id": "01ad49b7",
   "metadata": {
    "scrolled": true
   },
   "outputs": [
    {
     "name": "stdout",
     "output_type": "stream",
     "text": [
      "1\n",
      "2\n",
      "Fizz\n",
      "4\n",
      "Buzz\n",
      "Fizz\n",
      "7\n",
      "8\n",
      "Fizz\n",
      "Buzz\n",
      "11\n",
      "Fizz\n",
      "13\n",
      "14\n",
      "FizzBuzz\n",
      "16\n",
      "17\n",
      "Fizz\n",
      "19\n",
      "Buzz\n",
      "Fizz\n",
      "22\n",
      "23\n",
      "Fizz\n",
      "Buzz\n",
      "26\n",
      "Fizz\n",
      "28\n",
      "29\n",
      "FizzBuzz\n",
      "31\n",
      "32\n",
      "Fizz\n",
      "34\n",
      "Buzz\n",
      "Fizz\n",
      "37\n",
      "38\n",
      "Fizz\n",
      "Buzz\n",
      "41\n",
      "Fizz\n",
      "43\n",
      "44\n",
      "FizzBuzz\n",
      "46\n",
      "47\n",
      "Fizz\n",
      "49\n",
      "Buzz\n",
      "Fizz\n",
      "52\n",
      "53\n",
      "Fizz\n",
      "Buzz\n",
      "56\n",
      "Fizz\n",
      "58\n",
      "59\n",
      "FizzBuzz\n",
      "61\n",
      "62\n",
      "Fizz\n",
      "64\n",
      "Buzz\n",
      "Fizz\n",
      "67\n",
      "68\n",
      "Fizz\n",
      "Buzz\n",
      "71\n",
      "Fizz\n",
      "73\n",
      "74\n",
      "FizzBuzz\n",
      "76\n",
      "77\n",
      "Fizz\n",
      "79\n",
      "Buzz\n",
      "Fizz\n",
      "82\n",
      "83\n",
      "Fizz\n",
      "Buzz\n",
      "86\n",
      "Fizz\n",
      "88\n",
      "89\n",
      "FizzBuzz\n",
      "91\n",
      "92\n",
      "Fizz\n",
      "94\n",
      "Buzz\n",
      "Fizz\n",
      "97\n",
      "98\n",
      "Fizz\n",
      "1 2 Fizz 4 Buzz Fizz 7 8 Fizz Buzz 11 Fizz 13 14 FizzBuzz 16 17 Fizz 19 Buzz Fizz 22 23 Fizz Buzz 26 Fizz 28 29 FizzBuzz 31 32 Fizz 34 Buzz Fizz 37 38 Fizz Buzz 41 Fizz 43 44 FizzBuzz 46 47 Fizz 49 Buzz Fizz 52 53 Fizz Buzz 56 Fizz 58 59 FizzBuzz 61 62 Fizz 64 Buzz Fizz 67 68 Fizz Buzz 71 Fizz 73 74 FizzBuzz 76 77 Fizz 79 Buzz Fizz 82 83 Fizz Buzz 86 Fizz 88 89 FizzBuzz 91 92 Fizz 94 Buzz Fizz 97 98 Fizz\n"
     ]
    }
   ],
   "source": [
    "for i in range(1, 100):\n",
    "    if not i % 3 and not i % 5:\n",
    "        print('FizzBuzz')\n",
    "    elif not i % 3:\n",
    "        print('Fizz')\n",
    "    elif not i % 5:\n",
    "        print('Buzz')\n",
    "    else:\n",
    "        print(i)\n",
    "\n",
    "my_gena = ('FizzBuzz' if not i % 3 and not i % 5 else \n",
    "           'Fizz' if not i % 3 else \n",
    "           'Buzz' if not i % 5 else i for i in range(1, 100) )\n",
    "# my_gena = (item for i in range(1, 100))\n",
    "print(*my_gena)"
   ]
  },
  {
   "cell_type": "markdown",
   "id": "bc808f78",
   "metadata": {},
   "source": [
    "### Задание №6"
   ]
  },
  {
   "cell_type": "markdown",
   "id": "01fe7e6d",
   "metadata": {},
   "source": [
    "    ✔ Выведите в консоль таблицу умножения от 2х2 до 9х10 как на школьной тетрадке.\n",
    "    ✔ Таблицу создайте в виде однострочного генератора, где каждый элемент генератора — отдельный пример таблицы умножения.\n",
    "    ✔ Для вывода результата используйте «принт» без перехода на новую строку."
   ]
  },
  {
   "cell_type": "code",
   "execution_count": 50,
   "id": "8eaf2437",
   "metadata": {
    "scrolled": true
   },
   "outputs": [
    {
     "name": "stdout",
     "output_type": "stream",
     "text": [
      "2 *  2 =  4\t\t3 *  2 =  6\t\t4 *  2 =  8\t\t5 *  2 = 10\n",
      "2 *  3 =  6\t\t3 *  3 =  9\t\t4 *  3 = 12\t\t5 *  3 = 15\n",
      "2 *  4 =  8\t\t3 *  4 = 12\t\t4 *  4 = 16\t\t5 *  4 = 20\n",
      "2 *  5 = 10\t\t3 *  5 = 15\t\t4 *  5 = 20\t\t5 *  5 = 25\n",
      "2 *  6 = 12\t\t3 *  6 = 18\t\t4 *  6 = 24\t\t5 *  6 = 30\n",
      "2 *  7 = 14\t\t3 *  7 = 21\t\t4 *  7 = 28\t\t5 *  7 = 35\n",
      "2 *  8 = 16\t\t3 *  8 = 24\t\t4 *  8 = 32\t\t5 *  8 = 40\n",
      "2 *  9 = 18\t\t3 *  9 = 27\t\t4 *  9 = 36\t\t5 *  9 = 45\n",
      "2 * 10 = 20\t\t3 * 10 = 30\t\t4 * 10 = 40\t\t5 * 10 = 50\n",
      "\n",
      "6 *  2 = 12\t\t7 *  2 = 14\t\t8 *  2 = 16\t\t9 *  2 = 18\n",
      "6 *  3 = 18\t\t7 *  3 = 21\t\t8 *  3 = 24\t\t9 *  3 = 27\n",
      "6 *  4 = 24\t\t7 *  4 = 28\t\t8 *  4 = 32\t\t9 *  4 = 36\n",
      "6 *  5 = 30\t\t7 *  5 = 35\t\t8 *  5 = 40\t\t9 *  5 = 45\n",
      "6 *  6 = 36\t\t7 *  6 = 42\t\t8 *  6 = 48\t\t9 *  6 = 54\n",
      "6 *  7 = 42\t\t7 *  7 = 49\t\t8 *  7 = 56\t\t9 *  7 = 63\n",
      "6 *  8 = 48\t\t7 *  8 = 56\t\t8 *  8 = 64\t\t9 *  8 = 72\n",
      "6 *  9 = 54\t\t7 *  9 = 63\t\t8 *  9 = 72\t\t9 *  9 = 81\n",
      "6 * 10 = 60\t\t7 * 10 = 70\t\t8 * 10 = 80\t\t9 * 10 = 90\n",
      "\n"
     ]
    },
    {
     "data": {
      "text/plain": [
       "[[None, None, None, None],\n",
       " [None, None, None, None],\n",
       " [None, None, None, None],\n",
       " [None, None, None, None],\n",
       " [None, None, None, None],\n",
       " [None, None, None, None],\n",
       " [None, None, None, None],\n",
       " [None, None, None, None],\n",
       " [None, None, None, None],\n",
       " [None, None, None, None],\n",
       " [None, None, None, None],\n",
       " [None, None, None, None],\n",
       " [None, None, None, None],\n",
       " [None, None, None, None],\n",
       " [None, None, None, None],\n",
       " [None, None, None, None],\n",
       " [None, None, None, None],\n",
       " [None, None, None, None]]"
      ]
     },
     "execution_count": 50,
     "metadata": {},
     "output_type": "execute_result"
    }
   ],
   "source": [
    "min_num = 2\n",
    "max_num = 10\n",
    "column = 4\n",
    "\n",
    "[[print(f'{k:>} * {j:>2} = {k * j:>2}\\n\\n', end='') if (j == max_num and k == i + column - 1)  # noqa\n",
    "  else print(f'{k:>} * {j:>2} = {k * j:>2}\\n', end='') if k == i + column - 1\n",
    "  else print(f'{k:>} * {j:>2} = {k * j:>2}\\t\\t', end='') for k in range(i, i + column)]  # noqa\n",
    " for i in range(min_num, max_num, column) for j in range(min_num, max_num + 1)]"
   ]
  },
  {
   "cell_type": "markdown",
   "id": "c192915f",
   "metadata": {},
   "source": [
    "### Задание №7"
   ]
  },
  {
   "cell_type": "markdown",
   "id": "1a7cb4ea",
   "metadata": {},
   "source": [
    "    ✔ Создайте функцию-генератор.\n",
    "    ✔ Функция генерирует N простых чисел, начиная с числа 2.\n",
    "    ✔ Для проверки числа на простоту используйте правило: «число является простым, если делится нацело только на единицу и на себя»."
   ]
  },
  {
   "cell_type": "code",
   "execution_count": 55,
   "id": "2cf5b568",
   "metadata": {},
   "outputs": [
    {
     "name": "stdout",
     "output_type": "stream",
     "text": [
      "\n",
      " вариант вывода 1\n",
      "2 3 5 7 11 13 17 19 23 29 31 37 41 43 47 53 59 61 67 71 73 79 83 89 97\n",
      "\n",
      " вариант вывода 2\n",
      "2 3 5 7 11 13 17 19 23 29 31 37 41 43 47 53 59 61 67 71 73 79 83 89 97 "
     ]
    }
   ],
   "source": [
    "def func_gena(n):\n",
    "    yield 2\n",
    "    for i in range(3, n, 2):\n",
    "        for j in range(2, i):\n",
    "            if not i % j:\n",
    "                break\n",
    "        else:\n",
    "            yield i\n",
    "            \n",
    "N = 100\n",
    "print('\\n вариант вывода 1')\n",
    "print(*func_gena(N))\n",
    "\n",
    "print('\\n вариант вывода 2')\n",
    "for num in func_gena(N):\n",
    "    print(num, end=' ')\n",
    "\n",
    "# for num in func_gena(n):\n",
    "#     print(num)"
   ]
  },
  {
   "cell_type": "code",
   "execution_count": 51,
   "id": "666709a1",
   "metadata": {},
   "outputs": [
    {
     "name": "stdout",
     "output_type": "stream",
     "text": [
      "('C:/Users/Иван\\\\Desktop/GeekBrains/16. Next-Python', 'ДЗ_5', '.ipynb')\n"
     ]
    }
   ],
   "source": [
    "def split_file_path(absolute_path):\n",
    "    # Разделяем путь на компоненты, разделяя строку по символу '/'\n",
    "    parts = absolute_path.split('/')\n",
    "    \n",
    "    # Последний элемент в разделенной строке - это имя файла с расширением\n",
    "    filename_with_extension = parts[-1]\n",
    "    \n",
    "    # Разделяем имя файла и его расширение, разделяя строку по символу '.'\n",
    "    name_parts = filename_with_extension.split('.')\n",
    "    \n",
    "    # Если есть более одной точки в имени файла, то берем последний элемент как расширение\n",
    "    if len(name_parts) > 1:\n",
    "        extension = '.' + name_parts[-1]\n",
    "        name = '.'.join(name_parts[:-1])\n",
    "    else:\n",
    "        extension = ''\n",
    "        name = filename_with_extension\n",
    "    \n",
    "    # Объединяем оставшиеся части пути в строку\n",
    "    path = '/'.join(parts[:-1])\n",
    "    \n",
    "    return (path, name, extension)\n",
    "\n",
    "# Пример использования функции\n",
    "absolute_path = \"C:/Users/Иван\\Desktop/GeekBrains/16. Next-Python/ДЗ_5.ipynb\"\n",
    "result = split_file_path(absolute_path)\n",
    "print(result)"
   ]
  },
  {
   "cell_type": "code",
   "execution_count": 52,
   "id": "fdef2e45",
   "metadata": {},
   "outputs": [
    {
     "name": "stdout",
     "output_type": "stream",
     "text": [
      "{'Andi': 1102.5, 'Don': 2309.0, 'Any': 3543.6}\n",
      "{'Andi': 1102.5, 'Don': 2309.0, 'Any': 3543.6}\n"
     ]
    }
   ],
   "source": [
    "names = [\"Andi\", \"Don\", \"Any\"]\n",
    "salary = [1000, 2000, 3000]\n",
    "bonus = [\"10.25%\", \"15.45%\", \"18.12%\"]\n",
    "\n",
    "\n",
    "print(dict(zip(names, (a+(a*b/100) for a, b in zip(salary, (float(i.replace(\"%\", \"\")) for i in bonus))))))\n",
    "print({n: round(s * (1 + float(b.replace('%', '')) / 100), 2) for n, s, b in zip(names, salary, bonus)})"
   ]
  },
  {
   "cell_type": "code",
   "execution_count": 53,
   "id": "696f58c6",
   "metadata": {},
   "outputs": [
    {
     "name": "stdout",
     "output_type": "stream",
     "text": [
      "Введите число: 7\n",
      "0\n",
      "1\n",
      "1\n",
      "2\n",
      "3\n",
      "5\n"
     ]
    }
   ],
   "source": [
    "def fibonacci_gen():\n",
    "    a, b = 0, 1\n",
    "    while True:\n",
    "        yield a\n",
    "        a, b = b, a + b\n",
    "\n",
    "\n",
    "fib = fibonacci_gen()\n",
    "\n",
    "userNumber = int(input('Введите число: '))\n",
    "for i in range(1, userNumber):\n",
    "# for i in range(7):\n",
    "    print(next(fib))"
   ]
  }
 ],
 "metadata": {
  "kernelspec": {
   "display_name": "Python 3 (ipykernel)",
   "language": "python",
   "name": "python3"
  },
  "language_info": {
   "codemirror_mode": {
    "name": "ipython",
    "version": 3
   },
   "file_extension": ".py",
   "mimetype": "text/x-python",
   "name": "python",
   "nbconvert_exporter": "python",
   "pygments_lexer": "ipython3",
   "version": "3.9.13"
  }
 },
 "nbformat": 4,
 "nbformat_minor": 5
}
