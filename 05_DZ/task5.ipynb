{
 "cells": [
  {
   "cell_type": "markdown",
   "id": "b568997e",
   "metadata": {},
   "source": [
    "## Задание"
   ]
  },
  {
   "cell_type": "markdown",
   "id": "f65dcfcd",
   "metadata": {},
   "source": [
    "##### ✔ Решить задачи, которые не успели решить на семинаре."
   ]
  },
  {
   "cell_type": "markdown",
   "id": "b73b7407",
   "metadata": {},
   "source": [
    "### Задание №6"
   ]
  },
  {
   "cell_type": "markdown",
   "id": "2ae3fde5",
   "metadata": {},
   "source": [
    "    ✔ Выведите в консоль таблицу умножения от 2х2 до 9х10 как на школьной тетрадке.\n",
    "    ✔ Таблицу создайте в виде однострочного генератора, где каждый элемент генератора — отдельный пример таблицы умножения.\n",
    "    ✔ Для вывода результата используйте «принт» без перехода на новую строку."
   ]
  },
  {
   "cell_type": "code",
   "execution_count": 91,
   "id": "f44b3f8d",
   "metadata": {
    "scrolled": true
   },
   "outputs": [
    {
     "name": "stdout",
     "output_type": "stream",
     "text": [
      "   \t2 X 2 = 4    \t3 X 2 = 6    \t4 X 2 = 8   \t5 X 2 = 10\n",
      "    \t2 X 3 = 6    \t3 X 3 = 9   \t4 X 3 = 12   \t5 X 3 = 15\n",
      "    \t2 X 4 = 8   \t3 X 4 = 12   \t4 X 4 = 16   \t5 X 4 = 20\n",
      "   \t2 X 5 = 10   \t3 X 5 = 15   \t4 X 5 = 20   \t5 X 5 = 25\n",
      "   \t2 X 6 = 12   \t3 X 6 = 18   \t4 X 6 = 24   \t5 X 6 = 30\n",
      "   \t2 X 7 = 14   \t3 X 7 = 21   \t4 X 7 = 28   \t5 X 7 = 35\n",
      "   \t2 X 8 = 16   \t3 X 8 = 24   \t4 X 8 = 32   \t5 X 8 = 40\n",
      "   \t2 X 9 = 18   \t3 X 9 = 27   \t4 X 9 = 36   \t5 X 9 = 45\n",
      "  \t2 X 10 = 20  \t3 X 10 = 30  \t4 X 10 = 40  \t5 X 10 = 50\n",
      "\n",
      "   \t6 X 2 = 12   \t7 X 2 = 14   \t8 X 2 = 16   \t9 X 2 = 18\n",
      "   \t6 X 3 = 18   \t7 X 3 = 21   \t8 X 3 = 24   \t9 X 3 = 27\n",
      "   \t6 X 4 = 24   \t7 X 4 = 28   \t8 X 4 = 32   \t9 X 4 = 36\n",
      "   \t6 X 5 = 30   \t7 X 5 = 35   \t8 X 5 = 40   \t9 X 5 = 45\n",
      "   \t6 X 6 = 36   \t7 X 6 = 42   \t8 X 6 = 48   \t9 X 6 = 54\n",
      "   \t6 X 7 = 42   \t7 X 7 = 49   \t8 X 7 = 56   \t9 X 7 = 63\n",
      "   \t6 X 8 = 48   \t7 X 8 = 56   \t8 X 8 = 64   \t9 X 8 = 72\n",
      "   \t6 X 9 = 54   \t7 X 9 = 63   \t8 X 9 = 72   \t9 X 9 = 81\n",
      "  \t6 X 10 = 60  \t7 X 10 = 70  \t8 X 10 = 80  \t9 X 10 = 90\n"
     ]
    }
   ],
   "source": [
    "gena = (f\"\\t{j} X {i} = {j*i}\".rjust(13)+\"\\n\\n\" if j*i == 50 else f\"\\t{j} X {i} = {j*i}\".rjust(13)+\"\\\n",
    "\\n\" if j==5+k else f\"\\t{j} X {i} = {j*i}\".rjust(13) for k in range(0, 5, 4) for i in range(2, 11) for j in range(2+k, 6+k))\n",
    "print(*gena, end=\"\")"
   ]
  },
  {
   "cell_type": "markdown",
   "id": "9895ff2d",
   "metadata": {},
   "source": [
    "### ✔ Напишите функцию, \n",
    "    которая принимает на вход строку — абсолютный путь до файла. Функция возвращает кортеж из трёх элементов: путь, имя файла, расширение файла."
   ]
  },
  {
   "cell_type": "code",
   "execution_count": 14,
   "id": "f7be06d2",
   "metadata": {},
   "outputs": [
    {
     "name": "stdout",
     "output_type": "stream",
     "text": [
      "('C:/Users/Иван\\\\Desktop/GeekBrains/16. Next-Python', 'ДЗ_5', '.ipynb')\n"
     ]
    }
   ],
   "source": [
    "import os\n",
    "\n",
    "\n",
    "def split_path(path):\n",
    "    filename, file_extension = os.path.splitext(path)\n",
    "    path, filename = os.path.split(filename)\n",
    "    return path, filename, file_extension\n",
    "\n",
    "\n",
    "path = r'C:/Users/Иван\\Desktop/GeekBrains/16. Next-Python/ДЗ_5.ipynb'  # noqa\n",
    "print(split_path(path))"
   ]
  },
  {
   "cell_type": "markdown",
   "id": "7c87acfd",
   "metadata": {},
   "source": [
    "### ✔ Напишите однострочный генератор словаря, \n",
    "    который принимает на вход три списка одинаковой длины: имена str, ставка int, премия str с указанием процентов вида «10.25%». \n",
    "    В результате получаем словарь с именем в качестве ключа и суммой премии в качестве значения. \n",
    "    Сумма рассчитывается как ставка умноженная на процент премии"
   ]
  },
  {
   "cell_type": "code",
   "execution_count": 28,
   "id": "e7860eee",
   "metadata": {},
   "outputs": [
    {
     "name": "stdout",
     "output_type": "stream",
     "text": [
      "{'Andi': 1102.5, 'Don': 2309.0, 'Any': 3543.6}\n"
     ]
    }
   ],
   "source": [
    "names = [\"Andi\", \"Don\", \"Any\"]\n",
    "salary = [1000, 2000, 3000]\n",
    "bonus = [\"10.25%\", \"15.45%\", \"18.12%\"]\n",
    "\n",
    "print({n: round(s * (1 + float(b.replace('%', '')) / 100), 2) for n, s, b in zip(names, salary, bonus)})"
   ]
  },
  {
   "cell_type": "markdown",
   "id": "3a4c1449",
   "metadata": {},
   "source": [
    "### ✔ Создайте функцию генератор чисел Фибоначчи\n",
    "    (см. Википедию)."
   ]
  },
  {
   "cell_type": "code",
   "execution_count": 93,
   "id": "b3021b20",
   "metadata": {},
   "outputs": [
    {
     "name": "stdout",
     "output_type": "stream",
     "text": [
      "Введите число: 7\n",
      "[0, 1, 1, 2, 3, 5, 8]\n"
     ]
    }
   ],
   "source": [
    "def Fibonacci(n):\n",
    "    if n in [1, 2]:                       \n",
    "        return 1\n",
    "    else:\n",
    "        return Fibonacci(n-1) + Fibonacci(n-2)\n",
    "\n",
    "list = [0]\n",
    "userNumber = int(input('Введите число: '))\n",
    "for i in range(1, userNumber):\n",
    "    list.append(Fibonacci(i))\n",
    "    \n",
    "print(list)"
   ]
  },
  {
   "cell_type": "code",
   "execution_count": null,
   "id": "f9bc621f",
   "metadata": {},
   "outputs": [],
   "source": []
  }
 ],
 "metadata": {
  "kernelspec": {
   "display_name": "Python 3 (ipykernel)",
   "language": "python",
   "name": "python3"
  },
  "language_info": {
   "codemirror_mode": {
    "name": "ipython",
    "version": 3
   },
   "file_extension": ".py",
   "mimetype": "text/x-python",
   "name": "python",
   "nbconvert_exporter": "python",
   "pygments_lexer": "ipython3",
   "version": "3.9.13"
  }
 },
 "nbformat": 4,
 "nbformat_minor": 5
}
