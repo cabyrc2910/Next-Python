{
 "cells": [
  {
   "cell_type": "raw",
   "id": "c233d170",
   "metadata": {},
   "source": [
    "Задание №7\n",
    "📌 Пользователь вводит число от 1 до 999. Используя операции с числами\n",
    "сообщите что введено: цифра, двузначное число или трёхзначное число.\n",
    "📌 Для цифры верните её квадрат, например 5 - 25\n",
    "📌 Для двузначного числа произведение цифр, например 30 - 0\n",
    "📌 Для трёхзначного числа его зеркальное отображение, например 520 - 25\n",
    "📌 Если число не из диапазона, запросите новое число\n",
    "📌 Откажитесь от магических чисел\n",
    "📌 В коде должны быть один input и один print"
   ]
  },
  {
   "cell_type": "code",
   "execution_count": 2,
   "id": "fd5d436f",
   "metadata": {},
   "outputs": [
    {
     "name": "stdout",
     "output_type": "stream",
     "text": [
      "Введите целое число от 1 до 999: 678\n",
      "3. Зеркальное отражение трехзначного числа 678 равно 876\n"
     ]
    }
   ],
   "source": [
    "circle = True\n",
    "while(circle):\n",
    "    number = int(input(\"Введите целое число от 1 до 999: \"))\n",
    "    if 0 < number < 10:\n",
    "        result = f\"1. Квадрат однозначного числа {number} равен {number**2}\"\n",
    "        circle = False\n",
    "    elif 10< number < 100:\n",
    "        digit_1 = number//10\n",
    "        digit_2 = number-number//10*10\n",
    "        result = f\"2. Произведение цифр двухзначного числа {number} равно {digit_1 * digit_2}\"\n",
    "        circle = False\n",
    "    elif 100 < number < 1000:\n",
    "        digit_1 = number//100\n",
    "        digit_2 = (number-number//100*100)//10\n",
    "        digit_3 = (number-number//100*100)%10\n",
    "        result = f\"3. Зеркальное отражение трехзначного числа {number} равно {digit_3}{digit_2}{digit_1}\"\n",
    "        circle = False\n",
    "    else:\n",
    "        circle = True\n",
    "print (result)"
   ]
  },
  {
   "cell_type": "raw",
   "id": "759c9f80",
   "metadata": {},
   "source": [
    "Задание №8\n",
    "📌 Нарисовать в консоли ёлку спросив\n",
    "у пользователя количество рядов.\n",
    "📌 Пример результата:\n",
    "    Сколько рядов у ёлки? 5\n",
    "    *\n",
    "   ***\n",
    "  *****\n",
    " *******\n",
    "*********"
   ]
  },
  {
   "cell_type": "code",
   "execution_count": 42,
   "id": "fa5dd36b",
   "metadata": {},
   "outputs": [
    {
     "name": "stdout",
     "output_type": "stream",
     "text": [
      "Сколько рядов у ёлки ?: 5\n",
      "    *\n",
      "   ***\n",
      "  *****\n",
      " *******\n",
      "*********\n"
     ]
    }
   ],
   "source": [
    "rows = int(input(\"Сколько рядов у ёлки ?: \"))\n",
    "for i in range(1, rows + 1):\n",
    "    for j in range(rows - i):\n",
    "        print(\" \", end = \"\")\n",
    "    for k in range(1, i * 2):\n",
    "        print(\"*\", end = \"\")\n",
    "    print()"
   ]
  },
  {
   "cell_type": "raw",
   "id": "da40960a",
   "metadata": {},
   "source": [
    "Задание №9\n",
    "📌 Выведите в консоль таблицу умножения от 2х2 до 9х10 как на школьной тетрадке."
   ]
  },
  {
   "cell_type": "code",
   "execution_count": 40,
   "id": "d41c3985",
   "metadata": {},
   "outputs": [
    {
     "name": "stdout",
     "output_type": "stream",
     "text": [
      "2 X 2 = 4\t\t3 X 2 = 6\t\t4 X 2 = 8\t\t5 X 2 = 10\t\t\n",
      "2 X 3 = 6\t\t3 X 3 = 9\t\t4 X 3 = 12\t\t5 X 3 = 15\t\t\n",
      "2 X 4 = 8\t\t3 X 4 = 12\t\t4 X 4 = 16\t\t5 X 4 = 20\t\t\n",
      "2 X 5 = 10\t\t3 X 5 = 15\t\t4 X 5 = 20\t\t5 X 5 = 25\t\t\n",
      "2 X 6 = 12\t\t3 X 6 = 18\t\t4 X 6 = 24\t\t5 X 6 = 30\t\t\n",
      "2 X 7 = 14\t\t3 X 7 = 21\t\t4 X 7 = 28\t\t5 X 7 = 35\t\t\n",
      "2 X 8 = 16\t\t3 X 8 = 24\t\t4 X 8 = 32\t\t5 X 8 = 40\t\t\n",
      "2 X 9 = 18\t\t3 X 9 = 27\t\t4 X 9 = 36\t\t5 X 9 = 45\t\t\n",
      "2 X 10 = 20\t\t3 X 10 = 30\t\t4 X 10 = 40\t\t5 X 10 = 50\t\t\n",
      "\n",
      "6 X 2 = 12\t\t7 X 2 = 14\t\t8 X 2 = 16\t\t9 X 2 = 18\t\t\n",
      "6 X 3 = 18\t\t7 X 3 = 21\t\t8 X 3 = 24\t\t9 X 3 = 27\t\t\n",
      "6 X 4 = 24\t\t7 X 4 = 28\t\t8 X 4 = 32\t\t9 X 4 = 36\t\t\n",
      "6 X 5 = 30\t\t7 X 5 = 35\t\t8 X 5 = 40\t\t9 X 5 = 45\t\t\n",
      "6 X 6 = 36\t\t7 X 6 = 42\t\t8 X 6 = 48\t\t9 X 6 = 54\t\t\n",
      "6 X 7 = 42\t\t7 X 7 = 49\t\t8 X 7 = 56\t\t9 X 7 = 63\t\t\n",
      "6 X 8 = 48\t\t7 X 8 = 56\t\t8 X 8 = 64\t\t9 X 8 = 72\t\t\n",
      "6 X 9 = 54\t\t7 X 9 = 63\t\t8 X 9 = 72\t\t9 X 9 = 81\t\t\n",
      "6 X 10 = 60\t\t7 X 10 = 70\t\t8 X 10 = 80\t\t9 X 10 = 90\t\t\n",
      "\n"
     ]
    }
   ],
   "source": [
    "for k in range(0, 5 , 4):\n",
    "    for i in range(2, 11):\n",
    "        for j in range(2+k, 6+k):\n",
    "            print(f\"{j} X {i} = {(j)*i}\", end=\"\\t\\t\")\n",
    "            if j==5+k: print()\n",
    "    print()"
   ]
  },
  {
   "cell_type": "raw",
   "id": "73f34708",
   "metadata": {},
   "source": [
    "Задание 1\n",
    "Треугольник существует только тогда, когда сумма любых двух его сторон больше третьей. \n",
    "Дано a, b, c - стороны предполагаемого треугольника. \n",
    "Требуется сравнить длину каждого отрезка-стороны с суммой двух других. \n",
    "Если хотя бы в одном случае отрезок окажется больше суммы двух других, \n",
    "то треугольника с такими сторонами не существует. \n",
    "Отдельно сообщить является ли треугольник разносторонним, равнобедренным или равносторонним."
   ]
  },
  {
   "cell_type": "code",
   "execution_count": 34,
   "id": "40b01ab2",
   "metadata": {},
   "outputs": [
    {
     "name": "stdout",
     "output_type": "stream",
     "text": [
      "Введите длину первой стороны: 2\n",
      "Введите длину второй стороны: 5\n",
      "Введите длину третьей стороны: 4\n",
      "Разносторонний\n"
     ]
    }
   ],
   "source": [
    "a = float(input(\"Введите длину первой стороны: \"))\n",
    "b = float(input(\"Введите длину второй стороны: \"))\n",
    "c = float(input(\"Введите длину третьей стороны: \"))\n",
    "\n",
    "if a > b + c  or b > a + c or c > b + a:\n",
    "    print(\"Треугольник с такими сторонами не существует\")\n",
    "elif a == b == c:\n",
    "    print(\"Равносторонний\")\n",
    "elif a == b or a == c or b == c:\n",
    "    print(\"Равнобедренный\")\n",
    "else:\n",
    "    print (\"Разносторонний\")  "
   ]
  },
  {
   "cell_type": "raw",
   "id": "9285b457",
   "metadata": {},
   "source": [
    "Задание 2\n",
    "Напишите код, который запрашивает число и сообщает является ли оно простым или составным. \n",
    "Используйте правило для проверки: “Число является простым, если делится нацело только на единицу и на себя”. \n",
    "Сделайте ограничение на ввод отрицательных чисел и чисел больше 100 тысяч."
   ]
  },
  {
   "cell_type": "code",
   "execution_count": 3,
   "id": "ae7c1820",
   "metadata": {},
   "outputs": [
    {
     "name": "stdout",
     "output_type": "stream",
     "text": [
      "Введите положительное число от 0 до 100_000: 4\n",
      "Составное число\n"
     ]
    }
   ],
   "source": [
    "def composite(number: int):\n",
    "    if number & 1 == 0:\n",
    "        return number == 2\n",
    "    step = 3\n",
    "    while step * step <= number and number % step != 0:\n",
    "        step += 2\n",
    "    return step * step > number\n",
    "\n",
    "number: int = -1\n",
    "while number < 0 or number > 100_000:\n",
    "    number = int(input(\"Введите положительное число от 0 до 100_000: \"))\n",
    "print([\"Составное число\", \"Простое число\"][composite(number)])"
   ]
  },
  {
   "cell_type": "raw",
   "id": "1ad35c9f",
   "metadata": {},
   "source": [
    "Задание 3\n",
    "Программа загадывает число от 0 до 1000. Необходимо угадать число за 10 попыток. Программа\n",
    "должна подсказывать «больше» или «меньше» после каждой попытки. Для генерации случайного числа используйте код:\n",
    "\n",
    "from random import randint\n",
    "# num = randint(LOWER_LIMIT, UPPER_LIMIT)"
   ]
  },
  {
   "cell_type": "code",
   "execution_count": 45,
   "id": "a57232bf",
   "metadata": {},
   "outputs": [
    {
     "name": "stdout",
     "output_type": "stream",
     "text": [
      "Угадайте число от 0 до 1000 за 10 попыток!\n",
      "Число: 500\n",
      "Меньше\n",
      "Число: 250\n",
      "Меньше\n",
      "Число: 125\n",
      "Меньше\n",
      "Число: 70\n",
      "Меньше\n",
      "Число: 30\n",
      "Больше\n",
      "Число: 50\n",
      "Меньше\n",
      "Число: 40\n",
      "Меньше\n",
      "Число: 35\n",
      "Угадали!\n"
     ]
    }
   ],
   "source": [
    "from random import randint\n",
    "\n",
    "LOWER_LIMIT = 0\n",
    "UPPER_LIMIT = 1000\n",
    "num = randint(LOWER_LIMIT, UPPER_LIMIT)\n",
    "print(\"Угадайте число от 0 до 1000 за 10 попыток!\")\n",
    "search_num = -1\n",
    "count = 10\n",
    "while search_num != num:\n",
    "    search_num = int(input(\"Число: \"))\n",
    "    print([[\"Меньше\", \"Больше\"][search_num < num], \"Угадали!\"][search_num == num])\n",
    "    count -= 1\n",
    "    if count == 0:\n",
    "        print(\"Попыток больше нет\")\n",
    "        break"
   ]
  }
 ],
 "metadata": {
  "kernelspec": {
   "display_name": "Python 3 (ipykernel)",
   "language": "python",
   "name": "python3"
  },
  "language_info": {
   "codemirror_mode": {
    "name": "ipython",
    "version": 3
   },
   "file_extension": ".py",
   "mimetype": "text/x-python",
   "name": "python",
   "nbconvert_exporter": "python",
   "pygments_lexer": "ipython3",
   "version": "3.9.13"
  }
 },
 "nbformat": 4,
 "nbformat_minor": 5
}
