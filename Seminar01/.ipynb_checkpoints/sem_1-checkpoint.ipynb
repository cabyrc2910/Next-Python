{
 "cells": [
  {
   "cell_type": "raw",
   "metadata": {},
   "source": [
    "Задание №2\n",
    "📌 Работаем в командной строке (терминале ОС)\n",
    "📌 Создайте каталог для проекта first_project и разверните\n",
    "виртуальное окружение Python в папке venv внутри каталога\n",
    "📌 Создайте третий каталог проекта project_new и разверните\n",
    "виртуальное окружение Python в папке venv_new внутри каталога\n",
    "📌 Для каждого проекта последовательно активируйте\n",
    "и деактивируйте виртуальное окружение"
   ]
  },
  {
   "cell_type": "markdown",
   "metadata": {},
   "source": [
    "Открываем командную строку клавишами Win+R, команда cd"
   ]
  },
  {
   "cell_type": "raw",
   "metadata": {},
   "source": [
    " mkdir first_project       📌Создаём 1 каталог для проекта, first_project"
   ]
  },
  {
   "cell_type": "raw",
   "metadata": {},
   "source": [
    "cd first_project                  Переходим в каталог first_project"
   ]
  },
  {
   "cell_type": "raw",
   "metadata": {},
   "source": [
    "python -m venv venv   разворачиваем виртуальное окружение в папке venv "
   ]
  },
  {
   "cell_type": "raw",
   "metadata": {},
   "source": [
    "venv\\Scripts\\activate             Активация окружения venv"
   ]
  },
  {
   "cell_type": "raw",
   "metadata": {},
   "source": [
    "deactivate                        Выход из окружения"
   ]
  },
  {
   "cell_type": "raw",
   "metadata": {},
   "source": [
    "mkdir project_new            📌 Создаём 2 каталог для проекта, project_new"
   ]
  },
  {
   "cell_type": "raw",
   "metadata": {},
   "source": [
    "cd project_new                    Переходим в каталог project_new"
   ]
  },
  {
   "cell_type": "raw",
   "metadata": {},
   "source": [
    "python -m venv venv_new    разворачиваем виртуальное окружение в venv_new "
   ]
  },
  {
   "cell_type": "raw",
   "metadata": {},
   "source": [
    "venv_new\\Scripts\\activate           Активация окружения venv_new"
   ]
  },
  {
   "cell_type": "raw",
   "metadata": {},
   "source": [
    "deactivate                          Выход из окружения"
   ]
  },
  {
   "cell_type": "raw",
   "metadata": {},
   "source": [
    "mkdir project_3               📌 Создаём 3 каталог для проекта, project_3"
   ]
  },
  {
   "cell_type": "raw",
   "metadata": {},
   "source": [
    "cd project_3                        Переходим в каталог project_3"
   ]
  },
  {
   "cell_type": "raw",
   "metadata": {},
   "source": [
    "python -m venv venv_3  разворачиваем виртуальное окружение в папке venv_3"
   ]
  },
  {
   "cell_type": "raw",
   "metadata": {},
   "source": [
    "venv_3\\Scripts\\activate             Активация окружения venv_3"
   ]
  },
  {
   "cell_type": "raw",
   "metadata": {},
   "source": [
    "deactivate                          Выход из окружения"
   ]
  },
  {
   "cell_type": "raw",
   "metadata": {},
   "source": [
    "Задание №3\n",
    "📌 Активируем виртуальное окружение первого из трёх созданных проектов\n",
    "и устанавливаем в него модуль requests используя pip\n",
    "📌 Проверяем установку выводом списка модулей в консоль\n",
    "📌 Сохраняем список в файл, проверяем результат и выходим из окружения\n",
    "📌 Активируем виртуальное окружение второго из трёх созданных проектов\n",
    "и устанавливаем в него модуль flask используя pip\n",
    "📌 Проверяем установку выводом списка модулей в консоль\n",
    "📌 Сохраняем список в файл и выходим из окружения\n",
    "📌 Активируем третье виртуальное окружение\n",
    "📌 Устанавливаем в него модули из первого и второго проекта используя\n",
    "ранее сохранённые в файлы списки модулей\n",
    "📌 Проверяем установку выводом списка модулей в консоль"
   ]
  },
  {
   "cell_type": "raw",
   "metadata": {},
   "source": [
    "Переходим в начальный каталог        C:\\Users\\Иван\\project_new>cd.."
   ]
  },
  {
   "cell_type": "raw",
   "metadata": {},
   "source": [
    "команда cd..                         C:\\Users\\Иван\\"
   ]
  },
  {
   "cell_type": "raw",
   "metadata": {},
   "source": [
    " dir                                Просмотр содержимого каталога"
   ]
  },
  {
   "cell_type": "markdown",
   "metadata": {},
   "source": [
    "📌 Активация виртуального окружения 1 каталога"
   ]
  },
  {
   "cell_type": "raw",
   "metadata": {},
   "source": [
    "cd first_project\n",
    "venv\\Scripts\\activate   "
   ]
  },
  {
   "cell_type": "raw",
   "metadata": {},
   "source": [
    "pip install requests    устанавливаем в него модуль requests используя pip"
   ]
  },
  {
   "cell_type": "raw",
   "metadata": {},
   "source": [
    "pip freeze             Проверяем установку выводом списка модулей в консоль"
   ]
  },
  {
   "cell_type": "raw",
   "metadata": {},
   "source": [
    "pip freeze > requerements.txt                 Сохраняем список в файл, "
   ]
  },
  {
   "cell_type": "raw",
   "metadata": {},
   "source": [
    "dir                                           проверяем результат"
   ]
  },
  {
   "cell_type": "raw",
   "metadata": {},
   "source": [
    "deactivate                                  и выходим из окружения"
   ]
  },
  {
   "cell_type": "raw",
   "metadata": {},
   "source": [
    "📌 Активируем виртуальное окружение 2 project_new "
   ]
  },
  {
   "cell_type": "raw",
   "metadata": {},
   "source": [
    "cd project_new \n",
    "venv_new\\Scripts\\activate "
   ]
  },
  {
   "cell_type": "raw",
   "metadata": {},
   "source": [
    "pip install flask          устанавливаем в него модуль flask используя pip"
   ]
  },
  {
   "cell_type": "raw",
   "metadata": {},
   "source": [
    "pip freeze             Проверяем установку выводом списка модулей в консоль"
   ]
  },
  {
   "cell_type": "raw",
   "metadata": {},
   "source": [
    "pip freeze > requerements.txt Сохраняем список в файл выходим из окружения\n",
    "deactivate"
   ]
  },
  {
   "cell_type": "raw",
   "metadata": {},
   "source": [
    "📌 Активируем третье виртуальное окружение"
   ]
  },
  {
   "cell_type": "raw",
   "metadata": {},
   "source": [
    "cd project_3 \n",
    "venv_3\\Scripts\\activate "
   ]
  },
  {
   "cell_type": "markdown",
   "metadata": {},
   "source": [
    "Устанавливаем в него модули из первого и второго проекта используя\n",
    "ранее сохранённые в файлы списки модулей"
   ]
  },
  {
   "cell_type": "raw",
   "metadata": {},
   "source": [
    "pip install -r C:\\Users\\Иван\\new_project\\requirements.txt"
   ]
  },
  {
   "cell_type": "raw",
   "metadata": {},
   "source": [
    "pip install -r C:\\Users\\Иван\\first_project\\requirements.txt"
   ]
  },
  {
   "cell_type": "raw",
   "metadata": {},
   "source": [
    "pip freeze              Сохраняем список в файл и выходим из окружения"
   ]
  },
  {
   "cell_type": "code",
   "execution_count": null,
   "metadata": {},
   "outputs": [],
   "source": [
    "Задание №4\n",
    "📌 Работа в консоли в режиме интерпретатора Python.\n",
    "📌 Решите квадратное уравнение 5x2-10x-400=0 последовательно\n",
    "сохраняя переменные a, b, c, d, x1 и x2.\n",
    "📌 *Попробуйте решить уравнения с другими значениями a, b, c."
   ]
  },
  {
   "cell_type": "code",
   "execution_count": 11,
   "metadata": {},
   "outputs": [
    {
     "name": "stdout",
     "output_type": "stream",
     "text": [
      "-8.0\n",
      "10.0\n"
     ]
    }
   ],
   "source": [
    "a = 5\n",
    "b = -10\n",
    "c = -400\n",
    "d = b**2 - 4*a*c\n",
    "x1 = (-b - d**0.5)/ 2/a\n",
    "x2 = (-b + d**0.5)/ 2/a\n",
    "print(x1)\n",
    "print(x2)"
   ]
  },
  {
   "cell_type": "code",
   "execution_count": null,
   "metadata": {},
   "outputs": [],
   "source": [
    "Задание №5\n",
    "📌 Работа в консоли в режиме интерпретатора Python.\n",
    "📌 Посчитайте сумму чётных элементов от 1 до n исключая кратные e.\n",
    "📌 Используйте while и if.\n",
    "📌 Попробуйте разные значения e и n."
   ]
  },
  {
   "cell_type": "code",
   "execution_count": 10,
   "metadata": {},
   "outputs": [
    {
     "name": "stdout",
     "output_type": "stream",
     "text": [
      "30\n"
     ]
    }
   ],
   "source": [
    "i=0\n",
    "n=10\n",
    "sum=0\n",
    "while(i <= n):    \n",
    "    if(i%2 == 0): \n",
    "        sum += i\n",
    "    i += 1\n",
    "print(sum)"
   ]
  },
  {
   "cell_type": "code",
   "execution_count": null,
   "metadata": {},
   "outputs": [],
   "source": [
    "Задание №6\n",
    "📌 Напишите программу, которая запрашивает год и проверяет его на високосность.\n",
    "📌 Распишите все возможные проверки в цепочке elif\n",
    "📌 Откажитесь от магических чисел\n",
    "📌 Обязательно учтите год ввода Григорианского календаря\n",
    "📌 В коде должны быть один input и один print"
   ]
  },
  {
   "cell_type": "code",
   "execution_count": 12,
   "metadata": {},
   "outputs": [
    {
     "name": "stdout",
     "output_type": "stream",
     "text": [
      "Введите год в формате YYYY: 1765\n",
      "Обычный\n"
     ]
    }
   ],
   "source": [
    "year = int(input('Введите год в формате YYYY: '))\n",
    "if year % 4 != 0 or year % 100 == 0 and year % 400 !=0:\n",
    "    print('Обычный')\n",
    "else:\n",
    "    print('Високосный')"
   ]
  },
  {
   "cell_type": "code",
   "execution_count": 18,
   "metadata": {},
   "outputs": [
    {
     "name": "stdout",
     "output_type": "stream",
     "text": [
      "Введите год в формате YYYY: 2000\n",
      "Високосный\n"
     ]
    }
   ],
   "source": [
    "Gregorian = 1582\n",
    "year = int(input('Введите год в формате YYYY: '))\n",
    "answer = \"\"\n",
    "if year <= Gregorian:\n",
    "    answer = 'Неверный год'\n",
    "elif year % 4 != 0 or year % 100 == 0 and year % 400 !=0:\n",
    "    answer = 'Обычный'\n",
    "else:\n",
    "    answer = 'Високосный'\n",
    "print(answer)"
   ]
  },
  {
   "cell_type": "code",
   "execution_count": null,
   "metadata": {},
   "outputs": [],
   "source": [
    "Задание №7\n",
    "📌 Пользователь вводит число от 1 до 999. Используя операции с числами\n",
    "сообщите что введено: цифра, двузначное число или трёхзначное число.\n",
    "📌 Для цифры верните её квадрат, например 5 - 25\n",
    "📌 Для двузначного числа произведение цифр, например 30 - 0\n",
    "📌 Для трёхзначного числа его зеркальное отображение, например 520 - 25\n",
    "📌 Если число не из диапазона, запросите новое число\n",
    "📌 Откажитесь от магических чисел\n",
    "📌 В коде должны быть один input и один print"
   ]
  },
  {
   "cell_type": "code",
   "execution_count": 5,
   "metadata": {},
   "outputs": [
    {
     "name": "stdout",
     "output_type": "stream",
     "text": [
      "Введите целое число от 1 до 999: 76786\n",
      "Введите целое число от 1 до 999: 675\n",
      "3. Зеркальное отражение трехзначного числа 675 равно 576\n"
     ]
    }
   ],
   "source": [
    "circle = True\n",
    "while(circle):\n",
    "    number = int(input(\"Введите целое число от 1 до 999: \"))\n",
    "    if 0 < number < 10:\n",
    "        result = f\"1. Квадрат однозначного числа {number} равен {number**2}\"\n",
    "        circle = False\n",
    "    elif 10< number < 100:\n",
    "        digit_1 = number//10\n",
    "        digit_2 = number-number//10*10\n",
    "        result = f\"2. Произведение цифр двухзначного числа {number} равно {digit_1 * digit_2}\"\n",
    "        circle = False\n",
    "    elif 100 < number < 1000:\n",
    "        digit_1 = number//100\n",
    "        digit_2 = (number-number//100*100)//10\n",
    "        digit_3 = (number-number//100*100)%10\n",
    "        result = f\"3. Зеркальное отражение трехзначного числа {number} равно {digit_3}{digit_2}{digit_1}\"\n",
    "        circle = False\n",
    "    else:\n",
    "        circle = True\n",
    "print (result)"
   ]
  },
  {
   "cell_type": "code",
   "execution_count": null,
   "metadata": {},
   "outputs": [],
   "source": [
    "Задание №8\n",
    "📌 Нарисовать в консоли ёлку спросив\n",
    "у пользователя количество рядов.\n",
    "📌 Пример результата:\n",
    "    Сколько рядов у ёлки? 5\n",
    "    *\n",
    "   ***\n",
    "  *****\n",
    " *******\n",
    "*********"
   ]
  },
  {
   "cell_type": "code",
   "execution_count": 6,
   "metadata": {},
   "outputs": [
    {
     "name": "stdout",
     "output_type": "stream",
     "text": [
      "Сколько рядов у ёлки?: 6\n",
      "     *\n",
      "    ***\n",
      "   *****\n",
      "  *******\n",
      " *********\n",
      "***********\n"
     ]
    }
   ],
   "source": [
    "rows = int(input(\"Сколько рядов у ёлки?: \"))\n",
    "for i in range(1, rows+1):\n",
    "    for j in range(rows-i):\n",
    "        print(\" \", end=\"\")\n",
    "    for k in range(1, i*2):\n",
    "        print(\"*\", end=\"\")\n",
    "    print()"
   ]
  },
  {
   "cell_type": "code",
   "execution_count": null,
   "metadata": {},
   "outputs": [],
   "source": [
    "Задание №9\n",
    "📌 Выведите в консоль таблицу умножения от 2х2 до 9х10 как на школьной тетрадке.\n"
   ]
  },
  {
   "cell_type": "code",
   "execution_count": 7,
   "metadata": {},
   "outputs": [
    {
     "name": "stdout",
     "output_type": "stream",
     "text": [
      "2 X 2 = 4\t\t3 X 2 = 6\t\t4 X 2 = 8\t\t5 X 2 = 10\t\t\n",
      "2 X 3 = 6\t\t3 X 3 = 9\t\t4 X 3 = 12\t\t5 X 3 = 15\t\t\n",
      "2 X 4 = 8\t\t3 X 4 = 12\t\t4 X 4 = 16\t\t5 X 4 = 20\t\t\n",
      "2 X 5 = 10\t\t3 X 5 = 15\t\t4 X 5 = 20\t\t5 X 5 = 25\t\t\n",
      "2 X 6 = 12\t\t3 X 6 = 18\t\t4 X 6 = 24\t\t5 X 6 = 30\t\t\n",
      "2 X 7 = 14\t\t3 X 7 = 21\t\t4 X 7 = 28\t\t5 X 7 = 35\t\t\n",
      "2 X 8 = 16\t\t3 X 8 = 24\t\t4 X 8 = 32\t\t5 X 8 = 40\t\t\n",
      "2 X 9 = 18\t\t3 X 9 = 27\t\t4 X 9 = 36\t\t5 X 9 = 45\t\t\n",
      "2 X 10 = 20\t\t3 X 10 = 30\t\t4 X 10 = 40\t\t5 X 10 = 50\t\t\n",
      "\n",
      "6 X 2 = 12\t\t7 X 2 = 14\t\t8 X 2 = 16\t\t9 X 2 = 18\t\t\n",
      "6 X 3 = 18\t\t7 X 3 = 21\t\t8 X 3 = 24\t\t9 X 3 = 27\t\t\n",
      "6 X 4 = 24\t\t7 X 4 = 28\t\t8 X 4 = 32\t\t9 X 4 = 36\t\t\n",
      "6 X 5 = 30\t\t7 X 5 = 35\t\t8 X 5 = 40\t\t9 X 5 = 45\t\t\n",
      "6 X 6 = 36\t\t7 X 6 = 42\t\t8 X 6 = 48\t\t9 X 6 = 54\t\t\n",
      "6 X 7 = 42\t\t7 X 7 = 49\t\t8 X 7 = 56\t\t9 X 7 = 63\t\t\n",
      "6 X 8 = 48\t\t7 X 8 = 56\t\t8 X 8 = 64\t\t9 X 8 = 72\t\t\n",
      "6 X 9 = 54\t\t7 X 9 = 63\t\t8 X 9 = 72\t\t9 X 9 = 81\t\t\n",
      "6 X 10 = 60\t\t7 X 10 = 70\t\t8 X 10 = 80\t\t9 X 10 = 90\t\t\n",
      "\n"
     ]
    }
   ],
   "source": [
    "for k in range(0, 5, 4):\n",
    "    for i in range(2, 11):\n",
    "        for j in range(2+k, 6+k):\n",
    "            print(f\"{j} X {i} = {(j)*i}\", end=\"\\t\\t\")\n",
    "            if j==5+k: print()\n",
    "    print()"
   ]
  },
  {
   "cell_type": "code",
   "execution_count": null,
   "metadata": {},
   "outputs": [],
   "source": []
  }
 ],
 "metadata": {
  "kernelspec": {
   "display_name": "Python 3 (ipykernel)",
   "language": "python",
   "name": "python3"
  },
  "language_info": {
   "codemirror_mode": {
    "name": "ipython",
    "version": 3
   },
   "file_extension": ".py",
   "mimetype": "text/x-python",
   "name": "python",
   "nbconvert_exporter": "python",
   "pygments_lexer": "ipython3",
   "version": "3.9.13"
  }
 },
 "nbformat": 4,
 "nbformat_minor": 2
}
