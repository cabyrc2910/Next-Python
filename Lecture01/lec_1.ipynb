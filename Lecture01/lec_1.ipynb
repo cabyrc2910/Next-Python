{
 "cells": [
  {
   "cell_type": "markdown",
   "metadata": {},
   "source": [
    "# Лекция 1.\n",
    "## Основы Python"
   ]
  },
  {
   "cell_type": "markdown",
   "metadata": {},
   "source": [
    "#### 1. Установка и настройка Python"
   ]
  },
  {
   "cell_type": "markdown",
   "metadata": {},
   "source": [
    "Переходим на официальный сайт Python в раздел \"Загрузки\"\n",
    "https://www.python.org/downloads/\n",
    "● Выбираем вашу версию операционной системы.\n",
    "● Скачиваем установочный дистрибутив\n",
    "● Запускаем установку, отвечаем на вопросы и ждём завершения.\n",
    "Важно! Если в установщике есть поле \"Add Python to PATH\", обязательно\n",
    "ставим галочку. Это упростить работу с Python из командной строки."
   ]
  },
  {
   "cell_type": "markdown",
   "metadata": {},
   "source": [
    "Чтобы убедиться в установке интерпретатора откроем командную строку вашей ОС\n",
    "и введем команду\n",
    "python --version"
   ]
  },
  {
   "cell_type": "markdown",
   "metadata": {},
   "source": [
    "python --version"
   ]
  },
  {
   "cell_type": "markdown",
   "metadata": {},
   "source": [
    "### Создание виртуального окружения"
   ]
  },
  {
   "cell_type": "markdown",
   "metadata": {},
   "source": [
    "#### Подготовка к созданию окружения"
   ]
  },
  {
   "cell_type": "raw",
   "metadata": {},
   "source": [
    "Открываем командную строку  Win+R команда cd"
   ]
  },
  {
   "cell_type": "markdown",
   "metadata": {},
   "source": [
    "mkdir new_project"
   ]
  },
  {
   "attachments": {
    "image.png": {
     "image/png": "[encoded data removed]"
    }
   },
   "cell_type": "markdown",
   "metadata": {},
   "source": [
    "![image.png](attachment:image.png)"
   ]
  },
  {
   "cell_type": "raw",
   "metadata": {},
   "source": [
    "После создания каталога перейдите в него.\n",
    "cd new_project\n",
    "Далее создаём копию Python внутри рабочего каталога одной из команд Windows"
   ]
  },
  {
   "cell_type": "markdown",
   "metadata": {},
   "source": [
    "#### Создание окружения"
   ]
  },
  {
   "cell_type": "raw",
   "metadata": {},
   "source": [
    "mkdir new_project"
   ]
  },
  {
   "cell_type": "markdown",
   "metadata": {},
   "source": [
    "python -m venv venv(название виртуального окружения)"
   ]
  },
  {
   "cell_type": "raw",
   "metadata": {},
   "source": [
    "Будет создана папка venv. Её мы указали в конце команды. Первый venv - вызов модуля для создания окружения. В указанную папку копируется локальная версия интерпретатора. Проверка командой  dir\n",
    "Остаётся активировать виртуальное окружение. Это финальная команда."
   ]
  },
  {
   "cell_type": "markdown",
   "metadata": {},
   "source": [
    "#### Активация окружения"
   ]
  },
  {
   "cell_type": "markdown",
   "metadata": {},
   "source": [
    "(название виртуальнгого окружения)venv\\Scripts\\activate"
   ]
  },
  {
   "cell_type": "raw",
   "metadata": {},
   "source": [
    "Если в начале командной строки вы видите приставку (venv), значит активация\n",
    "прошла успешно. Можем работать над проектом в изолированной среде.\n",
    "Сразу уточню, что для завершения работы внутри виртуального окружения\n",
    "необходимо выполнить команду"
   ]
  },
  {
   "cell_type": "markdown",
   "metadata": {},
   "source": [
    "#### Выход из окружения"
   ]
  },
  {
   "cell_type": "markdown",
   "metadata": {},
   "source": [
    "deactivate"
   ]
  },
  {
   "cell_type": "markdown",
   "metadata": {},
   "source": [
    "### Работа с pip"
   ]
  },
  {
   "cell_type": "markdown",
   "metadata": {},
   "source": [
    "Важно! Прежде чем устанавливать дополнения убедитесь, что вы\n",
    "находитесь в каталоге проекта и активировали виртуальное окружение."
   ]
  },
  {
   "cell_type": "markdown",
   "metadata": {},
   "source": [
    "#### Команда install"
   ]
  },
  {
   "cell_type": "markdown",
   "metadata": {},
   "source": [
    "pip install requests"
   ]
  },
  {
   "cell_type": "markdown",
   "metadata": {},
   "source": [
    "#### Команда freeze"
   ]
  },
  {
   "cell_type": "raw",
   "metadata": {},
   "source": [
    "Мы получили список всех дополнений внутри нашего виртуального окружения.\n",
    "Помимо requests были скачаны библиотеки зависимости, необходимые для работы\n",
    "requests. Данный процесс автоматизирован. Зависимости указывает разработчик, а\n",
    "pip рекурсивно их устанавливает."
   ]
  },
  {
   "cell_type": "markdown",
   "metadata": {},
   "source": [
    "pip freeze"
   ]
  },
  {
   "cell_type": "markdown",
   "metadata": {},
   "source": [
    "#### Файл requirements.txt"
   ]
  },
  {
   "cell_type": "markdown",
   "metadata": {},
   "source": [
    "Чтобы в будущем облегчить развертывание проекта на новом/боевом/тестовом\n",
    "сервере, используют файл requirements.txt В него помещают перечень всех уже\n",
    "установленных дополнений. Для этого используют команду"
   ]
  },
  {
   "cell_type": "markdown",
   "metadata": {},
   "source": [
    "pip freeze > requirements.txt"
   ]
  },
  {
   "cell_type": "markdown",
   "metadata": {},
   "source": [
    "Для быстрой установки в новое окружение всего содержимого файла используется\n",
    "команда"
   ]
  },
  {
   "cell_type": "markdown",
   "metadata": {},
   "source": [
    "pip install -r requirements.txt"
   ]
  },
  {
   "cell_type": "raw",
   "metadata": {},
   "source": [
    "Проверяем содержимое папки dir и видим этот файл"
   ]
  },
  {
   "cell_type": "raw",
   "metadata": {},
   "source": [
    "Заходим в содержимое файла more requirements.txt"
   ]
  },
  {
   "cell_type": "markdown",
   "metadata": {},
   "source": [
    "##### Отмена действия в командной строке Ctrl + C если ошибка"
   ]
  },
  {
   "cell_type": "markdown",
   "metadata": {},
   "source": [
    "#### Перенос проекта  с однного компьютера на другой"
   ]
  },
  {
   "cell_type": "markdown",
   "metadata": {},
   "source": [
    "pip install -r requirements.txt"
   ]
  },
  {
   "cell_type": "markdown",
   "metadata": {},
   "source": [
    "##### Обновление Pip"
   ]
  },
  {
   "cell_type": "markdown",
   "metadata": {},
   "source": [
    "python.exe -m pip install --upgrade pip"
   ]
  },
  {
   "cell_type": "markdown",
   "metadata": {},
   "source": [
    "Переход в режим интерпретатора Python команда Python, появляется  >>>"
   ]
  },
  {
   "cell_type": "markdown",
   "metadata": {},
   "source": [
    "#### Арифметические операторы в Python"
   ]
  },
  {
   "cell_type": "raw",
   "metadata": {},
   "source": [
    "Оператор Описание Примеры\n",
    "+ Сложение       398 + 20 = 418\n",
    "- Вычитание   200 - 50 = 15\n",
    "* Умножение      34 * 7 = 238\n",
    "/ Деление     36 / 6 = 6.0\n",
    "              36 / 5 = 7.2\n",
    "// Целочисленное деление   36 // 6 = 6\n",
    "                            9 // 4 = 2\n",
    "                           -9 // 4 = -3\n",
    "                           15 // -2 = -3\n",
    "%  Остаток от деления  36 % 6 = 0\n",
    "                       36 % 5 = 1\n",
    "** Возведение в степень     2 ** 16 = 65536\n",
    "_  возвращает результат последний операции"
   ]
  },
  {
   "cell_type": "markdown",
   "metadata": {},
   "source": [
    "#### 2. Повторяем основы Python"
   ]
  },
  {
   "cell_type": "markdown",
   "metadata": {},
   "source": [
    "#### Переменные и требования к именам"
   ]
  },
  {
   "cell_type": "code",
   "execution_count": 11,
   "metadata": {},
   "outputs": [
    {
     "data": {
      "text/plain": [
       "6"
      ]
     },
     "execution_count": 11,
     "metadata": {},
     "output_type": "execute_result"
    }
   ],
   "source": [
    "a=2\n",
    "b=6\n",
    "b"
   ]
  },
  {
   "cell_type": "code",
   "execution_count": 12,
   "metadata": {},
   "outputs": [
    {
     "name": "stdout",
     "output_type": "stream",
     "text": [
      "2\n",
      "3\n",
      "4\n",
      "5\n"
     ]
    }
   ],
   "source": [
    "while a < b:   ## работа в цикле\n",
    "    print(a)\n",
    "    a += 1    ## увеличение а на 1"
   ]
  },
  {
   "cell_type": "markdown",
   "metadata": {},
   "source": [
    "##### Выход из режима интерпретатора Python команда "
   ]
  },
  {
   "cell_type": "markdown",
   "metadata": {},
   "source": [
    "exit() "
   ]
  },
  {
   "cell_type": "code",
   "execution_count": 13,
   "metadata": {},
   "outputs": [
    {
     "name": "stdout",
     "output_type": "stream",
     "text": [
      "Alex\n"
     ]
    }
   ],
   "source": [
    "name = 'Alex'\n",
    "print(name)"
   ]
  },
  {
   "cell_type": "markdown",
   "metadata": {},
   "source": [
    "#### Константы"
   ]
  },
  {
   "cell_type": "raw",
   "metadata": {},
   "source": [
    "Создаваемые\n",
    "MAX_COUNT = 1000\n",
    "ZERO = 0\n",
    "DATA_AFTER_DELETE = 'No data'\n",
    "DAY = 60 * 60 * 24"
   ]
  },
  {
   "cell_type": "raw",
   "metadata": {},
   "source": [
    "Встроенные\n",
    "True, False, None"
   ]
  },
  {
   "cell_type": "code",
   "execution_count": 14,
   "metadata": {},
   "outputs": [],
   "source": [
    "age = None"
   ]
  },
  {
   "cell_type": "markdown",
   "metadata": {},
   "source": [
    "##### Функция id()\n",
    "возвращает адрес объекта в оперативной памяти вашего компьютера."
   ]
  },
  {
   "cell_type": "code",
   "execution_count": 15,
   "metadata": {},
   "outputs": [
    {
     "name": "stdout",
     "output_type": "stream",
     "text": [
      "1838915152304\n"
     ]
    }
   ],
   "source": [
    "a = 5\n",
    "print(id(a))"
   ]
  },
  {
   "cell_type": "code",
   "execution_count": 16,
   "metadata": {},
   "outputs": [
    {
     "name": "stdout",
     "output_type": "stream",
     "text": [
      "1838999202480\n"
     ]
    }
   ],
   "source": [
    "a = \"Hello World\"\n",
    "print(id(a))"
   ]
  },
  {
   "cell_type": "code",
   "execution_count": 17,
   "metadata": {},
   "outputs": [
    {
     "name": "stdout",
     "output_type": "stream",
     "text": [
      "1838998846832\n"
     ]
    }
   ],
   "source": [
    "a = 3.14/3\n",
    "print(id(a))"
   ]
  },
  {
   "cell_type": "markdown",
   "metadata": {},
   "source": [
    "#### Зарезервированные слова, keyword.kwlist"
   ]
  },
  {
   "cell_type": "markdown",
   "metadata": {},
   "source": [
    "False, None, True, and, as, assert, async, await, break, class,\n",
    "continue, def, del, elif, else, except, finally, for, from,\n",
    "global, if, import, in, is, lambda, nonlocal, not, or, pass,\n",
    "raise, return, try, while, with, yield."
   ]
  },
  {
   "cell_type": "markdown",
   "metadata": {},
   "source": [
    "#### Ввод и вывод данных"
   ]
  },
  {
   "cell_type": "markdown",
   "metadata": {},
   "source": [
    "##### ➢ Вывод, функция print()"
   ]
  },
  {
   "cell_type": "raw",
   "metadata": {},
   "source": [
    "print(*objects, ## * распаковка объектов через ,\n",
    " sep=' ', ## разделитель, ставится между каждым из перечисленных значений\n",
    " end='\\n', ## перенос строки, после того как вся информация выведена в консоль\n",
    "file=sys.stdout, flush=False)"
   ]
  },
  {
   "cell_type": "code",
   "execution_count": 19,
   "metadata": {},
   "outputs": [
    {
     "name": "stdout",
     "output_type": "stream",
     "text": [
      "Alex None 1.0466666666666666 456 text\n"
     ]
    }
   ],
   "source": [
    "print(name, age, a, 456, 'text')"
   ]
  },
  {
   "cell_type": "code",
   "execution_count": 20,
   "metadata": {},
   "outputs": [
    {
     "name": "stdout",
     "output_type": "stream",
     "text": [
      "Alex=^.^=None=^.^=1.0466666666666666=^.^=456=^.^=text\n"
     ]
    }
   ],
   "source": [
    "print(name, age, a, 456, 'text', sep='=^.^=')"
   ]
  },
  {
   "cell_type": "code",
   "execution_count": 21,
   "metadata": {},
   "outputs": [
    {
     "name": "stdout",
     "output_type": "stream",
     "text": [
      "Alex=^.^=None=^.^=1.0466666666666666=^.^=456=^.^=text#"
     ]
    }
   ],
   "source": [
    "print(name, age, a, 456, 'text', sep='=^.^=', end='#')"
   ]
  },
  {
   "cell_type": "code",
   "execution_count": 22,
   "metadata": {},
   "outputs": [
    {
     "name": "stdout",
     "output_type": "stream",
     "text": [
      "Any text\n"
     ]
    }
   ],
   "source": [
    "print('Any text')"
   ]
  },
  {
   "cell_type": "raw",
   "metadata": {},
   "source": [
    "➢ Ввод, функция input()"
   ]
  },
  {
   "cell_type": "code",
   "execution_count": 23,
   "metadata": {},
   "outputs": [
    {
     "name": "stdout",
     "output_type": "stream",
     "text": [
      "Alex=^.^=None=^.^=1.0466666666666666=^.^=456=^.^=text#Any text\n"
     ]
    }
   ],
   "source": [
    "print(name, age, a, 456, 'text', sep='=^.^=', end='#')\n",
    "print('Any text')"
   ]
  },
  {
   "cell_type": "markdown",
   "metadata": {},
   "source": [
    "##### ➢ Ввод, функция input()"
   ]
  },
  {
   "cell_type": "code",
   "execution_count": 31,
   "metadata": {},
   "outputs": [
    {
     "name": "stdout",
     "output_type": "stream",
     "text": [
      "Print your text: text\n",
      "Ты написал: text\n"
     ]
    }
   ],
   "source": [
    "res = input('Print your text: ')\n",
    "print('Ты написал:', res)"
   ]
  },
  {
   "cell_type": "code",
   "execution_count": 34,
   "metadata": {},
   "outputs": [
    {
     "name": "stdout",
     "output_type": "stream",
     "text": [
      "Сколько тебе лет: 7\n"
     ]
    }
   ],
   "source": [
    "age = int(input('Сколько тебе лет: ')) ## int - числовое значение\n",
    "                                       ## floot - вещественные числа"
   ]
  },
  {
   "cell_type": "markdown",
   "metadata": {},
   "source": [
    "##### Антипаттерн \"магические числа\" \n",
    "использование числа внутри кода знает только програмист писавший код"
   ]
  },
  {
   "cell_type": "code",
   "execution_count": null,
   "metadata": {},
   "outputs": [],
   "source": []
  },
  {
   "cell_type": "code",
   "execution_count": 40,
   "metadata": {},
   "outputs": [
    {
     "name": "stdout",
     "output_type": "stream",
     "text": [
      "Ваш возраст: 8\n",
      "10.0 лет осталось до совершеннолетним\n"
     ]
    }
   ],
   "source": [
    "age = float(input('Ваш возраст: '))\n",
    "how_old = 18 - age      ##  18 - магическое число\n",
    "print(how_old, \"лет осталось до совершеннолетия\")"
   ]
  },
  {
   "cell_type": "code",
   "execution_count": 42,
   "metadata": {},
   "outputs": [
    {
     "name": "stdout",
     "output_type": "stream",
     "text": [
      "Сколько тебе лет: 6\n",
      "12 Осталось до совершеннолетия\n"
     ]
    }
   ],
   "source": [
    "ADULT = 18   ## ADULT -  константа (замена числа) совершеннолетие\n",
    "age = int(input('Сколько тебе лет: '))\n",
    "how_old = ADULT - age\n",
    "print(how_old, \"Осталось до совершеннолетия\")"
   ]
  },
  {
   "cell_type": "raw",
   "metadata": {},
   "source": [
    "Какие имена переменных плохие, а какие правильные и почему: \n",
    "name,\n",
    "1_year - нельзя начинать имя переменнойй с цифры\n",
    "_hello, \n",
    "id - нельзя давать имена встроенных функций\n",
    "MAX_DATE, \n",
    "zdorove - транслитерация недопустима"
   ]
  },
  {
   "cell_type": "markdown",
   "metadata": {},
   "source": [
    "#### 3. Ветвление"
   ]
  },
  {
   "cell_type": "markdown",
   "metadata": {},
   "source": [
    "#### Если, if - операции сравнения"
   ]
  },
  {
   "cell_type": "raw",
   "metadata": {},
   "source": [
    "«==» — равно    «!=» — не равно\n",
    "«>» — больше    «<=» — меньше или равно, не больше\n",
    "«<» — меньше    «>=» — больше или равно, не меньше"
   ]
  },
  {
   "cell_type": "code",
   "execution_count": 49,
   "metadata": {},
   "outputs": [
    {
     "name": "stdout",
     "output_type": "stream",
     "text": [
      "Введите пароль:text\n",
      "Доступ разрешён\n",
      "Но будьте осторожны\n"
     ]
    }
   ],
   "source": [
    "pwd = 'text'\n",
    "res = input('Input password: ')\n",
    "if res == pwd:\n",
    "    print('Доступ разрешён')  ## 4 пробела можно ставить нажав клавишу Tab\n",
    "    print('Но будьте осторожны')\n",
    "else:\n",
    "    print('Доступ запрещён')\n",
    "    print('Работа завершена')"
   ]
  },
  {
   "cell_type": "code",
   "execution_count": 50,
   "metadata": {},
   "outputs": [
    {
     "name": "stdout",
     "output_type": "stream",
     "text": [
      "Введите пароль:text\n",
      "Доступ разрешён\n",
      "Но будьте осторожны\n",
      "Работа завершена\n"
     ]
    }
   ],
   "source": [
    "pwd = 'text'\n",
    "res = input('Input password: ')\n",
    "if res == pwd:\n",
    "    print('Доступ разрешён')  ## 4 пробела можно ставить нажав клавишу Tab\n",
    "    print('Но будьте осторожны')\n",
    "else:\n",
    "    print('Доступ запрещён')\n",
    "print('Работа завершена')"
   ]
  },
  {
   "cell_type": "markdown",
   "metadata": {},
   "source": [
    "#### Иначе, else"
   ]
  },
  {
   "cell_type": "code",
   "execution_count": 50,
   "metadata": {},
   "outputs": [
    {
     "name": "stdout",
     "output_type": "stream",
     "text": [
      "Введите пароль:text\n",
      "Доступ разрешён\n",
      "Но будьте осторожны\n",
      "Работа завершена\n"
     ]
    }
   ],
   "source": [
    "pwd = 'text'\n",
    "res = input('Input password: ')\n",
    "if res == pwd:\n",
    "    print('Доступ разрешён')  ## 4 пробела можно ставить нажав клавишу Tab\n",
    "    print('Но будьте осторожны')\n",
    "else:\n",
    "    print('Доступ запрещён')\n",
    "print('Работа завершена')"
   ]
  },
  {
   "cell_type": "code",
   "execution_count": 54,
   "metadata": {},
   "outputs": [
    {
     "name": "stdout",
     "output_type": "stream",
     "text": [
      "Введите пароль:text\n",
      "Доступ разрешён\n",
      "2 + 2 =4\n",
      "Вы в нормальном мире\n",
      "Работа завершена\n"
     ]
    }
   ],
   "source": [
    "pwd = 'text'\n",
    "res = input('Input password: ')\n",
    "if res == pwd:\n",
    "    print('Доступ разрешён')\n",
    "    my_math = int(input('2 + 2 = '))\n",
    "    if 2 + 2 == my_math:\n",
    "        print('Вы в нормальном мире')\n",
    "    else:\n",
    "        print('Но будьте осторожны')\n",
    "else:\n",
    "    print('Доступ запрещён')\n",
    "print('Работа завершена')"
   ]
  },
  {
   "cell_type": "markdown",
   "metadata": {},
   "source": [
    "#### Еще если, elif"
   ]
  },
  {
   "cell_type": "code",
   "execution_count": 67,
   "metadata": {},
   "outputs": [
    {
     "name": "stdout",
     "output_type": "stream",
     "text": [
      "Твой любимый цвет: match color:\n",
      "Тебя не понять\n"
     ]
    }
   ],
   "source": [
    "color = input('Твой любимый цвет: ')\n",
    "if color == 'красный':\n",
    "    print('Любитель яркого')\n",
    "elif color == 'зелёный':\n",
    "    print('Ты не охотник?')\n",
    "elif color == 'синий':\n",
    "    print('Ха, классика!')\n",
    "else:\n",
    "    print('Тебя не понять')"
   ]
  },
  {
   "cell_type": "markdown",
   "metadata": {},
   "source": [
    "#### Выбор из вариантов, match и case"
   ]
  },
  {
   "cell_type": "code",
   "execution_count": 69,
   "metadata": {},
   "outputs": [
    {
     "ename": "SyntaxError",
     "evalue": "invalid syntax (4133204552.py, line 2)",
     "output_type": "error",
     "traceback": [
      "\u001b[1;36m  File \u001b[1;32m\"C:\\Users\\Иван\\AppData\\Local\\Temp\\ipykernel_9772\\4133204552.py\"\u001b[1;36m, line \u001b[1;32m2\u001b[0m\n\u001b[1;33m    match color:\u001b[0m\n\u001b[1;37m          ^\u001b[0m\n\u001b[1;31mSyntaxError\u001b[0m\u001b[1;31m:\u001b[0m invalid syntax\n"
     ]
    }
   ],
   "source": [
    "color = input('Твой любимый цвет: ')\n",
    "match color:\n",
    "    case 'красный' | 'оранжевый':\n",
    "        print('Любитель яркого')\n",
    "    case 'зелёный':\n",
    "        print('Ты не охотник?')\n",
    "    case 'синий' | 'голубой':\n",
    "        print('Ха, классика!')\n",
    "    case _:\n",
    "        print('Тебя не понять')"
   ]
  },
  {
   "cell_type": "markdown",
   "metadata": {},
   "source": [
    "#### Логические конструкции, or, and, not"
   ]
  },
  {
   "cell_type": "raw",
   "metadata": {},
   "source": [
    "● and — логическое умножение «И»;                True - истина\n",
    "● or — логическое сложение «ИЛИ»;                False - ложь\n",
    "● not — логическое отрицание «НЕ».\n",
    "Логика их работы представлена в таблице"
   ]
  },
  {
   "cell_type": "raw",
   "metadata": {},
   "source": [
    "first     second    first and second     first or second     not first\n",
    "True       True        True               True               False\n",
    "False      True        False              True               True\n",
    "True       False       False              True                 -\n",
    "False      False       False              False                -"
   ]
  },
  {
   "cell_type": "code",
   "execution_count": 78,
   "metadata": {},
   "outputs": [
    {
     "name": "stdout",
     "output_type": "stream",
     "text": [
      "Введите год в формате yyyy: 2000\n",
      "Високосный\n"
     ]
    }
   ],
   "source": [
    "year = int(input('Введите год в формате yyyy: '))\n",
    "if year % 4 != 0:   ##  % остаток от деления\n",
    "    print(\"Обычный\")\n",
    "elif year % 100 == 0:\n",
    "\n",
    "    if year % 400 == 0:\n",
    "        print(\"Високосный\") ## Високосный - делится на 4\n",
    "    else:\n",
    "        print(\"Обычный\")\n",
    "else:\n",
    "    print(\"Високосный\")"
   ]
  },
  {
   "cell_type": "code",
   "execution_count": 77,
   "metadata": {},
   "outputs": [
    {
     "name": "stdout",
     "output_type": "stream",
     "text": [
      "Введите год в формате yyyy: 2345\n",
      "Обычный\n"
     ]
    }
   ],
   "source": [
    "year = int(input('Введите год в формате yyyy: '))\n",
    "if year % 4 != 0 or year % 100 == 0 and year % 400 != 0:\n",
    "    print(\"Обычный\")\n",
    "else:\n",
    "    print(\"Високосный\")"
   ]
  },
  {
   "cell_type": "markdown",
   "metadata": {},
   "source": [
    "#### Ленивый if"
   ]
  },
  {
   "cell_type": "code",
   "execution_count": 81,
   "metadata": {},
   "outputs": [
    {
     "ename": "IndentationError",
     "evalue": "expected an indented block (1462608462.py, line 1)",
     "output_type": "error",
     "traceback": [
      "\u001b[1;36m  File \u001b[1;32m\"C:\\Users\\Иван\\AppData\\Local\\Temp\\ipykernel_9772\\1462608462.py\"\u001b[1;36m, line \u001b[1;32m1\u001b[0m\n\u001b[1;33m    if year % 4 != 0 or year % 100 == 0 and year % 400 != 0:\u001b[0m\n\u001b[1;37m                                                            ^\u001b[0m\n\u001b[1;31mIndentationError\u001b[0m\u001b[1;31m:\u001b[0m expected an indented block\n"
     ]
    }
   ],
   "source": [
    "if year % 4 != 0 or year % 100 == 0 and year % 400 != 0:"
   ]
  },
  {
   "cell_type": "markdown",
   "metadata": {},
   "source": [
    "#### Проверка на вхождение, in"
   ]
  },
  {
   "cell_type": "code",
   "execution_count": 83,
   "metadata": {},
   "outputs": [
    {
     "name": "stdout",
     "output_type": "stream",
     "text": [
      "Введи число: 8\n",
      "Леонардо передаёт привет!\n"
     ]
    }
   ],
   "source": [
    "data = [0, 1, 1, 2, 3, 5, 8, 13, 21] ##  числа Фибоначи\n",
    "num = int(input('Введи число: '))\n",
    "if num in data:\n",
    "    print('Леонардо передаёт привет!')"
   ]
  },
  {
   "cell_type": "code",
   "execution_count": 84,
   "metadata": {},
   "outputs": [
    {
     "name": "stdout",
     "output_type": "stream",
     "text": [
      "Введи число: 10\n",
      "Леонардо грустит :-(\n"
     ]
    }
   ],
   "source": [
    "data = [0, 1, 1, 2, 3, 5, 8, 13, 21]\n",
    "num = int(input('Введи число: '))\n",
    "if num not in data:                  ## конструкцией not — отрицание:\n",
    "    print('Леонардо грустит :-(') "
   ]
  },
  {
   "cell_type": "markdown",
   "metadata": {},
   "source": [
    "#### Тернарный оператор"
   ]
  },
  {
   "cell_type": "code",
   "execution_count": 86,
   "metadata": {},
   "outputs": [
    {
     "name": "stdout",
     "output_type": "stream",
     "text": [
      "2 + 2 = 5\n",
      "Вы уверены?\n"
     ]
    }
   ],
   "source": [
    "my_math = int(input('2 + 2 = '))\n",
    "if 2 + 2 == my_math:\n",
    "    print('Верно!')\n",
    "else:\n",
    "    print('Вы уверены?')"
   ]
  },
  {
   "cell_type": "code",
   "execution_count": 87,
   "metadata": {},
   "outputs": [
    {
     "name": "stdout",
     "output_type": "stream",
     "text": [
      "2 + 2 = 5\n",
      "Вы уверены?\n"
     ]
    }
   ],
   "source": [
    "my_math = int(input('2 + 2 = '))\n",
    "print('Верно!' if 2 + 2 == my_math else 'Вы уверены?')"
   ]
  },
  {
   "cell_type": "code",
   "execution_count": 90,
   "metadata": {},
   "outputs": [
    {
     "name": "stdout",
     "output_type": "stream",
     "text": [
      "Вариант 1\n"
     ]
    }
   ],
   "source": [
    "## задача 1\n",
    "num = 42\n",
    "name = 'Bob'\n",
    "if num > 30:\n",
    "    if num < 50:\n",
    "        print('Вариант 1')\n",
    "    elif name > 'Markus':\n",
    "        print('Вариант 2')\n",
    "    else:\n",
    "        print('Вариант 3')\n",
    "elif name < 'Markus':\n",
    "    print('Вариант 4')\n",
    "elif num != 42:\n",
    "    print('Вариант 5')\n",
    "else:\n",
    "    print('Вариант 6')"
   ]
  },
  {
   "cell_type": "code",
   "execution_count": 92,
   "metadata": {},
   "outputs": [
    {
     "name": "stdout",
     "output_type": "stream",
     "text": [
      "Вариант 3\n"
     ]
    }
   ],
   "source": [
    "## задача 2\n",
    "num = 64\n",
    "name = 'Bob'\n",
    "if num > 30:\n",
    "    if num < 50:\n",
    "        print('Вариант 1')\n",
    "    elif name > 'Markus':\n",
    "        print('Вариант 2')\n",
    "    else:\n",
    "        print('Вариант 3')\n",
    "elif name < 'Markus':\n",
    "    print('Вариант 4')\n",
    "elif num != 42:\n",
    "    print('Вариант 5')\n",
    "else:\n",
    "    print('Вариант 6')"
   ]
  },
  {
   "cell_type": "code",
   "execution_count": 93,
   "metadata": {},
   "outputs": [
    {
     "name": "stdout",
     "output_type": "stream",
     "text": [
      "Вариант 5\n"
     ]
    }
   ],
   "source": [
    "## задача 3\n",
    "num = 7\n",
    "name = 'Neo'\n",
    "if num > 30:\n",
    "    if num < 50:\n",
    "        print('Вариант 1')\n",
    "    elif name > 'Markus':\n",
    "        print('Вариант 2')\n",
    "    else:\n",
    "        print('Вариант 3')\n",
    "elif name < 'Markus':\n",
    "    print('Вариант 4')\n",
    "elif num != 42:\n",
    "    print('Вариант 5')\n",
    "else:\n",
    "    print('Вариант 6')"
   ]
  },
  {
   "cell_type": "markdown",
   "metadata": {},
   "source": [
    "#### 4. Циклы"
   ]
  },
  {
   "cell_type": "markdown",
   "metadata": {},
   "source": [
    "#### Логический цикл while\n",
    "Цикл while является циклом с предусловием. Проверяем логическое условие,\n",
    "аналогично \"если\" и в случае истинности выполняем вложенный блок кода. Далее возвращаемся к проверке условия."
   ]
  },
  {
   "cell_type": "code",
   "execution_count": 96,
   "metadata": {},
   "outputs": [
    {
     "name": "stdout",
     "output_type": "stream",
     "text": [
      "Введите число: 9.76\n",
      "0\n",
      "2\n",
      "4\n",
      "6\n",
      "8\n"
     ]
    }
   ],
   "source": [
    "num = float(input('Введите число: '))  ## float числа с плавующей запятой\n",
    "count = 0       ## счётчик\n",
    "while count < num:  ##  8 < 9.76 < 10 цикл завершился\n",
    "    print(count)\n",
    "    count += 2   ## шаг 2"
   ]
  },
  {
   "cell_type": "markdown",
   "metadata": {},
   "source": [
    "Проверка условия после while и выполнение тела цикла продолжается до тех пор,пока условие истинно."
   ]
  },
  {
   "cell_type": "markdown",
   "metadata": {},
   "source": [
    "#### Синтаксический сахар"
   ]
  },
  {
   "cell_type": "raw",
   "metadata": {},
   "source": [
    "\"+=\" - синтаксический сахар Python\n",
    "это синтаксические возможности, применение которых не влияет на поведение\n",
    "num = 0\n",
    "num = num + 3\n",
    "num +=3\n",
    "# num++\n",
    "num //= 2 содержимое переменной num на цело разделить на 2 и поместить в num"
   ]
  },
  {
   "cell_type": "markdown",
   "metadata": {},
   "source": [
    "#### Возврат в начало цикла, continue\n",
    "работу цикла можно прервать и досрочно вернуться к проверкеусловия"
   ]
  },
  {
   "cell_type": "code",
   "execution_count": 98,
   "metadata": {},
   "outputs": [
    {
     "name": "stdout",
     "output_type": "stream",
     "text": [
      "Введите число: 20\n",
      "2\n",
      "4\n",
      "6\n",
      "8\n",
      "10\n",
      "14\n",
      "16\n",
      "18\n"
     ]
    }
   ],
   "source": [
    "num = float(input('Введите число: '))\n",
    "STEP = 2   ##  ввели константу с шагом 2\n",
    "limit = num - STEP   ## ограничение =20-2=18\n",
    "count = -STEP\n",
    "while count < limit:  ##   пока счётчик меньше 18\n",
    "    count += STEP     ##    счётчик увеличивается на значение шага  2\n",
    "    if count % 12 == 0:   ## деление счётчика на 12 = 0  то\n",
    "        continue          ## возвращает к проверке условия в  строку  5\n",
    "    print(count)"
   ]
  },
  {
   "cell_type": "markdown",
   "metadata": {},
   "source": [
    "##### Досрочное завершение цикла, break"
   ]
  },
  {
   "cell_type": "code",
   "execution_count": 101,
   "metadata": {},
   "outputs": [
    {
     "name": "stdout",
     "output_type": "stream",
     "text": [
      "Введи число между 0 и 10 ? \n",
      "24242\n",
      "Неверно\n",
      "Введи число между 0 и 10 ? \n",
      "-767\n",
      "Неверно\n",
      "Введи число между 0 и 10 ? \n",
      "6\n",
      "Было введено число  6.0\n"
     ]
    }
   ],
   "source": [
    "min_limit = 0\n",
    "max_limit = 10\n",
    "while True:\n",
    "    print('Введи число между', min_limit, 'и', max_limit, '? ')\n",
    "    num = float(input())\n",
    "    if num < min_limit or num > max_limit:\n",
    "        print('Неверно')\n",
    "    else:\n",
    "        break\n",
    "print('Было введено число ', num) ##  или ' + str(num))"
   ]
  },
  {
   "cell_type": "markdown",
   "metadata": {},
   "source": [
    "##### Действие после цикла, else"
   ]
  },
  {
   "cell_type": "code",
   "execution_count": 1,
   "metadata": {},
   "outputs": [
    {
     "name": "stdout",
     "output_type": "stream",
     "text": [
      "Попытка  3\n",
      "Введи число между  0  и 10 ? \n",
      "242\n",
      "Неверно\n",
      "Попытка  2\n",
      "Введи число между  0  и 10 ? \n",
      "24\n",
      "Неверно\n",
      "Попытка  1\n",
      "Введи число между  0  и 10 ? \n",
      "5423\n",
      "Неверно\n",
      "Исчерпаны все попытки. Сожалею.\n",
      "Было введено число  5423.0\n"
     ]
    }
   ],
   "source": [
    "min_limit = 0\n",
    "max_limit = 10\n",
    "count = 3\n",
    "\n",
    "while count > 0:\n",
    "    print('Попытка ', count)  ## сообщаем № попытки\n",
    "    count -= 1                ##  уменьшаем счётчик попыток на 1\n",
    "    \n",
    "    print('Введи число между ', min_limit, ' и', max_limit,  '? ')\n",
    "    num = float(input())     ## запоминаем в переменную num \n",
    "    if num < min_limit or num > max_limit:\n",
    "        print('Неверно')\n",
    "    else:\n",
    "        break\n",
    "        \n",
    "else:\n",
    "    print('Исчерпаны все попытки. Сожалею.')\n",
    "    quit()\n",
    "                      \n",
    "print('Было введено число ', num)"
   ]
  },
  {
   "cell_type": "markdown",
   "metadata": {},
   "source": [
    "##### Цикл итератор for in"
   ]
  },
  {
   "cell_type": "code",
   "execution_count": 2,
   "metadata": {},
   "outputs": [
    {
     "name": "stdout",
     "output_type": "stream",
     "text": [
      "0\n",
      "1\n",
      "1\n",
      "2\n",
      "3\n",
      "5\n",
      "8\n",
      "13\n",
      "21\n"
     ]
    }
   ],
   "source": [
    "data = [0, 1, 1, 2, 3, 5, 8, 13, 21]\n",
    "for item in data:            ## передаётся переменная data (коллекция) содержащая числа\n",
    "    print(item)\n",
    "## цикл перебирает значения коллекции слева направо, на каждом витке в переменную item \n",
    "## мы помещаем очередной элемент цикла и внутри цикла мы выводим содержимое преременной"
   ]
  },
  {
   "cell_type": "code",
   "execution_count": 3,
   "metadata": {},
   "outputs": [
    {
     "name": "stdout",
     "output_type": "stream",
     "text": [
      "item\n",
      "item\n",
      "item\n",
      "item\n",
      "item\n",
      "item\n",
      "item\n",
      "item\n",
      "item\n"
     ]
    }
   ],
   "source": [
    "data = [0, 1, 1, 2, 3, 5, 8, 13, 21]\n",
    "for _ in data:   ##  переменная data содержит цисла\n",
    "    print('item')"
   ]
  },
  {
   "cell_type": "markdown",
   "metadata": {},
   "source": [
    "##### Цикл по целым числам, он же арифметический цикл, функция range()"
   ]
  },
  {
   "cell_type": "code",
   "execution_count": 5,
   "metadata": {},
   "outputs": [
    {
     "name": "stdout",
     "output_type": "stream",
     "text": [
      "Введите число: 13\n",
      "0\n",
      "2\n",
      "4\n",
      "6\n",
      "8\n",
      "10\n",
      "12\n"
     ]
    }
   ],
   "source": [
    "num = int(input('Введите число: '))\n",
    "for i in range(0, num, 2): ## передаётся функция range - принимает на вход только целые числа от 0 до 12 с шагом 2\n",
    "    print(i)"
   ]
  },
  {
   "cell_type": "markdown",
   "metadata": {},
   "source": [
    "- range(stop) — перебираем значения от нуля до stop исключительно с шагом один (100  вернёт от 0 до 99)\n",
    "- range(start, stop) — перебираем значения от start включительно до stop исключительно с шагом один (2,8 вернёт от 2 до 7)\n",
    "- range(start, stop, step) — перебираем значения от start включительно до stop исключительно с шагом step.(пример)"
   ]
  },
  {
   "cell_type": "markdown",
   "metadata": {},
   "source": [
    "- Если значение step отрицательное, перебор будет в сторону уменьшения.\n",
    "- Если start больше stop при положительном step или наоборот start меньше stop при отрицательном step, цикл не сработает ни разу."
   ]
  },
  {
   "cell_type": "markdown",
   "metadata": {},
   "source": [
    "##### Имена переменных в цикле"
   ]
  },
  {
   "cell_type": "code",
   "execution_count": 9,
   "metadata": {
    "collapsed": true
   },
   "outputs": [
    {
     "name": "stdout",
     "output_type": "stream",
     "text": [
      "0 0 0\n",
      "0 0 1\n",
      "0 0 2\n",
      "0 0 3\n",
      "0 0 4\n",
      "0 0 5\n",
      "0 0 6\n",
      "0 0 7\n",
      "0 0 8\n",
      "0 0 9\n",
      "0 1 0\n",
      "0 1 1\n",
      "0 1 2\n",
      "0 1 3\n",
      "0 1 4\n",
      "0 1 5\n",
      "0 1 6\n",
      "0 1 7\n",
      "0 1 8\n",
      "0 1 9\n",
      "0 2 0\n",
      "0 2 1\n",
      "0 2 2\n",
      "0 2 3\n",
      "0 2 4\n",
      "0 2 5\n",
      "0 2 6\n",
      "0 2 7\n",
      "0 2 8\n",
      "0 2 9\n",
      "0 3 0\n",
      "0 3 1\n",
      "0 3 2\n",
      "0 3 3\n",
      "0 3 4\n",
      "0 3 5\n",
      "0 3 6\n",
      "0 3 7\n",
      "0 3 8\n",
      "0 3 9\n",
      "0 4 0\n",
      "0 4 1\n",
      "0 4 2\n",
      "0 4 3\n",
      "0 4 4\n",
      "0 4 5\n",
      "0 4 6\n",
      "0 4 7\n",
      "0 4 8\n",
      "0 4 9\n",
      "0 5 0\n",
      "0 5 1\n",
      "0 5 2\n",
      "0 5 3\n",
      "0 5 4\n",
      "0 5 5\n",
      "0 5 6\n",
      "0 5 7\n",
      "0 5 8\n",
      "0 5 9\n",
      "0 6 0\n",
      "0 6 1\n",
      "0 6 2\n",
      "0 6 3\n",
      "0 6 4\n",
      "0 6 5\n",
      "0 6 6\n",
      "0 6 7\n",
      "0 6 8\n",
      "0 6 9\n",
      "0 7 0\n",
      "0 7 1\n",
      "0 7 2\n",
      "0 7 3\n",
      "0 7 4\n",
      "0 7 5\n",
      "0 7 6\n",
      "0 7 7\n",
      "0 7 8\n",
      "0 7 9\n",
      "0 8 0\n",
      "0 8 1\n",
      "0 8 2\n",
      "0 8 3\n",
      "0 8 4\n",
      "0 8 5\n",
      "0 8 6\n",
      "0 8 7\n",
      "0 8 8\n",
      "0 8 9\n",
      "0 9 0\n",
      "0 9 1\n",
      "0 9 2\n",
      "0 9 3\n",
      "0 9 4\n",
      "0 9 5\n",
      "0 9 6\n",
      "0 9 7\n",
      "0 9 8\n",
      "0 9 9\n",
      "1 0 0\n",
      "1 0 1\n",
      "1 0 2\n",
      "1 0 3\n",
      "1 0 4\n",
      "1 0 5\n",
      "1 0 6\n",
      "1 0 7\n",
      "1 0 8\n",
      "1 0 9\n",
      "1 1 0\n",
      "1 1 1\n",
      "1 1 2\n",
      "1 1 3\n",
      "1 1 4\n",
      "1 1 5\n",
      "1 1 6\n",
      "1 1 7\n",
      "1 1 8\n",
      "1 1 9\n",
      "1 2 0\n",
      "1 2 1\n",
      "1 2 2\n",
      "1 2 3\n",
      "1 2 4\n",
      "1 2 5\n",
      "1 2 6\n",
      "1 2 7\n",
      "1 2 8\n",
      "1 2 9\n",
      "1 3 0\n",
      "1 3 1\n",
      "1 3 2\n",
      "1 3 3\n",
      "1 3 4\n",
      "1 3 5\n",
      "1 3 6\n",
      "1 3 7\n",
      "1 3 8\n",
      "1 3 9\n",
      "1 4 0\n",
      "1 4 1\n",
      "1 4 2\n",
      "1 4 3\n",
      "1 4 4\n",
      "1 4 5\n",
      "1 4 6\n",
      "1 4 7\n",
      "1 4 8\n",
      "1 4 9\n",
      "1 5 0\n",
      "1 5 1\n",
      "1 5 2\n",
      "1 5 3\n",
      "1 5 4\n",
      "1 5 5\n",
      "1 5 6\n",
      "1 5 7\n",
      "1 5 8\n",
      "1 5 9\n",
      "1 6 0\n",
      "1 6 1\n",
      "1 6 2\n",
      "1 6 3\n",
      "1 6 4\n",
      "1 6 5\n",
      "1 6 6\n",
      "1 6 7\n",
      "1 6 8\n",
      "1 6 9\n",
      "1 7 0\n",
      "1 7 1\n",
      "1 7 2\n",
      "1 7 3\n",
      "1 7 4\n",
      "1 7 5\n",
      "1 7 6\n",
      "1 7 7\n",
      "1 7 8\n",
      "1 7 9\n",
      "1 8 0\n",
      "1 8 1\n",
      "1 8 2\n",
      "1 8 3\n",
      "1 8 4\n",
      "1 8 5\n",
      "1 8 6\n",
      "1 8 7\n",
      "1 8 8\n",
      "1 8 9\n",
      "1 9 0\n",
      "1 9 1\n",
      "1 9 2\n",
      "1 9 3\n",
      "1 9 4\n",
      "1 9 5\n",
      "1 9 6\n",
      "1 9 7\n",
      "1 9 8\n",
      "1 9 9\n",
      "2 0 0\n",
      "2 0 1\n",
      "2 0 2\n",
      "2 0 3\n",
      "2 0 4\n",
      "2 0 5\n",
      "2 0 6\n",
      "2 0 7\n",
      "2 0 8\n",
      "2 0 9\n",
      "2 1 0\n",
      "2 1 1\n",
      "2 1 2\n",
      "2 1 3\n",
      "2 1 4\n",
      "2 1 5\n",
      "2 1 6\n",
      "2 1 7\n",
      "2 1 8\n",
      "2 1 9\n",
      "2 2 0\n",
      "2 2 1\n",
      "2 2 2\n",
      "2 2 3\n",
      "2 2 4\n",
      "2 2 5\n",
      "2 2 6\n",
      "2 2 7\n",
      "2 2 8\n",
      "2 2 9\n",
      "2 3 0\n",
      "2 3 1\n",
      "2 3 2\n",
      "2 3 3\n",
      "2 3 4\n",
      "2 3 5\n",
      "2 3 6\n",
      "2 3 7\n",
      "2 3 8\n",
      "2 3 9\n",
      "2 4 0\n",
      "2 4 1\n",
      "2 4 2\n",
      "2 4 3\n",
      "2 4 4\n",
      "2 4 5\n",
      "2 4 6\n",
      "2 4 7\n",
      "2 4 8\n",
      "2 4 9\n",
      "2 5 0\n",
      "2 5 1\n",
      "2 5 2\n",
      "2 5 3\n",
      "2 5 4\n",
      "2 5 5\n",
      "2 5 6\n",
      "2 5 7\n",
      "2 5 8\n",
      "2 5 9\n",
      "2 6 0\n",
      "2 6 1\n",
      "2 6 2\n",
      "2 6 3\n",
      "2 6 4\n",
      "2 6 5\n",
      "2 6 6\n",
      "2 6 7\n",
      "2 6 8\n",
      "2 6 9\n",
      "2 7 0\n",
      "2 7 1\n",
      "2 7 2\n",
      "2 7 3\n",
      "2 7 4\n",
      "2 7 5\n",
      "2 7 6\n",
      "2 7 7\n",
      "2 7 8\n",
      "2 7 9\n",
      "2 8 0\n",
      "2 8 1\n",
      "2 8 2\n",
      "2 8 3\n",
      "2 8 4\n",
      "2 8 5\n",
      "2 8 6\n",
      "2 8 7\n",
      "2 8 8\n",
      "2 8 9\n",
      "2 9 0\n",
      "2 9 1\n",
      "2 9 2\n",
      "2 9 3\n",
      "2 9 4\n",
      "2 9 5\n",
      "2 9 6\n",
      "2 9 7\n",
      "2 9 8\n",
      "2 9 9\n",
      "3 0 0\n",
      "3 0 1\n",
      "3 0 2\n",
      "3 0 3\n",
      "3 0 4\n",
      "3 0 5\n",
      "3 0 6\n",
      "3 0 7\n",
      "3 0 8\n",
      "3 0 9\n",
      "3 1 0\n",
      "3 1 1\n",
      "3 1 2\n",
      "3 1 3\n",
      "3 1 4\n",
      "3 1 5\n",
      "3 1 6\n",
      "3 1 7\n",
      "3 1 8\n",
      "3 1 9\n",
      "3 2 0\n",
      "3 2 1\n",
      "3 2 2\n",
      "3 2 3\n",
      "3 2 4\n",
      "3 2 5\n",
      "3 2 6\n",
      "3 2 7\n",
      "3 2 8\n",
      "3 2 9\n",
      "3 3 0\n",
      "3 3 1\n",
      "3 3 2\n",
      "3 3 3\n",
      "3 3 4\n",
      "3 3 5\n",
      "3 3 6\n",
      "3 3 7\n",
      "3 3 8\n",
      "3 3 9\n",
      "3 4 0\n",
      "3 4 1\n",
      "3 4 2\n",
      "3 4 3\n",
      "3 4 4\n",
      "3 4 5\n",
      "3 4 6\n",
      "3 4 7\n",
      "3 4 8\n",
      "3 4 9\n",
      "3 5 0\n",
      "3 5 1\n",
      "3 5 2\n",
      "3 5 3\n",
      "3 5 4\n",
      "3 5 5\n",
      "3 5 6\n",
      "3 5 7\n",
      "3 5 8\n",
      "3 5 9\n",
      "3 6 0\n",
      "3 6 1\n",
      "3 6 2\n",
      "3 6 3\n",
      "3 6 4\n",
      "3 6 5\n",
      "3 6 6\n",
      "3 6 7\n",
      "3 6 8\n",
      "3 6 9\n",
      "3 7 0\n",
      "3 7 1\n",
      "3 7 2\n",
      "3 7 3\n",
      "3 7 4\n",
      "3 7 5\n",
      "3 7 6\n",
      "3 7 7\n",
      "3 7 8\n",
      "3 7 9\n",
      "3 8 0\n",
      "3 8 1\n",
      "3 8 2\n",
      "3 8 3\n",
      "3 8 4\n",
      "3 8 5\n",
      "3 8 6\n",
      "3 8 7\n",
      "3 8 8\n",
      "3 8 9\n",
      "3 9 0\n",
      "3 9 1\n",
      "3 9 2\n",
      "3 9 3\n",
      "3 9 4\n",
      "3 9 5\n",
      "3 9 6\n",
      "3 9 7\n",
      "3 9 8\n",
      "3 9 9\n",
      "4 0 0\n",
      "4 0 1\n",
      "4 0 2\n",
      "4 0 3\n",
      "4 0 4\n",
      "4 0 5\n",
      "4 0 6\n",
      "4 0 7\n",
      "4 0 8\n",
      "4 0 9\n",
      "4 1 0\n",
      "4 1 1\n",
      "4 1 2\n",
      "4 1 3\n",
      "4 1 4\n",
      "4 1 5\n",
      "4 1 6\n",
      "4 1 7\n",
      "4 1 8\n",
      "4 1 9\n",
      "4 2 0\n",
      "4 2 1\n",
      "4 2 2\n",
      "4 2 3\n",
      "4 2 4\n",
      "4 2 5\n",
      "4 2 6\n",
      "4 2 7\n",
      "4 2 8\n",
      "4 2 9\n",
      "4 3 0\n",
      "4 3 1\n",
      "4 3 2\n",
      "4 3 3\n",
      "4 3 4\n",
      "4 3 5\n",
      "4 3 6\n",
      "4 3 7\n",
      "4 3 8\n",
      "4 3 9\n",
      "4 4 0\n",
      "4 4 1\n",
      "4 4 2\n",
      "4 4 3\n",
      "4 4 4\n",
      "4 4 5\n",
      "4 4 6\n",
      "4 4 7\n",
      "4 4 8\n",
      "4 4 9\n",
      "4 5 0\n",
      "4 5 1\n",
      "4 5 2\n",
      "4 5 3\n",
      "4 5 4\n",
      "4 5 5\n",
      "4 5 6\n",
      "4 5 7\n",
      "4 5 8\n",
      "4 5 9\n",
      "4 6 0\n",
      "4 6 1\n",
      "4 6 2\n",
      "4 6 3\n",
      "4 6 4\n",
      "4 6 5\n",
      "4 6 6\n",
      "4 6 7\n",
      "4 6 8\n",
      "4 6 9\n",
      "4 7 0\n",
      "4 7 1\n",
      "4 7 2\n",
      "4 7 3\n",
      "4 7 4\n",
      "4 7 5\n",
      "4 7 6\n",
      "4 7 7\n",
      "4 7 8\n",
      "4 7 9\n",
      "4 8 0\n",
      "4 8 1\n",
      "4 8 2\n",
      "4 8 3\n",
      "4 8 4\n",
      "4 8 5\n",
      "4 8 6\n",
      "4 8 7\n",
      "4 8 8\n",
      "4 8 9\n",
      "4 9 0\n",
      "4 9 1\n",
      "4 9 2\n",
      "4 9 3\n",
      "4 9 4\n",
      "4 9 5\n",
      "4 9 6\n",
      "4 9 7\n",
      "4 9 8\n",
      "4 9 9\n",
      "5 0 0\n",
      "5 0 1\n",
      "5 0 2\n",
      "5 0 3\n",
      "5 0 4\n",
      "5 0 5\n",
      "5 0 6\n",
      "5 0 7\n",
      "5 0 8\n",
      "5 0 9\n",
      "5 1 0\n",
      "5 1 1\n",
      "5 1 2\n",
      "5 1 3\n",
      "5 1 4\n",
      "5 1 5\n",
      "5 1 6\n",
      "5 1 7\n",
      "5 1 8\n",
      "5 1 9\n",
      "5 2 0\n",
      "5 2 1\n",
      "5 2 2\n",
      "5 2 3\n",
      "5 2 4\n",
      "5 2 5\n",
      "5 2 6\n",
      "5 2 7\n",
      "5 2 8\n",
      "5 2 9\n",
      "5 3 0\n",
      "5 3 1\n",
      "5 3 2\n",
      "5 3 3\n",
      "5 3 4\n",
      "5 3 5\n",
      "5 3 6\n",
      "5 3 7\n",
      "5 3 8\n",
      "5 3 9\n",
      "5 4 0\n",
      "5 4 1\n",
      "5 4 2\n",
      "5 4 3\n",
      "5 4 4\n",
      "5 4 5\n",
      "5 4 6\n",
      "5 4 7\n",
      "5 4 8\n",
      "5 4 9\n",
      "5 5 0\n",
      "5 5 1\n",
      "5 5 2\n",
      "5 5 3\n",
      "5 5 4\n",
      "5 5 5\n",
      "5 5 6\n",
      "5 5 7\n",
      "5 5 8\n",
      "5 5 9\n",
      "5 6 0\n",
      "5 6 1\n",
      "5 6 2\n",
      "5 6 3\n",
      "5 6 4\n",
      "5 6 5\n",
      "5 6 6\n",
      "5 6 7\n",
      "5 6 8\n",
      "5 6 9\n",
      "5 7 0\n",
      "5 7 1\n",
      "5 7 2\n",
      "5 7 3\n",
      "5 7 4\n",
      "5 7 5\n",
      "5 7 6\n",
      "5 7 7\n",
      "5 7 8\n",
      "5 7 9\n",
      "5 8 0\n",
      "5 8 1\n",
      "5 8 2\n",
      "5 8 3\n",
      "5 8 4\n",
      "5 8 5\n",
      "5 8 6\n",
      "5 8 7\n",
      "5 8 8\n",
      "5 8 9\n",
      "5 9 0\n",
      "5 9 1\n",
      "5 9 2\n",
      "5 9 3\n",
      "5 9 4\n",
      "5 9 5\n",
      "5 9 6\n",
      "5 9 7\n",
      "5 9 8\n",
      "5 9 9\n",
      "6 0 0\n",
      "6 0 1\n",
      "6 0 2\n",
      "6 0 3\n",
      "6 0 4\n",
      "6 0 5\n",
      "6 0 6\n",
      "6 0 7\n",
      "6 0 8\n",
      "6 0 9\n",
      "6 1 0\n",
      "6 1 1\n",
      "6 1 2\n",
      "6 1 3\n",
      "6 1 4\n",
      "6 1 5\n",
      "6 1 6\n",
      "6 1 7\n",
      "6 1 8\n",
      "6 1 9\n",
      "6 2 0\n",
      "6 2 1\n",
      "6 2 2\n",
      "6 2 3\n",
      "6 2 4\n",
      "6 2 5\n",
      "6 2 6\n",
      "6 2 7\n",
      "6 2 8\n",
      "6 2 9\n",
      "6 3 0\n",
      "6 3 1\n",
      "6 3 2\n",
      "6 3 3\n",
      "6 3 4\n",
      "6 3 5\n",
      "6 3 6\n",
      "6 3 7\n",
      "6 3 8\n",
      "6 3 9\n",
      "6 4 0\n",
      "6 4 1\n",
      "6 4 2\n",
      "6 4 3\n",
      "6 4 4\n",
      "6 4 5\n",
      "6 4 6\n",
      "6 4 7\n",
      "6 4 8\n",
      "6 4 9\n",
      "6 5 0\n",
      "6 5 1\n",
      "6 5 2\n",
      "6 5 3\n",
      "6 5 4\n",
      "6 5 5\n",
      "6 5 6\n",
      "6 5 7\n",
      "6 5 8\n",
      "6 5 9\n",
      "6 6 0\n",
      "6 6 1\n",
      "6 6 2\n",
      "6 6 3\n",
      "6 6 4\n",
      "6 6 5\n",
      "6 6 6\n",
      "6 6 7\n",
      "6 6 8\n",
      "6 6 9\n",
      "6 7 0\n",
      "6 7 1\n",
      "6 7 2\n",
      "6 7 3\n",
      "6 7 4\n",
      "6 7 5\n",
      "6 7 6\n",
      "6 7 7\n",
      "6 7 8\n",
      "6 7 9\n",
      "6 8 0\n",
      "6 8 1\n",
      "6 8 2\n",
      "6 8 3\n",
      "6 8 4\n",
      "6 8 5\n",
      "6 8 6\n",
      "6 8 7\n",
      "6 8 8\n",
      "6 8 9\n",
      "6 9 0\n",
      "6 9 1\n",
      "6 9 2\n",
      "6 9 3\n",
      "6 9 4\n",
      "6 9 5\n",
      "6 9 6\n",
      "6 9 7\n",
      "6 9 8\n",
      "6 9 9\n",
      "7 0 0\n",
      "7 0 1\n",
      "7 0 2\n",
      "7 0 3\n",
      "7 0 4\n",
      "7 0 5\n",
      "7 0 6\n",
      "7 0 7\n",
      "7 0 8\n",
      "7 0 9\n",
      "7 1 0\n",
      "7 1 1\n",
      "7 1 2\n",
      "7 1 3\n",
      "7 1 4\n",
      "7 1 5\n",
      "7 1 6\n",
      "7 1 7\n",
      "7 1 8\n",
      "7 1 9\n",
      "7 2 0\n",
      "7 2 1\n",
      "7 2 2\n",
      "7 2 3\n",
      "7 2 4\n",
      "7 2 5\n",
      "7 2 6\n",
      "7 2 7\n",
      "7 2 8\n",
      "7 2 9\n",
      "7 3 0\n",
      "7 3 1\n",
      "7 3 2\n",
      "7 3 3\n",
      "7 3 4\n",
      "7 3 5\n",
      "7 3 6\n",
      "7 3 7\n",
      "7 3 8\n",
      "7 3 9\n",
      "7 4 0\n",
      "7 4 1\n",
      "7 4 2\n",
      "7 4 3\n",
      "7 4 4\n",
      "7 4 5\n",
      "7 4 6\n",
      "7 4 7\n",
      "7 4 8\n",
      "7 4 9\n",
      "7 5 0\n",
      "7 5 1\n",
      "7 5 2\n",
      "7 5 3\n",
      "7 5 4\n",
      "7 5 5\n",
      "7 5 6\n",
      "7 5 7\n",
      "7 5 8\n",
      "7 5 9\n",
      "7 6 0\n",
      "7 6 1\n",
      "7 6 2\n",
      "7 6 3\n",
      "7 6 4\n",
      "7 6 5\n",
      "7 6 6\n",
      "7 6 7\n",
      "7 6 8\n",
      "7 6 9\n",
      "7 7 0\n",
      "7 7 1\n",
      "7 7 2\n",
      "7 7 3\n",
      "7 7 4\n",
      "7 7 5\n",
      "7 7 6\n",
      "7 7 7\n",
      "7 7 8\n",
      "7 7 9\n",
      "7 8 0\n",
      "7 8 1\n",
      "7 8 2\n",
      "7 8 3\n",
      "7 8 4\n",
      "7 8 5\n",
      "7 8 6\n",
      "7 8 7\n",
      "7 8 8\n",
      "7 8 9\n",
      "7 9 0\n",
      "7 9 1\n",
      "7 9 2\n",
      "7 9 3\n",
      "7 9 4\n",
      "7 9 5\n",
      "7 9 6\n",
      "7 9 7\n",
      "7 9 8\n",
      "7 9 9\n",
      "8 0 0\n",
      "8 0 1\n",
      "8 0 2\n",
      "8 0 3\n",
      "8 0 4\n",
      "8 0 5\n",
      "8 0 6\n",
      "8 0 7\n",
      "8 0 8\n",
      "8 0 9\n",
      "8 1 0\n",
      "8 1 1\n",
      "8 1 2\n",
      "8 1 3\n",
      "8 1 4\n",
      "8 1 5\n",
      "8 1 6\n",
      "8 1 7\n",
      "8 1 8\n",
      "8 1 9\n",
      "8 2 0\n",
      "8 2 1\n",
      "8 2 2\n",
      "8 2 3\n",
      "8 2 4\n",
      "8 2 5\n",
      "8 2 6\n",
      "8 2 7\n",
      "8 2 8\n",
      "8 2 9\n",
      "8 3 0\n",
      "8 3 1\n",
      "8 3 2\n",
      "8 3 3\n",
      "8 3 4\n",
      "8 3 5\n",
      "8 3 6\n",
      "8 3 7\n",
      "8 3 8\n",
      "8 3 9\n",
      "8 4 0\n",
      "8 4 1\n",
      "8 4 2\n",
      "8 4 3\n",
      "8 4 4\n",
      "8 4 5\n",
      "8 4 6\n",
      "8 4 7\n",
      "8 4 8\n",
      "8 4 9\n",
      "8 5 0\n",
      "8 5 1\n",
      "8 5 2\n",
      "8 5 3\n",
      "8 5 4\n",
      "8 5 5\n",
      "8 5 6\n",
      "8 5 7\n",
      "8 5 8\n",
      "8 5 9\n",
      "8 6 0\n",
      "8 6 1\n",
      "8 6 2\n",
      "8 6 3\n",
      "8 6 4\n",
      "8 6 5\n",
      "8 6 6\n",
      "8 6 7\n",
      "8 6 8\n",
      "8 6 9\n",
      "8 7 0\n",
      "8 7 1\n",
      "8 7 2\n",
      "8 7 3\n",
      "8 7 4\n",
      "8 7 5\n",
      "8 7 6\n",
      "8 7 7\n",
      "8 7 8\n",
      "8 7 9\n",
      "8 8 0\n",
      "8 8 1\n",
      "8 8 2\n",
      "8 8 3\n",
      "8 8 4\n",
      "8 8 5\n",
      "8 8 6\n",
      "8 8 7\n",
      "8 8 8\n",
      "8 8 9\n",
      "8 9 0\n",
      "8 9 1\n",
      "8 9 2\n",
      "8 9 3\n",
      "8 9 4\n",
      "8 9 5\n",
      "8 9 6\n",
      "8 9 7\n",
      "8 9 8\n",
      "8 9 9\n",
      "9 0 0\n",
      "9 0 1\n",
      "9 0 2\n",
      "9 0 3\n",
      "9 0 4\n",
      "9 0 5\n",
      "9 0 6\n",
      "9 0 7\n",
      "9 0 8\n",
      "9 0 9\n",
      "9 1 0\n",
      "9 1 1\n",
      "9 1 2\n",
      "9 1 3\n",
      "9 1 4\n",
      "9 1 5\n",
      "9 1 6\n",
      "9 1 7\n",
      "9 1 8\n",
      "9 1 9\n",
      "9 2 0\n",
      "9 2 1\n",
      "9 2 2\n",
      "9 2 3\n",
      "9 2 4\n",
      "9 2 5\n",
      "9 2 6\n",
      "9 2 7\n",
      "9 2 8\n",
      "9 2 9\n",
      "9 3 0\n",
      "9 3 1\n",
      "9 3 2\n",
      "9 3 3\n",
      "9 3 4\n",
      "9 3 5\n",
      "9 3 6\n",
      "9 3 7\n",
      "9 3 8\n",
      "9 3 9\n",
      "9 4 0\n",
      "9 4 1\n",
      "9 4 2\n",
      "9 4 3\n",
      "9 4 4\n",
      "9 4 5\n",
      "9 4 6\n",
      "9 4 7\n",
      "9 4 8\n",
      "9 4 9\n",
      "9 5 0\n",
      "9 5 1\n",
      "9 5 2\n",
      "9 5 3\n",
      "9 5 4\n",
      "9 5 5\n",
      "9 5 6\n",
      "9 5 7\n",
      "9 5 8\n",
      "9 5 9\n",
      "9 6 0\n",
      "9 6 1\n",
      "9 6 2\n",
      "9 6 3\n",
      "9 6 4\n",
      "9 6 5\n",
      "9 6 6\n",
      "9 6 7\n",
      "9 6 8\n",
      "9 6 9\n",
      "9 7 0\n",
      "9 7 1\n",
      "9 7 2\n",
      "9 7 3\n",
      "9 7 4\n",
      "9 7 5\n",
      "9 7 6\n",
      "9 7 7\n",
      "9 7 8\n",
      "9 7 9\n",
      "9 8 0\n",
      "9 8 1\n",
      "9 8 2\n",
      "9 8 3\n",
      "9 8 4\n",
      "9 8 5\n",
      "9 8 6\n",
      "9 8 7\n",
      "9 8 8\n",
      "9 8 9\n",
      "9 9 0\n",
      "9 9 1\n",
      "9 9 2\n",
      "9 9 3\n",
      "9 9 4\n",
      "9 9 5\n",
      "9 9 6\n",
      "9 9 7\n",
      "9 9 8\n",
      "9 9 9\n"
     ]
    }
   ],
   "source": [
    "count = 10\n",
    "for i in range(count):\n",
    "    for j in range(count):\n",
    "        for k in range(count):\n",
    "            print(i, j, k)"
   ]
  },
  {
   "cell_type": "markdown",
   "metadata": {},
   "source": [
    "А так выглядят два последовательных цикла"
   ]
  },
  {
   "cell_type": "code",
   "execution_count": 10,
   "metadata": {
    "collapsed": true
   },
   "outputs": [
    {
     "name": "stdout",
     "output_type": "stream",
     "text": [
      "0\n",
      "1\n",
      "2\n",
      "3\n",
      "4\n",
      "5\n",
      "6\n",
      "7\n",
      "8\n",
      "9\n",
      "0\n",
      "1\n",
      "2\n",
      "3\n",
      "4\n",
      "5\n",
      "6\n",
      "7\n",
      "8\n",
      "9\n"
     ]
    }
   ],
   "source": [
    "count = 10\n",
    "for i in range(count):\n",
    "    print(i)\n",
    "    \n",
    "for i in range(count):\n",
    "    print(i)"
   ]
  },
  {
   "cell_type": "code",
   "execution_count": 11,
   "metadata": {},
   "outputs": [
    {
     "name": "stdout",
     "output_type": "stream",
     "text": [
      "cat\n",
      "dog\n",
      "wolf\n",
      "rat\n",
      "dragon\n"
     ]
    }
   ],
   "source": [
    "animals = ['cat', 'dog', 'wolf', 'rat', 'dragon']\n",
    "for animal in animals:\n",
    "    print(animal)"
   ]
  },
  {
   "cell_type": "markdown",
   "metadata": {},
   "source": [
    "##### Цикл с нумерацией элементов, функция\n",
    "enumerate()"
   ]
  },
  {
   "cell_type": "code",
   "execution_count": 13,
   "metadata": {},
   "outputs": [
    {
     "name": "stdout",
     "output_type": "stream",
     "text": [
      "1 cat\n",
      "2 dog\n",
      "3 wolf\n",
      "4 rat\n",
      "5 dragon\n"
     ]
    }
   ],
   "source": [
    "animals = ['cat', 'dog', 'wolf', 'rat', 'dragon']\n",
    "for i, animal in enumerate(animals, start=1): ## enumerate нумерует список\n",
    "    print(i, animal)"
   ]
  },
  {
   "cell_type": "code",
   "execution_count": 14,
   "metadata": {},
   "outputs": [
    {
     "name": "stdout",
     "output_type": "stream",
     "text": [
      "40\n"
     ]
    }
   ],
   "source": [
    "## Вариант кода 1.\n",
    "data = 0\n",
    "while data < 100:\n",
    "    data += 2    ## 2+2+2+2+2+2+2+2+2+2+2+2+2=40\n",
    "    if data % 40 == 0:   ##   40|2=0 \n",
    "        break            ##   остановка\n",
    "print(data)"
   ]
  },
  {
   "cell_type": "code",
   "execution_count": 15,
   "metadata": {},
   "outputs": [
    {
     "name": "stdout",
     "output_type": "stream",
     "text": [
      "107\n"
     ]
    }
   ],
   "source": [
    "## Вариант кода 2.\n",
    "data = 0\n",
    "while data < 100:\n",
    "    data += 3       ## 3+3+3+3+3+3+3+3+3+3+3=99<100=99+3=102 цикл завершён\n",
    "    if data % 40 == 0:  ## 42-40!=0\n",
    "        break           ## не сработает цикл после 42 продолжается\n",
    "else:\n",
    "    data += 5           ## 102+5=107\n",
    "print(data)"
   ]
  },
  {
   "cell_type": "code",
   "execution_count": 16,
   "metadata": {},
   "outputs": [
    {
     "name": "stdout",
     "output_type": "stream",
     "text": [
      "80\n"
     ]
    }
   ],
   "source": [
    "## 3. Вариант кода 3.\n",
    "data = 0\n",
    "while data < 100:\n",
    "    data += 3           ##   3+1+3+1+3+1+3+1+3=19+3+1+3+1+3+1+3+1=41+1+3+1+3+1+3=80\n",
    "    if data % 19 == 0:  ##    \n",
    "        continue        ##   \n",
    "    data += 1            ##\n",
    "    if data % 40 == 0:   ##   41%40!=0   80%40==0\n",
    "        break            ##  остановка\n",
    "else:\n",
    "    data += 5            ##\n",
    "print(data)"
   ]
  }
 ],
 "metadata": {
  "kernelspec": {
   "display_name": "Python 3 (ipykernel)",
   "language": "python",
   "name": "python3"
  },
  "language_info": {
   "codemirror_mode": {
    "name": "ipython",
    "version": 3
   },
   "file_extension": ".py",
   "mimetype": "text/x-python",
   "name": "python",
   "nbconvert_exporter": "python",
   "pygments_lexer": "ipython3",
   "version": "3.9.13"
  }
 },
 "nbformat": 4,
 "nbformat_minor": 2
}
