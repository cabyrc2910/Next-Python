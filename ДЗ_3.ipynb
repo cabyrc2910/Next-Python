{
 "cells": [
  {
   "cell_type": "markdown",
   "id": "48151023",
   "metadata": {},
   "source": [
    "    Задание\n",
    "    ✔ Решить задачи, которые не успели решить на семинаре."
   ]
  },
  {
   "cell_type": "markdown",
   "id": "031da418",
   "metadata": {},
   "source": [
    "### Задание №6"
   ]
  },
  {
   "cell_type": "markdown",
   "id": "be0e589d",
   "metadata": {},
   "source": [
    "    Пользователь вводит строку текста. Вывести каждое слово с новой строки.\n",
    "    ✔ Строки нумеруются начиная с единицы.\n",
    "    ✔ Слова выводятся отсортированными согласно кодировки Unicode.\n",
    "    ✔ Текст выравнивается по правому краю так, чтобы у самого длинного слова был один пробел между ним и номером строки."
   ]
  },
  {
   "cell_type": "code",
   "execution_count": 29,
   "id": "672d1be9",
   "metadata": {},
   "outputs": [
    {
     "name": "stdout",
     "output_type": "stream",
     "text": [
      "Enter any text: Вводите запросы в адресную строку и получайте ответы \n",
      "1   Вводите\n",
      "2   запросы\n",
      "3         в\n",
      "4  адресную\n",
      "5    строку\n",
      "6         и\n",
      "7 получайте\n",
      "8    ответы\n"
     ]
    }
   ],
   "source": [
    "my_string = input(\"Enter any text: \").split()\n",
    "\n",
    "longest_word = len(max(my_string, key=len))\n",
    "\n",
    "for k,i in enumerate(my_string, 1):\n",
    "    print(f\"{k} {i:>{longest_word}}\")"
   ]
  },
  {
   "cell_type": "markdown",
   "id": "6bdf4e8b",
   "metadata": {},
   "source": [
    "### Задание №7"
   ]
  },
  {
   "cell_type": "markdown",
   "id": "5f5d2fcb",
   "metadata": {},
   "source": [
    "    ✔ Пользователь вводит строку текста.\n",
    "    ✔ Подсчитайте сколько раз встречается каждая буква в строке без использования метода count и с ним.\n",
    "    ✔ Результат сохраните в словаре, где ключ — символ, а значение — частота встречи символа в строке.\n",
    "    ✔ Обратите внимание на порядок ключей. Объясните почему они совпадают или не совпадают в ваших решениях."
   ]
  },
  {
   "cell_type": "code",
   "execution_count": 30,
   "id": "2494b5a0",
   "metadata": {},
   "outputs": [
    {
     "name": "stdout",
     "output_type": "stream",
     "text": [
      "Enter any text: Вводите запросы в адресную строку и получайте ответы \n",
      "{'В': 1, 'в': 3, 'о': 5, 'д': 2, 'и': 2, 'т': 5, 'е': 4, ' ': 8, 'з': 1, 'а': 3, 'п': 2, 'р': 3, 'с': 3, 'ы': 2, 'н': 1, 'у': 3, 'ю': 1, 'к': 1, 'л': 1, 'ч': 1, 'й': 1}\n",
      "{'ю': 1, 'л': 1, 'с': 3, 'ч': 1, 'й': 1, 'д': 2, 'н': 1, 'р': 3, 'и': 2, 'В': 1, ' ': 8, 'з': 1, 'к': 1, 'е': 4, 'в': 3, 'п': 2, 'а': 3, 'ы': 2, 'т': 5, 'о': 5, 'у': 3}\n"
     ]
    }
   ],
   "source": [
    "my_string = input(\"Enter any text: \")\n",
    "\n",
    "no_count_dict = {}\n",
    "for i in my_string:\n",
    "    no_count_dict[i] = no_count_dict[i]+1 if i in no_count_dict else 1 \n",
    "\n",
    "print(no_count_dict)\n",
    "\n",
    "count_dict = {}\n",
    "for i in set(my_string):\n",
    "    count_dict[i] = my_string.count(i)\n",
    "\n",
    "print(count_dict)"
   ]
  },
  {
   "cell_type": "markdown",
   "id": "3fd27737",
   "metadata": {},
   "source": [
    "### Задание №8"
   ]
  },
  {
   "cell_type": "markdown",
   "id": "56f0053f",
   "metadata": {},
   "source": [
    "    Три друга взяли вещи в поход. Сформируйте словарь, где ключ — имя друга, а значение — кортеж вещей. Ответьте на вопросы:\n",
    "    ✔ Какие вещи взяли все три друга\n",
    "    ✔ Какие вещи уникальны, есть только у одного друга\n",
    "    ✔ Какие вещи есть у всех друзей кроме одного и имя того, у кого данная вещь отсутствует\n",
    "    ✔ Для решения используйте операции с множествами. Код должен расширяться на любое большее количество друзей."
   ]
  },
  {
   "cell_type": "code",
   "execution_count": 1,
   "id": "c2414276",
   "metadata": {},
   "outputs": [
    {
     "name": "stdout",
     "output_type": "stream",
     "text": [
      "Put friend name: Fred\n",
      "Enter Fred's items, comma is separator: компас, полатка, кастрюля, спички\n",
      "Put friend name: Don\n",
      "Enter Don's items, comma is separator: фонарь, верёвка, вода, спальник, спички\n",
      "Put friend name: Nik\n",
      "Enter Nik's items, comma is separator: еда, компас, рация, спальник, вода, зажигалка\n",
      "Put friend name: \n",
      "1. Team items: компас, фонарь, зажигалка, рация, полатка, спальник, кастрюля, еда, верёвка, спички, вода\n",
      "2. Unique items: фонарь, зажигалка, рация, полатка, кастрюля, еда, верёвка\n",
      "3. Poor friends:\n",
      "  Fred not have: фонарь, зажигалка, рация, еда, спальник, верёвка, вода\n",
      "  Don not have: компас, зажигалка, рация, полатка, еда, кастрюля\n",
      "  Nik not have: фонарь, полатка, кастрюля, верёвка, спички\n"
     ]
    }
   ],
   "source": [
    "team = {}\n",
    "\n",
    "while True:\n",
    "    friend = input(\"Put friend name: \")\n",
    "    if friend == \"\":\n",
    "        break\n",
    "    team[friend] = tuple(input(f\"Enter {friend}'s items, comma is separator: \").split(\", \"))\n",
    "\n",
    "## Without SET()\n",
    "# print(\"1. Team items: \")\n",
    "# for i in team:\n",
    "#     print(f\"  {i} takes: {', '.join(team[i])}\")\n",
    "\n",
    "union_set = set()\n",
    "for i in team:\n",
    "    union_set = union_set.union(set(team[i]))\n",
    "print(f\"1. Team items: {', '.join(union_set)}\")\n",
    "\n",
    "## Without SET()\n",
    "# unique_list = []\n",
    "# for i in team:\n",
    "#     for j in team[i]:\n",
    "#         if j in unique_list:\n",
    "#             unique_list.remove(j)\n",
    "#         else:\n",
    "#             unique_list.append(j)\n",
    "\n",
    "# print(f\"2. Unique items: {', '.join(unique_list)}\") \n",
    "\n",
    "unique_set = set()\n",
    "for i in team:\n",
    "    unique_set ^= set(team[i])\n",
    "print(f\"2. Unique items: {', '.join(unique_set)}\")\n",
    "\n",
    "team_set = set()\n",
    "for i in team:\n",
    "    team_set = team_set.union(set(team[i]))\n",
    "print(\"3. Poor friends:\")\n",
    "for i in team:\n",
    "    check_set = team_set - set(team[i])\n",
    "    if len(check_set) > 0:\n",
    "        print(f\"  {i} not have: {', '.join(check_set)}\")"
   ]
  },
  {
   "cell_type": "markdown",
   "id": "02732109",
   "metadata": {},
   "source": [
    "    ✔ Дан список повторяющихся элементов. Вернуть список с дублирующимися элементами. В результирующем списке не должно быть дубликатов."
   ]
  },
  {
   "cell_type": "code",
   "execution_count": 3,
   "id": "03fe0e50",
   "metadata": {},
   "outputs": [
    {
     "name": "stdout",
     "output_type": "stream",
     "text": [
      "Список с дублирующимися элементами [1, 2, 3, 4, 1, 2, 3, 4, 1, 2, 3, 4]\n",
      "Список без дубликатов [1, 2, 3, 4]\n"
     ]
    }
   ],
   "source": [
    "my_list = [1, 2, 3, 4, 1, 2, 3, 4, 1, 2, 3, 4]\n",
    "back_list = []\n",
    "\n",
    "my_set = set(my_list)\n",
    "\n",
    "for i in my_set:\n",
    "    if my_list.count(i) > 0:\n",
    "        back_list.append(i)\n",
    "\n",
    "print(f\"Список с дублирующимися элементами {my_list}\")\n",
    "print(f\"Список без дубликатов {back_list}\")"
   ]
  },
  {
   "cell_type": "markdown",
   "id": "ecefdd50",
   "metadata": {},
   "source": [
    "    ✔ В большой текстовой строке подсчитать количество встречаемых слов и вернуть 10 самых частых. Не учитывать знаки препинания и регистр символов. За основу возьмите любую статью из википедии или из документации к языку."
   ]
  },
  {
   "cell_type": "code",
   "execution_count": 15,
   "id": "01986a3c",
   "metadata": {},
   "outputs": [
    {
     "name": "stdout",
     "output_type": "stream",
     "text": [
      "ghz: 4\n",
      "arm: 4\n",
      "2: 2\n",
      "процессор: 2\n",
      "319: 2\n",
      "и: 2\n",
      "2x: 2\n",
      "28: 2\n",
      "qualcomm: 1\n",
      "snapdragon: 1\n"
     ]
    }
   ],
   "source": [
    "import re\n",
    "from collections import Counter\n",
    "\n",
    "text = \"\"\"\n",
    "Qualcomm Snapdragon 8 Gen 2 - лучший процессор для телефона на данный момент. \n",
    "Это 8-ядерный процессор с частотой 3.19 ГГц и архитектурой 1x 3.19 GHz ARM Cortex-X3 + 2x 2.8 GHz ARM Cortex-A715 + 2x 2.8 GHz ARM Cortex-A710 + 3x 2 GHz ARM Cortex-A510. \n",
    "GPU Adreno 740 и поддержкой оперативной памяти (ОЗУ) до 16 Гб. Дата выхода 11/17/2022. \n",
    "Он изготовлен по 4 нм техпроцессу, поэтому имея хорошие технические характеристики получил TDP 10.\n",
    "\"\"\"\n",
    "\n",
    "# Преобразовать текст в нижний регистр и удалить знаки препинания\n",
    "text = text.lower()\n",
    "text = re.sub(r'[^\\w\\s]', '', text)\n",
    "\n",
    "# Разделить текст на слова\n",
    "words = text.split()\n",
    "\n",
    "# Подсчитать количество встречаемых слов\n",
    "count = Counter(words)\n",
    "\n",
    "# Получить 10 самых часто встречающихся слов\n",
    "the_most_common_words = count.most_common(10)\n",
    "\n",
    "# Вывести результат\n",
    "for word, number_of_meetings in the_most_common_words:\n",
    "    print(f\"{word}: {number_of_meetings}\")"
   ]
  },
  {
   "cell_type": "markdown",
   "id": "8ca42c30",
   "metadata": {},
   "source": [
    "    ✔ Создайте словарь со списком вещей для похода в качестве ключа и их массой в качестве значения. Определите какие вещи влезут в рюкзак передав его максимальную грузоподъёмность. Достаточно вернуть один допустимый вариант.\n",
    "    ✔ *Верните все возможные варианты комплектации рюкзака."
   ]
  },
  {
   "cell_type": "code",
   "execution_count": 27,
   "id": "d8623858",
   "metadata": {},
   "outputs": [
    {
     "name": "stdout",
     "output_type": "stream",
     "text": [
      "Задайте МАКСимальный вес вещей, но не более 17.53 кг: 9\n",
      "Задайте МИНИмальный вес вещей, кг: 2\n",
      "Вариант загрузки рюкзака: ['Спички', 'Зажигалка', 'Фонарь', 'Веревка', 'Аптечка', 'Нож', 'Спальник']\n"
     ]
    }
   ],
   "source": [
    "items_dict = {\n",
    "    \"Спички\": 0.03,\n",
    "    \"Зажигалка\": 0.2,\n",
    "    \"Фонарь\": 0.5,\n",
    "    \"Веревка\": 1.0,\n",
    "    \"Аптечка\": 0.5,\n",
    "    \"Нож\": 0.1,\n",
    "    \"Спальник\": 2.0,\n",
    "    \"Палатка\": 7.0,\n",
    "    \"еда\": 2.5,\n",
    "    \"кастрюля\": 0.5,\n",
    "    \"вода\": 2.0,\n",
    "    \"Карта\": 0.1,\n",
    "    \"Компас\": 0.3,\n",
    "    \"Рация\": 0.8,\n",
    "}\n",
    "total_wight = sum(items_dict.values())\n",
    "max_weight = float(input(f\"Задайте МАКСимальный вес вещей, но не более {total_wight} кг: \"))\n",
    "min_weight = float(input(\"Задайте МИНИмальный вес вещей, кг: \"))\n",
    "\n",
    "bag_weight = 0\n",
    "bag = []\n",
    "for i in items_dict:\n",
    "    if bag_weight + items_dict[i] > max_weight:\n",
    "        break\n",
    "    elif bag_weight + items_dict[i] == max_weight:\n",
    "        bag_weight += items_dict[i]\n",
    "        bag.append(i)\n",
    "    else:\n",
    "        bag_weight += items_dict[i]\n",
    "        bag.append(i)\n",
    "print(\"Вариант загрузки рюкзака:\", bag)"
   ]
  }
 ],
 "metadata": {
  "kernelspec": {
   "display_name": "Python 3 (ipykernel)",
   "language": "python",
   "name": "python3"
  },
  "language_info": {
   "codemirror_mode": {
    "name": "ipython",
    "version": 3
   },
   "file_extension": ".py",
   "mimetype": "text/x-python",
   "name": "python",
   "nbconvert_exporter": "python",
   "pygments_lexer": "ipython3",
   "version": "3.9.13"
  }
 },
 "nbformat": 4,
 "nbformat_minor": 5
}
